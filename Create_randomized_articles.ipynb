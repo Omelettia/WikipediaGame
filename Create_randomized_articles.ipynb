{
 "cells": [
  {
   "cell_type": "markdown",
   "id": "875fb179",
   "metadata": {},
   "source": [
    "#2. Code python để tạo file chứa tên các bài articles được sắp xếp ngẫu nhiên"
   ]
  },
  {
   "cell_type": "code",
   "execution_count": 1,
   "id": "498ba386",
   "metadata": {},
   "outputs": [
    {
     "name": "stdout",
     "output_type": "stream",
     "text": [
      "Requirement already satisfied: tqdm in c:\\users\\asiat\\anaconda3\\lib\\site-packages (4.65.0)\n",
      "Requirement already satisfied: colorama in c:\\users\\asiat\\anaconda3\\lib\\site-packages (from tqdm) (0.4.6)\n"
     ]
    }
   ],
   "source": [
    "!pip install tqdm"
   ]
  },
  {
   "cell_type": "code",
   "execution_count": 2,
   "id": "934a7a8f",
   "metadata": {},
   "outputs": [],
   "source": [
    "import random\n",
    "import pickle\n"
   ]
  },
  {
   "cell_type": "code",
   "execution_count": 3,
   "id": "175b29c8",
   "metadata": {},
   "outputs": [],
   "source": [
    "# Load đồ thị\n",
    "file_path = r\"graph_with_attributes.pkl\"\n",
    "with open(file_path, \"rb\") as file:\n",
    "    graph = pickle.load(file)\n"
   ]
  },
  {
   "cell_type": "code",
   "execution_count": 4,
   "id": "a15cc271",
   "metadata": {},
   "outputs": [
    {
     "name": "stdout",
     "output_type": "stream",
     "text": [
      "Randomized article names file created successfully.\n"
     ]
    }
   ],
   "source": [
    "# Get the list of node names from the graph\n",
    "nodes = list(graph.nodes)\n",
    "\n",
    "# Shuffle the node names randomly\n",
    "random.shuffle(nodes)\n",
    "\n",
    "# Output file path\n",
    "output_file = \"randomized_article_names.txt\"\n",
    "\n",
    "# Write the shuffled node names to the output file\n",
    "with open(output_file, \"w\", encoding=\"utf-8\") as file:\n",
    "    file.write(\"\\n\".join(nodes))\n",
    "\n",
    "print(\"Randomized article names file created successfully.\")"
   ]
  },
  {
   "cell_type": "code",
   "execution_count": null,
   "id": "4d727c97",
   "metadata": {},
   "outputs": [],
   "source": []
  }
 ],
 "metadata": {
  "kernelspec": {
   "display_name": "Python 3 (ipykernel)",
   "language": "python",
   "name": "python3"
  },
  "language_info": {
   "codemirror_mode": {
    "name": "ipython",
    "version": 3
   },
   "file_extension": ".py",
   "mimetype": "text/x-python",
   "name": "python",
   "nbconvert_exporter": "python",
   "pygments_lexer": "ipython3",
   "version": "3.11.7"
  }
 },
 "nbformat": 4,
 "nbformat_minor": 5
}
