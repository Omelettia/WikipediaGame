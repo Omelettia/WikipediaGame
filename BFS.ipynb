{
 "cells": [
  {
   "cell_type": "markdown",
   "id": "7525c247",
   "metadata": {},
   "source": [
    "#3. Code Python để chạy BFS"
   ]
  },
  {
   "cell_type": "code",
   "execution_count": 2,
   "id": "91542ed0",
   "metadata": {},
   "outputs": [],
   "source": [
    "import pickle\n",
    "from collections import deque\n",
    "import time\n"
   ]
  },
  {
   "cell_type": "code",
   "execution_count": 3,
   "id": "83394f12",
   "metadata": {},
   "outputs": [],
   "source": [
    "def bfs_search(graph, starting_node, end_node):\n",
    "# Sử dụng deque làm fringe để tốc độ nhanh hơn\n",
    "    fringe = deque()\n",
    "# Lưu node và đường đi đến node\n",
    "    fringe.append((starting_node, [starting_node]))\n",
    "    closed = set()\n",
    "    fringe_set=set()\n",
    "# Sử dụng set làm closed, điều này giúp kiểm tra phần tử có trong closed nhanh hơn\n",
    "    i = 0 # Đếm số trang phải xét để tìm đến đích\n",
    "    start_time = time.time()\n",
    "\n",
    "    while fringe:\n",
    "        i += 1\n",
    "        node, path = fringe.popleft()\n",
    "        closed.add(node)\n",
    "        fringe_set.discard(node)\n",
    "        if node == end_node:\n",
    "            end_time = time.time()\n",
    "            path_length = len(path)\n",
    "            return path_length, path, end_time - start_time, i\n",
    "\n",
    "        neighbors = set(graph.neighbors(node))\n",
    "        for neighbor in neighbors:\n",
    "            if neighbor not in closed and neighbor not in fringe_set:# Kiểm tra xem node con đã được đến chưa để tránh lặp\n",
    "                fringe.append((neighbor, path + [neighbor]))\n",
    "                fringe_set.add(neighbor)\n",
    "\n",
    "    return None, None, None, i"
   ]
  },
  {
   "cell_type": "code",
   "execution_count": null,
   "id": "cd0584a9",
   "metadata": {},
   "outputs": [],
   "source": [
    "# Load đồ thị\n",
    "file_path = r\"graph_with_attributes.pkl\"\n",
    "\n",
    "with open(file_path, \"rb\") as file:\n",
    "    graph = pickle.load(file)\n",
    "\n",
    "# Lấy bài đăng đích và bài đăng nguồn\n",
    "starting_node = input(\"starting article: \")\n",
    "end_node = input(\"ending article: \")\n",
    "\n",
    "path_length, path, running_time, node_visited = None, None, None, None\n",
    "# Check if the starting and goal nodes exist in the graph\n",
    "if graph.has_node(starting_node) and graph.has_node(end_node):\n",
    "    # Thực hiện BFS\n",
    "    path_length, path, running_time, node_visited = bfs_search(graph, starting_node, end_node)\n",
    "\n",
    "if path_length is not None:\n",
    "    print(\"A path exists\")\n",
    "    print(\"Path:\", path)\n",
    "    print(\"Path length:\", path_length)\n",
    "    print(\"Running time:\", running_time)\n",
    "    print(\"Node_visited\", node_visited)\n",
    "else:\n",
    "    print(\"No path exists\")"
   ]
  },
  {
   "cell_type": "code",
   "execution_count": null,
   "id": "b05aa4d3",
   "metadata": {},
   "outputs": [],
   "source": []
  }
 ],
 "metadata": {
  "kernelspec": {
   "display_name": "Python 3 (ipykernel)",
   "language": "python",
   "name": "python3"
  },
  "language_info": {
   "codemirror_mode": {
    "name": "ipython",
    "version": 3
   },
   "file_extension": ".py",
   "mimetype": "text/x-python",
   "name": "python",
   "nbconvert_exporter": "python",
   "pygments_lexer": "ipython3",
   "version": "3.11.7"
  }
 },
 "nbformat": 4,
 "nbformat_minor": 5
}
