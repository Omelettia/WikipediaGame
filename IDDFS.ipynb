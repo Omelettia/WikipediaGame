{
 "cells": [
  {
   "cell_type": "markdown",
   "id": "dfe2fe2e",
   "metadata": {},
   "source": [
    "#5.Code để chạy IDDFS"
   ]
  },
  {
   "cell_type": "code",
   "execution_count": 1,
   "id": "54a7b5ab",
   "metadata": {},
   "outputs": [],
   "source": [
    "import pickle\n",
    "import time"
   ]
  },
  {
   "cell_type": "code",
   "execution_count": 2,
   "id": "7f82ad14",
   "metadata": {},
   "outputs": [],
   "source": [
    "# Load đồ thị\n",
    "file_path = r\"graph_with_attributes.pkl\"\n",
    "with open(file_path, \"rb\") as file:\n",
    "    graph = pickle.load(file)"
   ]
  },
  {
   "cell_type": "code",
   "execution_count": 3,
   "id": "3b5a24a5",
   "metadata": {},
   "outputs": [],
   "source": [
    "def iddfs_search(graph, starting_node, end_node, max_depth):\n",
    "    def iddfs(node, path, depth):\n",
    "        nonlocal node_count\n",
    "\n",
    "        if node == end_node:\n",
    "            return path, len(path), time.time() - start_time\n",
    "\n",
    "        if depth > 0:\n",
    "            node_count += 1\n",
    "            neighbors = set(graph.neighbors(node))\n",
    "\n",
    "            for neighbor in neighbors:\n",
    "                if neighbor not in path:\n",
    "                    result = iddfs(neighbor, path + [neighbor], depth - 1)\n",
    "                    if result[0] is not None:\n",
    "                        return result\n",
    "\n",
    "        return None, None, None\n",
    "\n",
    "    node_count = 0\n",
    "    start_time = time.time()\n",
    "    for depth in range(1, max_depth + 1):\n",
    "        result = iddfs(starting_node, [starting_node], depth)\n",
    "        if result[0] is not None:\n",
    "            return result + (node_count,)\n",
    "\n",
    "    return None, None, None, node_count"
   ]
  },
  {
   "cell_type": "code",
   "execution_count": 4,
   "id": "d2c5bb91",
   "metadata": {},
   "outputs": [
    {
     "name": "stdout",
     "output_type": "stream",
     "text": [
      "starting article: Code-switching\n",
      "ending article: Soviet Union\n",
      "A path exists\n",
      "Path: ['Code-switching', 'Multilingualism', 'World War I', 'Soviet Union']\n",
      "Path length: 4\n",
      "Runtime: 0.0\n",
      "Number of nodes visited: 7\n"
     ]
    }
   ],
   "source": [
    "max_depth = 10  # Giới hạn độ sâu tối đa\n",
    "\n",
    "starting_node = input(\"starting article: \")\n",
    "end_node = input(\"ending article: \")\n",
    "path, path_length, runtime, node_count = iddfs_search(graph, starting_node, end_node, max_depth)\n",
    "\n",
    "if path:\n",
    "    print(\"A path exists\")\n",
    "    print(\"Path:\", path)\n",
    "    print(\"Path length:\", path_length)\n",
    "    print(\"Runtime:\", runtime)\n",
    "else:\n",
    "    print(\"No path exists\")\n",
    "\n",
    "print(\"Number of nodes visited:\", node_count)"
   ]
  }
 ],
 "metadata": {
  "kernelspec": {
   "display_name": "Python 3 (ipykernel)",
   "language": "python",
   "name": "python3"
  },
  "language_info": {
   "codemirror_mode": {
    "name": "ipython",
    "version": 3
   },
   "file_extension": ".py",
   "mimetype": "text/x-python",
   "name": "python",
   "nbconvert_exporter": "python",
   "pygments_lexer": "ipython3",
   "version": "3.11.7"
  }
 },
 "nbformat": 4,
 "nbformat_minor": 5
}
