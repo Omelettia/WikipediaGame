{
 "cells": [
  {
   "cell_type": "markdown",
   "id": "5e910aa8",
   "metadata": {},
   "source": [
    "#7.Code để chạy thuật toán tìm kiếm A*\n",
    "    Vì hàm heuristic được luyện trên dữ liệu mà ở đó node đích được cố định là Minecraft nên thuật toán chỉ chạy được\n",
    "    với node đích cố định là Minecraft"
   ]
  },
  {
   "cell_type": "code",
   "execution_count": 1,
   "id": "6f306939",
   "metadata": {},
   "outputs": [],
   "source": [
    "import pickle\n",
    "import time\n",
    "from heapdict import heapdict\n"
   ]
  },
  {
   "cell_type": "code",
   "execution_count": 2,
   "id": "481f85e6",
   "metadata": {},
   "outputs": [],
   "source": [
    "# Load mô hình đã luyện từ file\n",
    "with open(\"trained_model.pkl\", \"rb\") as file:\n",
    "    model = pickle.load(file)\n",
    "\n",
    "# Load vectorizer từ file\n",
    "with open(\"vectorizer.pkl\", \"rb\") as file:\n",
    "    vectorizer = pickle.load(file)\n",
    "\n",
    "# Load đồ thị\n",
    "file_path = r\"graph_with_attributes.pkl\"\n",
    "with open(file_path, \"rb\") as file:\n",
    "    graph = pickle.load(file)\n"
   ]
  },
  {
   "cell_type": "code",
   "execution_count": 3,
   "id": "0049ad72",
   "metadata": {},
   "outputs": [],
   "source": [
    "# Cache để lưu các giá trị heuristic đã tính; hạn chế tính lại nhiều lần\n",
    "heuristic_cache = {}\n",
    "def heuristic(source, target):\n",
    "    # Kiểm tra xem giá trị heuristic đã được tính chưa\n",
    "    cached_value = heuristic_cache.get(source)\n",
    "    if cached_value is not None:\n",
    "        return cached_value\n",
    "    # Lấy các attributes của node nguồn\n",
    "    source_attributes = graph.nodes[source]\n",
    "\n",
    "    # Sắp xếp các attributes thành định dạng đúng\n",
    "    formatted_attributes = [\n",
    "        source,\n",
    "        target,\n",
    "        source_attributes.get(\"Word Count\"),\n",
    "        source_attributes.get(\"Link Count\"),\n",
    "        source_attributes.get(\"Bag of Words\"),\n",
    "    ]\n",
    "\n",
    "    # Xử lý các giá trị thiếu trong attributes\n",
    "    formatted_attributes = [\"\" if attr is None else attr for attr in formatted_attributes]\n",
    "\n",
    "    # Tokenize và vectorize formatted attributes dựa trên vectorizer đã load\n",
    "    formatted_attributes_vectorized = vectorizer.transform([formatted_attributes[4]])\n",
    "\n",
    "    # Dự đoán path length dựa trên mô hình\n",
    "    path_length = model.predict(formatted_attributes_vectorized)[0]\n",
    "\n",
    "    return path_length\n",
    "\n"
   ]
  },
  {
   "cell_type": "code",
   "execution_count": 4,
   "id": "195636ce",
   "metadata": {},
   "outputs": [],
   "source": [
    "def astar(graph, start, goal):\n",
    "    # Dùng Priority queue để sắp xếp các node; từ đó tìm node có priority thấp nhất\n",
    "    open_nodes = heapdict()\n",
    "    open_nodes[start] = 0\n",
    "\n",
    "    # Từ điển để chứa các path lengths ngắn nhất từ node nguồn\n",
    "    path_lengths = {node: float(\"inf\") for node in graph.nodes}\n",
    "    path_lengths[start] = 0\n",
    "\n",
    "    # Từ điển để chứa node trước trong đường đi\n",
    "    previous_nodes = {node: None for node in graph.nodes}\n",
    "\n",
    "    # Đếm số node đã thăm\n",
    "    visited_nodes = 0\n",
    "\n",
    "    # Xác định thời gian bắt đầu chạy\n",
    "    start_time = time.time()\n",
    "\n",
    "    while open_nodes:\n",
    "        current_node, _ = open_nodes.popitem()\n",
    "        visited_nodes += 1\n",
    "\n",
    "        if current_node == goal:\n",
    "            # Tạo đường đi từ node nguồn tới đích khi tìm ra đường đi\n",
    "            path = []\n",
    "            while current_node is not None:\n",
    "                path.append(current_node)\n",
    "                current_node = previous_nodes[current_node]\n",
    "            path.reverse()\n",
    "            # Tính thời gian chạy\n",
    "            runtime = time.time() - start_time\n",
    "            return path, visited_nodes, runtime, len(path)\n",
    "        neighbors = set(graph.neighbors(current_node)) #Dùng set để tránh các link bị duplicate\n",
    "        for neighbor in neighbors:\n",
    "            path_length = path_lengths[current_node] + 1\n",
    "\n",
    "            if path_length < path_lengths[neighbor]:\n",
    "                path_lengths[neighbor] = path_length\n",
    "                previous_nodes[neighbor] = current_node\n",
    "                priority = path_length + heuristic(neighbor, goal)\n",
    "                if neighbor in open_nodes:\n",
    "                    del open_nodes[neighbor]  # Loại bỏ node neighbor để update priority của nó nếu nó có trong open_nodes\n",
    "                open_nodes[neighbor] = priority\n",
    "\n",
    "    # Nếu không có đường đi\n",
    "    return None, visited_nodes, None, None"
   ]
  },
  {
   "cell_type": "code",
   "execution_count": 5,
   "id": "7a7f2c50",
   "metadata": {},
   "outputs": [
    {
     "name": "stdout",
     "output_type": "stream",
     "text": [
      "Enter the starting node: Renaissance architecture\n",
      "Enter the goal node: Minecraft\n",
      "Path: ['Renaissance architecture', 'Parthenon', 'Greece', '2011', 'Minecraft']\n",
      "Number of nodes visited: 5414\n",
      "Path length: 5\n",
      "Runtime: 135.88471746444702\n"
     ]
    }
   ],
   "source": [
    "# Nhập bài đăng đầu và đích\n",
    "starting_node = input(\"Enter the starting node: \")\n",
    "end_node = input(\"Enter the goal node: \")\n",
    "\n",
    " # Kiểm tra xem chúng có trong đồ thị không\n",
    "if graph.has_node(starting_node) and graph.has_node(end_node):\n",
    "    # Tìm đường đi dùng A*\n",
    "    path, node_count, runtime, path_length = astar(graph, starting_node, end_node)\n",
    "\n",
    "    if path:\n",
    "        print(\"Path:\", path)\n",
    "        print(\"Number of nodes visited:\", node_count)\n",
    "        print(\"Path length:\", path_length)\n",
    "        print(\"Runtime:\", runtime)\n",
    "    else:\n",
    "        print(\"No path found.\")\n",
    "else:\n",
    "    print(\"Starting node or goal node not found in the graph.\")"
   ]
  }
 ],
 "metadata": {
  "kernelspec": {
   "display_name": "Python 3 (ipykernel)",
   "language": "python",
   "name": "python3"
  },
  "language_info": {
   "codemirror_mode": {
    "name": "ipython",
    "version": 3
   },
   "file_extension": ".py",
   "mimetype": "text/x-python",
   "name": "python",
   "nbconvert_exporter": "python",
   "pygments_lexer": "ipython3",
   "version": "3.11.7"
  }
 },
 "nbformat": 4,
 "nbformat_minor": 5
}
