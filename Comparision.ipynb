{
 "cells": [
  {
   "cell_type": "markdown",
   "id": "701868c3",
   "metadata": {},
   "source": [
    "#8.Code để so sánh 3 thuật toán BFS, IDDFS, A* "
   ]
  },
  {
   "cell_type": "code",
   "execution_count": 1,
   "id": "f55c1c20",
   "metadata": {},
   "outputs": [],
   "source": [
    "import pickle\n",
    "import BFS\n",
    "import A_search\n",
    "import IDDFS\n"
   ]
  },
  {
   "cell_type": "code",
   "execution_count": 2,
   "id": "edfa50f0",
   "metadata": {},
   "outputs": [],
   "source": [
    "# Load đồ thị\n",
    "file_path = r\"graph_with_attributes.pkl\"\n",
    "with open(file_path, \"rb\") as file:\n",
    "    graph = pickle.load(file)\n"
   ]
  },
  {
   "cell_type": "code",
   "execution_count": 3,
   "id": "0904411d",
   "metadata": {},
   "outputs": [
    {
     "name": "stdout",
     "output_type": "stream",
     "text": [
      "Enter the starting article: Code-switching\n",
      "Enter the ending article: Minecraft\n"
     ]
    }
   ],
   "source": [
    "# Nhập bài nguồn và đích\n",
    "starting_article = input(\"Enter the starting article: \")\n",
    "ending_article = input(\"Enter the ending article: \")"
   ]
  },
  {
   "cell_type": "code",
   "execution_count": 4,
   "id": "88a07798",
   "metadata": {},
   "outputs": [],
   "source": [
    "# Thực hiện BFS\n",
    "bfs_path, bfs_path_length, bfs_runtime, bfs_node_count = BFS.bfs_search(graph, starting_article, ending_article)\n",
    "\n",
    "# Thực hiện A*\n",
    "astar_path, astar_path_length, astar_runtime, astar_node_count = A_search.astar(graph, starting_article, ending_article)\n",
    "\n",
    "#Thực hiênh IDDFS\n",
    "iddfs_path, iddfs_path_length, iddfs_runtime, iddfs_node_count = IDDFS.iddfs_search(graph, starting_article, ending_article, 10)"
   ]
  },
  {
   "cell_type": "code",
   "execution_count": 5,
   "id": "c9dc6d7f",
   "metadata": {},
   "outputs": [
    {
     "name": "stdout",
     "output_type": "stream",
     "text": [
      "--- BFS ---\n",
      "Path Exists: Yes\n",
      "Path: 6\n",
      "Path Length: ['Code-switching', 'Multilingualism', 'World War I', 'Greece', '2011', 'Minecraft']\n",
      "Runtime: 0.8956506252288818\n",
      "Number of Nodes Visited: 21442\n",
      "--- A* ---\n",
      "Path Exists: Yes\n",
      "Path: ['Code-switching', 'Multilingualism', 'Romania', 'Vest (development region)', '2011', 'Minecraft']\n",
      "Path Length: 52\n",
      "Runtime: 4.6684629917144775\n",
      "Number of Nodes Visited: 6\n",
      "--- IDDFS ---\n",
      "Path Exists: Yes\n",
      "Path: ['Code-switching', 'Multilingualism', 'World War I', 'Greece', '2011', 'Minecraft']\n",
      "Path Length: 6\n",
      "Runtime: 0.03894662857055664\n",
      "Number of Nodes Visited: 2903\n"
     ]
    }
   ],
   "source": [
    "# In kết quả với BFS\n",
    "print(\"--- BFS ---\")\n",
    "if bfs_path_length is not None:\n",
    "    print(\"Path Exists: Yes\")\n",
    "    print(\"Path:\", bfs_path)\n",
    "    print(\"Path Length:\", bfs_path_length)\n",
    "else:\n",
    "    print(\"Path Exists: No\")\n",
    "\n",
    "print(\"Runtime:\", bfs_runtime)\n",
    "print(\"Number of Nodes Visited:\", bfs_node_count)\n",
    "\n",
    "# In kết quả với A*\n",
    "print(\"--- A* ---\")\n",
    "if astar_path_length is not None:\n",
    "    print(\"Path Exists: Yes\")\n",
    "    print(\"Path:\", astar_path)\n",
    "    print(\"Path Length:\", astar_path_length)\n",
    "else:\n",
    "    print(\"Path Exists: No\")\n",
    "\n",
    "print(\"Runtime:\", astar_runtime)\n",
    "print(\"Number of Nodes Visited:\", astar_node_count)\n",
    "\n",
    "# In kết quả vói IDDFS results\n",
    "print(\"--- IDDFS ---\")\n",
    "if iddfs_path_length is not None:\n",
    "    print(\"Path Exists: Yes\")\n",
    "    print(\"Path:\", iddfs_path)\n",
    "    print(\"Path Length:\", iddfs_path_length)\n",
    "else:\n",
    "    print(\"Path Exists: No\")\n",
    "\n",
    "print(\"Runtime:\", iddfs_runtime)\n",
    "print(\"Number of Nodes Visited:\", iddfs_node_count)"
   ]
  }
 ],
 "metadata": {
  "kernelspec": {
   "display_name": "Python 3 (ipykernel)",
   "language": "python",
   "name": "python3"
  },
  "language_info": {
   "codemirror_mode": {
    "name": "ipython",
    "version": 3
   },
   "file_extension": ".py",
   "mimetype": "text/x-python",
   "name": "python",
   "nbconvert_exporter": "python",
   "pygments_lexer": "ipython3",
   "version": "3.11.7"
  }
 },
 "nbformat": 4,
 "nbformat_minor": 5
}
