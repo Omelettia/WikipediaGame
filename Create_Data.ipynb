{
 "cells": [
  {
   "cell_type": "markdown",
   "id": "23d3669c",
   "metadata": {},
   "source": [
    "#4. Code Python để tạo dữ liệu\n",
    "\n",
    "Bằng việc chạy thuật toán BFS trên đồ thị ta có thể tạo số lượng dữ liệu nhiều như mong muốn để luyện hàm heuristic\n",
    "cho thuật toán tìm kiếm A*. Sau khi thử nghiệm thì nhóm đã quyết định cố định bài đích là Minecraft để tăng sự chính \n",
    "xác cho thuật toán. Nếu để cả bài đầu và cuối là ngẫu nhiên thì độ chính xác khi thử không vượt quá 0.4 và khoảng cách sai\n",
    "lệch sấp sỉ 5 và tốn rất lâu để chạy kể cả khi đã luyện với 26000 ví dụ. Ngược lại khi cố định đích đến thì mô hình có độ \n",
    "chính xác lên được đến 0.65 và sai lệch chỉ 0.8 với 6000 ví dụ.\n"
   ]
  },
  {
   "cell_type": "code",
   "execution_count": 1,
   "id": "0d5ffb86",
   "metadata": {},
   "outputs": [],
   "source": [
    "import pickle\n",
    "from tqdm import tqdm\n",
    "import pandas as pd\n",
    "from BFS import bfs_search\n",
    "import math\n",
    "#import BFS đã chuẩn bị trước để chạy"
   ]
  },
  {
   "cell_type": "code",
   "execution_count": 2,
   "id": "821140de",
   "metadata": {},
   "outputs": [],
   "source": [
    "# Load đồ thị\n",
    "file_path = r\"graph_with_attributes.pkl\"\n",
    "with open(file_path, \"rb\") as file:\n",
    "    graph = pickle.load(file)\n",
    "\n",
    "# Load tên các article từ file chuẩn bị trước\n",
    "article_names_file = r\"randomized_article_names.txt\"\n",
    "with open(article_names_file, \"r\", encoding=\"utf-8\") as f:\n",
    "    article_names = f.read().splitlines()"
   ]
  },
  {
   "cell_type": "code",
   "execution_count": 3,
   "id": "f89f5b24",
   "metadata": {},
   "outputs": [],
   "source": [
    "# Cố định ending article là Minecraft\n",
    "fixed_ending_article = \"Minecraft\"\n",
    "\n",
    "# Chọn số lần chạy\n",
    "number_of_runs = 1000  \n",
    "\n",
    "# Tên file output\n",
    "output_base_path = \"classifier_data\"\n",
    "output_file_counter = 1\n",
    "\n",
    "data = []\n",
    "successful_runs = 0  # Đếm số lần BFS chạy thành công"
   ]
  },
  {
   "cell_type": "code",
   "execution_count": 4,
   "id": "a68ca7ad",
   "metadata": {},
   "outputs": [
    {
     "name": "stderr",
     "output_type": "stream",
     "text": [
      "Progress:   0%|                                                                       | 1/1000 [00:00<06:34,  2.53it/s]"
     ]
    },
    {
     "name": "stdout",
     "output_type": "stream",
     "text": [
      "Starting Node: Okoboji, Iowa\n",
      "Ending Node: Minecraft\n",
      "Path Length: 5\n",
      "Path Exists: 1\n",
      "Path: ['Okoboji, Iowa', 'United States', 'Xbox Game Studios', 'Mojang Studios', 'Minecraft']\n"
     ]
    },
    {
     "name": "stderr",
     "output_type": "stream",
     "text": [
      "\r",
      "Progress:   0%|▏                                                                      | 2/1000 [00:00<05:33,  2.99it/s]"
     ]
    },
    {
     "name": "stdout",
     "output_type": "stream",
     "text": [
      "Starting Node: Epic Games\n",
      "Ending Node: Minecraft\n",
      "Path Length: 4\n",
      "Path Exists: 1\n",
      "Path: ['Epic Games', 'Gears of War', 'Microsoft', 'Minecraft']\n"
     ]
    },
    {
     "name": "stderr",
     "output_type": "stream",
     "text": [
      "\r",
      "Progress:   0%|▏                                                                      | 3/1000 [00:01<06:00,  2.77it/s]"
     ]
    },
    {
     "name": "stdout",
     "output_type": "stream",
     "text": [
      "Starting Node: Giovannino Guareschi\n",
      "Ending Node: Minecraft\n",
      "Path Length: 5\n",
      "Path Exists: 1\n",
      "Path: ['Giovannino Guareschi', 'Italy', 'Mario Draghi', 'Mario', 'Minecraft']\n"
     ]
    },
    {
     "name": "stderr",
     "output_type": "stream",
     "text": [
      "\r",
      "Progress:   0%|▎                                                                      | 4/1000 [00:01<07:05,  2.34it/s]"
     ]
    },
    {
     "name": "stdout",
     "output_type": "stream",
     "text": [
      "Starting Node: Bhopal district\n",
      "Ending Node: Minecraft\n",
      "Path Length: 5\n",
      "Path Exists: 1\n",
      "Path: ['Bhopal district', 'India', 'Encyclopædia Britannica', 'Microsoft', 'Minecraft']\n"
     ]
    },
    {
     "name": "stderr",
     "output_type": "stream",
     "text": [
      "\r",
      "Progress:   0%|▎                                                                      | 5/1000 [00:02<07:11,  2.30it/s]"
     ]
    },
    {
     "name": "stdout",
     "output_type": "stream",
     "text": [
      "Starting Node: Oleg Pavlov\n",
      "Ending Node: Minecraft\n",
      "Path Length: 5\n",
      "Path Exists: 1\n",
      "Path: ['Oleg Pavlov', 'Russia', 'Encyclopædia Britannica', 'Microsoft', 'Minecraft']\n",
      "Starting Node: Skibidi Toilet\n",
      "Ending Node: Minecraft\n",
      "Path Length: 4\n",
      "Path Exists: 1\n",
      "Path: ['Skibidi Toilet', 'YouTube', 'MrBeast', 'Minecraft']\n"
     ]
    },
    {
     "name": "stderr",
     "output_type": "stream",
     "text": [
      "\r",
      "Progress:   1%|▍                                                                      | 7/1000 [00:02<05:16,  3.14it/s]"
     ]
    },
    {
     "name": "stdout",
     "output_type": "stream",
     "text": [
      "Starting Node: 1830 United States census\n",
      "Ending Node: Minecraft\n",
      "Path Length: 5\n",
      "Path Exists: 1\n",
      "Path: ['1830 United States census', 'United States', 'Xbox Game Studios', 'Mojang Studios', 'Minecraft']\n"
     ]
    },
    {
     "name": "stderr",
     "output_type": "stream",
     "text": [
      "\r",
      "Progress:   1%|▌                                                                      | 8/1000 [00:02<05:50,  2.83it/s]"
     ]
    },
    {
     "name": "stdout",
     "output_type": "stream",
     "text": [
      "Starting Node: Bank of Israel\n",
      "Ending Node: Minecraft\n",
      "Path Length: 5\n",
      "Path Exists: 1\n",
      "Path: ['Bank of Israel', 'Jerusalem', '20th century', '2011', 'Minecraft']\n"
     ]
    },
    {
     "name": "stderr",
     "output_type": "stream",
     "text": [
      "\r",
      "Progress:   1%|▋                                                                      | 9/1000 [00:03<05:53,  2.81it/s]"
     ]
    },
    {
     "name": "stdout",
     "output_type": "stream",
     "text": [
      "Starting Node: Ricardo (footballer, born 1977)\n",
      "Ending Node: Minecraft\n",
      "Path Length: 4\n",
      "Path Exists: 1\n",
      "Path: ['Ricardo (footballer, born 1977)', '1977', '2011', 'Minecraft']\n"
     ]
    },
    {
     "name": "stderr",
     "output_type": "stream",
     "text": [
      "Progress:   1%|▊                                                                     | 11/1000 [00:03<05:05,  3.24it/s]"
     ]
    },
    {
     "name": "stdout",
     "output_type": "stream",
     "text": [
      "Starting Node: Councillor\n",
      "Ending Node: Minecraft\n",
      "Path Length: 5\n",
      "Path Exists: 1\n",
      "Path: ['Councillor', 'England', 'UEFA Euro 2012', '2011', 'Minecraft']\n",
      "Starting Node: Pineapple\n",
      "Ending Node: Minecraft\n",
      "Path Length: 5\n",
      "Path Exists: 1\n",
      "Path: ['Pineapple', 'Central America', 'Earth', 'Microsoft', 'Minecraft']\n"
     ]
    },
    {
     "name": "stderr",
     "output_type": "stream",
     "text": [
      "\r",
      "Progress:   1%|▊                                                                     | 12/1000 [00:04<06:52,  2.40it/s]"
     ]
    },
    {
     "name": "stdout",
     "output_type": "stream",
     "text": [
      "Starting Node: Research\n",
      "Ending Node: Minecraft\n",
      "Path Length: 5\n",
      "Path Exists: 1\n",
      "Path: ['Research', 'Institution', 'Harvard University', 'Microsoft', 'Minecraft']\n"
     ]
    },
    {
     "name": "stderr",
     "output_type": "stream",
     "text": [
      "\r",
      "Progress:   1%|▉                                                                     | 13/1000 [00:04<06:52,  2.39it/s]"
     ]
    },
    {
     "name": "stdout",
     "output_type": "stream",
     "text": [
      "Starting Node: Cory Redding\n",
      "Ending Node: Minecraft\n",
      "Path Length: 5\n",
      "Path Exists: 1\n",
      "Path: ['Cory Redding', 'Texas', 'Technology company', 'Microsoft', 'Minecraft']\n"
     ]
    },
    {
     "name": "stderr",
     "output_type": "stream",
     "text": [
      "\r",
      "Progress:   1%|▉                                                                     | 14/1000 [00:05<08:03,  2.04it/s]"
     ]
    },
    {
     "name": "stdout",
     "output_type": "stream",
     "text": [
      "Starting Node: Ribécourt-la-Tour\n",
      "Ending Node: Minecraft\n",
      "Path Length: 5\n",
      "Path Exists: 1\n",
      "Path: ['Ribécourt-la-Tour', 'France', 'Greece', '2011', 'Minecraft']\n"
     ]
    },
    {
     "name": "stderr",
     "output_type": "stream",
     "text": [
      "\r",
      "Progress:   2%|█                                                                     | 15/1000 [00:06<08:18,  1.98it/s]"
     ]
    },
    {
     "name": "stdout",
     "output_type": "stream",
     "text": [
      "Starting Node: Lake County, Oregon\n",
      "Ending Node: Minecraft\n",
      "Path Length: 6\n",
      "Path Exists: 1\n",
      "Path: ['Lake County, Oregon', 'County (United States)', 'List of counties in Ohio', 'Encyclopædia Britannica', 'Microsoft', 'Minecraft']\n"
     ]
    },
    {
     "name": "stderr",
     "output_type": "stream",
     "text": [
      "\r",
      "Progress:   2%|█                                                                     | 16/1000 [00:06<08:20,  1.97it/s]"
     ]
    },
    {
     "name": "stdout",
     "output_type": "stream",
     "text": [
      "Starting Node: Tonny Bruins Slot\n",
      "Ending Node: Minecraft\n",
      "Path Length: 6\n",
      "Path Exists: 1\n",
      "Path: ['Tonny Bruins Slot', 'Amsterdam', '2025', 'March 31', '2011', 'Minecraft']\n"
     ]
    },
    {
     "name": "stderr",
     "output_type": "stream",
     "text": [
      "\r",
      "Progress:   2%|█▏                                                                    | 17/1000 [00:07<07:59,  2.05it/s]"
     ]
    },
    {
     "name": "stdout",
     "output_type": "stream",
     "text": [
      "Starting Node: Survivor: Africa\n",
      "Ending Node: Minecraft\n",
      "Path Length: 5\n",
      "Path Exists: 1\n",
      "Path: ['Survivor: Africa', 'Africa', '20th century', '2011', 'Minecraft']\n"
     ]
    },
    {
     "name": "stderr",
     "output_type": "stream",
     "text": [
      "\r",
      "Progress:   2%|█▎                                                                    | 18/1000 [00:07<07:20,  2.23it/s]"
     ]
    },
    {
     "name": "stdout",
     "output_type": "stream",
     "text": [
      "Starting Node: Sugako Hashida\n",
      "Ending Node: Minecraft\n",
      "Path Length: 5\n",
      "Path Exists: 1\n",
      "Path: ['Sugako Hashida', 'Korea under Japanese rule', '1945', '2011', 'Minecraft']\n"
     ]
    },
    {
     "name": "stderr",
     "output_type": "stream",
     "text": [
      "\r",
      "Progress:   2%|█▎                                                                    | 19/1000 [00:08<08:33,  1.91it/s]"
     ]
    },
    {
     "name": "stdout",
     "output_type": "stream",
     "text": [
      "Starting Node: Bergman, Arkansas\n",
      "Ending Node: Minecraft\n",
      "Path Length: 6\n",
      "Path Exists: 1\n",
      "Path: ['Bergman, Arkansas', 'Town', 'Kansas', 'Raccoon', 'Wolf', 'Minecraft']\n"
     ]
    },
    {
     "name": "stderr",
     "output_type": "stream",
     "text": [
      "\r",
      "Progress:   2%|█▍                                                                    | 20/1000 [00:08<07:58,  2.05it/s]"
     ]
    },
    {
     "name": "stdout",
     "output_type": "stream",
     "text": [
      "Starting Node: Le Brusquet\n",
      "Ending Node: Minecraft\n",
      "Path Length: 5\n",
      "Path Exists: 1\n",
      "Path: ['Le Brusquet', 'Departments of France', 'Guéret', 'Wolf', 'Minecraft']\n"
     ]
    },
    {
     "name": "stderr",
     "output_type": "stream",
     "text": [
      "\r",
      "Progress:   2%|█▍                                                                    | 21/1000 [00:09<08:01,  2.03it/s]"
     ]
    },
    {
     "name": "stdout",
     "output_type": "stream",
     "text": [
      "Starting Node: Ommen\n",
      "Ending Node: Minecraft\n",
      "Path Length: 6\n",
      "Path Exists: 1\n",
      "Path: ['Ommen', 'Overijssel', 'France', 'Greece', '2011', 'Minecraft']\n"
     ]
    },
    {
     "name": "stderr",
     "output_type": "stream",
     "text": [
      "\r",
      "Progress:   2%|█▌                                                                    | 22/1000 [00:09<07:37,  2.14it/s]"
     ]
    },
    {
     "name": "stdout",
     "output_type": "stream",
     "text": [
      "Starting Node: Ichi the Killer\n",
      "Ending Node: Minecraft\n",
      "Path Length: 5\n",
      "Path Exists: 1\n",
      "Path: ['Ichi the Killer', 'Japan', 'Nintendo', 'Microsoft', 'Minecraft']\n",
      "Starting Node: Passenger pigeon\n",
      "Ending Node: Minecraft\n",
      "Path Length: 5\n",
      "Path Exists: 1\n",
      "Path: ['Passenger pigeon', 'Animal', 'Earth', 'Microsoft', 'Minecraft']\n"
     ]
    },
    {
     "name": "stderr",
     "output_type": "stream",
     "text": [
      "\r",
      "Progress:   2%|█▋                                                                    | 24/1000 [00:09<05:42,  2.85it/s]"
     ]
    },
    {
     "name": "stdout",
     "output_type": "stream",
     "text": [
      "Starting Node: Australian Music Online\n",
      "Ending Node: Minecraft\n",
      "Path Length: 4\n",
      "Path Exists: 1\n",
      "Path: ['Australian Music Online', '2007', 'Microsoft', 'Minecraft']\n"
     ]
    },
    {
     "name": "stderr",
     "output_type": "stream",
     "text": [
      "\r",
      "Progress:   2%|█▊                                                                    | 25/1000 [00:10<05:47,  2.81it/s]"
     ]
    },
    {
     "name": "stdout",
     "output_type": "stream",
     "text": [
      "Starting Node: Walter Bernstein\n",
      "Ending Node: Minecraft\n",
      "Path Length: 5\n",
      "Path Exists: 1\n",
      "Path: ['Walter Bernstein', 'Hollywood', 'Earth', 'Microsoft', 'Minecraft']\n",
      "Starting Node: Heavy Rain\n",
      "Ending Node: Minecraft\n",
      "Path Length: 4\n",
      "Path Exists: 1\n",
      "Path: ['Heavy Rain', 'Microsoft Windows', 'Microsoft', 'Minecraft']\n"
     ]
    },
    {
     "name": "stderr",
     "output_type": "stream",
     "text": [
      "Progress:   3%|█▉                                                                    | 28/1000 [00:11<04:58,  3.26it/s]"
     ]
    },
    {
     "name": "stdout",
     "output_type": "stream",
     "text": [
      "Starting Node: Al-Khwarizmi\n",
      "Ending Node: Minecraft\n",
      "Path Length: 5\n",
      "Path Exists: 1\n",
      "Path: ['Al-Khwarizmi', 'Europe', 'Greece', '2011', 'Minecraft']\n",
      "Starting Node: Brummen\n",
      "Ending Node: Minecraft\n",
      "Path Length: 5\n",
      "Path Exists: 1\n",
      "Path: ['Brummen', 'Provinces of the Netherlands', 'January 1', '2011', 'Minecraft']\n"
     ]
    },
    {
     "name": "stderr",
     "output_type": "stream",
     "text": [
      "\r",
      "Progress:   3%|██                                                                    | 29/1000 [00:11<05:10,  3.13it/s]"
     ]
    },
    {
     "name": "stdout",
     "output_type": "stream",
     "text": [
      "Starting Node: Zezé Procópio\n",
      "Ending Node: Minecraft\n",
      "Path Length: 5\n",
      "Path Exists: 1\n",
      "Path: ['Zezé Procópio', 'Brazil', 'Earth', 'Microsoft', 'Minecraft']\n"
     ]
    },
    {
     "name": "stderr",
     "output_type": "stream",
     "text": [
      "\r",
      "Progress:   3%|██                                                                    | 30/1000 [00:12<06:30,  2.48it/s]"
     ]
    },
    {
     "name": "stdout",
     "output_type": "stream",
     "text": [
      "Starting Node: U.S. Route 250\n",
      "Ending Node: Minecraft\n",
      "Path Length: 5\n",
      "Path Exists: 1\n",
      "Path: ['U.S. Route 250', 'West Virginia', 'American black bear', 'Wolf', 'Minecraft']\n"
     ]
    },
    {
     "name": "stderr",
     "output_type": "stream",
     "text": [
      "\r",
      "Progress:   3%|██▏                                                                   | 31/1000 [00:12<06:40,  2.42it/s]"
     ]
    },
    {
     "name": "stdout",
     "output_type": "stream",
     "text": [
      "Starting Node: The Texas Chainsaw Massacre (franchise)\n",
      "Ending Node: Minecraft\n",
      "Path Length: 5\n",
      "Path Exists: 1\n",
      "Path: ['The Texas Chainsaw Massacre (franchise)', 'Box Office Mojo', '1999', 'Microsoft', 'Minecraft']\n"
     ]
    },
    {
     "name": "stderr",
     "output_type": "stream",
     "text": [
      "\r",
      "Progress:   3%|██▏                                                                   | 32/1000 [00:13<06:48,  2.37it/s]"
     ]
    },
    {
     "name": "stdout",
     "output_type": "stream",
     "text": [
      "Starting Node: Tsūtenkaku\n",
      "Ending Node: Minecraft\n",
      "Path Length: 5\n",
      "Path Exists: 1\n",
      "Path: ['Tsūtenkaku', 'Osaka', '1980', '2011', 'Minecraft']\n"
     ]
    },
    {
     "name": "stderr",
     "output_type": "stream",
     "text": [
      "\r",
      "Progress:   3%|██▎                                                                   | 33/1000 [00:13<06:54,  2.33it/s]"
     ]
    },
    {
     "name": "stdout",
     "output_type": "stream",
     "text": [
      "Starting Node: FC Valdagno\n",
      "Ending Node: Minecraft\n",
      "Path Length: 5\n",
      "Path Exists: 1\n",
      "Path: ['FC Valdagno', 'Italy', 'Mario Draghi', 'Mario', 'Minecraft']\n"
     ]
    },
    {
     "name": "stderr",
     "output_type": "stream",
     "text": [
      "Progress:   4%|██▍                                                                   | 35/1000 [00:13<05:23,  2.98it/s]"
     ]
    },
    {
     "name": "stdout",
     "output_type": "stream",
     "text": [
      "Starting Node: Deaths in April 2022\n",
      "Ending Node: Minecraft\n",
      "Path Length: 4\n",
      "Path Exists: 1\n",
      "Path: ['Deaths in April 2022', 'April 3', '2011', 'Minecraft']\n",
      "Starting Node: Wasserburg am Inn\n",
      "Ending Node: Minecraft\n",
      "Path Length: 6\n",
      "Path Exists: 1\n",
      "Path: ['Wasserburg am Inn', 'Rosenheim (district)', 'Bavaria', 'Santa Claus', 'Microsoft', 'Minecraft']\n"
     ]
    },
    {
     "name": "stderr",
     "output_type": "stream",
     "text": [
      "\r",
      "Progress:   4%|██▌                                                                   | 36/1000 [00:14<05:59,  2.68it/s]"
     ]
    },
    {
     "name": "stdout",
     "output_type": "stream",
     "text": [
      "Starting Node: Machair (TV series)\n",
      "Ending Node: Minecraft\n",
      "Path Length: 6\n",
      "Path Exists: 1\n",
      "Path: ['Machair (TV series)', 'Scottish Gaelic language', 'Australia', 'Greece', '2011', 'Minecraft']\n"
     ]
    },
    {
     "name": "stderr",
     "output_type": "stream",
     "text": [
      "\r",
      "Progress:   4%|██▌                                                                   | 37/1000 [00:15<07:26,  2.16it/s]"
     ]
    },
    {
     "name": "stdout",
     "output_type": "stream",
     "text": [
      "Starting Node: Oppy, Pas-de-Calais\n",
      "Ending Node: Minecraft\n",
      "Path Length: 5\n",
      "Path Exists: 1\n",
      "Path: ['Oppy, Pas-de-Calais', 'France', 'Greece', '2011', 'Minecraft']\n"
     ]
    },
    {
     "name": "stderr",
     "output_type": "stream",
     "text": [
      "\r",
      "Progress:   4%|██▋                                                                   | 38/1000 [00:15<07:13,  2.22it/s]"
     ]
    },
    {
     "name": "stdout",
     "output_type": "stream",
     "text": [
      "Starting Node: Constitution of India\n",
      "Ending Node: Minecraft\n",
      "Path Length: 5\n",
      "Path Exists: 1\n",
      "Path: ['Constitution of India', 'India', 'Encyclopædia Britannica', 'Microsoft', 'Minecraft']\n"
     ]
    },
    {
     "name": "stderr",
     "output_type": "stream",
     "text": [
      "\r",
      "Progress:   4%|██▋                                                                   | 39/1000 [00:15<06:52,  2.33it/s]"
     ]
    },
    {
     "name": "stdout",
     "output_type": "stream",
     "text": [
      "Starting Node: Electorate of Bavaria\n",
      "Ending Node: Minecraft\n",
      "Path Length: 5\n",
      "Path Exists: 1\n",
      "Path: ['Electorate of Bavaria', 'Munich', 'Munich U-Bahn', '2011', 'Minecraft']\n"
     ]
    },
    {
     "name": "stderr",
     "output_type": "stream",
     "text": [
      "\r",
      "Progress:   4%|██▊                                                                   | 40/1000 [00:16<06:27,  2.47it/s]"
     ]
    },
    {
     "name": "stdout",
     "output_type": "stream",
     "text": [
      "Starting Node: Leonardtown, Maryland\n",
      "Ending Node: Minecraft\n",
      "Path Length: 5\n",
      "Path Exists: 1\n",
      "Path: ['Leonardtown, Maryland', 'United States', 'Xbox Game Studios', 'Mojang Studios', 'Minecraft']\n"
     ]
    },
    {
     "name": "stderr",
     "output_type": "stream",
     "text": [
      "\r",
      "Progress:   4%|██▊                                                                   | 41/1000 [00:16<06:43,  2.38it/s]"
     ]
    },
    {
     "name": "stdout",
     "output_type": "stream",
     "text": [
      "Starting Node: Villy-en-Trodes\n",
      "Ending Node: Minecraft\n",
      "Path Length: 5\n",
      "Path Exists: 1\n",
      "Path: ['Villy-en-Trodes', 'France', 'Greece', '2011', 'Minecraft']\n"
     ]
    },
    {
     "name": "stderr",
     "output_type": "stream",
     "text": [
      "\r",
      "Progress:   4%|██▉                                                                   | 42/1000 [00:17<06:47,  2.35it/s]"
     ]
    },
    {
     "name": "stdout",
     "output_type": "stream",
     "text": [
      "Starting Node: Litoria chrisdahli\n",
      "Ending Node: Minecraft\n",
      "Path Length: 6\n",
      "Path Exists: 1\n",
      "Path: ['Litoria chrisdahli', 'Papua New Guinea', 'Australia', 'Greece', '2011', 'Minecraft']\n"
     ]
    },
    {
     "name": "stderr",
     "output_type": "stream",
     "text": [
      "\r",
      "Progress:   4%|███                                                                   | 43/1000 [00:17<06:33,  2.43it/s]"
     ]
    },
    {
     "name": "stdout",
     "output_type": "stream",
     "text": [
      "Starting Node: Funnel cloud\n",
      "Ending Node: Minecraft\n",
      "Path Length: 5\n",
      "Path Exists: 1\n",
      "Path: ['Funnel cloud', 'Texas', 'Technology company', 'Microsoft', 'Minecraft']\n"
     ]
    },
    {
     "name": "stderr",
     "output_type": "stream",
     "text": [
      "\r",
      "Progress:   4%|███                                                                   | 44/1000 [00:18<06:48,  2.34it/s]"
     ]
    },
    {
     "name": "stdout",
     "output_type": "stream",
     "text": [
      "Starting Node: Don Shepherd\n",
      "Ending Node: Minecraft\n",
      "Path Length: 6\n",
      "Path Exists: 1\n",
      "Path: ['Don Shepherd', 'Wales', 'Snowdonia', 'MSN', 'Microsoft', 'Minecraft']\n"
     ]
    },
    {
     "name": "stderr",
     "output_type": "stream",
     "text": [
      "\r",
      "Progress:   4%|███▏                                                                  | 45/1000 [00:18<08:17,  1.92it/s]"
     ]
    },
    {
     "name": "stdout",
     "output_type": "stream",
     "text": [
      "Starting Node: Pop art\n",
      "Ending Node: Minecraft\n",
      "Path Length: 6\n",
      "Path Exists: 1\n",
      "Path: ['Pop art', 'Eduardo Paolozzi', 'Alberto Giacometti', '20th century', '2011', 'Minecraft']\n",
      "Starting Node: Wilhelm Ostwald\n",
      "Ending Node: Minecraft\n",
      "Path Length: 4\n",
      "Path Exists: 1\n",
      "Path: ['Wilhelm Ostwald', '1909', '2011', 'Minecraft']\n"
     ]
    },
    {
     "name": "stderr",
     "output_type": "stream",
     "text": [
      "\r",
      "Progress:   5%|███▎                                                                  | 47/1000 [00:19<06:04,  2.62it/s]"
     ]
    },
    {
     "name": "stdout",
     "output_type": "stream",
     "text": [
      "Starting Node: Douglas Mawson\n",
      "Ending Node: Minecraft\n",
      "Path Length: 5\n",
      "Path Exists: 1\n",
      "Path: ['Douglas Mawson', 'Antarctic', 'Earth', 'Microsoft', 'Minecraft']\n"
     ]
    },
    {
     "name": "stderr",
     "output_type": "stream",
     "text": [
      "\r",
      "Progress:   5%|███▎                                                                  | 48/1000 [00:19<07:17,  2.18it/s]"
     ]
    },
    {
     "name": "stdout",
     "output_type": "stream",
     "text": [
      "Starting Node: Alcester Grammar School\n",
      "Ending Node: Minecraft\n",
      "Path Length: 5\n",
      "Path Exists: 1\n",
      "Path: ['Alcester Grammar School', 'Warwickshire', '1931', '2011', 'Minecraft']\n"
     ]
    },
    {
     "name": "stderr",
     "output_type": "stream",
     "text": [
      "\r",
      "Progress:   5%|███▍                                                                  | 49/1000 [00:20<07:35,  2.09it/s]"
     ]
    },
    {
     "name": "stdout",
     "output_type": "stream",
     "text": [
      "Starting Node: Frederick F. Woerner Jr.\n",
      "Ending Node: Minecraft\n",
      "Path Length: 6\n",
      "Path Exists: 1\n",
      "Path: ['Frederick F. Woerner Jr.', 'Pennsylvania', 'France', 'Greece', '2011', 'Minecraft']\n"
     ]
    },
    {
     "name": "stderr",
     "output_type": "stream",
     "text": [
      "\r",
      "Progress:   5%|███▌                                                                  | 50/1000 [00:20<07:25,  2.13it/s]"
     ]
    },
    {
     "name": "stdout",
     "output_type": "stream",
     "text": [
      "Starting Node: Queen Latifah\n",
      "Ending Node: Minecraft\n",
      "Path Length: 5\n",
      "Path Exists: 1\n",
      "Path: ['Queen Latifah', 'Dance music', '20th century', '2011', 'Minecraft']\n"
     ]
    },
    {
     "name": "stderr",
     "output_type": "stream",
     "text": [
      "\r",
      "Progress:   5%|███▌                                                                  | 51/1000 [00:21<07:04,  2.24it/s]"
     ]
    },
    {
     "name": "stdout",
     "output_type": "stream",
     "text": [
      "Starting Node: Chi McBride\n",
      "Ending Node: Minecraft\n",
      "Path Length: 6\n",
      "Path Exists: 1\n",
      "Path: ['Chi McBride', 'Roll Bounce', 'United States', 'Xbox Game Studios', 'Mojang Studios', 'Minecraft']\n"
     ]
    },
    {
     "name": "stderr",
     "output_type": "stream",
     "text": [
      "\r",
      "Progress:   5%|███▋                                                                  | 52/1000 [00:21<08:17,  1.91it/s]"
     ]
    },
    {
     "name": "stdout",
     "output_type": "stream",
     "text": [
      "Starting Node: Carl Ruiz\n",
      "Ending Node: Minecraft\n",
      "Path Length: 6\n",
      "Path Exists: 1\n",
      "Path: ['Carl Ruiz', 'Guy Fieri', 'San Francisco Chronicle', 'San Francisco Bay Area', 'Microsoft', 'Minecraft']\n",
      "Starting Node: Call of Duty: Modern Warfare\n",
      "Ending Node: Minecraft\n",
      "Path Length: 5\n",
      "Path Exists: 1\n",
      "Path: ['Call of Duty: Modern Warfare', 'Call of Duty 4: Modern Warfare', 'Xbox 360', 'Microsoft', 'Minecraft']\n"
     ]
    },
    {
     "name": "stderr",
     "output_type": "stream",
     "text": [
      "\r",
      "Progress:   5%|███▊                                                                  | 54/1000 [00:22<06:05,  2.59it/s]"
     ]
    },
    {
     "name": "stdout",
     "output_type": "stream",
     "text": [
      "Starting Node: Allergy\n",
      "Ending Node: Minecraft\n",
      "Path Length: 5\n",
      "Path Exists: 1\n",
      "Path: ['Allergy', 'Tobacco', 'Greece', '2011', 'Minecraft']\n",
      "Starting Node: Primatomorpha\n",
      "Ending Node: Minecraft\n",
      "Path Length: 5\n",
      "Path Exists: 1\n",
      "Path: ['Primatomorpha', 'Order (biology)', 'Squirrel', 'Wolf', 'Minecraft']\n"
     ]
    },
    {
     "name": "stderr",
     "output_type": "stream",
     "text": [
      "\r",
      "Progress:   6%|███▉                                                                  | 56/1000 [00:23<06:21,  2.47it/s]"
     ]
    },
    {
     "name": "stdout",
     "output_type": "stream",
     "text": [
      "Starting Node: Royal Commission\n",
      "Ending Node: Minecraft\n",
      "Path Length: 5\n",
      "Path Exists: 1\n",
      "Path: ['Royal Commission', 'Australia', 'Greece', '2011', 'Minecraft']\n"
     ]
    },
    {
     "name": "stderr",
     "output_type": "stream",
     "text": [
      "Progress:   6%|████                                                                  | 58/1000 [00:23<05:29,  2.85it/s]"
     ]
    },
    {
     "name": "stdout",
     "output_type": "stream",
     "text": [
      "Starting Node: Kebakalan\n",
      "Ending Node: Minecraft\n",
      "Path Length: 6\n",
      "Path Exists: 1\n",
      "Path: ['Kebakalan', 'Indonesia', 'Islam', 'Encyclopædia Britannica', 'Microsoft', 'Minecraft']\n",
      "Starting Node: The Faint\n",
      "Ending Node: Minecraft\n",
      "Path Length: 5\n",
      "Path Exists: 1\n",
      "Path: ['The Faint', 'United States', 'Xbox Game Studios', 'Mojang Studios', 'Minecraft']\n"
     ]
    },
    {
     "name": "stderr",
     "output_type": "stream",
     "text": [
      "\r",
      "Progress:   6%|████▏                                                                 | 59/1000 [00:24<06:44,  2.33it/s]"
     ]
    },
    {
     "name": "stdout",
     "output_type": "stream",
     "text": [
      "Starting Node: Outeniqua Mountains\n",
      "Ending Node: Minecraft\n",
      "Path Length: 6\n",
      "Path Exists: 1\n",
      "Path: ['Outeniqua Mountains', 'Western Cape', 'Atlantic Ocean', 'Earth', 'Microsoft', 'Minecraft']\n"
     ]
    },
    {
     "name": "stderr",
     "output_type": "stream",
     "text": [
      "Progress:   6%|████▎                                                                 | 61/1000 [00:25<05:53,  2.65it/s]"
     ]
    },
    {
     "name": "stdout",
     "output_type": "stream",
     "text": [
      "Starting Node: Roman Catholic Diocese of Calgary\n",
      "Ending Node: Minecraft\n",
      "Path Length: 6\n",
      "Path Exists: 1\n",
      "Path: ['Roman Catholic Diocese of Calgary', 'Canada', 'Atlantic Ocean', 'Earth', 'Microsoft', 'Minecraft']\n",
      "Starting Node: The Valley, Anguilla\n",
      "Ending Node: Minecraft\n",
      "Path Length: 6\n",
      "Path Exists: 1\n",
      "Path: ['The Valley, Anguilla', 'Anguilla', 'Monarchy of the United Kingdom', '2022', 'Microsoft', 'Minecraft']\n"
     ]
    },
    {
     "name": "stderr",
     "output_type": "stream",
     "text": [
      "\r",
      "Progress:   6%|████▎                                                                 | 62/1000 [00:26<07:39,  2.04it/s]"
     ]
    },
    {
     "name": "stdout",
     "output_type": "stream",
     "text": [
      "Starting Node: Rous Cup\n",
      "Ending Node: Minecraft\n",
      "Path Length: 6\n",
      "Path Exists: 1\n",
      "Path: ['Rous Cup', 'England national football team', 'Wembley Stadium (1923)', '1985', 'Microsoft', 'Minecraft']\n"
     ]
    },
    {
     "name": "stderr",
     "output_type": "stream",
     "text": [
      "\r",
      "Progress:   6%|████▍                                                                 | 63/1000 [00:26<07:42,  2.02it/s]"
     ]
    },
    {
     "name": "stdout",
     "output_type": "stream",
     "text": [
      "Starting Node: Héricourt (Haute-Saône)\n",
      "Ending Node: Minecraft\n",
      "Path Length: 5\n",
      "Path Exists: 1\n",
      "Path: ['Héricourt (Haute-Saône)', 'France', 'Greece', '2011', 'Minecraft']\n"
     ]
    },
    {
     "name": "stderr",
     "output_type": "stream",
     "text": [
      "\r",
      "Progress:   6%|████▍                                                                 | 64/1000 [00:27<07:43,  2.02it/s]"
     ]
    },
    {
     "name": "stdout",
     "output_type": "stream",
     "text": [
      "Starting Node: It's the End of the World as We Know It (And I Feel Fine)\n",
      "Ending Node: Minecraft\n",
      "Path Length: 5\n",
      "Path Exists: 1\n",
      "Path: [\"It's the End of the World as We Know It (And I Feel Fine)\", 'Alternative rock', '1990s', 'Microsoft', 'Minecraft']\n"
     ]
    },
    {
     "name": "stderr",
     "output_type": "stream",
     "text": [
      "\r",
      "Progress:   6%|████▌                                                                 | 65/1000 [00:27<07:22,  2.11it/s]"
     ]
    },
    {
     "name": "stdout",
     "output_type": "stream",
     "text": [
      "Starting Node: Lynching postcard\n",
      "Ending Node: Minecraft\n",
      "Path Length: 5\n",
      "Path Exists: 1\n",
      "Path: ['Lynching postcard', 'Racism', '1940', '2011', 'Minecraft']\n"
     ]
    },
    {
     "name": "stderr",
     "output_type": "stream",
     "text": [
      "\r",
      "Progress:   7%|████▌                                                                 | 66/1000 [00:27<07:29,  2.08it/s]"
     ]
    },
    {
     "name": "stdout",
     "output_type": "stream",
     "text": [
      "Starting Node: Canberra\n",
      "Ending Node: Minecraft\n",
      "Path Length: 5\n",
      "Path Exists: 1\n",
      "Path: ['Canberra', 'Australia', 'Greece', '2011', 'Minecraft']\n"
     ]
    },
    {
     "name": "stderr",
     "output_type": "stream",
     "text": [
      "\r",
      "Progress:   7%|████▋                                                                 | 67/1000 [00:28<09:17,  1.67it/s]"
     ]
    },
    {
     "name": "stdout",
     "output_type": "stream",
     "text": [
      "Starting Node: Very important person\n",
      "Ending Node: Minecraft\n",
      "Path Length: 6\n",
      "Path Exists: 1\n",
      "Path: ['Very important person', 'White émigré', 'France', 'Greece', '2011', 'Minecraft']\n"
     ]
    },
    {
     "name": "stderr",
     "output_type": "stream",
     "text": [
      "\r",
      "Progress:   7%|████▊                                                                 | 68/1000 [00:29<08:54,  1.74it/s]"
     ]
    },
    {
     "name": "stdout",
     "output_type": "stream",
     "text": [
      "Starting Node: Lucy Joan Slater\n",
      "Ending Node: Minecraft\n",
      "Path Length: 6\n",
      "Path Exists: 1\n",
      "Path: ['Lucy Joan Slater', 'Fortran', '1954', 'May 21', '2011', 'Minecraft']\n"
     ]
    },
    {
     "name": "stderr",
     "output_type": "stream",
     "text": [
      "\r",
      "Progress:   7%|████▊                                                                 | 69/1000 [00:29<08:36,  1.80it/s]"
     ]
    },
    {
     "name": "stdout",
     "output_type": "stream",
     "text": [
      "Starting Node: Sebastián Rulli\n",
      "Ending Node: Minecraft\n",
      "Path Length: 5\n",
      "Path Exists: 1\n",
      "Path: ['Sebastián Rulli', 'Buenos Aires', '20th century', '2011', 'Minecraft']\n"
     ]
    },
    {
     "name": "stderr",
     "output_type": "stream",
     "text": [
      "\r",
      "Progress:   7%|████▉                                                                 | 70/1000 [00:30<08:58,  1.73it/s]"
     ]
    },
    {
     "name": "stdout",
     "output_type": "stream",
     "text": [
      "Starting Node: Soupex\n",
      "Ending Node: Minecraft\n",
      "Path Length: 5\n",
      "Path Exists: 1\n",
      "Path: ['Soupex', 'France', 'Greece', '2011', 'Minecraft']\n"
     ]
    },
    {
     "name": "stderr",
     "output_type": "stream",
     "text": [
      "\r",
      "Progress:   7%|████▉                                                                 | 71/1000 [00:31<09:00,  1.72it/s]"
     ]
    },
    {
     "name": "stdout",
     "output_type": "stream",
     "text": [
      "Starting Node: Deal barracks bombing\n",
      "Ending Node: Minecraft\n",
      "Path Length: 5\n",
      "Path Exists: 1\n",
      "Path: ['Deal barracks bombing', 'England', 'UEFA Euro 2012', '2011', 'Minecraft']\n"
     ]
    },
    {
     "name": "stderr",
     "output_type": "stream",
     "text": [
      "\r",
      "Progress:   7%|█████                                                                 | 72/1000 [00:31<09:36,  1.61it/s]"
     ]
    },
    {
     "name": "stdout",
     "output_type": "stream",
     "text": [
      "Starting Node: Itawamba County, Mississippi\n",
      "Ending Node: Minecraft\n",
      "Path Length: 6\n",
      "Path Exists: 1\n",
      "Path: ['Itawamba County, Mississippi', 'County (United States)', 'List of counties in Ohio', 'Encyclopædia Britannica', 'Microsoft', 'Minecraft']\n"
     ]
    },
    {
     "name": "stderr",
     "output_type": "stream",
     "text": [
      "\r",
      "Progress:   7%|█████                                                                 | 73/1000 [00:32<08:57,  1.72it/s]"
     ]
    },
    {
     "name": "stdout",
     "output_type": "stream",
     "text": [
      "Starting Node: 1983\n",
      "Ending Node: Minecraft\n",
      "Path Length: 4\n",
      "Path Exists: 1\n",
      "Path: ['1983', 'May 31', '2011', 'Minecraft']\n"
     ]
    },
    {
     "name": "stderr",
     "output_type": "stream",
     "text": [
      "\r",
      "Progress:   7%|█████▏                                                                | 74/1000 [00:32<08:35,  1.79it/s]"
     ]
    },
    {
     "name": "stdout",
     "output_type": "stream",
     "text": [
      "Starting Node: Seventeen Moments of Spring\n",
      "Ending Node: Minecraft\n",
      "Path Length: 6\n",
      "Path Exists: 1\n",
      "Path: ['Seventeen Moments of Spring', 'Yulian Semyonov', 'Moscow', 'Earth', 'Microsoft', 'Minecraft']\n"
     ]
    },
    {
     "name": "stderr",
     "output_type": "stream",
     "text": [
      "\r",
      "Progress:   8%|█████▎                                                                | 75/1000 [00:33<08:19,  1.85it/s]"
     ]
    },
    {
     "name": "stdout",
     "output_type": "stream",
     "text": [
      "Starting Node: Tight end\n",
      "Ending Node: Minecraft\n",
      "Path Length: 6\n",
      "Path Exists: 1\n",
      "Path: ['Tight end', 'Cincinnati Bengals', 'Bengal tiger', 'Siberian tiger', 'Wolf', 'Minecraft']\n"
     ]
    },
    {
     "name": "stderr",
     "output_type": "stream",
     "text": [
      "Progress:   8%|█████▍                                                                | 77/1000 [00:33<05:52,  2.62it/s]"
     ]
    },
    {
     "name": "stdout",
     "output_type": "stream",
     "text": [
      "Starting Node: St. Lawrence Island\n",
      "Ending Node: Minecraft\n",
      "Path Length: 5\n",
      "Path Exists: 1\n",
      "Path: ['St. Lawrence Island', 'Alaska', 'Moose', 'Wolf', 'Minecraft']\n",
      "Starting Node: Mineralnye Vody\n",
      "Ending Node: Minecraft\n",
      "Path Length: 5\n",
      "Path Exists: 1\n",
      "Path: ['Mineralnye Vody', 'Russia', 'Encyclopædia Britannica', 'Microsoft', 'Minecraft']\n"
     ]
    },
    {
     "name": "stderr",
     "output_type": "stream",
     "text": [
      "Progress:   8%|█████▌                                                                | 79/1000 [00:34<05:54,  2.60it/s]"
     ]
    },
    {
     "name": "stdout",
     "output_type": "stream",
     "text": [
      "Starting Node: T. K. Carter\n",
      "Ending Node: Minecraft\n",
      "Path Length: 5\n",
      "Path Exists: 1\n",
      "Path: ['T. K. Carter', 'Actor', 'Greece', '2011', 'Minecraft']\n",
      "Starting Node: Intracerebral hemorrhage\n",
      "Ending Node: Minecraft\n",
      "Path Length: 7\n",
      "Path Exists: 1\n",
      "Path: ['Intracerebral hemorrhage', 'Fever', 'Celsius', 'Antarctica', 'Earth', 'Microsoft', 'Minecraft']\n"
     ]
    },
    {
     "name": "stderr",
     "output_type": "stream",
     "text": [
      "\r",
      "Progress:   8%|█████▌                                                                | 80/1000 [00:35<07:46,  1.97it/s]"
     ]
    },
    {
     "name": "stdout",
     "output_type": "stream",
     "text": [
      "Starting Node: Wichita Dwight D. Eisenhower National Airport\n",
      "Ending Node: Minecraft\n",
      "Path Length: 6\n",
      "Path Exists: 1\n",
      "Path: ['Wichita Dwight D. Eisenhower National Airport', 'Wichita, Kansas', 'Kansas', 'Raccoon', 'Wolf', 'Minecraft']\n"
     ]
    },
    {
     "name": "stderr",
     "output_type": "stream",
     "text": [
      "\r",
      "Progress:   8%|█████▋                                                                | 81/1000 [00:35<08:03,  1.90it/s]"
     ]
    },
    {
     "name": "stdout",
     "output_type": "stream",
     "text": [
      "Starting Node: Dresden, Kansas\n",
      "Ending Node: Minecraft\n",
      "Path Length: 5\n",
      "Path Exists: 1\n",
      "Path: ['Dresden, Kansas', 'Kansas', 'Raccoon', 'Wolf', 'Minecraft']\n"
     ]
    },
    {
     "name": "stderr",
     "output_type": "stream",
     "text": [
      "\r",
      "Progress:   8%|█████▋                                                                | 82/1000 [00:36<08:01,  1.91it/s]"
     ]
    },
    {
     "name": "stdout",
     "output_type": "stream",
     "text": [
      "Starting Node: Villeneuve-la-Comtesse\n",
      "Ending Node: Minecraft\n",
      "Path Length: 5\n",
      "Path Exists: 1\n",
      "Path: ['Villeneuve-la-Comtesse', 'France', 'Greece', '2011', 'Minecraft']\n"
     ]
    },
    {
     "name": "stderr",
     "output_type": "stream",
     "text": [
      "\r",
      "Progress:   8%|█████▊                                                                | 83/1000 [00:37<08:07,  1.88it/s]"
     ]
    },
    {
     "name": "stdout",
     "output_type": "stream",
     "text": [
      "Starting Node: Centese Calcio\n",
      "Ending Node: Minecraft\n",
      "Path Length: 5\n",
      "Path Exists: 1\n",
      "Path: ['Centese Calcio', 'Italy', 'Mario Draghi', 'Mario', 'Minecraft']\n"
     ]
    },
    {
     "name": "stderr",
     "output_type": "stream",
     "text": [
      "Progress:   8%|█████▉                                                                | 85/1000 [00:37<07:09,  2.13it/s]"
     ]
    },
    {
     "name": "stdout",
     "output_type": "stream",
     "text": [
      "Starting Node: Crittenden County, Arkansas\n",
      "Ending Node: Minecraft\n",
      "Path Length: 6\n",
      "Path Exists: 1\n",
      "Path: ['Crittenden County, Arkansas', 'County (United States)', 'List of counties in Ohio', 'Encyclopædia Britannica', 'Microsoft', 'Minecraft']\n",
      "Starting Node: Galle\n",
      "Ending Node: Minecraft\n",
      "Path Length: 5\n",
      "Path Exists: 1\n",
      "Path: ['Galle', 'UNESCO', '1945', '2011', 'Minecraft']\n"
     ]
    },
    {
     "name": "stderr",
     "output_type": "stream",
     "text": [
      "\r",
      "Progress:   9%|██████                                                                | 86/1000 [00:38<06:59,  2.18it/s]"
     ]
    },
    {
     "name": "stdout",
     "output_type": "stream",
     "text": [
      "Starting Node: White Rock, British Columbia\n",
      "Ending Node: Minecraft\n",
      "Path Length: 6\n",
      "Path Exists: 1\n",
      "Path: ['White Rock, British Columbia', 'Conservative Party of Canada', 'Blue', 'Earth', 'Microsoft', 'Minecraft']\n"
     ]
    },
    {
     "name": "stderr",
     "output_type": "stream",
     "text": [
      "\r",
      "Progress:   9%|██████                                                                | 87/1000 [00:39<08:12,  1.86it/s]"
     ]
    },
    {
     "name": "stdout",
     "output_type": "stream",
     "text": [
      "Starting Node: Maisons-Laffitte\n",
      "Ending Node: Minecraft\n",
      "Path Length: 5\n",
      "Path Exists: 1\n",
      "Path: ['Maisons-Laffitte', 'France', 'Greece', '2011', 'Minecraft']\n"
     ]
    },
    {
     "name": "stderr",
     "output_type": "stream",
     "text": [
      "\r",
      "Progress:   9%|██████▏                                                               | 88/1000 [00:39<07:26,  2.04it/s]"
     ]
    },
    {
     "name": "stdout",
     "output_type": "stream",
     "text": [
      "Starting Node: B.O.C Road\n",
      "Ending Node: Minecraft\n",
      "Path Length: 5\n",
      "Path Exists: 1\n",
      "Path: ['B.O.C Road', 'India', 'Encyclopædia Britannica', 'Microsoft', 'Minecraft']\n"
     ]
    },
    {
     "name": "stderr",
     "output_type": "stream",
     "text": [
      "Progress:   9%|██████▎                                                               | 90/1000 [00:40<05:39,  2.68it/s]"
     ]
    },
    {
     "name": "stdout",
     "output_type": "stream",
     "text": [
      "Starting Node: List of U.S. state ships\n",
      "Ending Node: Minecraft\n",
      "Path Length: 5\n",
      "Path Exists: 1\n",
      "Path: ['List of U.S. state ships', 'Texas', 'Technology company', 'Microsoft', 'Minecraft']\n",
      "Starting Node: Elle (magazine)\n",
      "Ending Node: Minecraft\n",
      "Path Length: 4\n",
      "Path Exists: 1\n",
      "Path: ['Elle (magazine)', 'Greece', '2011', 'Minecraft']\n"
     ]
    },
    {
     "name": "stderr",
     "output_type": "stream",
     "text": [
      "\r",
      "Progress:   9%|██████▎                                                               | 91/1000 [00:40<05:41,  2.67it/s]"
     ]
    },
    {
     "name": "stdout",
     "output_type": "stream",
     "text": [
      "Starting Node: Tage Erlander\n",
      "Ending Node: Minecraft\n",
      "Path Length: 5\n",
      "Path Exists: 1\n",
      "Path: ['Tage Erlander', 'Swedish Social Democratic Party', '2006', '2011', 'Minecraft']\n",
      "Starting Node: 67 (number)\n",
      "Ending Node: Minecraft\n",
      "Path Exists: 0\n"
     ]
    },
    {
     "name": "stderr",
     "output_type": "stream",
     "text": [
      "\r",
      "Progress:   9%|██████▌                                                               | 93/1000 [00:40<04:04,  3.71it/s]"
     ]
    },
    {
     "name": "stdout",
     "output_type": "stream",
     "text": [
      "Starting Node: Gruiformes\n",
      "Ending Node: Minecraft\n",
      "Path Length: 5\n",
      "Path Exists: 1\n",
      "Path: ['Gruiformes', 'Animal', 'Earth', 'Microsoft', 'Minecraft']\n",
      "Starting Node: Break in the Circle\n",
      "Ending Node: Minecraft\n",
      "Path Exists: 0\n"
     ]
    },
    {
     "name": "stderr",
     "output_type": "stream",
     "text": [
      "\r",
      "Progress:  10%|██████▋                                                               | 95/1000 [00:41<03:49,  3.95it/s]"
     ]
    },
    {
     "name": "stdout",
     "output_type": "stream",
     "text": [
      "Starting Node: Stora Vika\n",
      "Ending Node: Minecraft\n",
      "Path Length: 5\n",
      "Path Exists: 1\n",
      "Path: ['Stora Vika', 'Sweden', '1995', 'Microsoft', 'Minecraft']\n"
     ]
    },
    {
     "name": "stderr",
     "output_type": "stream",
     "text": [
      "\r",
      "Progress:  10%|██████▋                                                               | 96/1000 [00:41<04:09,  3.63it/s]"
     ]
    },
    {
     "name": "stdout",
     "output_type": "stream",
     "text": [
      "Starting Node: Margaret of Valois\n",
      "Ending Node: Minecraft\n",
      "Path Length: 5\n",
      "Path Exists: 1\n",
      "Path: ['Margaret of Valois', 'Henry II of France', 'October 28', '2011', 'Minecraft']\n"
     ]
    },
    {
     "name": "stderr",
     "output_type": "stream",
     "text": [
      "\r",
      "Progress:  10%|██████▊                                                               | 97/1000 [00:41<04:29,  3.35it/s]"
     ]
    },
    {
     "name": "stdout",
     "output_type": "stream",
     "text": [
      "Starting Node: Arkose\n",
      "Ending Node: Minecraft\n",
      "Path Length: 6\n",
      "Path Exists: 1\n",
      "Path: ['Arkose', 'Neoproterozoic', 'Rodinia', 'Earth', 'Microsoft', 'Minecraft']\n"
     ]
    },
    {
     "name": "stderr",
     "output_type": "stream",
     "text": [
      "\r",
      "Progress:  10%|██████▊                                                               | 98/1000 [00:42<05:27,  2.75it/s]"
     ]
    },
    {
     "name": "stdout",
     "output_type": "stream",
     "text": [
      "Starting Node: Flagey, Doubs\n",
      "Ending Node: Minecraft\n",
      "Path Length: 5\n",
      "Path Exists: 1\n",
      "Path: ['Flagey, Doubs', 'France', 'Greece', '2011', 'Minecraft']\n"
     ]
    },
    {
     "name": "stderr",
     "output_type": "stream",
     "text": [
      "\r",
      "Progress:  10%|██████▉                                                               | 99/1000 [00:43<05:57,  2.52it/s]"
     ]
    },
    {
     "name": "stdout",
     "output_type": "stream",
     "text": [
      "Starting Node: Seong Hon\n",
      "Ending Node: Minecraft\n",
      "Path Length: 6\n",
      "Path Exists: 1\n",
      "Path: ['Seong Hon', 'Kim Jang-saeng', 'Korea', 'Pyongyang', '2011', 'Minecraft']\n"
     ]
    },
    {
     "name": "stderr",
     "output_type": "stream",
     "text": [
      "Progress:  10%|██████▉                                                              | 101/1000 [00:43<04:55,  3.04it/s]"
     ]
    },
    {
     "name": "stdout",
     "output_type": "stream",
     "text": [
      "Starting Node: Sofia Stefan\n",
      "Ending Node: Minecraft\n",
      "Path Length: 5\n",
      "Path Exists: 1\n",
      "Path: ['Sofia Stefan', 'Italy', 'Mario Draghi', 'Mario', 'Minecraft']\n",
      "Starting Node: Hikaru Shida\n",
      "Ending Node: Minecraft\n",
      "Path Length: 4\n",
      "Path Exists: 1\n",
      "Path: ['Hikaru Shida', 'YouTube', 'MrBeast', 'Minecraft']\n"
     ]
    },
    {
     "name": "stderr",
     "output_type": "stream",
     "text": [
      "\r",
      "Progress:  10%|███████                                                              | 102/1000 [00:44<06:53,  2.17it/s]"
     ]
    },
    {
     "name": "stdout",
     "output_type": "stream",
     "text": [
      "Starting Node: Anan Ameri\n",
      "Ending Node: Minecraft\n",
      "Path Length: 6\n",
      "Path Exists: 1\n",
      "Path: ['Anan Ameri', 'Americans', 'France', 'Greece', '2011', 'Minecraft']\n"
     ]
    },
    {
     "name": "stderr",
     "output_type": "stream",
     "text": [
      "\r",
      "Progress:  10%|███████                                                              | 103/1000 [00:44<06:59,  2.14it/s]"
     ]
    },
    {
     "name": "stdout",
     "output_type": "stream",
     "text": [
      "Starting Node: The Cured\n",
      "Ending Node: Minecraft\n",
      "Path Length: 5\n",
      "Path Exists: 1\n",
      "Path: ['The Cured', 'France', 'Greece', '2011', 'Minecraft']\n"
     ]
    },
    {
     "name": "stderr",
     "output_type": "stream",
     "text": [
      "\r",
      "Progress:  10%|███████▏                                                             | 104/1000 [00:45<07:24,  2.02it/s]"
     ]
    },
    {
     "name": "stdout",
     "output_type": "stream",
     "text": [
      "Starting Node: Merritt Wever\n",
      "Ending Node: Minecraft\n",
      "Path Length: 6\n",
      "Path Exists: 1\n",
      "Path: ['Merritt Wever', 'Manhattan', 'Poland', 'Earth', 'Microsoft', 'Minecraft']\n"
     ]
    },
    {
     "name": "stderr",
     "output_type": "stream",
     "text": [
      "\r",
      "Progress:  10%|███████▏                                                             | 105/1000 [00:46<08:50,  1.69it/s]"
     ]
    },
    {
     "name": "stdout",
     "output_type": "stream",
     "text": [
      "Starting Node: Coudray-Rabut\n",
      "Ending Node: Minecraft\n",
      "Path Length: 5\n",
      "Path Exists: 1\n",
      "Path: ['Coudray-Rabut', 'France', 'Greece', '2011', 'Minecraft']\n",
      "Starting Node: Rettenbach am Auerberg\n",
      "Ending Node: Minecraft\n",
      "Path Length: 5\n",
      "Path Exists: 1\n",
      "Path: ['Rettenbach am Auerberg', 'Bavaria', 'Santa Claus', 'Microsoft', 'Minecraft']\n"
     ]
    },
    {
     "name": "stderr",
     "output_type": "stream",
     "text": [
      "Progress:  11%|███████▍                                                             | 108/1000 [00:47<06:17,  2.37it/s]"
     ]
    },
    {
     "name": "stdout",
     "output_type": "stream",
     "text": [
      "Starting Node: Katano\n",
      "Ending Node: Minecraft\n",
      "Path Length: 5\n",
      "Path Exists: 1\n",
      "Path: ['Katano', 'Japan', 'Nintendo', 'Microsoft', 'Minecraft']\n",
      "Starting Node: Mastering (audio)\n",
      "Ending Node: Minecraft\n",
      "Path Length: 5\n",
      "Path Exists: 1\n",
      "Path: ['Mastering (audio)', 'Digital', 'Computer', 'Microsoft', 'Minecraft']\n"
     ]
    },
    {
     "name": "stderr",
     "output_type": "stream",
     "text": [
      "\r",
      "Progress:  11%|███████▌                                                             | 109/1000 [00:47<06:13,  2.39it/s]"
     ]
    },
    {
     "name": "stdout",
     "output_type": "stream",
     "text": [
      "Starting Node: 1640\n",
      "Ending Node: Minecraft\n",
      "Path Length: 5\n",
      "Path Exists: 1\n",
      "Path: ['1640', 'Finland', 'Nokia, Finland', 'Microsoft', 'Minecraft']\n"
     ]
    },
    {
     "name": "stderr",
     "output_type": "stream",
     "text": [
      "Progress:  11%|███████▋                                                             | 111/1000 [00:48<05:12,  2.85it/s]"
     ]
    },
    {
     "name": "stdout",
     "output_type": "stream",
     "text": [
      "Starting Node: Bow (ship)\n",
      "Ending Node: Minecraft\n",
      "Path Length: 5\n",
      "Path Exists: 1\n",
      "Path: ['Bow (ship)', 'England', 'UEFA Euro 2012', '2011', 'Minecraft']\n",
      "Starting Node: Ajit Jogi\n",
      "Ending Node: Minecraft\n",
      "Path Length: 5\n",
      "Path Exists: 1\n",
      "Path: ['Ajit Jogi', 'India', 'Encyclopædia Britannica', 'Microsoft', 'Minecraft']\n"
     ]
    },
    {
     "name": "stderr",
     "output_type": "stream",
     "text": [
      "Progress:  11%|███████▊                                                             | 113/1000 [00:48<05:08,  2.88it/s]"
     ]
    },
    {
     "name": "stdout",
     "output_type": "stream",
     "text": [
      "Starting Node: Tri dnya Viktora Chernyshova\n",
      "Ending Node: Minecraft\n",
      "Path Length: 6\n",
      "Path Exists: 1\n",
      "Path: ['Tri dnya Viktora Chernyshova', 'Soviet Union', 'Lake Baikal', 'Earth', 'Microsoft', 'Minecraft']\n",
      "Starting Node: Daymark\n",
      "Ending Node: Minecraft\n",
      "Path Length: 5\n",
      "Path Exists: 1\n",
      "Path: ['Daymark', 'Navigation', 'Earth', 'Microsoft', 'Minecraft']\n"
     ]
    },
    {
     "name": "stderr",
     "output_type": "stream",
     "text": [
      "\r",
      "Progress:  11%|███████▊                                                             | 114/1000 [00:49<06:29,  2.27it/s]"
     ]
    },
    {
     "name": "stdout",
     "output_type": "stream",
     "text": [
      "Starting Node: Malik Ata Muhammad Khan\n",
      "Ending Node: Minecraft\n",
      "Path Length: 6\n",
      "Path Exists: 1\n",
      "Path: ['Malik Ata Muhammad Khan', 'Urdu', 'Turkish language', 'Greece', '2011', 'Minecraft']\n"
     ]
    },
    {
     "name": "stderr",
     "output_type": "stream",
     "text": [
      "\r",
      "Progress:  12%|███████▉                                                             | 115/1000 [00:50<09:04,  1.62it/s]"
     ]
    },
    {
     "name": "stdout",
     "output_type": "stream",
     "text": [
      "Starting Node: Cash McCall\n",
      "Ending Node: Minecraft\n",
      "Path Length: 6\n",
      "Path Exists: 1\n",
      "Path: ['Cash McCall', 'Nina Foch', 'Dutch people', '2000', 'Microsoft', 'Minecraft']\n"
     ]
    },
    {
     "name": "stderr",
     "output_type": "stream",
     "text": [
      "\r",
      "Progress:  12%|████████                                                             | 116/1000 [00:51<08:25,  1.75it/s]"
     ]
    },
    {
     "name": "stdout",
     "output_type": "stream",
     "text": [
      "Starting Node: Rimini FC 1912\n",
      "Ending Node: Minecraft\n",
      "Path Length: 5\n",
      "Path Exists: 1\n",
      "Path: ['Rimini FC 1912', 'Italy', 'Mario Draghi', 'Mario', 'Minecraft']\n"
     ]
    },
    {
     "name": "stderr",
     "output_type": "stream",
     "text": [
      "\r",
      "Progress:  12%|████████                                                             | 117/1000 [00:51<08:02,  1.83it/s]"
     ]
    },
    {
     "name": "stdout",
     "output_type": "stream",
     "text": [
      "Starting Node: Portrait\n",
      "Ending Node: Minecraft\n",
      "Path Length: 6\n",
      "Path Exists: 1\n",
      "Path: ['Portrait', 'William Orpen', 'World War I', '1917', '2011', 'Minecraft']\n",
      "Starting Node: Helen B. Taussig\n",
      "Ending Node: Minecraft\n",
      "Path Length: 5\n",
      "Path Exists: 1\n",
      "Path: ['Helen B. Taussig', 'Cambridge, Massachusetts', 'Harvard University', 'Microsoft', 'Minecraft']\n"
     ]
    },
    {
     "name": "stderr",
     "output_type": "stream",
     "text": [
      "\r",
      "Progress:  12%|████████▏                                                            | 119/1000 [00:52<06:34,  2.23it/s]"
     ]
    },
    {
     "name": "stdout",
     "output_type": "stream",
     "text": [
      "Starting Node: Savona FBC\n",
      "Ending Node: Minecraft\n",
      "Path Length: 5\n",
      "Path Exists: 1\n",
      "Path: ['Savona FBC', 'Italy', 'Mario Draghi', 'Mario', 'Minecraft']\n"
     ]
    },
    {
     "name": "stderr",
     "output_type": "stream",
     "text": [
      "\r",
      "Progress:  12%|████████▎                                                            | 120/1000 [00:53<07:36,  1.93it/s]"
     ]
    },
    {
     "name": "stdout",
     "output_type": "stream",
     "text": [
      "Starting Node: Valea Voenilor River\n",
      "Ending Node: Minecraft\n",
      "Path Length: 5\n",
      "Path Exists: 1\n",
      "Path: ['Valea Voenilor River', 'Arad County', 'Vest (development region)', '2011', 'Minecraft']\n"
     ]
    },
    {
     "name": "stderr",
     "output_type": "stream",
     "text": [
      "\r",
      "Progress:  12%|████████▎                                                            | 121/1000 [00:53<07:28,  1.96it/s]"
     ]
    },
    {
     "name": "stdout",
     "output_type": "stream",
     "text": [
      "Starting Node: Möhlin\n",
      "Ending Node: Minecraft\n",
      "Path Length: 5\n",
      "Path Exists: 1\n",
      "Path: ['Möhlin', 'Cantons of Switzerland', '2001', 'Microsoft', 'Minecraft']\n"
     ]
    },
    {
     "name": "stderr",
     "output_type": "stream",
     "text": [
      "\r",
      "Progress:  12%|████████▍                                                            | 122/1000 [00:53<07:19,  2.00it/s]"
     ]
    },
    {
     "name": "stdout",
     "output_type": "stream",
     "text": [
      "Starting Node: Most (city)\n",
      "Ending Node: Minecraft\n",
      "Path Length: 6\n",
      "Path Exists: 1\n",
      "Path: ['Most (city)', 'Central European Summer Time', 'Antarctica', 'Earth', 'Microsoft', 'Minecraft']\n"
     ]
    },
    {
     "name": "stderr",
     "output_type": "stream",
     "text": [
      "\r",
      "Progress:  12%|████████▍                                                            | 123/1000 [00:54<06:51,  2.13it/s]"
     ]
    },
    {
     "name": "stdout",
     "output_type": "stream",
     "text": [
      "Starting Node: Kentucky State University\n",
      "Ending Node: Minecraft\n",
      "Path Length: 5\n",
      "Path Exists: 1\n",
      "Path: ['Kentucky State University', 'Frankfort, Kentucky', 'December 8', '2011', 'Minecraft']\n"
     ]
    },
    {
     "name": "stderr",
     "output_type": "stream",
     "text": [
      "\r",
      "Progress:  12%|████████▌                                                            | 124/1000 [00:54<07:08,  2.05it/s]"
     ]
    },
    {
     "name": "stdout",
     "output_type": "stream",
     "text": [
      "Starting Node: Prairie County, Arkansas\n",
      "Ending Node: Minecraft\n",
      "Path Length: 6\n",
      "Path Exists: 1\n",
      "Path: ['Prairie County, Arkansas', 'County (United States)', 'List of counties in Ohio', 'Encyclopædia Britannica', 'Microsoft', 'Minecraft']\n"
     ]
    },
    {
     "name": "stderr",
     "output_type": "stream",
     "text": [
      "\r",
      "Progress:  12%|████████▋                                                            | 125/1000 [00:55<07:07,  2.05it/s]"
     ]
    },
    {
     "name": "stdout",
     "output_type": "stream",
     "text": [
      "Starting Node: Belgorod Oblast\n",
      "Ending Node: Minecraft\n",
      "Path Length: 5\n",
      "Path Exists: 1\n",
      "Path: ['Belgorod Oblast', 'Temperate climate', 'Earth', 'Microsoft', 'Minecraft']\n"
     ]
    },
    {
     "name": "stderr",
     "output_type": "stream",
     "text": [
      "\r",
      "Progress:  13%|████████▋                                                            | 126/1000 [00:55<07:06,  2.05it/s]"
     ]
    },
    {
     "name": "stdout",
     "output_type": "stream",
     "text": [
      "Starting Node: Sinton, Texas\n",
      "Ending Node: Minecraft\n",
      "Path Length: 5\n",
      "Path Exists: 1\n",
      "Path: ['Sinton, Texas', 'City', 'Greece', '2011', 'Minecraft']\n"
     ]
    },
    {
     "name": "stderr",
     "output_type": "stream",
     "text": [
      "\r",
      "Progress:  13%|████████▊                                                            | 127/1000 [00:56<07:21,  1.98it/s]"
     ]
    },
    {
     "name": "stdout",
     "output_type": "stream",
     "text": [
      "Starting Node: Flotwedel\n",
      "Ending Node: Minecraft\n",
      "Path Length: 6\n",
      "Path Exists: 1\n",
      "Path: ['Flotwedel', 'Germany', 'Homelessness', 'YouTube', 'MrBeast', 'Minecraft']\n"
     ]
    },
    {
     "name": "stderr",
     "output_type": "stream",
     "text": [
      "\r",
      "Progress:  13%|████████▊                                                            | 128/1000 [00:56<06:55,  2.10it/s]"
     ]
    },
    {
     "name": "stdout",
     "output_type": "stream",
     "text": [
      "Starting Node: Sertoli cell\n",
      "Ending Node: Minecraft\n",
      "Path Length: 5\n",
      "Path Exists: 1\n",
      "Path: ['Sertoli cell', 'Italy', 'Mario Draghi', 'Mario', 'Minecraft']\n"
     ]
    },
    {
     "name": "stderr",
     "output_type": "stream",
     "text": [
      "\r",
      "Progress:  13%|████████▉                                                            | 129/1000 [00:57<06:33,  2.21it/s]"
     ]
    },
    {
     "name": "stdout",
     "output_type": "stream",
     "text": [
      "Starting Node: Alfre Woodard\n",
      "Ending Node: Minecraft\n",
      "Path Length: 5\n",
      "Path Exists: 1\n",
      "Path: ['Alfre Woodard', 'True Blood', 'Anna Paquin', '2011', 'Minecraft']\n"
     ]
    },
    {
     "name": "stderr",
     "output_type": "stream",
     "text": [
      "\r",
      "Progress:  13%|████████▉                                                            | 130/1000 [00:58<09:01,  1.61it/s]"
     ]
    },
    {
     "name": "stdout",
     "output_type": "stream",
     "text": [
      "Starting Node: Brian Matthew\n",
      "Ending Node: Minecraft\n",
      "Path Length: 5\n",
      "Path Exists: 1\n",
      "Path: ['Brian Matthew', 'England', 'UEFA Euro 2012', '2011', 'Minecraft']\n"
     ]
    },
    {
     "name": "stderr",
     "output_type": "stream",
     "text": [
      "\r",
      "Progress:  13%|█████████                                                            | 131/1000 [00:58<08:33,  1.69it/s]"
     ]
    },
    {
     "name": "stdout",
     "output_type": "stream",
     "text": [
      "Starting Node: Amphitheatre\n",
      "Ending Node: Minecraft\n",
      "Path Length: 6\n",
      "Path Exists: 1\n",
      "Path: ['Amphitheatre', 'Arena', 'United States', 'Xbox Game Studios', 'Mojang Studios', 'Minecraft']\n",
      "Starting Node: Respiration\n",
      "Ending Node: Minecraft\n",
      "Path Length: 6\n",
      "Path Exists: 1\n",
      "Path: ['Respiration', 'Cellular respiration', 'Carbon dioxide', 'Earth', 'Microsoft', 'Minecraft']\n"
     ]
    },
    {
     "name": "stderr",
     "output_type": "stream",
     "text": [
      "\r",
      "Progress:  13%|█████████▏                                                           | 133/1000 [00:59<06:19,  2.28it/s]"
     ]
    },
    {
     "name": "stdout",
     "output_type": "stream",
     "text": [
      "Starting Node: Ian Stevenson\n",
      "Ending Node: Minecraft\n",
      "Path Length: 5\n",
      "Path Exists: 1\n",
      "Path: ['Ian Stevenson', 'Reincarnation', 'Earth', 'Microsoft', 'Minecraft']\n"
     ]
    },
    {
     "name": "stderr",
     "output_type": "stream",
     "text": [
      "\r",
      "Progress:  13%|█████████▏                                                           | 134/1000 [00:59<06:02,  2.39it/s]"
     ]
    },
    {
     "name": "stdout",
     "output_type": "stream",
     "text": [
      "Starting Node: List of leaders of North Korea\n",
      "Ending Node: Minecraft\n",
      "Path Length: 5\n",
      "Path Exists: 1\n",
      "Path: ['List of leaders of North Korea', 'Residences of North Korean leaders', 'Pyongyang', '2011', 'Minecraft']\n"
     ]
    },
    {
     "name": "stderr",
     "output_type": "stream",
     "text": [
      "\r",
      "Progress:  14%|█████████▎                                                           | 135/1000 [01:00<06:47,  2.12it/s]"
     ]
    },
    {
     "name": "stdout",
     "output_type": "stream",
     "text": [
      "Starting Node: Escoussens\n",
      "Ending Node: Minecraft\n",
      "Path Length: 5\n",
      "Path Exists: 1\n",
      "Path: ['Escoussens', 'France', 'Greece', '2011', 'Minecraft']\n"
     ]
    },
    {
     "name": "stderr",
     "output_type": "stream",
     "text": [
      "\r",
      "Progress:  14%|█████████▍                                                           | 136/1000 [01:00<06:09,  2.34it/s]"
     ]
    },
    {
     "name": "stdout",
     "output_type": "stream",
     "text": [
      "Starting Node: Lucas Lira\n",
      "Ending Node: Minecraft\n",
      "Path Length: 4\n",
      "Path Exists: 1\n",
      "Path: ['Lucas Lira', 'YouTube', 'MrBeast', 'Minecraft']\n"
     ]
    },
    {
     "name": "stderr",
     "output_type": "stream",
     "text": [
      "\r",
      "Progress:  14%|█████████▍                                                           | 137/1000 [01:01<07:25,  1.94it/s]"
     ]
    },
    {
     "name": "stdout",
     "output_type": "stream",
     "text": [
      "Starting Node: New Synagogue (Berlin)\n",
      "Ending Node: Minecraft\n",
      "Path Length: 5\n",
      "Path Exists: 1\n",
      "Path: ['New Synagogue (Berlin)', 'Berlin', '1945', '2011', 'Minecraft']\n"
     ]
    },
    {
     "name": "stderr",
     "output_type": "stream",
     "text": [
      "\r",
      "Progress:  14%|█████████▌                                                           | 138/1000 [01:01<07:24,  1.94it/s]"
     ]
    },
    {
     "name": "stdout",
     "output_type": "stream",
     "text": [
      "Starting Node: Ascoli Piceno\n",
      "Ending Node: Minecraft\n",
      "Path Length: 5\n",
      "Path Exists: 1\n",
      "Path: ['Ascoli Piceno', 'Italian language', 'Greece', '2011', 'Minecraft']\n"
     ]
    },
    {
     "name": "stderr",
     "output_type": "stream",
     "text": [
      "\r",
      "Progress:  14%|█████████▌                                                           | 139/1000 [01:02<07:27,  1.92it/s]"
     ]
    },
    {
     "name": "stdout",
     "output_type": "stream",
     "text": [
      "Starting Node: Early Norwegian black metal scene\n",
      "Ending Node: Minecraft\n",
      "Path Length: 5\n",
      "Path Exists: 1\n",
      "Path: ['Early Norwegian black metal scene', 'Norway', '20th century', '2011', 'Minecraft']\n"
     ]
    },
    {
     "name": "stderr",
     "output_type": "stream",
     "text": [
      "\r",
      "Progress:  14%|█████████▋                                                           | 140/1000 [01:03<08:24,  1.70it/s]"
     ]
    },
    {
     "name": "stdout",
     "output_type": "stream",
     "text": [
      "Starting Node: Princess Amelia of the United Kingdom\n",
      "Ending Node: Minecraft\n",
      "Path Length: 6\n",
      "Path Exists: 1\n",
      "Path: ['Princess Amelia of the United Kingdom', 'Caroline of Ansbach', 'History', '20th century', '2011', 'Minecraft']\n"
     ]
    },
    {
     "name": "stderr",
     "output_type": "stream",
     "text": [
      "\r",
      "Progress:  14%|█████████▋                                                           | 141/1000 [01:03<08:48,  1.63it/s]"
     ]
    },
    {
     "name": "stdout",
     "output_type": "stream",
     "text": [
      "Starting Node: Barnstable, Massachusetts\n",
      "Ending Node: Minecraft\n",
      "Path Length: 5\n",
      "Path Exists: 1\n",
      "Path: ['Barnstable, Massachusetts', 'Massachusetts', 'Harvard University', 'Microsoft', 'Minecraft']\n"
     ]
    },
    {
     "name": "stderr",
     "output_type": "stream",
     "text": [
      "\r",
      "Progress:  14%|█████████▊                                                           | 142/1000 [01:04<08:55,  1.60it/s]"
     ]
    },
    {
     "name": "stdout",
     "output_type": "stream",
     "text": [
      "Starting Node: St John Ambulance\n",
      "Ending Node: Minecraft\n",
      "Path Length: 5\n",
      "Path Exists: 1\n",
      "Path: ['St John Ambulance', 'Australia', 'Greece', '2011', 'Minecraft']\n"
     ]
    },
    {
     "name": "stderr",
     "output_type": "stream",
     "text": [
      "\r",
      "Progress:  14%|█████████▊                                                           | 143/1000 [01:05<09:04,  1.57it/s]"
     ]
    },
    {
     "name": "stdout",
     "output_type": "stream",
     "text": [
      "Starting Node: François Vatel\n",
      "Ending Node: Minecraft\n",
      "Path Length: 6\n",
      "Path Exists: 1\n",
      "Path: ['François Vatel', 'Suicide', 'Homelessness', 'YouTube', 'MrBeast', 'Minecraft']\n"
     ]
    },
    {
     "name": "stderr",
     "output_type": "stream",
     "text": [
      "\r",
      "Progress:  14%|█████████▉                                                           | 144/1000 [01:05<08:46,  1.63it/s]"
     ]
    },
    {
     "name": "stdout",
     "output_type": "stream",
     "text": [
      "Starting Node: National Medal of Science\n",
      "Ending Node: Minecraft\n",
      "Path Length: 6\n",
      "Path Exists: 1\n",
      "Path: ['National Medal of Science', 'President of the United States', 'Constitution of the United States', 'March 4', '2011', 'Minecraft']\n"
     ]
    },
    {
     "name": "stderr",
     "output_type": "stream",
     "text": [
      "\r",
      "Progress:  14%|██████████                                                           | 145/1000 [01:06<08:09,  1.75it/s]"
     ]
    },
    {
     "name": "stdout",
     "output_type": "stream",
     "text": [
      "Starting Node: Aesch, Lucerne\n",
      "Ending Node: Minecraft\n",
      "Path Length: 5\n",
      "Path Exists: 1\n",
      "Path: ['Aesch, Lucerne', 'Cantons of Switzerland', '2001', 'Microsoft', 'Minecraft']\n",
      "Starting Node: MacOS Monterey\n",
      "Ending Node: Minecraft\n",
      "Path Length: 5\n",
      "Path Exists: 1\n",
      "Path: ['MacOS Monterey', 'Berkeley Software Distribution', 'PlayStation 3', 'Microsoft', 'Minecraft']\n"
     ]
    },
    {
     "name": "stderr",
     "output_type": "stream",
     "text": [
      "\r",
      "Progress:  15%|██████████▏                                                          | 147/1000 [01:06<06:04,  2.34it/s]"
     ]
    },
    {
     "name": "stdout",
     "output_type": "stream",
     "text": [
      "Starting Node: Kit Symons\n",
      "Ending Node: Minecraft\n",
      "Path Length: 5\n",
      "Path Exists: 1\n",
      "Path: ['Kit Symons', 'England', 'UEFA Euro 2012', '2011', 'Minecraft']\n"
     ]
    },
    {
     "name": "stderr",
     "output_type": "stream",
     "text": [
      "\r",
      "Progress:  15%|██████████▏                                                          | 148/1000 [01:07<07:07,  1.99it/s]"
     ]
    },
    {
     "name": "stdout",
     "output_type": "stream",
     "text": [
      "Starting Node: Mühldorf (district)\n",
      "Ending Node: Minecraft\n",
      "Path Length: 6\n",
      "Path Exists: 1\n",
      "Path: ['Mühldorf (district)', 'Aschau am Inn', 'Bavaria', 'Santa Claus', 'Microsoft', 'Minecraft']\n"
     ]
    },
    {
     "name": "stderr",
     "output_type": "stream",
     "text": [
      "\r",
      "Progress:  15%|██████████▎                                                          | 149/1000 [01:07<06:56,  2.04it/s]"
     ]
    },
    {
     "name": "stdout",
     "output_type": "stream",
     "text": [
      "Starting Node: Always (Erasure song)\n",
      "Ending Node: Minecraft\n",
      "Path Length: 6\n",
      "Path Exists: 1\n",
      "Path: ['Always (Erasure song)', 'Europop', 'Europe', 'Greece', '2011', 'Minecraft']\n"
     ]
    },
    {
     "name": "stderr",
     "output_type": "stream",
     "text": [
      "\r",
      "Progress:  15%|██████████▎                                                          | 150/1000 [01:08<07:04,  2.00it/s]"
     ]
    },
    {
     "name": "stdout",
     "output_type": "stream",
     "text": [
      "Starting Node: Bjurholm Municipality\n",
      "Ending Node: Minecraft\n",
      "Path Length: 5\n",
      "Path Exists: 1\n",
      "Path: ['Bjurholm Municipality', 'Sweden', '1995', 'Microsoft', 'Minecraft']\n"
     ]
    },
    {
     "name": "stderr",
     "output_type": "stream",
     "text": [
      "Progress:  15%|██████████▍                                                          | 152/1000 [01:09<05:34,  2.53it/s]"
     ]
    },
    {
     "name": "stdout",
     "output_type": "stream",
     "text": [
      "Starting Node: Rose (disambiguation)\n",
      "Ending Node: Minecraft\n",
      "Path Length: 5\n",
      "Path Exists: 1\n",
      "Path: ['Rose (disambiguation)', 'John F. Kennedy', 'Harvard University', 'Microsoft', 'Minecraft']\n",
      "Starting Node: University of Wollongong\n",
      "Ending Node: Minecraft\n",
      "Path Length: 5\n",
      "Path Exists: 1\n",
      "Path: ['University of Wollongong', 'United Arab Emirates', 'Earth', 'Microsoft', 'Minecraft']\n"
     ]
    },
    {
     "name": "stderr",
     "output_type": "stream",
     "text": [
      "\r",
      "Progress:  15%|██████████▌                                                          | 153/1000 [01:09<07:13,  1.95it/s]"
     ]
    },
    {
     "name": "stdout",
     "output_type": "stream",
     "text": [
      "Starting Node: Huliaipole\n",
      "Ending Node: Minecraft\n",
      "Path Length: 5\n",
      "Path Exists: 1\n",
      "Path: ['Huliaipole', 'Russo-Ukrainian War', 'January 17', '2011', 'Minecraft']\n"
     ]
    },
    {
     "name": "stderr",
     "output_type": "stream",
     "text": [
      "Progress:  16%|██████████▋                                                          | 155/1000 [01:10<06:03,  2.32it/s]"
     ]
    },
    {
     "name": "stdout",
     "output_type": "stream",
     "text": [
      "Starting Node: Ruth Gruber\n",
      "Ending Node: Minecraft\n",
      "Path Length: 5\n",
      "Path Exists: 1\n",
      "Path: ['Ruth Gruber', 'World War II', 'Greece', '2011', 'Minecraft']\n",
      "Starting Node: Frederick B. Dent\n",
      "Ending Node: Minecraft\n",
      "Path Length: 5\n",
      "Path Exists: 1\n",
      "Path: ['Frederick B. Dent', 'Politician', '20th century', '2011', 'Minecraft']\n"
     ]
    },
    {
     "name": "stderr",
     "output_type": "stream",
     "text": [
      "\r",
      "Progress:  16%|██████████▊                                                          | 156/1000 [01:11<07:12,  1.95it/s]"
     ]
    },
    {
     "name": "stdout",
     "output_type": "stream",
     "text": [
      "Starting Node: Meuvaines\n",
      "Ending Node: Minecraft\n",
      "Path Length: 5\n",
      "Path Exists: 1\n",
      "Path: ['Meuvaines', 'Departments of France', 'Guéret', 'Wolf', 'Minecraft']\n"
     ]
    },
    {
     "name": "stderr",
     "output_type": "stream",
     "text": [
      "\r",
      "Progress:  16%|██████████▊                                                          | 157/1000 [01:11<06:06,  2.30it/s]"
     ]
    },
    {
     "name": "stdout",
     "output_type": "stream",
     "text": [
      "Starting Node: Empire of Japan\n",
      "Ending Node: Minecraft\n",
      "Path Length: 4\n",
      "Path Exists: 1\n",
      "Path: ['Empire of Japan', '1945', '2011', 'Minecraft']\n"
     ]
    },
    {
     "name": "stderr",
     "output_type": "stream",
     "text": [
      "\r",
      "Progress:  16%|██████████▉                                                          | 158/1000 [01:12<08:27,  1.66it/s]"
     ]
    },
    {
     "name": "stdout",
     "output_type": "stream",
     "text": [
      "Starting Node: TiaCorine\n",
      "Ending Node: Minecraft\n",
      "Path Length: 6\n",
      "Path Exists: 1\n",
      "Path: ['TiaCorine', 'North Carolina', 'Charlotte, North Carolina', '2007', 'Microsoft', 'Minecraft']\n",
      "Starting Node: The Fader\n",
      "Ending Node: Minecraft\n",
      "Path Exists: 0\n"
     ]
    },
    {
     "name": "stderr",
     "output_type": "stream",
     "text": [
      "\r",
      "Progress:  16%|███████████                                                          | 160/1000 [01:13<06:19,  2.21it/s]"
     ]
    },
    {
     "name": "stdout",
     "output_type": "stream",
     "text": [
      "Starting Node: Leeds Trinity University College\n",
      "Ending Node: Minecraft\n",
      "Path Length: 6\n",
      "Path Exists: 1\n",
      "Path: ['Leeds Trinity University College', 'Leeds', 'M1 motorway', 'Google', 'Microsoft', 'Minecraft']\n"
     ]
    },
    {
     "name": "stderr",
     "output_type": "stream",
     "text": [
      "\r",
      "Progress:  16%|███████████                                                          | 161/1000 [01:13<06:48,  2.06it/s]"
     ]
    },
    {
     "name": "stdout",
     "output_type": "stream",
     "text": [
      "Starting Node: Beau Bridges\n",
      "Ending Node: Minecraft\n",
      "Path Length: 5\n",
      "Path Exists: 1\n",
      "Path: ['Beau Bridges', 'Internet Movie Database', '1998', '2011', 'Minecraft']\n"
     ]
    },
    {
     "name": "stderr",
     "output_type": "stream",
     "text": [
      "\r",
      "Progress:  16%|███████████▏                                                         | 162/1000 [01:14<06:58,  2.00it/s]"
     ]
    },
    {
     "name": "stdout",
     "output_type": "stream",
     "text": [
      "Starting Node: Maast-et-Violaine\n",
      "Ending Node: Minecraft\n",
      "Path Length: 5\n",
      "Path Exists: 1\n",
      "Path: ['Maast-et-Violaine', 'France', 'Greece', '2011', 'Minecraft']\n"
     ]
    },
    {
     "name": "stderr",
     "output_type": "stream",
     "text": [
      "\r",
      "Progress:  16%|███████████▏                                                         | 163/1000 [01:14<06:54,  2.02it/s]"
     ]
    },
    {
     "name": "stdout",
     "output_type": "stream",
     "text": [
      "Starting Node: Sully (movie)\n",
      "Ending Node: Minecraft\n",
      "Path Length: 5\n",
      "Path Exists: 1\n",
      "Path: ['Sully (movie)', 'Tom Hanks', 'MSN', 'Microsoft', 'Minecraft']\n"
     ]
    },
    {
     "name": "stderr",
     "output_type": "stream",
     "text": [
      "\r",
      "Progress:  16%|███████████▎                                                         | 164/1000 [01:15<07:10,  1.94it/s]"
     ]
    },
    {
     "name": "stdout",
     "output_type": "stream",
     "text": [
      "Starting Node: Hassan Rouhani\n",
      "Ending Node: Minecraft\n",
      "Path Length: 6\n",
      "Path Exists: 1\n",
      "Path: ['Hassan Rouhani', 'Iran', 'Turkey', 'Greece', '2011', 'Minecraft']\n",
      "Starting Node: Palaeogene\n",
      "Ending Node: Minecraft\n",
      "Path Length: 5\n",
      "Path Exists: 1\n",
      "Path: ['Palaeogene', 'Grass', 'Earth', 'Microsoft', 'Minecraft']\n"
     ]
    },
    {
     "name": "stderr",
     "output_type": "stream",
     "text": [
      "\r",
      "Progress:  17%|███████████▍                                                         | 166/1000 [01:15<05:40,  2.45it/s]"
     ]
    },
    {
     "name": "stdout",
     "output_type": "stream",
     "text": [
      "Starting Node: Fast chess\n",
      "Ending Node: Minecraft\n",
      "Path Length: 6\n",
      "Path Exists: 1\n",
      "Path: ['Fast chess', 'FIDE', 'France', 'Greece', '2011', 'Minecraft']\n",
      "Starting Node: MariaDB\n",
      "Ending Node: Minecraft\n",
      "Path Length: 4\n",
      "Path Exists: 1\n",
      "Path: ['MariaDB', 'MySQL', 'Microsoft', 'Minecraft']\n"
     ]
    },
    {
     "name": "stderr",
     "output_type": "stream",
     "text": [
      "Progress:  17%|███████████▋                                                         | 169/1000 [01:16<04:48,  2.88it/s]"
     ]
    },
    {
     "name": "stdout",
     "output_type": "stream",
     "text": [
      "Starting Node: Carson, Kentucky\n",
      "Ending Node: Minecraft\n",
      "Path Length: 6\n",
      "Path Exists: 1\n",
      "Path: ['Carson, Kentucky', 'Kentucky', 'West Virginia', 'American black bear', 'Wolf', 'Minecraft']\n",
      "Starting Node: Jerry Adriani\n",
      "Ending Node: Minecraft\n",
      "Path Length: 5\n",
      "Path Exists: 1\n",
      "Path: ['Jerry Adriani', 'Brazil', 'Earth', 'Microsoft', 'Minecraft']\n"
     ]
    },
    {
     "name": "stderr",
     "output_type": "stream",
     "text": [
      "\r",
      "Progress:  17%|███████████▋                                                         | 170/1000 [01:17<06:20,  2.18it/s]"
     ]
    },
    {
     "name": "stdout",
     "output_type": "stream",
     "text": [
      "Starting Node: Stealthing\n",
      "Ending Node: Minecraft\n",
      "Path Length: 7\n",
      "Path Exists: 1\n",
      "Path: ['Stealthing', 'Sexually transmitted disease', 'Albrecht Dürer', 'Mexico', '1940', '2011', 'Minecraft']\n",
      "Starting Node: Elfershausen\n",
      "Ending Node: Minecraft\n",
      "Path Length: 6\n",
      "Path Exists: 1\n",
      "Path: ['Elfershausen', 'Bad Kissingen (district)', 'Bavaria', 'Santa Claus', 'Microsoft', 'Minecraft']\n"
     ]
    },
    {
     "name": "stderr",
     "output_type": "stream",
     "text": [
      "\r",
      "Progress:  17%|███████████▊                                                         | 172/1000 [01:18<05:14,  2.63it/s]"
     ]
    },
    {
     "name": "stdout",
     "output_type": "stream",
     "text": [
      "Starting Node: U.S. Route 54\n",
      "Ending Node: Minecraft\n",
      "Path Length: 5\n",
      "Path Exists: 1\n",
      "Path: ['U.S. Route 54', 'Kansas', 'Raccoon', 'Wolf', 'Minecraft']\n"
     ]
    },
    {
     "name": "stderr",
     "output_type": "stream",
     "text": [
      "\r",
      "Progress:  17%|███████████▉                                                         | 173/1000 [01:18<05:29,  2.51it/s]"
     ]
    },
    {
     "name": "stdout",
     "output_type": "stream",
     "text": [
      "Starting Node: Dendropsophus reticulatus\n",
      "Ending Node: Minecraft\n",
      "Path Length: 5\n",
      "Path Exists: 1\n",
      "Path: ['Dendropsophus reticulatus', 'Bolivia', '2020', 'Microsoft', 'Minecraft']\n"
     ]
    },
    {
     "name": "stderr",
     "output_type": "stream",
     "text": [
      "\r",
      "Progress:  17%|████████████                                                         | 174/1000 [01:18<05:25,  2.54it/s]"
     ]
    },
    {
     "name": "stdout",
     "output_type": "stream",
     "text": [
      "Starting Node: Denílson (footballer, born 1943)\n",
      "Ending Node: Minecraft\n",
      "Path Length: 4\n",
      "Path Exists: 1\n",
      "Path: ['Denílson (footballer, born 1943)', '1943', '2011', 'Minecraft']\n"
     ]
    },
    {
     "name": "stderr",
     "output_type": "stream",
     "text": [
      "\r",
      "Progress:  18%|████████████                                                         | 175/1000 [01:19<05:25,  2.54it/s]"
     ]
    },
    {
     "name": "stdout",
     "output_type": "stream",
     "text": [
      "Starting Node: Parachute (disambiguation)\n",
      "Ending Node: Minecraft\n",
      "Path Length: 5\n",
      "Path Exists: 1\n",
      "Path: ['Parachute (disambiguation)', 'Coldplay', 'Steve Jobs', 'Microsoft', 'Minecraft']\n"
     ]
    },
    {
     "name": "stderr",
     "output_type": "stream",
     "text": [
      "\r",
      "Progress:  18%|████████████▏                                                        | 176/1000 [01:19<05:41,  2.41it/s]"
     ]
    },
    {
     "name": "stdout",
     "output_type": "stream",
     "text": [
      "Starting Node: Marshall County, Oklahoma\n",
      "Ending Node: Minecraft\n",
      "Path Length: 5\n",
      "Path Exists: 1\n",
      "Path: ['Marshall County, Oklahoma', 'Oklahoma', '20th century', '2011', 'Minecraft']\n"
     ]
    },
    {
     "name": "stderr",
     "output_type": "stream",
     "text": [
      "\r",
      "Progress:  18%|████████████▏                                                        | 177/1000 [01:20<05:29,  2.50it/s]"
     ]
    },
    {
     "name": "stdout",
     "output_type": "stream",
     "text": [
      "Starting Node: Declo, Idaho\n",
      "Ending Node: Minecraft\n",
      "Path Length: 5\n",
      "Path Exists: 1\n",
      "Path: ['Declo, Idaho', 'United States', 'Xbox Game Studios', 'Mojang Studios', 'Minecraft']\n"
     ]
    },
    {
     "name": "stderr",
     "output_type": "stream",
     "text": [
      "\r",
      "Progress:  18%|████████████▎                                                        | 178/1000 [01:20<05:33,  2.46it/s]"
     ]
    },
    {
     "name": "stdout",
     "output_type": "stream",
     "text": [
      "Starting Node: Loretta Swit\n",
      "Ending Node: Minecraft\n",
      "Path Length: 5\n",
      "Path Exists: 1\n",
      "Path: ['Loretta Swit', '1937', 'March 18', '2011', 'Minecraft']\n"
     ]
    },
    {
     "name": "stderr",
     "output_type": "stream",
     "text": [
      "\r",
      "Progress:  18%|████████████▎                                                        | 179/1000 [01:21<06:07,  2.24it/s]"
     ]
    },
    {
     "name": "stdout",
     "output_type": "stream",
     "text": [
      "Starting Node: Kurt Warner\n",
      "Ending Node: Minecraft\n",
      "Path Length: 5\n",
      "Path Exists: 1\n",
      "Path: ['Kurt Warner', 'NFL Europa', 'May 27', '2011', 'Minecraft']\n"
     ]
    },
    {
     "name": "stderr",
     "output_type": "stream",
     "text": [
      "\r",
      "Progress:  18%|████████████▍                                                        | 180/1000 [01:21<07:17,  1.88it/s]"
     ]
    },
    {
     "name": "stdout",
     "output_type": "stream",
     "text": [
      "Starting Node: Gloucester, Massachusetts\n",
      "Ending Node: Minecraft\n",
      "Path Length: 5\n",
      "Path Exists: 1\n",
      "Path: ['Gloucester, Massachusetts', 'City', 'Greece', '2011', 'Minecraft']\n"
     ]
    },
    {
     "name": "stderr",
     "output_type": "stream",
     "text": [
      "\r",
      "Progress:  18%|████████████▍                                                        | 181/1000 [01:22<07:02,  1.94it/s]"
     ]
    },
    {
     "name": "stdout",
     "output_type": "stream",
     "text": [
      "Starting Node: Wen Tingyun\n",
      "Ending Node: Minecraft\n",
      "Path Length: 6\n",
      "Path Exists: 1\n",
      "Path: ['Wen Tingyun', 'China', 'Kuomintang', 'Encyclopædia Britannica', 'Microsoft', 'Minecraft']\n"
     ]
    },
    {
     "name": "stderr",
     "output_type": "stream",
     "text": [
      "Progress:  18%|████████████▋                                                        | 183/1000 [01:23<05:25,  2.51it/s]"
     ]
    },
    {
     "name": "stdout",
     "output_type": "stream",
     "text": [
      "Starting Node: Greg Biffle\n",
      "Ending Node: Minecraft\n",
      "Path Length: 6\n",
      "Path Exists: 1\n",
      "Path: ['Greg Biffle', 'NASCAR', 'Europe', 'Greece', '2011', 'Minecraft']\n",
      "Starting Node: Johnston Atoll\n",
      "Ending Node: Minecraft\n",
      "Path Length: 5\n",
      "Path Exists: 1\n",
      "Path: ['Johnston Atoll', 'United States', 'Xbox Game Studios', 'Mojang Studios', 'Minecraft']\n"
     ]
    },
    {
     "name": "stderr",
     "output_type": "stream",
     "text": [
      "\r",
      "Progress:  18%|████████████▋                                                        | 184/1000 [01:23<04:58,  2.74it/s]"
     ]
    },
    {
     "name": "stdout",
     "output_type": "stream",
     "text": [
      "Starting Node: Seattle SuperSonics\n",
      "Ending Node: Minecraft\n",
      "Path Length: 4\n",
      "Path Exists: 1\n",
      "Path: ['Seattle SuperSonics', 'Kingdome', 'Microsoft', 'Minecraft']\n"
     ]
    },
    {
     "name": "stderr",
     "output_type": "stream",
     "text": [
      "\r",
      "Progress:  18%|████████████▊                                                        | 185/1000 [01:23<05:11,  2.62it/s]"
     ]
    },
    {
     "name": "stdout",
     "output_type": "stream",
     "text": [
      "Starting Node: U.S. Route 24\n",
      "Ending Node: Minecraft\n",
      "Path Length: 5\n",
      "Path Exists: 1\n",
      "Path: ['U.S. Route 24', 'Kansas', 'Raccoon', 'Wolf', 'Minecraft']\n"
     ]
    },
    {
     "name": "stderr",
     "output_type": "stream",
     "text": [
      "\r",
      "Progress:  19%|████████████▊                                                        | 186/1000 [01:24<05:40,  2.39it/s]"
     ]
    },
    {
     "name": "stdout",
     "output_type": "stream",
     "text": [
      "Starting Node: Nashville Sounds\n",
      "Ending Node: Minecraft\n",
      "Path Length: 5\n",
      "Path Exists: 1\n",
      "Path: ['Nashville Sounds', 'Major League Baseball', 'YouTube', 'MrBeast', 'Minecraft']\n"
     ]
    },
    {
     "name": "stderr",
     "output_type": "stream",
     "text": [
      "\r",
      "Progress:  19%|████████████▉                                                        | 187/1000 [01:24<05:25,  2.49it/s]"
     ]
    },
    {
     "name": "stdout",
     "output_type": "stream",
     "text": [
      "Starting Node: KDWB-FM\n",
      "Ending Node: Minecraft\n",
      "Path Length: 5\n",
      "Path Exists: 1\n",
      "Path: ['KDWB-FM', 'Dance', 'Greece', '2011', 'Minecraft']\n",
      "Starting Node: William M. Ellinghaus\n",
      "Ending Node: Minecraft\n",
      "Path Length: 5\n",
      "Path Exists: 1\n",
      "Path: ['William M. Ellinghaus', 'AT&T', 'S&P 500', 'Microsoft', 'Minecraft']\n",
      "Starting Node: Tennessee Secretary of State\n",
      "Ending Node: Minecraft\n",
      "Path Length: 5\n",
      "Path Exists: 1\n",
      "Path: ['Tennessee Secretary of State', 'Tennessee', 'Raccoon', 'Wolf', 'Minecraft']\n"
     ]
    },
    {
     "name": "stderr",
     "output_type": "stream",
     "text": [
      "Progress:  19%|█████████████▏                                                       | 191/1000 [01:25<03:49,  3.53it/s]"
     ]
    },
    {
     "name": "stdout",
     "output_type": "stream",
     "text": [
      "Starting Node: Heeze-Leende\n",
      "Ending Node: Minecraft\n",
      "Path Length: 5\n",
      "Path Exists: 1\n",
      "Path: ['Heeze-Leende', 'Provinces of the Netherlands', 'January 1', '2011', 'Minecraft']\n",
      "Starting Node: Naturalism\n",
      "Ending Node: Minecraft\n",
      "Path Length: 6\n",
      "Path Exists: 1\n",
      "Path: ['Naturalism', 'Naturalism (arts)', 'Realism', '20th century', '2011', 'Minecraft']\n"
     ]
    },
    {
     "name": "stderr",
     "output_type": "stream",
     "text": [
      "\r",
      "Progress:  19%|█████████████▏                                                       | 192/1000 [01:26<04:57,  2.72it/s]"
     ]
    },
    {
     "name": "stdout",
     "output_type": "stream",
     "text": [
      "Starting Node: Sussex Spaniel\n",
      "Ending Node: Minecraft\n",
      "Path Length: 5\n",
      "Path Exists: 1\n",
      "Path: ['Sussex Spaniel', 'England', 'UEFA Euro 2012', '2011', 'Minecraft']\n"
     ]
    },
    {
     "name": "stderr",
     "output_type": "stream",
     "text": [
      "\r",
      "Progress:  19%|█████████████▎                                                       | 193/1000 [01:26<05:17,  2.54it/s]"
     ]
    },
    {
     "name": "stdout",
     "output_type": "stream",
     "text": [
      "Starting Node: George Nicoll\n",
      "Ending Node: Minecraft\n",
      "Path Length: 5\n",
      "Path Exists: 1\n",
      "Path: ['George Nicoll', 'Australia', 'Greece', '2011', 'Minecraft']\n"
     ]
    },
    {
     "name": "stderr",
     "output_type": "stream",
     "text": [
      "\r",
      "Progress:  19%|█████████████▍                                                       | 194/1000 [01:27<05:37,  2.39it/s]"
     ]
    },
    {
     "name": "stdout",
     "output_type": "stream",
     "text": [
      "Starting Node: Demon Seed\n",
      "Ending Node: Minecraft\n",
      "Path Length: 6\n",
      "Path Exists: 1\n",
      "Path: ['Demon Seed', 'Dean Koontz', 'United States', 'Xbox Game Studios', 'Mojang Studios', 'Minecraft']\n"
     ]
    },
    {
     "name": "stderr",
     "output_type": "stream",
     "text": [
      "\r",
      "Progress:  20%|█████████████▍                                                       | 195/1000 [01:27<05:57,  2.25it/s]"
     ]
    },
    {
     "name": "stdout",
     "output_type": "stream",
     "text": [
      "Starting Node: Del Shannon\n",
      "Ending Node: Minecraft\n",
      "Path Length: 6\n",
      "Path Exists: 1\n",
      "Path: ['Del Shannon', 'Americans', 'France', 'Greece', '2011', 'Minecraft']\n"
     ]
    },
    {
     "name": "stderr",
     "output_type": "stream",
     "text": [
      "\r",
      "Progress:  20%|█████████████▌                                                       | 196/1000 [01:27<05:41,  2.35it/s]"
     ]
    },
    {
     "name": "stdout",
     "output_type": "stream",
     "text": [
      "Starting Node: Rowlatt Act\n",
      "Ending Node: Minecraft\n",
      "Path Length: 5\n",
      "Path Exists: 1\n",
      "Path: ['Rowlatt Act', 'India', 'Encyclopædia Britannica', 'Microsoft', 'Minecraft']\n"
     ]
    },
    {
     "name": "stderr",
     "output_type": "stream",
     "text": [
      "\r",
      "Progress:  20%|█████████████▌                                                       | 197/1000 [01:28<07:11,  1.86it/s]"
     ]
    },
    {
     "name": "stdout",
     "output_type": "stream",
     "text": [
      "Starting Node: 7 World Trade Center\n",
      "Ending Node: Minecraft\n",
      "Path Length: 6\n",
      "Path Exists: 1\n",
      "Path: ['7 World Trade Center', 'New York (state)', 'Connecticut', 'Mohegan', 'Wolf', 'Minecraft']\n",
      "Starting Node: 1949–50 Minneapolis Lakers season\n",
      "Ending Node: Minecraft\n",
      "Path Length: 5\n",
      "Path Exists: 1\n",
      "Path: ['1949–50 Minneapolis Lakers season', 'National Basketball Association', 'Utah Jazz', '2011', 'Minecraft']\n"
     ]
    },
    {
     "name": "stderr",
     "output_type": "stream",
     "text": [
      "\r",
      "Progress:  20%|█████████████▋                                                       | 199/1000 [01:29<05:38,  2.37it/s]"
     ]
    },
    {
     "name": "stdout",
     "output_type": "stream",
     "text": [
      "Starting Node: Mutual intelligibility\n",
      "Ending Node: Minecraft\n",
      "Path Length: 5\n",
      "Path Exists: 1\n",
      "Path: ['Mutual intelligibility', 'Spanish language', '2021', 'Microsoft', 'Minecraft']\n"
     ]
    },
    {
     "name": "stderr",
     "output_type": "stream",
     "text": [
      "\r",
      "Progress:  20%|█████████████▊                                                       | 200/1000 [01:29<05:29,  2.43it/s]"
     ]
    },
    {
     "name": "stdout",
     "output_type": "stream",
     "text": [
      "Starting Node: William A. Shine Great Neck South High School\n",
      "Ending Node: Minecraft\n",
      "Path Length: 5\n",
      "Path Exists: 1\n",
      "Path: ['William A. Shine Great Neck South High School', 'Blue', 'Earth', 'Microsoft', 'Minecraft']\n"
     ]
    },
    {
     "name": "stderr",
     "output_type": "stream",
     "text": [
      "\r",
      "Progress:  20%|█████████████▊                                                       | 201/1000 [01:30<05:51,  2.28it/s]"
     ]
    },
    {
     "name": "stdout",
     "output_type": "stream",
     "text": [
      "Starting Node: Volkswagen Tiguan\n",
      "Ending Node: Minecraft\n",
      "Path Length: 6\n",
      "Path Exists: 1\n",
      "Path: ['Volkswagen Tiguan', 'Volkswagen', 'Mexico', '1940', '2011', 'Minecraft']\n"
     ]
    },
    {
     "name": "stderr",
     "output_type": "stream",
     "text": [
      "\r",
      "Progress:  20%|█████████████▉                                                       | 202/1000 [01:30<06:19,  2.10it/s]"
     ]
    },
    {
     "name": "stdout",
     "output_type": "stream",
     "text": [
      "Starting Node: James Hansen\n",
      "Ending Node: Minecraft\n",
      "Path Length: 5\n",
      "Path Exists: 1\n",
      "Path: ['James Hansen', 'Columbia University', 'Harvard University', 'Microsoft', 'Minecraft']\n"
     ]
    },
    {
     "name": "stderr",
     "output_type": "stream",
     "text": [
      "\r",
      "Progress:  20%|██████████████                                                       | 203/1000 [01:31<06:40,  1.99it/s]"
     ]
    },
    {
     "name": "stdout",
     "output_type": "stream",
     "text": [
      "Starting Node: Vicente del Bosque\n",
      "Ending Node: Minecraft\n",
      "Path Length: 5\n",
      "Path Exists: 1\n",
      "Path: ['Vicente del Bosque', 'Spain', '20th century', '2011', 'Minecraft']\n"
     ]
    },
    {
     "name": "stderr",
     "output_type": "stream",
     "text": [
      "Progress:  20%|██████████████▏                                                      | 205/1000 [01:32<05:11,  2.55it/s]"
     ]
    },
    {
     "name": "stdout",
     "output_type": "stream",
     "text": [
      "Starting Node: Chester City F.C.\n",
      "Ending Node: Minecraft\n",
      "Path Length: 5\n",
      "Path Exists: 1\n",
      "Path: ['Chester City F.C.', 'England', 'UEFA Euro 2012', '2011', 'Minecraft']\n",
      "Starting Node: 1493\n",
      "Ending Node: Minecraft\n",
      "Path Length: 4\n",
      "Path Exists: 1\n",
      "Path: ['1493', 'March 15', '2011', 'Minecraft']\n"
     ]
    },
    {
     "name": "stderr",
     "output_type": "stream",
     "text": [
      "\r",
      "Progress:  21%|██████████████▏                                                      | 206/1000 [01:32<04:56,  2.68it/s]"
     ]
    },
    {
     "name": "stdout",
     "output_type": "stream",
     "text": [
      "Starting Node: Jules and Gedeon Naudet\n",
      "Ending Node: Minecraft\n",
      "Path Length: 4\n",
      "Path Exists: 1\n",
      "Path: ['Jules and Gedeon Naudet', 'April 26', 'Martial arts', 'Minecraft']\n",
      "Starting Node: Batch file\n",
      "Ending Node: Minecraft\n",
      "Path Length: 4\n",
      "Path Exists: 1\n",
      "Path: ['Batch file', 'DOS', 'Microsoft', 'Minecraft']\n"
     ]
    },
    {
     "name": "stderr",
     "output_type": "stream",
     "text": [
      "\r",
      "Progress:  21%|██████████████▎                                                      | 208/1000 [01:32<04:14,  3.11it/s]"
     ]
    },
    {
     "name": "stdout",
     "output_type": "stream",
     "text": [
      "Starting Node: České Budějovice\n",
      "Ending Node: Minecraft\n",
      "Path Length: 6\n",
      "Path Exists: 1\n",
      "Path: ['České Budějovice', 'Gomel', 'Eastern European Summer Time', 'Greece', '2011', 'Minecraft']\n"
     ]
    },
    {
     "name": "stderr",
     "output_type": "stream",
     "text": [
      "\r",
      "Progress:  21%|██████████████▍                                                      | 209/1000 [01:33<05:23,  2.45it/s]"
     ]
    },
    {
     "name": "stdout",
     "output_type": "stream",
     "text": [
      "Starting Node: Sebastián Viera\n",
      "Ending Node: Minecraft\n",
      "Path Length: 5\n",
      "Path Exists: 1\n",
      "Path: ['Sebastián Viera', 'Super League Greece', 'Greece', '2011', 'Minecraft']\n"
     ]
    },
    {
     "name": "stderr",
     "output_type": "stream",
     "text": [
      "\r",
      "Progress:  21%|██████████████▍                                                      | 210/1000 [01:34<05:53,  2.23it/s]"
     ]
    },
    {
     "name": "stdout",
     "output_type": "stream",
     "text": [
      "Starting Node: Manx cat\n",
      "Ending Node: Minecraft\n",
      "Path Length: 6\n",
      "Path Exists: 1\n",
      "Path: ['Manx cat', 'Isle of Man', 'Europe', 'Greece', '2011', 'Minecraft']\n"
     ]
    },
    {
     "name": "stderr",
     "output_type": "stream",
     "text": [
      "\r",
      "Progress:  21%|██████████████▌                                                      | 211/1000 [01:34<05:15,  2.50it/s]"
     ]
    },
    {
     "name": "stdout",
     "output_type": "stream",
     "text": [
      "Starting Node: HRT F112\n",
      "Ending Node: Minecraft\n",
      "Path Length: 6\n",
      "Path Exists: 1\n",
      "Path: ['HRT F112', 'Hispania Racing', 'Spain', '20th century', '2011', 'Minecraft']\n"
     ]
    },
    {
     "name": "stderr",
     "output_type": "stream",
     "text": [
      "\r",
      "Progress:  21%|██████████████▋                                                      | 212/1000 [01:35<06:43,  1.95it/s]"
     ]
    },
    {
     "name": "stdout",
     "output_type": "stream",
     "text": [
      "Starting Node: Division of Cook\n",
      "Ending Node: Minecraft\n",
      "Path Length: 6\n",
      "Path Exists: 1\n",
      "Path: ['Division of Cook', 'Scott Morrison', 'Australia', 'Greece', '2011', 'Minecraft']\n"
     ]
    },
    {
     "name": "stderr",
     "output_type": "stream",
     "text": [
      "\r",
      "Progress:  21%|██████████████▋                                                      | 213/1000 [01:35<07:18,  1.79it/s]"
     ]
    },
    {
     "name": "stdout",
     "output_type": "stream",
     "text": [
      "Starting Node: Show jumping\n",
      "Ending Node: Minecraft\n",
      "Path Length: 5\n",
      "Path Exists: 1\n",
      "Path: ['Show jumping', 'Olympic Games', 'Greece', '2011', 'Minecraft']\n"
     ]
    },
    {
     "name": "stderr",
     "output_type": "stream",
     "text": [
      "\r",
      "Progress:  21%|██████████████▊                                                      | 214/1000 [01:36<07:05,  1.85it/s]"
     ]
    },
    {
     "name": "stdout",
     "output_type": "stream",
     "text": [
      "Starting Node: Alignment (Israel)\n",
      "Ending Node: Minecraft\n",
      "Path Length: 5\n",
      "Path Exists: 1\n",
      "Path: ['Alignment (Israel)', 'Meretz', '1992', 'Microsoft', 'Minecraft']\n"
     ]
    },
    {
     "name": "stderr",
     "output_type": "stream",
     "text": [
      "\r",
      "Progress:  22%|██████████████▊                                                      | 215/1000 [01:36<07:01,  1.86it/s]"
     ]
    },
    {
     "name": "stdout",
     "output_type": "stream",
     "text": [
      "Starting Node: Kevin Curran (writer)\n",
      "Ending Node: Minecraft\n",
      "Path Length: 5\n",
      "Path Exists: 1\n",
      "Path: ['Kevin Curran (writer)', 'Hartford, Connecticut', 'Hertford', '2011', 'Minecraft']\n"
     ]
    },
    {
     "name": "stderr",
     "output_type": "stream",
     "text": [
      "\r",
      "Progress:  22%|██████████████▉                                                      | 216/1000 [01:37<06:48,  1.92it/s]"
     ]
    },
    {
     "name": "stdout",
     "output_type": "stream",
     "text": [
      "Starting Node: Ettore Boiardi\n",
      "Ending Node: Minecraft\n",
      "Path Length: 5\n",
      "Path Exists: 1\n",
      "Path: ['Ettore Boiardi', 'Italy', 'Mario Draghi', 'Mario', 'Minecraft']\n"
     ]
    },
    {
     "name": "stderr",
     "output_type": "stream",
     "text": [
      "\r",
      "Progress:  22%|██████████████▉                                                      | 217/1000 [01:37<06:30,  2.01it/s]"
     ]
    },
    {
     "name": "stdout",
     "output_type": "stream",
     "text": [
      "Starting Node: Deaths in December 2021\n",
      "Ending Node: Minecraft\n",
      "Path Length: 4\n",
      "Path Exists: 1\n",
      "Path: ['Deaths in December 2021', 'December 30', '2011', 'Minecraft']\n"
     ]
    },
    {
     "name": "stderr",
     "output_type": "stream",
     "text": [
      "\r",
      "Progress:  22%|███████████████                                                      | 218/1000 [01:38<07:25,  1.75it/s]"
     ]
    },
    {
     "name": "stdout",
     "output_type": "stream",
     "text": [
      "Starting Node: Beurnevésin\n",
      "Ending Node: Minecraft\n",
      "Path Length: 5\n",
      "Path Exists: 1\n",
      "Path: ['Beurnevésin', 'Cantons of Switzerland', '2001', 'Microsoft', 'Minecraft']\n"
     ]
    },
    {
     "name": "stderr",
     "output_type": "stream",
     "text": [
      "\r",
      "Progress:  22%|███████████████                                                      | 219/1000 [01:39<07:16,  1.79it/s]"
     ]
    },
    {
     "name": "stdout",
     "output_type": "stream",
     "text": [
      "Starting Node: Takuya Mikami\n",
      "Ending Node: Minecraft\n",
      "Path Length: 5\n",
      "Path Exists: 1\n",
      "Path: ['Takuya Mikami', 'Japan', 'Nintendo', 'Microsoft', 'Minecraft']\n"
     ]
    },
    {
     "name": "stderr",
     "output_type": "stream",
     "text": [
      "\r",
      "Progress:  22%|███████████████▏                                                     | 220/1000 [01:39<07:11,  1.81it/s]"
     ]
    },
    {
     "name": "stdout",
     "output_type": "stream",
     "text": [
      "Starting Node: Bahram Alivandi\n",
      "Ending Node: Minecraft\n",
      "Path Length: 6\n",
      "Path Exists: 1\n",
      "Path: ['Bahram Alivandi', 'Austria', 'Alban Berg', '20th century', '2011', 'Minecraft']\n"
     ]
    },
    {
     "name": "stderr",
     "output_type": "stream",
     "text": [
      "\r",
      "Progress:  22%|███████████████▏                                                     | 221/1000 [01:40<07:02,  1.84it/s]"
     ]
    },
    {
     "name": "stdout",
     "output_type": "stream",
     "text": [
      "Starting Node: Matthew Shepard\n",
      "Ending Node: Minecraft\n",
      "Path Length: 5\n",
      "Path Exists: 1\n",
      "Path: ['Matthew Shepard', 'George W. Bush', 'Harvard University', 'Microsoft', 'Minecraft']\n"
     ]
    },
    {
     "name": "stderr",
     "output_type": "stream",
     "text": [
      "\r",
      "Progress:  22%|███████████████▎                                                     | 222/1000 [01:40<06:30,  1.99it/s]"
     ]
    },
    {
     "name": "stdout",
     "output_type": "stream",
     "text": [
      "Starting Node: FC Libertas Wien\n",
      "Ending Node: Minecraft\n",
      "Path Length: 5\n",
      "Path Exists: 1\n",
      "Path: ['FC Libertas Wien', 'Karl Zankl', '1945', '2011', 'Minecraft']\n"
     ]
    },
    {
     "name": "stderr",
     "output_type": "stream",
     "text": [
      "\r",
      "Progress:  22%|███████████████▍                                                     | 223/1000 [01:40<06:08,  2.11it/s]"
     ]
    },
    {
     "name": "stdout",
     "output_type": "stream",
     "text": [
      "Starting Node: Planck constant\n",
      "Ending Node: Minecraft\n",
      "Path Length: 5\n",
      "Path Exists: 1\n",
      "Path: ['Planck constant', 'Blue', 'Earth', 'Microsoft', 'Minecraft']\n"
     ]
    },
    {
     "name": "stderr",
     "output_type": "stream",
     "text": [
      "\r",
      "Progress:  22%|███████████████▍                                                     | 224/1000 [01:41<05:48,  2.22it/s]"
     ]
    },
    {
     "name": "stdout",
     "output_type": "stream",
     "text": [
      "Starting Node: Kaptan Singh Solanki\n",
      "Ending Node: Minecraft\n",
      "Path Length: 5\n",
      "Path Exists: 1\n",
      "Path: ['Kaptan Singh Solanki', 'Politician', '20th century', '2011', 'Minecraft']\n"
     ]
    },
    {
     "name": "stderr",
     "output_type": "stream",
     "text": [
      "\r",
      "Progress:  22%|███████████████▌                                                     | 225/1000 [01:41<05:54,  2.19it/s]"
     ]
    },
    {
     "name": "stdout",
     "output_type": "stream",
     "text": [
      "Starting Node: Vladimir Shuralyov\n",
      "Ending Node: Minecraft\n",
      "Path Length: 5\n",
      "Path Exists: 1\n",
      "Path: ['Vladimir Shuralyov', 'Russia Today', 'Harvard University', 'Microsoft', 'Minecraft']\n"
     ]
    },
    {
     "name": "stderr",
     "output_type": "stream",
     "text": [
      "\r",
      "Progress:  23%|███████████████▌                                                     | 226/1000 [01:42<05:59,  2.15it/s]"
     ]
    },
    {
     "name": "stdout",
     "output_type": "stream",
     "text": [
      "Starting Node: Bassillon-Vauzé\n",
      "Ending Node: Minecraft\n",
      "Path Length: 5\n",
      "Path Exists: 1\n",
      "Path: ['Bassillon-Vauzé', 'France', 'Greece', '2011', 'Minecraft']\n",
      "Starting Node: Jeet Gayi Toh Piya Morey\n",
      "Ending Node: Minecraft\n",
      "Path Exists: 0\n"
     ]
    },
    {
     "name": "stderr",
     "output_type": "stream",
     "text": [
      "\r",
      "Progress:  23%|███████████████▋                                                     | 228/1000 [01:42<04:12,  3.06it/s]"
     ]
    },
    {
     "name": "stdout",
     "output_type": "stream",
     "text": [
      "Starting Node: Diogenes syndrome\n",
      "Ending Node: Minecraft\n",
      "Path Length: 6\n",
      "Path Exists: 1\n",
      "Path: ['Diogenes syndrome', 'Diogenes of Sinope', 'Plutarch', 'Greece', '2011', 'Minecraft']\n"
     ]
    },
    {
     "name": "stderr",
     "output_type": "stream",
     "text": [
      "\r",
      "Progress:  23%|███████████████▊                                                     | 229/1000 [01:43<04:18,  2.98it/s]"
     ]
    },
    {
     "name": "stdout",
     "output_type": "stream",
     "text": [
      "Starting Node: Dante Gullo\n",
      "Ending Node: Minecraft\n",
      "Path Length: 5\n",
      "Path Exists: 1\n",
      "Path: ['Dante Gullo', 'Buenos Aires', '20th century', '2011', 'Minecraft']\n"
     ]
    },
    {
     "name": "stderr",
     "output_type": "stream",
     "text": [
      "\r",
      "Progress:  23%|███████████████▊                                                     | 230/1000 [01:43<04:49,  2.66it/s]"
     ]
    },
    {
     "name": "stdout",
     "output_type": "stream",
     "text": [
      "Starting Node: Laucourt\n",
      "Ending Node: Minecraft\n",
      "Path Length: 5\n",
      "Path Exists: 1\n",
      "Path: ['Laucourt', 'France', 'Greece', '2011', 'Minecraft']\n"
     ]
    },
    {
     "name": "stderr",
     "output_type": "stream",
     "text": [
      "\r",
      "Progress:  23%|███████████████▉                                                     | 231/1000 [01:43<04:35,  2.79it/s]"
     ]
    },
    {
     "name": "stdout",
     "output_type": "stream",
     "text": [
      "Starting Node: Small Smiles Dental Centers\n",
      "Ending Node: Minecraft\n",
      "Path Length: 4\n",
      "Path Exists: 1\n",
      "Path: ['Small Smiles Dental Centers', 'Harvard University', 'Microsoft', 'Minecraft']\n"
     ]
    },
    {
     "name": "stderr",
     "output_type": "stream",
     "text": [
      "\r",
      "Progress:  23%|████████████████                                                     | 232/1000 [01:44<04:52,  2.62it/s]"
     ]
    },
    {
     "name": "stdout",
     "output_type": "stream",
     "text": [
      "Starting Node: No Regrets (Tom Rush song)\n",
      "Ending Node: Minecraft\n",
      "Path Length: 5\n",
      "Path Exists: 1\n",
      "Path: ['No Regrets (Tom Rush song)', 'Pop music', 'Computer', 'Microsoft', 'Minecraft']\n"
     ]
    },
    {
     "name": "stderr",
     "output_type": "stream",
     "text": [
      "\r",
      "Progress:  23%|████████████████                                                     | 233/1000 [01:44<05:18,  2.41it/s]"
     ]
    },
    {
     "name": "stdout",
     "output_type": "stream",
     "text": [
      "Starting Node: Dahlenheim\n",
      "Ending Node: Minecraft\n",
      "Path Length: 5\n",
      "Path Exists: 1\n",
      "Path: ['Dahlenheim', 'France', 'Greece', '2011', 'Minecraft']\n"
     ]
    },
    {
     "name": "stderr",
     "output_type": "stream",
     "text": [
      "\r",
      "Progress:  23%|████████████████▏                                                    | 234/1000 [01:45<05:43,  2.23it/s]"
     ]
    },
    {
     "name": "stdout",
     "output_type": "stream",
     "text": [
      "Starting Node: Gary Cohn\n",
      "Ending Node: Minecraft\n",
      "Path Length: 5\n",
      "Path Exists: 1\n",
      "Path: ['Gary Cohn', 'Bachelor of Arts', '2014', 'Microsoft', 'Minecraft']\n"
     ]
    },
    {
     "name": "stderr",
     "output_type": "stream",
     "text": [
      "\r",
      "Progress:  24%|████████████████▏                                                    | 235/1000 [01:45<05:06,  2.50it/s]"
     ]
    },
    {
     "name": "stdout",
     "output_type": "stream",
     "text": [
      "Starting Node: Sauropsid\n",
      "Ending Node: Minecraft\n",
      "Path Length: 5\n",
      "Path Exists: 1\n",
      "Path: ['Sauropsid', 'Animal', 'Earth', 'Microsoft', 'Minecraft']\n"
     ]
    },
    {
     "name": "stderr",
     "output_type": "stream",
     "text": [
      "\r",
      "Progress:  24%|████████████████▎                                                    | 236/1000 [01:46<05:35,  2.27it/s]"
     ]
    },
    {
     "name": "stdout",
     "output_type": "stream",
     "text": [
      "Starting Node: Paul Manafort\n",
      "Ending Node: Minecraft\n",
      "Path Length: 5\n",
      "Path Exists: 1\n",
      "Path: ['Paul Manafort', 'Bob Dole', '20th century', '2011', 'Minecraft']\n"
     ]
    },
    {
     "name": "stderr",
     "output_type": "stream",
     "text": [
      "Progress:  24%|████████████████▍                                                    | 238/1000 [01:46<05:09,  2.46it/s]"
     ]
    },
    {
     "name": "stdout",
     "output_type": "stream",
     "text": [
      "Starting Node: Filippo Inzaghi\n",
      "Ending Node: Minecraft\n",
      "Path Length: 5\n",
      "Path Exists: 1\n",
      "Path: ['Filippo Inzaghi', 'Juventus F.C.', '20th century', '2011', 'Minecraft']\n",
      "Starting Node: Oligocene\n",
      "Ending Node: Minecraft\n",
      "Path Length: 5\n",
      "Path Exists: 1\n",
      "Path: ['Oligocene', 'Antarctica', 'Earth', 'Microsoft', 'Minecraft']\n"
     ]
    },
    {
     "name": "stderr",
     "output_type": "stream",
     "text": [
      "\r",
      "Progress:  24%|████████████████▍                                                    | 239/1000 [01:47<05:31,  2.29it/s]"
     ]
    },
    {
     "name": "stdout",
     "output_type": "stream",
     "text": [
      "Starting Node: Koichi Tanaka\n",
      "Ending Node: Minecraft\n",
      "Path Length: 5\n",
      "Path Exists: 1\n",
      "Path: ['Koichi Tanaka', 'Japan', 'Nintendo', 'Microsoft', 'Minecraft']\n"
     ]
    },
    {
     "name": "stderr",
     "output_type": "stream",
     "text": [
      "\r",
      "Progress:  24%|████████████████▌                                                    | 240/1000 [01:47<05:40,  2.23it/s]"
     ]
    },
    {
     "name": "stdout",
     "output_type": "stream",
     "text": [
      "Starting Node: Plainfield, Illinois\n",
      "Ending Node: Minecraft\n",
      "Path Length: 5\n",
      "Path Exists: 1\n",
      "Path: ['Plainfield, Illinois', 'United States', 'Xbox Game Studios', 'Mojang Studios', 'Minecraft']\n"
     ]
    },
    {
     "name": "stderr",
     "output_type": "stream",
     "text": [
      "\r",
      "Progress:  24%|████████████████▋                                                    | 241/1000 [01:48<05:14,  2.41it/s]"
     ]
    },
    {
     "name": "stdout",
     "output_type": "stream",
     "text": [
      "Starting Node: Wednesday\n",
      "Ending Node: Minecraft\n",
      "Path Length: 5\n",
      "Path Exists: 1\n",
      "Path: ['Wednesday', 'Odin', 'Earth', 'Microsoft', 'Minecraft']\n"
     ]
    },
    {
     "name": "stderr",
     "output_type": "stream",
     "text": [
      "\r",
      "Progress:  24%|████████████████▋                                                    | 242/1000 [01:48<05:16,  2.40it/s]"
     ]
    },
    {
     "name": "stdout",
     "output_type": "stream",
     "text": [
      "Starting Node: Charles Boyer\n",
      "Ending Node: Minecraft\n",
      "Path Length: 5\n",
      "Path Exists: 1\n",
      "Path: ['Charles Boyer', 'Phoenix, Arizona', '2006', '2011', 'Minecraft']\n"
     ]
    },
    {
     "name": "stderr",
     "output_type": "stream",
     "text": [
      "Progress:  24%|████████████████▊                                                    | 244/1000 [01:49<04:29,  2.81it/s]"
     ]
    },
    {
     "name": "stdout",
     "output_type": "stream",
     "text": [
      "Starting Node: Hip to Be Square\n",
      "Ending Node: Minecraft\n",
      "Path Length: 6\n",
      "Path Exists: 1\n",
      "Path: ['Hip to Be Square', 'Huey Lewis', 'Warsaw', 'Greece', '2011', 'Minecraft']\n",
      "Starting Node: Geoffrey Chaucer\n",
      "Ending Node: Minecraft\n",
      "Path Length: 5\n",
      "Path Exists: 1\n",
      "Path: ['Geoffrey Chaucer', 'England', 'UEFA Euro 2012', '2011', 'Minecraft']\n"
     ]
    },
    {
     "name": "stderr",
     "output_type": "stream",
     "text": [
      "\r",
      "Progress:  24%|████████████████▉                                                    | 245/1000 [01:49<05:43,  2.20it/s]"
     ]
    },
    {
     "name": "stdout",
     "output_type": "stream",
     "text": [
      "Starting Node: Patrik Andersson\n",
      "Ending Node: Minecraft\n",
      "Path Length: 5\n",
      "Path Exists: 1\n",
      "Path: ['Patrik Andersson', 'Sweden', '1995', 'Microsoft', 'Minecraft']\n"
     ]
    },
    {
     "name": "stderr",
     "output_type": "stream",
     "text": [
      "\r",
      "Progress:  25%|████████████████▉                                                    | 246/1000 [01:50<05:46,  2.18it/s]"
     ]
    },
    {
     "name": "stdout",
     "output_type": "stream",
     "text": [
      "Starting Node: Ai Otsuka\n",
      "Ending Node: Minecraft\n",
      "Path Length: 5\n",
      "Path Exists: 1\n",
      "Path: ['Ai Otsuka', 'Japan', 'Nintendo', 'Microsoft', 'Minecraft']\n"
     ]
    },
    {
     "name": "stderr",
     "output_type": "stream",
     "text": [
      "\r",
      "Progress:  25%|█████████████████                                                    | 247/1000 [01:50<05:44,  2.19it/s]"
     ]
    },
    {
     "name": "stdout",
     "output_type": "stream",
     "text": [
      "Starting Node: Pleiskirchen\n",
      "Ending Node: Minecraft\n",
      "Path Length: 6\n",
      "Path Exists: 1\n",
      "Path: ['Pleiskirchen', 'Altötting (district)', 'Bavaria', 'Santa Claus', 'Microsoft', 'Minecraft']\n"
     ]
    },
    {
     "name": "stderr",
     "output_type": "stream",
     "text": [
      "\r",
      "Progress:  25%|█████████████████                                                    | 248/1000 [01:51<05:56,  2.11it/s]"
     ]
    },
    {
     "name": "stdout",
     "output_type": "stream",
     "text": [
      "Starting Node: Saint-Ouen-sur-Seine\n",
      "Ending Node: Minecraft\n",
      "Path Length: 5\n",
      "Path Exists: 1\n",
      "Path: ['Saint-Ouen-sur-Seine', 'France', 'Greece', '2011', 'Minecraft']\n"
     ]
    },
    {
     "name": "stderr",
     "output_type": "stream",
     "text": [
      "Progress:  25%|█████████████████▎                                                   | 250/1000 [01:51<04:25,  2.82it/s]"
     ]
    },
    {
     "name": "stdout",
     "output_type": "stream",
     "text": [
      "Starting Node: Fat-tailed dwarf lemur\n",
      "Ending Node: Minecraft\n",
      "Path Length: 6\n",
      "Path Exists: 1\n",
      "Path: ['Fat-tailed dwarf lemur', 'Étienne Geoffroy Saint-Hilaire', 'Ernst Mayr', 'Harvard University', 'Microsoft', 'Minecraft']\n",
      "Starting Node: Kelly Gregg\n",
      "Ending Node: Minecraft\n",
      "Path Length: 4\n",
      "Path Exists: 1\n",
      "Path: ['Kelly Gregg', 'November 1', '2011', 'Minecraft']\n"
     ]
    },
    {
     "name": "stderr",
     "output_type": "stream",
     "text": [
      "\r",
      "Progress:  25%|█████████████████▎                                                   | 251/1000 [01:52<05:01,  2.48it/s]"
     ]
    },
    {
     "name": "stdout",
     "output_type": "stream",
     "text": [
      "Starting Node: Dunn, North Carolina\n",
      "Ending Node: Minecraft\n",
      "Path Length: 5\n",
      "Path Exists: 1\n",
      "Path: ['Dunn, North Carolina', 'United States', 'Xbox Game Studios', 'Mojang Studios', 'Minecraft']\n"
     ]
    },
    {
     "name": "stderr",
     "output_type": "stream",
     "text": [
      "\r",
      "Progress:  25%|█████████████████▍                                                   | 252/1000 [01:52<04:34,  2.73it/s]"
     ]
    },
    {
     "name": "stdout",
     "output_type": "stream",
     "text": [
      "Starting Node: SPRAT\n",
      "Ending Node: Minecraft\n",
      "Path Length: 3\n",
      "Path Exists: 1\n",
      "Path: ['SPRAT', '2011', 'Minecraft']\n"
     ]
    },
    {
     "name": "stderr",
     "output_type": "stream",
     "text": [
      "\r",
      "Progress:  25%|█████████████████▍                                                   | 253/1000 [01:53<05:25,  2.29it/s]"
     ]
    },
    {
     "name": "stdout",
     "output_type": "stream",
     "text": [
      "Starting Node: Greenock\n",
      "Ending Node: Minecraft\n",
      "Path Length: 6\n",
      "Path Exists: 1\n",
      "Path: ['Greenock', 'Scotland', 'Dundee United F.C.', '2008', 'Microsoft', 'Minecraft']\n"
     ]
    },
    {
     "name": "stderr",
     "output_type": "stream",
     "text": [
      "\r",
      "Progress:  25%|█████████████████▌                                                   | 254/1000 [01:53<05:22,  2.31it/s]"
     ]
    },
    {
     "name": "stdout",
     "output_type": "stream",
     "text": [
      "Starting Node: Suffer (album)\n",
      "Ending Node: Minecraft\n",
      "Path Length: 5\n",
      "Path Exists: 1\n",
      "Path: ['Suffer (album)', 'Fashion accessory', 'Laptop', 'Microsoft', 'Minecraft']\n"
     ]
    },
    {
     "name": "stderr",
     "output_type": "stream",
     "text": [
      "Progress:  26%|█████████████████▋                                                   | 256/1000 [01:54<04:09,  2.98it/s]"
     ]
    },
    {
     "name": "stdout",
     "output_type": "stream",
     "text": [
      "Starting Node: 2018 United States Senate election in Florida\n",
      "Ending Node: Minecraft\n",
      "Path Length: 5\n",
      "Path Exists: 1\n",
      "Path: ['2018 United States Senate election in Florida', 'Republican Party (United States)', '20th century', '2011', 'Minecraft']\n",
      "Starting Node: Lifestyle Holidays Vacation Club\n",
      "Ending Node: Minecraft\n",
      "Path Length: 5\n",
      "Path Exists: 1\n",
      "Path: ['Lifestyle Holidays Vacation Club', 'Ricky Martin', 'December 24', '2011', 'Minecraft']\n"
     ]
    },
    {
     "name": "stderr",
     "output_type": "stream",
     "text": [
      "\r",
      "Progress:  26%|█████████████████▋                                                   | 257/1000 [01:54<04:07,  3.00it/s]"
     ]
    },
    {
     "name": "stdout",
     "output_type": "stream",
     "text": [
      "Starting Node: Jurong Region MRT line\n",
      "Ending Node: Minecraft\n",
      "Path Length: 4\n",
      "Path Exists: 1\n",
      "Path: ['Jurong Region MRT line', 'Light Rail Transit (Singapore)', '2011', 'Minecraft']\n"
     ]
    },
    {
     "name": "stderr",
     "output_type": "stream",
     "text": [
      "Progress:  26%|█████████████████▊                                                   | 259/1000 [01:55<04:20,  2.85it/s]"
     ]
    },
    {
     "name": "stdout",
     "output_type": "stream",
     "text": [
      "Starting Node: Pamplin City, Virginia\n",
      "Ending Node: Minecraft\n",
      "Path Length: 5\n",
      "Path Exists: 1\n",
      "Path: ['Pamplin City, Virginia', 'United States', 'Xbox Game Studios', 'Mojang Studios', 'Minecraft']\n",
      "Starting Node: Jefferson County, Kansas\n",
      "Ending Node: Minecraft\n",
      "Path Length: 5\n",
      "Path Exists: 1\n",
      "Path: ['Jefferson County, Kansas', 'Kansas', 'Raccoon', 'Wolf', 'Minecraft']\n"
     ]
    },
    {
     "name": "stderr",
     "output_type": "stream",
     "text": [
      "Progress:  26%|██████████████████                                                   | 261/1000 [01:56<04:26,  2.77it/s]"
     ]
    },
    {
     "name": "stdout",
     "output_type": "stream",
     "text": [
      "Starting Node: Lewisville, Texas\n",
      "Ending Node: Minecraft\n",
      "Path Length: 5\n",
      "Path Exists: 1\n",
      "Path: ['Lewisville, Texas', 'Texas', 'Technology company', 'Microsoft', 'Minecraft']\n",
      "Starting Node: Lund Cathedral\n",
      "Ending Node: Minecraft\n",
      "Path Length: 5\n",
      "Path Exists: 1\n",
      "Path: ['Lund Cathedral', 'Church of Sweden', '2000', 'Microsoft', 'Minecraft']\n"
     ]
    },
    {
     "name": "stderr",
     "output_type": "stream",
     "text": [
      "\r",
      "Progress:  26%|██████████████████                                                   | 262/1000 [01:56<04:28,  2.75it/s]"
     ]
    },
    {
     "name": "stdout",
     "output_type": "stream",
     "text": [
      "Starting Node: Florianus\n",
      "Ending Node: Minecraft\n",
      "Path Length: 5\n",
      "Path Exists: 1\n",
      "Path: ['Florianus', 'Turkey', 'Greece', '2011', 'Minecraft']\n",
      "Starting Node: Subtitle (captioning)\n",
      "Ending Node: Minecraft\n",
      "Path Exists: 0\n"
     ]
    },
    {
     "name": "stderr",
     "output_type": "stream",
     "text": [
      "\r",
      "Progress:  26%|██████████████████▏                                                  | 264/1000 [01:56<03:26,  3.56it/s]"
     ]
    },
    {
     "name": "stdout",
     "output_type": "stream",
     "text": [
      "Starting Node: Delta Amacuro\n",
      "Ending Node: Minecraft\n",
      "Path Length: 5\n",
      "Path Exists: 1\n",
      "Path: ['Delta Amacuro', 'Venezuela', 'July 24', '2011', 'Minecraft']\n"
     ]
    },
    {
     "name": "stderr",
     "output_type": "stream",
     "text": [
      "\r",
      "Progress:  26%|██████████████████▎                                                  | 265/1000 [01:57<04:06,  2.98it/s]"
     ]
    },
    {
     "name": "stdout",
     "output_type": "stream",
     "text": [
      "Starting Node: Thomas of Cantimpré\n",
      "Ending Node: Minecraft\n",
      "Path Length: 7\n",
      "Path Exists: 1\n",
      "Path: ['Thomas of Cantimpré', 'Dominican Order', 'Saint Dominic', 'Bologna', '1980', '2011', 'Minecraft']\n"
     ]
    },
    {
     "name": "stderr",
     "output_type": "stream",
     "text": [
      "\r",
      "Progress:  27%|██████████████████▎                                                  | 266/1000 [01:57<03:50,  3.19it/s]"
     ]
    },
    {
     "name": "stdout",
     "output_type": "stream",
     "text": [
      "Starting Node: The Minimighty Kids\n",
      "Ending Node: Minecraft\n",
      "Path Length: 4\n",
      "Path Exists: 1\n",
      "Path: ['The Minimighty Kids', 'YouTube', 'MrBeast', 'Minecraft']\n"
     ]
    },
    {
     "name": "stderr",
     "output_type": "stream",
     "text": [
      "\r",
      "Progress:  27%|██████████████████▍                                                  | 267/1000 [01:58<04:31,  2.70it/s]"
     ]
    },
    {
     "name": "stdout",
     "output_type": "stream",
     "text": [
      "Starting Node: Narges Mohammadi\n",
      "Ending Node: Minecraft\n",
      "Path Length: 5\n",
      "Path Exists: 1\n",
      "Path: ['Narges Mohammadi', 'BBC', 'Microsoft Windows', 'Microsoft', 'Minecraft']\n"
     ]
    },
    {
     "name": "stderr",
     "output_type": "stream",
     "text": [
      "\r",
      "Progress:  27%|██████████████████▍                                                  | 268/1000 [01:58<04:50,  2.52it/s]"
     ]
    },
    {
     "name": "stdout",
     "output_type": "stream",
     "text": [
      "Starting Node: Jean Joseph Marie Amiot\n",
      "Ending Node: Minecraft\n",
      "Path Length: 5\n",
      "Path Exists: 1\n",
      "Path: ['Jean Joseph Marie Amiot', 'France', 'Greece', '2011', 'Minecraft']\n"
     ]
    },
    {
     "name": "stderr",
     "output_type": "stream",
     "text": [
      "\r",
      "Progress:  27%|██████████████████▌                                                  | 269/1000 [01:59<05:09,  2.37it/s]"
     ]
    },
    {
     "name": "stdout",
     "output_type": "stream",
     "text": [
      "Starting Node: Marshall County, Minnesota\n",
      "Ending Node: Minecraft\n",
      "Path Length: 6\n",
      "Path Exists: 1\n",
      "Path: ['Marshall County, Minnesota', 'Minnesota', 'Spanish language', '2021', 'Microsoft', 'Minecraft']\n"
     ]
    },
    {
     "name": "stderr",
     "output_type": "stream",
     "text": [
      "\r",
      "Progress:  27%|██████████████████▋                                                  | 270/1000 [01:59<05:12,  2.34it/s]"
     ]
    },
    {
     "name": "stdout",
     "output_type": "stream",
     "text": [
      "Starting Node: Schism (religion)\n",
      "Ending Node: Minecraft\n",
      "Path Length: 5\n",
      "Path Exists: 1\n",
      "Path: ['Schism (religion)', 'Islam', 'Encyclopædia Britannica', 'Microsoft', 'Minecraft']\n"
     ]
    },
    {
     "name": "stderr",
     "output_type": "stream",
     "text": [
      "Progress:  27%|██████████████████▊                                                  | 272/1000 [02:00<04:38,  2.61it/s]"
     ]
    },
    {
     "name": "stdout",
     "output_type": "stream",
     "text": [
      "Starting Node: Chlamydia (bacterium)\n",
      "Ending Node: Minecraft\n",
      "Path Length: 6\n",
      "Path Exists: 1\n",
      "Path: ['Chlamydia (bacterium)', 'Bacteria', 'Bartonella', 'Species', 'Wolf', 'Minecraft']\n",
      "Starting Node: Lumijoki\n",
      "Ending Node: Minecraft\n",
      "Path Length: 5\n",
      "Path Exists: 1\n",
      "Path: ['Lumijoki', 'Finland', 'Nokia, Finland', 'Microsoft', 'Minecraft']\n"
     ]
    },
    {
     "name": "stderr",
     "output_type": "stream",
     "text": [
      "Progress:  27%|██████████████████▉                                                  | 274/1000 [02:01<04:32,  2.67it/s]"
     ]
    },
    {
     "name": "stdout",
     "output_type": "stream",
     "text": [
      "Starting Node: Jenni Rivera\n",
      "Ending Node: Minecraft\n",
      "Path Length: 5\n",
      "Path Exists: 1\n",
      "Path: ['Jenni Rivera', 'United States', 'Xbox Game Studios', 'Mojang Studios', 'Minecraft']\n",
      "Starting Node: Walter Hayman\n",
      "Ending Node: Minecraft\n",
      "Path Length: 6\n",
      "Path Exists: 1\n",
      "Path: ['Walter Hayman', 'Imperial College London', 'Academic Ranking of World Universities', 'Harvard University', 'Microsoft', 'Minecraft']\n"
     ]
    },
    {
     "name": "stderr",
     "output_type": "stream",
     "text": [
      "\r",
      "Progress:  28%|██████████████████▉                                                  | 275/1000 [02:01<05:53,  2.05it/s]"
     ]
    },
    {
     "name": "stdout",
     "output_type": "stream",
     "text": [
      "Starting Node: Beine\n",
      "Ending Node: Minecraft\n",
      "Path Length: 5\n",
      "Path Exists: 1\n",
      "Path: ['Beine', 'France', 'Greece', '2011', 'Minecraft']\n"
     ]
    },
    {
     "name": "stderr",
     "output_type": "stream",
     "text": [
      "Progress:  28%|███████████████████                                                  | 277/1000 [02:02<04:38,  2.59it/s]"
     ]
    },
    {
     "name": "stdout",
     "output_type": "stream",
     "text": [
      "Starting Node: 1916\n",
      "Ending Node: Minecraft\n",
      "Path Length: 3\n",
      "Path Exists: 1\n",
      "Path: ['1916', '2011', 'Minecraft']\n",
      "Starting Node: Wels-Land District\n",
      "Ending Node: Minecraft\n",
      "Path Length: 5\n",
      "Path Exists: 1\n",
      "Path: ['Wels-Land District', 'Nomenclature of Territorial Units for Statistics', 'Greece', '2011', 'Minecraft']\n"
     ]
    },
    {
     "name": "stderr",
     "output_type": "stream",
     "text": [
      "\r",
      "Progress:  28%|███████████████████▏                                                 | 278/1000 [02:03<04:56,  2.43it/s]"
     ]
    },
    {
     "name": "stdout",
     "output_type": "stream",
     "text": [
      "Starting Node: Rolando Marchinares\n",
      "Ending Node: Minecraft\n",
      "Path Length: 5\n",
      "Path Exists: 1\n",
      "Path: ['Rolando Marchinares', '1992 Summer Olympics', '1992', 'Microsoft', 'Minecraft']\n"
     ]
    },
    {
     "name": "stderr",
     "output_type": "stream",
     "text": [
      "Progress:  28%|███████████████████▎                                                 | 280/1000 [02:03<04:51,  2.47it/s]"
     ]
    },
    {
     "name": "stdout",
     "output_type": "stream",
     "text": [
      "Starting Node: Saint-Loup-d'Ordon\n",
      "Ending Node: Minecraft\n",
      "Path Length: 5\n",
      "Path Exists: 1\n",
      "Path: [\"Saint-Loup-d'Ordon\", 'Departments of France', 'Guéret', 'Wolf', 'Minecraft']\n",
      "Starting Node: Horodnic de Jos\n",
      "Ending Node: Minecraft\n",
      "Path Length: 5\n",
      "Path Exists: 1\n",
      "Path: ['Horodnic de Jos', 'Romania', 'Vest (development region)', '2011', 'Minecraft']\n"
     ]
    },
    {
     "name": "stderr",
     "output_type": "stream",
     "text": [
      "\r",
      "Progress:  28%|███████████████████▍                                                 | 281/1000 [02:04<06:12,  1.93it/s]"
     ]
    },
    {
     "name": "stdout",
     "output_type": "stream",
     "text": [
      "Starting Node: Morlaix\n",
      "Ending Node: Minecraft\n",
      "Path Length: 5\n",
      "Path Exists: 1\n",
      "Path: ['Morlaix', 'France', 'Greece', '2011', 'Minecraft']\n",
      "Starting Node: Erlend Rian\n",
      "Ending Node: Minecraft\n",
      "Path Length: 5\n",
      "Path Exists: 1\n",
      "Path: ['Erlend Rian', 'Tromsø', '1990s', 'Microsoft', 'Minecraft']\n"
     ]
    },
    {
     "name": "stderr",
     "output_type": "stream",
     "text": [
      "\r",
      "Progress:  28%|███████████████████▌                                                 | 283/1000 [02:05<05:48,  2.06it/s]"
     ]
    },
    {
     "name": "stdout",
     "output_type": "stream",
     "text": [
      "Starting Node: Dangerous Tour (movie)\n",
      "Ending Node: Minecraft\n",
      "Path Length: 6\n",
      "Path Exists: 1\n",
      "Path: ['Dangerous Tour (movie)', 'Kira Muratova', 'Russia', 'Encyclopædia Britannica', 'Microsoft', 'Minecraft']\n"
     ]
    },
    {
     "name": "stderr",
     "output_type": "stream",
     "text": [
      "\r",
      "Progress:  28%|███████████████████▌                                                 | 284/1000 [02:06<05:54,  2.02it/s]"
     ]
    },
    {
     "name": "stdout",
     "output_type": "stream",
     "text": [
      "Starting Node: Albert II of Belgium\n",
      "Ending Node: Minecraft\n",
      "Path Length: 6\n",
      "Path Exists: 1\n",
      "Path: ['Albert II of Belgium', 'Astrid of Sweden', 'Harald V of Norway', 'Akershus', 'Wolf', 'Minecraft']\n"
     ]
    },
    {
     "name": "stderr",
     "output_type": "stream",
     "text": [
      "\r",
      "Progress:  28%|███████████████████▋                                                 | 285/1000 [02:06<05:46,  2.06it/s]"
     ]
    },
    {
     "name": "stdout",
     "output_type": "stream",
     "text": [
      "Starting Node: A Matter of Life and Death\n",
      "Ending Node: Minecraft\n",
      "Path Length: 5\n",
      "Path Exists: 1\n",
      "Path: ['A Matter of Life and Death', 'United States', 'Xbox Game Studios', 'Mojang Studios', 'Minecraft']\n"
     ]
    },
    {
     "name": "stderr",
     "output_type": "stream",
     "text": [
      "\r",
      "Progress:  29%|███████████████████▋                                                 | 286/1000 [02:07<05:56,  2.00it/s]"
     ]
    },
    {
     "name": "stdout",
     "output_type": "stream",
     "text": [
      "Starting Node: Esther Ralston\n",
      "Ending Node: Minecraft\n",
      "Path Length: 6\n",
      "Path Exists: 1\n",
      "Path: ['Esther Ralston', 'Americans', 'France', 'Greece', '2011', 'Minecraft']\n",
      "Starting Node: Pica (disorder)\n",
      "Ending Node: Minecraft\n",
      "Path Length: 5\n",
      "Path Exists: 1\n",
      "Path: ['Pica (disorder)', 'Rock (geology)', 'Earth', 'Microsoft', 'Minecraft']\n"
     ]
    },
    {
     "name": "stderr",
     "output_type": "stream",
     "text": [
      "\r",
      "Progress:  29%|███████████████████▊                                                 | 288/1000 [02:07<04:23,  2.70it/s]"
     ]
    },
    {
     "name": "stdout",
     "output_type": "stream",
     "text": [
      "Starting Node: Capri pants\n",
      "Ending Node: Minecraft\n",
      "Path Length: 5\n",
      "Path Exists: 1\n",
      "Path: ['Capri pants', 'Prussia', '1945', '2011', 'Minecraft']\n"
     ]
    },
    {
     "name": "stderr",
     "output_type": "stream",
     "text": [
      "\r",
      "Progress:  29%|███████████████████▉                                                 | 289/1000 [02:07<04:19,  2.74it/s]"
     ]
    },
    {
     "name": "stdout",
     "output_type": "stream",
     "text": [
      "Starting Node: 1986 AFC Women's Championship\n",
      "Ending Node: Minecraft\n",
      "Path Length: 5\n",
      "Path Exists: 1\n",
      "Path: [\"1986 AFC Women's Championship\", 'Hong Kong', 'National emblem', 'Wolf', 'Minecraft']\n"
     ]
    },
    {
     "name": "stderr",
     "output_type": "stream",
     "text": [
      "\r",
      "Progress:  29%|████████████████████                                                 | 290/1000 [02:08<05:20,  2.21it/s]"
     ]
    },
    {
     "name": "stdout",
     "output_type": "stream",
     "text": [
      "Starting Node: Clifford the Big Red Dog\n",
      "Ending Node: Minecraft\n",
      "Path Length: 6\n",
      "Path Exists: 1\n",
      "Path: ['Clifford the Big Red Dog', 'Clifford the Big Red Dog (2019 TV series)', 'High-definition television', 'YouTube', 'MrBeast', 'Minecraft']\n"
     ]
    },
    {
     "name": "stderr",
     "output_type": "stream",
     "text": [
      "\r",
      "Progress:  29%|████████████████████                                                 | 291/1000 [02:09<05:32,  2.13it/s]"
     ]
    },
    {
     "name": "stdout",
     "output_type": "stream",
     "text": [
      "Starting Node: Aleksandar Mitrović\n",
      "Ending Node: Minecraft\n",
      "Path Length: 5\n",
      "Path Exists: 1\n",
      "Path: ['Aleksandar Mitrović', '1994', '1956', 'Microsoft', 'Minecraft']\n"
     ]
    },
    {
     "name": "stderr",
     "output_type": "stream",
     "text": [
      "\r",
      "Progress:  29%|████████████████████▏                                                | 292/1000 [02:09<05:35,  2.11it/s]"
     ]
    },
    {
     "name": "stdout",
     "output_type": "stream",
     "text": [
      "Starting Node: Hindi imposition\n",
      "Ending Node: Minecraft\n",
      "Path Length: 6\n",
      "Path Exists: 1\n",
      "Path: ['Hindi imposition', 'States and union territories of India', 'Uttar Pradesh', 'December', '2011', 'Minecraft']\n"
     ]
    },
    {
     "name": "stderr",
     "output_type": "stream",
     "text": [
      "\r",
      "Progress:  29%|████████████████████▏                                                | 293/1000 [02:10<05:19,  2.21it/s]"
     ]
    },
    {
     "name": "stdout",
     "output_type": "stream",
     "text": [
      "Starting Node: Chiuro\n",
      "Ending Node: Minecraft\n",
      "Path Length: 5\n",
      "Path Exists: 1\n",
      "Path: ['Chiuro', 'Italy', 'Mario Draghi', 'Mario', 'Minecraft']\n"
     ]
    },
    {
     "name": "stderr",
     "output_type": "stream",
     "text": [
      "\r",
      "Progress:  29%|████████████████████▎                                                | 294/1000 [02:10<05:28,  2.15it/s]"
     ]
    },
    {
     "name": "stdout",
     "output_type": "stream",
     "text": [
      "Starting Node: To the Shores of Tripoli\n",
      "Ending Node: Minecraft\n",
      "Path Length: 6\n",
      "Path Exists: 1\n",
      "Path: ['To the Shores of Tripoli', 'John Payne', 'NBC', 'MSNBC', 'Microsoft', 'Minecraft']\n"
     ]
    },
    {
     "name": "stderr",
     "output_type": "stream",
     "text": [
      "\r",
      "Progress:  30%|████████████████████▎                                                | 295/1000 [02:11<05:26,  2.16it/s]"
     ]
    },
    {
     "name": "stdout",
     "output_type": "stream",
     "text": [
      "Starting Node: Llanfairpwll railway station\n",
      "Ending Node: Minecraft\n",
      "Path Length: 6\n",
      "Path Exists: 1\n",
      "Path: ['Llanfairpwll railway station', 'Anglesey', 'England', 'UEFA Euro 2012', '2011', 'Minecraft']\n",
      "Starting Node: StarCraft\n",
      "Ending Node: Minecraft\n",
      "Path Length: 4\n",
      "Path Exists: 1\n",
      "Path: ['StarCraft', 'DirectX', 'Microsoft', 'Minecraft']\n"
     ]
    },
    {
     "name": "stderr",
     "output_type": "stream",
     "text": [
      "\r",
      "Progress:  30%|████████████████████▍                                                | 297/1000 [02:11<04:05,  2.87it/s]"
     ]
    },
    {
     "name": "stdout",
     "output_type": "stream",
     "text": [
      "Starting Node: Khawaja Nazimuddin\n",
      "Ending Node: Minecraft\n",
      "Path Length: 4\n",
      "Path Exists: 1\n",
      "Path: ['Khawaja Nazimuddin', 'October 22', '2011', 'Minecraft']\n"
     ]
    },
    {
     "name": "stderr",
     "output_type": "stream",
     "text": [
      "\r",
      "Progress:  30%|████████████████████▌                                                | 298/1000 [02:11<04:09,  2.81it/s]"
     ]
    },
    {
     "name": "stdout",
     "output_type": "stream",
     "text": [
      "Starting Node: Turkestan\n",
      "Ending Node: Minecraft\n",
      "Path Length: 5\n",
      "Path Exists: 1\n",
      "Path: ['Turkestan', 'Turkey', 'Greece', '2011', 'Minecraft']\n"
     ]
    },
    {
     "name": "stderr",
     "output_type": "stream",
     "text": [
      "\r",
      "Progress:  30%|████████████████████▋                                                | 299/1000 [02:12<04:26,  2.63it/s]"
     ]
    },
    {
     "name": "stdout",
     "output_type": "stream",
     "text": [
      "Starting Node: Jacqueline Bisset\n",
      "Ending Node: Minecraft\n",
      "Path Length: 5\n",
      "Path Exists: 1\n",
      "Path: ['Jacqueline Bisset', 'England', 'UEFA Euro 2012', '2011', 'Minecraft']\n"
     ]
    },
    {
     "name": "stderr",
     "output_type": "stream",
     "text": [
      "\r",
      "Progress:  30%|████████████████████▋                                                | 300/1000 [02:13<05:49,  2.01it/s]"
     ]
    },
    {
     "name": "stdout",
     "output_type": "stream",
     "text": [
      "Starting Node: New Hope, Pennsylvania\n",
      "Ending Node: Minecraft\n",
      "Path Length: 6\n",
      "Path Exists: 1\n",
      "Path: ['New Hope, Pennsylvania', 'Pennsylvania', 'France', 'Greece', '2011', 'Minecraft']\n",
      "Starting Node: William Stanley Peart\n",
      "Ending Node: Minecraft\n",
      "Path Exists: 0\n"
     ]
    },
    {
     "name": "stderr",
     "output_type": "stream",
     "text": [
      "\r",
      "Progress:  30%|████████████████████▊                                                | 302/1000 [02:13<04:28,  2.60it/s]"
     ]
    },
    {
     "name": "stdout",
     "output_type": "stream",
     "text": [
      "Starting Node: Pavant\n",
      "Ending Node: Minecraft\n",
      "Path Length: 5\n",
      "Path Exists: 1\n",
      "Path: ['Pavant', 'France', 'Greece', '2011', 'Minecraft']\n"
     ]
    },
    {
     "name": "stderr",
     "output_type": "stream",
     "text": [
      "\r",
      "Progress:  30%|████████████████████▉                                                | 303/1000 [02:13<04:34,  2.54it/s]"
     ]
    },
    {
     "name": "stdout",
     "output_type": "stream",
     "text": [
      "Starting Node: Alan Parsons\n",
      "Ending Node: Minecraft\n",
      "Path Length: 5\n",
      "Path Exists: 1\n",
      "Path: ['Alan Parsons', 'England', 'UEFA Euro 2012', '2011', 'Minecraft']\n",
      "Starting Node: PogChamp\n",
      "Ending Node: Minecraft\n",
      "Path Length: 4\n",
      "Path Exists: 1\n",
      "Path: ['PogChamp', 'YouTube', 'MrBeast', 'Minecraft']\n"
     ]
    },
    {
     "name": "stderr",
     "output_type": "stream",
     "text": [
      "\r",
      "Progress:  30%|█████████████████████                                                | 305/1000 [02:14<03:56,  2.94it/s]"
     ]
    },
    {
     "name": "stdout",
     "output_type": "stream",
     "text": [
      "Starting Node: Jan Notermans\n",
      "Ending Node: Minecraft\n",
      "Path Length: 6\n",
      "Path Exists: 1\n",
      "Path: ['Jan Notermans', 'Netherlands national football team', 'Wesley Sneijder', 'Greece', '2011', 'Minecraft']\n"
     ]
    },
    {
     "name": "stderr",
     "output_type": "stream",
     "text": [
      "\r",
      "Progress:  31%|█████████████████████                                                | 306/1000 [02:14<03:57,  2.93it/s]"
     ]
    },
    {
     "name": "stdout",
     "output_type": "stream",
     "text": [
      "Starting Node: Immenstadt\n",
      "Ending Node: Minecraft\n",
      "Path Length: 5\n",
      "Path Exists: 1\n",
      "Path: ['Immenstadt', 'Bavaria', 'Santa Claus', 'Microsoft', 'Minecraft']\n"
     ]
    },
    {
     "name": "stderr",
     "output_type": "stream",
     "text": [
      "\r",
      "Progress:  31%|█████████████████████▏                                               | 307/1000 [02:15<03:57,  2.91it/s]"
     ]
    },
    {
     "name": "stdout",
     "output_type": "stream",
     "text": [
      "Starting Node: Meteorology\n",
      "Ending Node: Minecraft\n",
      "Path Length: 5\n",
      "Path Exists: 1\n",
      "Path: ['Meteorology', 'World Meteorological Organization', 'March 23', '2011', 'Minecraft']\n"
     ]
    },
    {
     "name": "stderr",
     "output_type": "stream",
     "text": [
      "\r",
      "Progress:  31%|█████████████████████▎                                               | 308/1000 [02:15<05:03,  2.28it/s]"
     ]
    },
    {
     "name": "stdout",
     "output_type": "stream",
     "text": [
      "Starting Node: Don Payne (writer)\n",
      "Ending Node: Minecraft\n",
      "Path Length: 5\n",
      "Path Exists: 1\n",
      "Path: ['Don Payne (writer)', 'Wilmington, North Carolina', '2006', '2011', 'Minecraft']\n"
     ]
    },
    {
     "name": "stderr",
     "output_type": "stream",
     "text": [
      "\r",
      "Progress:  31%|█████████████████████▎                                               | 309/1000 [02:16<05:14,  2.20it/s]"
     ]
    },
    {
     "name": "stdout",
     "output_type": "stream",
     "text": [
      "Starting Node: Belgrade Philharmonic Orchestra\n",
      "Ending Node: Minecraft\n",
      "Path Length: 6\n",
      "Path Exists: 1\n",
      "Path: ['Belgrade Philharmonic Orchestra', 'Sarah Chang', 'Richard Strauss', '1910', '2011', 'Minecraft']\n"
     ]
    },
    {
     "name": "stderr",
     "output_type": "stream",
     "text": [
      "\r",
      "Progress:  31%|█████████████████████▍                                               | 310/1000 [02:17<05:42,  2.01it/s]"
     ]
    },
    {
     "name": "stdout",
     "output_type": "stream",
     "text": [
      "Starting Node: Eternity\n",
      "Ending Node: Minecraft\n",
      "Path Length: 6\n",
      "Path Exists: 1\n",
      "Path: ['Eternity', 'Eternal flame', 'Australian War Memorial', 'Victoria Cross for Australia', '2011', 'Minecraft']\n"
     ]
    },
    {
     "name": "stderr",
     "output_type": "stream",
     "text": [
      "\r",
      "Progress:  31%|█████████████████████▍                                               | 311/1000 [02:17<05:30,  2.08it/s]"
     ]
    },
    {
     "name": "stdout",
     "output_type": "stream",
     "text": [
      "Starting Node: Stamp Act 1765\n",
      "Ending Node: Minecraft\n",
      "Path Length: 5\n",
      "Path Exists: 1\n",
      "Path: ['Stamp Act 1765', 'North America', 'Earth', 'Microsoft', 'Minecraft']\n"
     ]
    },
    {
     "name": "stderr",
     "output_type": "stream",
     "text": [
      "\r",
      "Progress:  31%|█████████████████████▌                                               | 312/1000 [02:17<05:07,  2.24it/s]"
     ]
    },
    {
     "name": "stdout",
     "output_type": "stream",
     "text": [
      "Starting Node: James Armistead Lafayette\n",
      "Ending Node: Minecraft\n",
      "Path Length: 5\n",
      "Path Exists: 1\n",
      "Path: ['James Armistead Lafayette', 'Military intelligence', '20th century', '2011', 'Minecraft']\n"
     ]
    },
    {
     "name": "stderr",
     "output_type": "stream",
     "text": [
      "\r",
      "Progress:  31%|█████████████████████▌                                               | 313/1000 [02:18<05:02,  2.27it/s]"
     ]
    },
    {
     "name": "stdout",
     "output_type": "stream",
     "text": [
      "Starting Node: Bulletproof Monk\n",
      "Ending Node: Minecraft\n",
      "Path Length: 5\n",
      "Path Exists: 1\n",
      "Path: ['Bulletproof Monk', 'Metro-Goldwyn-Mayer', '1924', '2011', 'Minecraft']\n"
     ]
    },
    {
     "name": "stderr",
     "output_type": "stream",
     "text": [
      "\r",
      "Progress:  31%|█████████████████████▋                                               | 314/1000 [02:18<04:51,  2.35it/s]"
     ]
    },
    {
     "name": "stdout",
     "output_type": "stream",
     "text": [
      "Starting Node: Cavaglià\n",
      "Ending Node: Minecraft\n",
      "Path Length: 5\n",
      "Path Exists: 1\n",
      "Path: ['Cavaglià', 'Italy', 'Mario Draghi', 'Mario', 'Minecraft']\n"
     ]
    },
    {
     "name": "stderr",
     "output_type": "stream",
     "text": [
      "\r",
      "Progress:  32%|█████████████████████▋                                               | 315/1000 [02:18<04:34,  2.50it/s]"
     ]
    },
    {
     "name": "stdout",
     "output_type": "stream",
     "text": [
      "Starting Node: Józef Rysula\n",
      "Ending Node: Minecraft\n",
      "Path Length: 5\n",
      "Path Exists: 1\n",
      "Path: ['Józef Rysula', '1968 Winter Olympics', '1956', 'Microsoft', 'Minecraft']\n"
     ]
    },
    {
     "name": "stderr",
     "output_type": "stream",
     "text": [
      "\r",
      "Progress:  32%|█████████████████████▊                                               | 316/1000 [02:19<04:36,  2.47it/s]"
     ]
    },
    {
     "name": "stdout",
     "output_type": "stream",
     "text": [
      "Starting Node: Irrunytju, Western Australia\n",
      "Ending Node: Minecraft\n",
      "Path Length: 5\n",
      "Path Exists: 1\n",
      "Path: ['Irrunytju, Western Australia', 'South Australia', 'November 23', '2011', 'Minecraft']\n"
     ]
    },
    {
     "name": "stderr",
     "output_type": "stream",
     "text": [
      "\r",
      "Progress:  32%|█████████████████████▊                                               | 317/1000 [02:19<04:45,  2.39it/s]"
     ]
    },
    {
     "name": "stdout",
     "output_type": "stream",
     "text": [
      "Starting Node: Mountnessing\n",
      "Ending Node: Minecraft\n",
      "Path Length: 6\n",
      "Path Exists: 1\n",
      "Path: ['Mountnessing', 'Essex', 'Hertfordshire', 'Hertford', '2011', 'Minecraft']\n"
     ]
    },
    {
     "name": "stderr",
     "output_type": "stream",
     "text": [
      "\r",
      "Progress:  32%|█████████████████████▉                                               | 318/1000 [02:20<04:53,  2.32it/s]"
     ]
    },
    {
     "name": "stdout",
     "output_type": "stream",
     "text": [
      "Starting Node: Shaggy Rogers (Scooby-Doo)\n",
      "Ending Node: Minecraft\n",
      "Path Length: 6\n",
      "Path Exists: 1\n",
      "Path: ['Shaggy Rogers (Scooby-Doo)', 'Scoob!', 'Halloween', 'November 1', '2011', 'Minecraft']\n"
     ]
    },
    {
     "name": "stderr",
     "output_type": "stream",
     "text": [
      "\r",
      "Progress:  32%|██████████████████████                                               | 319/1000 [02:20<04:33,  2.49it/s]"
     ]
    },
    {
     "name": "stdout",
     "output_type": "stream",
     "text": [
      "Starting Node: Tamaqua, Pennsylvania\n",
      "Ending Node: Minecraft\n",
      "Path Length: 5\n",
      "Path Exists: 1\n",
      "Path: ['Tamaqua, Pennsylvania', 'United States', 'Xbox Game Studios', 'Mojang Studios', 'Minecraft']\n"
     ]
    },
    {
     "name": "stderr",
     "output_type": "stream",
     "text": [
      "\r",
      "Progress:  32%|██████████████████████                                               | 320/1000 [02:21<05:31,  2.05it/s]"
     ]
    },
    {
     "name": "stdout",
     "output_type": "stream",
     "text": [
      "Starting Node: Shoichiro Toyoda\n",
      "Ending Node: Minecraft\n",
      "Path Length: 5\n",
      "Path Exists: 1\n",
      "Path: ['Shoichiro Toyoda', 'Japan', 'Nintendo', 'Microsoft', 'Minecraft']\n"
     ]
    },
    {
     "name": "stderr",
     "output_type": "stream",
     "text": [
      "\r",
      "Progress:  32%|██████████████████████▏                                              | 321/1000 [02:21<05:25,  2.08it/s]"
     ]
    },
    {
     "name": "stdout",
     "output_type": "stream",
     "text": [
      "Starting Node: Gansingen\n",
      "Ending Node: Minecraft\n",
      "Path Length: 5\n",
      "Path Exists: 1\n",
      "Path: ['Gansingen', 'Cantons of Switzerland', '2001', 'Microsoft', 'Minecraft']\n"
     ]
    },
    {
     "name": "stderr",
     "output_type": "stream",
     "text": [
      "\r",
      "Progress:  32%|██████████████████████▏                                              | 322/1000 [02:22<05:23,  2.10it/s]"
     ]
    },
    {
     "name": "stdout",
     "output_type": "stream",
     "text": [
      "Starting Node: The Misfits\n",
      "Ending Node: Minecraft\n",
      "Path Length: 5\n",
      "Path Exists: 1\n",
      "Path: ['The Misfits', 'Black Flag', '1990s', 'Microsoft', 'Minecraft']\n"
     ]
    },
    {
     "name": "stderr",
     "output_type": "stream",
     "text": [
      "Progress:  32%|██████████████████████▎                                              | 324/1000 [02:22<04:05,  2.76it/s]"
     ]
    },
    {
     "name": "stdout",
     "output_type": "stream",
     "text": [
      "Starting Node: Paramore\n",
      "Ending Node: Minecraft\n",
      "Path Length: 5\n",
      "Path Exists: 1\n",
      "Path: ['Paramore', 'United States', 'Xbox Game Studios', 'Mojang Studios', 'Minecraft']\n",
      "Starting Node: Subscription\n",
      "Ending Node: Minecraft\n",
      "Path Length: 6\n",
      "Path Exists: 1\n",
      "Path: ['Subscription', 'Public utility', 'Internet', 'E-mail', 'Microsoft', 'Minecraft']\n"
     ]
    },
    {
     "name": "stderr",
     "output_type": "stream",
     "text": [
      "\r",
      "Progress:  32%|██████████████████████▍                                              | 325/1000 [02:23<04:08,  2.72it/s]"
     ]
    },
    {
     "name": "stdout",
     "output_type": "stream",
     "text": [
      "Starting Node: Have a Laugh!\n",
      "Ending Node: Minecraft\n",
      "Path Length: 4\n",
      "Path Exists: 1\n",
      "Path: ['Have a Laugh!', 'Kelly Rowland', '2011', 'Minecraft']\n"
     ]
    },
    {
     "name": "stderr",
     "output_type": "stream",
     "text": [
      "\r",
      "Progress:  33%|██████████████████████▍                                              | 326/1000 [02:23<03:53,  2.89it/s]"
     ]
    },
    {
     "name": "stdout",
     "output_type": "stream",
     "text": [
      "Starting Node: Byte\n",
      "Ending Node: Minecraft\n",
      "Path Length: 5\n",
      "Path Exists: 1\n",
      "Path: ['Byte', 'Flash memory', 'Video game', 'Microsoft', 'Minecraft']\n"
     ]
    },
    {
     "name": "stderr",
     "output_type": "stream",
     "text": [
      "\r",
      "Progress:  33%|██████████████████████▌                                              | 327/1000 [02:23<04:14,  2.64it/s]"
     ]
    },
    {
     "name": "stdout",
     "output_type": "stream",
     "text": [
      "Starting Node: Selena Barajas\n",
      "Ending Node: Minecraft\n",
      "Path Length: 5\n",
      "Path Exists: 1\n",
      "Path: ['Selena Barajas', 'Mexico', '1940', '2011', 'Minecraft']\n"
     ]
    },
    {
     "name": "stderr",
     "output_type": "stream",
     "text": [
      "\r",
      "Progress:  33%|██████████████████████▋                                              | 328/1000 [02:24<04:46,  2.34it/s]"
     ]
    },
    {
     "name": "stdout",
     "output_type": "stream",
     "text": [
      "Starting Node: Bernadette Peters\n",
      "Ending Node: Minecraft\n",
      "Path Length: 5\n",
      "Path Exists: 1\n",
      "Path: ['Bernadette Peters', 'All in the Family', 'YouTube', 'MrBeast', 'Minecraft']\n"
     ]
    },
    {
     "name": "stderr",
     "output_type": "stream",
     "text": [
      "\r",
      "Progress:  33%|██████████████████████▋                                              | 329/1000 [02:24<04:53,  2.28it/s]"
     ]
    },
    {
     "name": "stdout",
     "output_type": "stream",
     "text": [
      "Starting Node: Toyama (city)\n",
      "Ending Node: Minecraft\n",
      "Path Length: 5\n",
      "Path Exists: 1\n",
      "Path: ['Toyama (city)', 'Japan', 'Nintendo', 'Microsoft', 'Minecraft']\n"
     ]
    },
    {
     "name": "stderr",
     "output_type": "stream",
     "text": [
      "\r",
      "Progress:  33%|██████████████████████▊                                              | 330/1000 [02:25<04:50,  2.30it/s]"
     ]
    },
    {
     "name": "stdout",
     "output_type": "stream",
     "text": [
      "Starting Node: Dances of Manipur\n",
      "Ending Node: Minecraft\n",
      "Path Length: 5\n",
      "Path Exists: 1\n",
      "Path: ['Dances of Manipur', 'India', 'Encyclopædia Britannica', 'Microsoft', 'Minecraft']\n"
     ]
    },
    {
     "name": "stderr",
     "output_type": "stream",
     "text": [
      "\r",
      "Progress:  33%|██████████████████████▊                                              | 331/1000 [02:25<04:37,  2.41it/s]"
     ]
    },
    {
     "name": "stdout",
     "output_type": "stream",
     "text": [
      "Starting Node: Bell UH-1Y Venom\n",
      "Ending Node: Minecraft\n",
      "Path Length: 5\n",
      "Path Exists: 1\n",
      "Path: ['Bell UH-1Y Venom', 'Bell UH-1 Iroquois', '1956', 'Microsoft', 'Minecraft']\n"
     ]
    },
    {
     "name": "stderr",
     "output_type": "stream",
     "text": [
      "\r",
      "Progress:  33%|██████████████████████▉                                              | 332/1000 [02:26<04:52,  2.28it/s]"
     ]
    },
    {
     "name": "stdout",
     "output_type": "stream",
     "text": [
      "Starting Node: Nuestra Visión\n",
      "Ending Node: Minecraft\n",
      "Path Length: 5\n",
      "Path Exists: 1\n",
      "Path: ['Nuestra Visión', 'Spanish language', '2021', 'Microsoft', 'Minecraft']\n"
     ]
    },
    {
     "name": "stderr",
     "output_type": "stream",
     "text": [
      "\r",
      "Progress:  33%|██████████████████████▉                                              | 333/1000 [02:26<05:13,  2.13it/s]"
     ]
    },
    {
     "name": "stdout",
     "output_type": "stream",
     "text": [
      "Starting Node: Renwick, Iowa\n",
      "Ending Node: Minecraft\n",
      "Path Length: 5\n",
      "Path Exists: 1\n",
      "Path: ['Renwick, Iowa', 'United States', 'Xbox Game Studios', 'Mojang Studios', 'Minecraft']\n"
     ]
    },
    {
     "name": "stderr",
     "output_type": "stream",
     "text": [
      "\r",
      "Progress:  33%|███████████████████████                                              | 334/1000 [02:27<06:27,  1.72it/s]"
     ]
    },
    {
     "name": "stdout",
     "output_type": "stream",
     "text": [
      "Starting Node: Once Caldas\n",
      "Ending Node: Minecraft\n",
      "Path Length: 6\n",
      "Path Exists: 1\n",
      "Path: ['Once Caldas', 'Colombia', 'Álvaro Uribe', 'Harvard University', 'Microsoft', 'Minecraft']\n"
     ]
    },
    {
     "name": "stderr",
     "output_type": "stream",
     "text": [
      "\r",
      "Progress:  34%|███████████████████████                                              | 335/1000 [02:28<06:24,  1.73it/s]"
     ]
    },
    {
     "name": "stdout",
     "output_type": "stream",
     "text": [
      "Starting Node: Élisabeth of France\n",
      "Ending Node: Minecraft\n",
      "Path Length: 5\n",
      "Path Exists: 1\n",
      "Path: ['Élisabeth of France', 'France', 'Greece', '2011', 'Minecraft']\n"
     ]
    },
    {
     "name": "stderr",
     "output_type": "stream",
     "text": [
      "\r",
      "Progress:  34%|███████████████████████▏                                             | 336/1000 [02:28<06:00,  1.84it/s]"
     ]
    },
    {
     "name": "stdout",
     "output_type": "stream",
     "text": [
      "Starting Node: British Rail Class 447\n",
      "Ending Node: Minecraft\n",
      "Path Length: 5\n",
      "Path Exists: 1\n",
      "Path: ['British Rail Class 447', 'British Rail', '1990s', 'Microsoft', 'Minecraft']\n"
     ]
    },
    {
     "name": "stderr",
     "output_type": "stream",
     "text": [
      "Progress:  34%|███████████████████████▎                                             | 338/1000 [02:29<04:40,  2.36it/s]"
     ]
    },
    {
     "name": "stdout",
     "output_type": "stream",
     "text": [
      "Starting Node: Zacatecas\n",
      "Ending Node: Minecraft\n",
      "Path Length: 5\n",
      "Path Exists: 1\n",
      "Path: ['Zacatecas', 'ISO 3166-2', 'Greece', '2011', 'Minecraft']\n",
      "Starting Node: St. Maries, Idaho\n",
      "Ending Node: Minecraft\n",
      "Path Length: 5\n",
      "Path Exists: 1\n",
      "Path: ['St. Maries, Idaho', 'United States', 'Xbox Game Studios', 'Mojang Studios', 'Minecraft']\n"
     ]
    },
    {
     "name": "stderr",
     "output_type": "stream",
     "text": [
      "\r",
      "Progress:  34%|███████████████████████▍                                             | 339/1000 [02:30<05:41,  1.94it/s]"
     ]
    },
    {
     "name": "stdout",
     "output_type": "stream",
     "text": [
      "Starting Node: Raoul Walsh\n",
      "Ending Node: Minecraft\n",
      "Path Length: 5\n",
      "Path Exists: 1\n",
      "Path: ['Raoul Walsh', 'Actor', 'Greece', '2011', 'Minecraft']\n",
      "Starting Node: Line of Control\n",
      "Ending Node: Minecraft\n",
      "Path Length: 4\n",
      "Path Exists: 1\n",
      "Path: ['Line of Control', 'Kashmir conflict', 'Microsoft', 'Minecraft']\n"
     ]
    },
    {
     "name": "stderr",
     "output_type": "stream",
     "text": [
      "\r",
      "Progress:  34%|███████████████████████▌                                             | 341/1000 [02:30<04:01,  2.72it/s]"
     ]
    },
    {
     "name": "stdout",
     "output_type": "stream",
     "text": [
      "Starting Node: Banihal Pass\n",
      "Ending Node: Minecraft\n",
      "Path Length: 5\n",
      "Path Exists: 1\n",
      "Path: ['Banihal Pass', 'Kashmir', 'Kashmir conflict', 'Microsoft', 'Minecraft']\n"
     ]
    },
    {
     "name": "stderr",
     "output_type": "stream",
     "text": [
      "\r",
      "Progress:  34%|███████████████████████▌                                             | 342/1000 [02:30<04:20,  2.52it/s]"
     ]
    },
    {
     "name": "stdout",
     "output_type": "stream",
     "text": [
      "Starting Node: Pys\n",
      "Ending Node: Minecraft\n",
      "Path Length: 5\n",
      "Path Exists: 1\n",
      "Path: ['Pys', 'France', 'Greece', '2011', 'Minecraft']\n"
     ]
    },
    {
     "name": "stderr",
     "output_type": "stream",
     "text": [
      "\r",
      "Progress:  34%|███████████████████████▋                                             | 343/1000 [02:31<04:27,  2.45it/s]"
     ]
    },
    {
     "name": "stdout",
     "output_type": "stream",
     "text": [
      "Starting Node: Kite surfing\n",
      "Ending Node: Minecraft\n",
      "Path Length: 6\n",
      "Path Exists: 1\n",
      "Path: ['Kite surfing', 'Columbia River', 'Pacific Ocean', 'Earth', 'Microsoft', 'Minecraft']\n"
     ]
    },
    {
     "name": "stderr",
     "output_type": "stream",
     "text": [
      "\r",
      "Progress:  34%|███████████████████████▋                                             | 344/1000 [02:31<04:42,  2.33it/s]"
     ]
    },
    {
     "name": "stdout",
     "output_type": "stream",
     "text": [
      "Starting Node: Motoki Imagawa\n",
      "Ending Node: Minecraft\n",
      "Path Length: 5\n",
      "Path Exists: 1\n",
      "Path: ['Motoki Imagawa', 'Japan', 'Nintendo', 'Microsoft', 'Minecraft']\n"
     ]
    },
    {
     "name": "stderr",
     "output_type": "stream",
     "text": [
      "\r",
      "Progress:  34%|███████████████████████▊                                             | 345/1000 [02:32<04:35,  2.38it/s]"
     ]
    },
    {
     "name": "stdout",
     "output_type": "stream",
     "text": [
      "Starting Node: Kill the DJ\n",
      "Ending Node: Minecraft\n",
      "Path Length: 5\n",
      "Path Exists: 1\n",
      "Path: ['Kill the DJ', 'Green Day', 'December 14', '2011', 'Minecraft']\n"
     ]
    },
    {
     "name": "stderr",
     "output_type": "stream",
     "text": [
      "\r",
      "Progress:  35%|███████████████████████▊                                             | 346/1000 [02:32<05:05,  2.14it/s]"
     ]
    },
    {
     "name": "stdout",
     "output_type": "stream",
     "text": [
      "Starting Node: Riesbach\n",
      "Ending Node: Minecraft\n",
      "Path Length: 6\n",
      "Path Exists: 1\n",
      "Path: ['Riesbach', 'Zürich', 'San Francisco', 'San Francisco Bay Area', 'Microsoft', 'Minecraft']\n"
     ]
    },
    {
     "name": "stderr",
     "output_type": "stream",
     "text": [
      "\r",
      "Progress:  35%|███████████████████████▉                                             | 347/1000 [02:33<05:10,  2.11it/s]"
     ]
    },
    {
     "name": "stdout",
     "output_type": "stream",
     "text": [
      "Starting Node: London Transport Executive\n",
      "Ending Node: Minecraft\n",
      "Path Length: 5\n",
      "Path Exists: 1\n",
      "Path: ['London Transport Executive', 'England', 'UEFA Euro 2012', '2011', 'Minecraft']\n"
     ]
    },
    {
     "name": "stderr",
     "output_type": "stream",
     "text": [
      "\r",
      "Progress:  35%|████████████████████████                                             | 348/1000 [02:33<04:44,  2.29it/s]"
     ]
    },
    {
     "name": "stdout",
     "output_type": "stream",
     "text": [
      "Starting Node: Nick and Norah's Infinite Playlist\n",
      "Ending Node: Minecraft\n",
      "Path Length: 5\n",
      "Path Exists: 1\n",
      "Path: [\"Nick and Norah's Infinite Playlist\", 'Columbia Pictures', 'Walker, Texas Ranger', 'Martial arts', 'Minecraft']\n"
     ]
    },
    {
     "name": "stderr",
     "output_type": "stream",
     "text": [
      "\r",
      "Progress:  35%|████████████████████████                                             | 349/1000 [02:34<04:41,  2.31it/s]"
     ]
    },
    {
     "name": "stdout",
     "output_type": "stream",
     "text": [
      "Starting Node: Marktredwitz\n",
      "Ending Node: Minecraft\n",
      "Path Length: 5\n",
      "Path Exists: 1\n",
      "Path: ['Marktredwitz', 'Bavaria', 'Santa Claus', 'Microsoft', 'Minecraft']\n"
     ]
    },
    {
     "name": "stderr",
     "output_type": "stream",
     "text": [
      "\r",
      "Progress:  35%|████████████████████████▏                                            | 350/1000 [02:34<04:58,  2.18it/s]"
     ]
    },
    {
     "name": "stdout",
     "output_type": "stream",
     "text": [
      "Starting Node: Willem Janszoon\n",
      "Ending Node: Minecraft\n",
      "Path Length: 5\n",
      "Path Exists: 1\n",
      "Path: ['Willem Janszoon', 'Australia', 'Greece', '2011', 'Minecraft']\n"
     ]
    },
    {
     "name": "stderr",
     "output_type": "stream",
     "text": [
      "Progress:  35%|████████████████████████▎                                            | 352/1000 [02:35<03:39,  2.95it/s]"
     ]
    },
    {
     "name": "stdout",
     "output_type": "stream",
     "text": [
      "Starting Node: Antique\n",
      "Ending Node: Minecraft\n",
      "Path Length: 5\n",
      "Path Exists: 1\n",
      "Path: ['Antique', 'Automobile', 'Earth', 'Microsoft', 'Minecraft']\n",
      "Starting Node: Brent Forrester\n",
      "Ending Node: Minecraft\n",
      "Path Length: 5\n",
      "Path Exists: 1\n",
      "Path: ['Brent Forrester', 'Columbia University', 'Harvard University', 'Microsoft', 'Minecraft']\n"
     ]
    },
    {
     "name": "stderr",
     "output_type": "stream",
     "text": [
      "\r",
      "Progress:  35%|████████████████████████▎                                            | 353/1000 [02:35<03:46,  2.86it/s]"
     ]
    },
    {
     "name": "stdout",
     "output_type": "stream",
     "text": [
      "Starting Node: Shawn Sawyer\n",
      "Ending Node: Minecraft\n",
      "Path Length: 4\n",
      "Path Exists: 1\n",
      "Path: ['Shawn Sawyer', '1985', 'Microsoft', 'Minecraft']\n"
     ]
    },
    {
     "name": "stderr",
     "output_type": "stream",
     "text": [
      "\r",
      "Progress:  35%|████████████████████████▍                                            | 354/1000 [02:36<05:01,  2.14it/s]"
     ]
    },
    {
     "name": "stdout",
     "output_type": "stream",
     "text": [
      "Starting Node: Born to Be Loved\n",
      "Ending Node: Minecraft\n",
      "Path Length: 7\n",
      "Path Exists: 1\n",
      "Path: ['Born to Be Loved', 'Carol Morris', 'Miss Universe', 'Mexico', '1940', '2011', 'Minecraft']\n"
     ]
    },
    {
     "name": "stderr",
     "output_type": "stream",
     "text": [
      "Progress:  36%|████████████████████████▌                                            | 356/1000 [02:36<03:59,  2.69it/s]"
     ]
    },
    {
     "name": "stdout",
     "output_type": "stream",
     "text": [
      "Starting Node: Ehingen\n",
      "Ending Node: Minecraft\n",
      "Path Length: 6\n",
      "Path Exists: 1\n",
      "Path: ['Ehingen', 'Germany', 'Homelessness', 'YouTube', 'MrBeast', 'Minecraft']\n",
      "Starting Node: Canal Winchester, Ohio\n",
      "Ending Node: Minecraft\n",
      "Path Length: 5\n",
      "Path Exists: 1\n",
      "Path: ['Canal Winchester, Ohio', 'United States', 'Xbox Game Studios', 'Mojang Studios', 'Minecraft']\n"
     ]
    },
    {
     "name": "stderr",
     "output_type": "stream",
     "text": [
      "\r",
      "Progress:  36%|████████████████████████▋                                            | 357/1000 [02:37<05:03,  2.12it/s]"
     ]
    },
    {
     "name": "stdout",
     "output_type": "stream",
     "text": [
      "Starting Node: Edward Windsor\n",
      "Ending Node: Minecraft\n",
      "Path Length: 5\n",
      "Path Exists: 1\n",
      "Path: ['Edward Windsor', 'Charles III', '2021', 'Microsoft', 'Minecraft']\n"
     ]
    },
    {
     "name": "stderr",
     "output_type": "stream",
     "text": [
      "\r",
      "Progress:  36%|████████████████████████▋                                            | 358/1000 [02:38<05:17,  2.02it/s]"
     ]
    },
    {
     "name": "stdout",
     "output_type": "stream",
     "text": [
      "Starting Node: Taylor Chorney\n",
      "Ending Node: Minecraft\n",
      "Path Length: 5\n",
      "Path Exists: 1\n",
      "Path: ['Taylor Chorney', 'Los Angeles Kings', '2012', '2011', 'Minecraft']\n"
     ]
    },
    {
     "name": "stderr",
     "output_type": "stream",
     "text": [
      "\r",
      "Progress:  36%|████████████████████████▊                                            | 359/1000 [02:38<05:06,  2.09it/s]"
     ]
    },
    {
     "name": "stdout",
     "output_type": "stream",
     "text": [
      "Starting Node: Midnight (Hunter novel)\n",
      "Ending Node: Minecraft\n",
      "Path Length: 5\n",
      "Path Exists: 1\n",
      "Path: ['Midnight (Hunter novel)', 'England', 'UEFA Euro 2012', '2011', 'Minecraft']\n"
     ]
    },
    {
     "name": "stderr",
     "output_type": "stream",
     "text": [
      "\r",
      "Progress:  36%|████████████████████████▊                                            | 360/1000 [02:39<05:09,  2.07it/s]"
     ]
    },
    {
     "name": "stdout",
     "output_type": "stream",
     "text": [
      "Starting Node: Ricardo dos Santos\n",
      "Ending Node: Minecraft\n",
      "Path Length: 5\n",
      "Path Exists: 1\n",
      "Path: ['Ricardo dos Santos', 'Australia', 'Greece', '2011', 'Minecraft']\n",
      "Starting Node: Swing (seat)\n",
      "Ending Node: Minecraft\n",
      "Path Length: 5\n",
      "Path Exists: 1\n",
      "Path: ['Swing (seat)', 'Acrobatics', 'Greece', '2011', 'Minecraft']\n"
     ]
    },
    {
     "name": "stderr",
     "output_type": "stream",
     "text": [
      "\r",
      "Progress:  36%|████████████████████████▉                                            | 362/1000 [02:39<03:57,  2.68it/s]"
     ]
    },
    {
     "name": "stdout",
     "output_type": "stream",
     "text": [
      "Starting Node: Three Girls Lost\n",
      "Ending Node: Minecraft\n",
      "Path Length: 6\n",
      "Path Exists: 1\n",
      "Path: ['Three Girls Lost', 'John Wayne', 'George Bancroft', 'Harvard University', 'Microsoft', 'Minecraft']\n"
     ]
    },
    {
     "name": "stderr",
     "output_type": "stream",
     "text": [
      "\r",
      "Progress:  36%|█████████████████████████                                            | 363/1000 [02:39<04:05,  2.59it/s]"
     ]
    },
    {
     "name": "stdout",
     "output_type": "stream",
     "text": [
      "Starting Node: Seat belt\n",
      "Ending Node: Minecraft\n",
      "Path Length: 6\n",
      "Path Exists: 1\n",
      "Path: ['Seat belt', 'Pasadena, California', 'Los Angeles', 'April 4', '2011', 'Minecraft']\n"
     ]
    },
    {
     "name": "stderr",
     "output_type": "stream",
     "text": [
      "\r",
      "Progress:  36%|█████████████████████████                                            | 364/1000 [02:40<05:03,  2.09it/s]"
     ]
    },
    {
     "name": "stdout",
     "output_type": "stream",
     "text": [
      "Starting Node: Vilters-Wangs\n",
      "Ending Node: Minecraft\n",
      "Path Length: 5\n",
      "Path Exists: 1\n",
      "Path: ['Vilters-Wangs', 'Cantons of Switzerland', '2001', 'Microsoft', 'Minecraft']\n"
     ]
    },
    {
     "name": "stderr",
     "output_type": "stream",
     "text": [
      "\r",
      "Progress:  36%|█████████████████████████▏                                           | 365/1000 [02:41<05:19,  1.99it/s]"
     ]
    },
    {
     "name": "stdout",
     "output_type": "stream",
     "text": [
      "Starting Node: Hawaii County, Hawaii\n",
      "Ending Node: Minecraft\n",
      "Path Length: 6\n",
      "Path Exists: 1\n",
      "Path: ['Hawaii County, Hawaii', 'County (United States)', 'List of counties in Ohio', 'Encyclopædia Britannica', 'Microsoft', 'Minecraft']\n"
     ]
    },
    {
     "name": "stderr",
     "output_type": "stream",
     "text": [
      "Progress:  37%|█████████████████████████▎                                           | 367/1000 [02:41<03:58,  2.65it/s]"
     ]
    },
    {
     "name": "stdout",
     "output_type": "stream",
     "text": [
      "Starting Node: Finnish Wikipedia\n",
      "Ending Node: Minecraft\n",
      "Path Length: 5\n",
      "Path Exists: 1\n",
      "Path: ['Finnish Wikipedia', 'Wikimedia Foundation', 'Kiwix', 'Microsoft', 'Minecraft']\n",
      "Starting Node: Lenny Kravitz\n",
      "Ending Node: Minecraft\n",
      "Path Length: 5\n",
      "Path Exists: 1\n",
      "Path: ['Lenny Kravitz', 'Aerosmith', 'YouTube', 'MrBeast', 'Minecraft']\n"
     ]
    },
    {
     "name": "stderr",
     "output_type": "stream",
     "text": [
      "Progress:  37%|█████████████████████████▍                                           | 369/1000 [02:42<03:59,  2.64it/s]"
     ]
    },
    {
     "name": "stdout",
     "output_type": "stream",
     "text": [
      "Starting Node: Paolo Pandrin\n",
      "Ending Node: Minecraft\n",
      "Path Length: 5\n",
      "Path Exists: 1\n",
      "Path: ['Paolo Pandrin', 'Italy', 'Mario Draghi', 'Mario', 'Minecraft']\n",
      "Starting Node: Lázaro Cárdenas\n",
      "Ending Node: Minecraft\n",
      "Path Length: 5\n",
      "Path Exists: 1\n",
      "Path: ['Lázaro Cárdenas', 'Mexico', '1940', '2011', 'Minecraft']\n"
     ]
    },
    {
     "name": "stderr",
     "output_type": "stream",
     "text": [
      "\r",
      "Progress:  37%|█████████████████████████▌                                           | 370/1000 [02:43<03:49,  2.74it/s]"
     ]
    },
    {
     "name": "stdout",
     "output_type": "stream",
     "text": [
      "Starting Node: ZFS\n",
      "Ending Node: Minecraft\n",
      "Path Length: 5\n",
      "Path Exists: 1\n",
      "Path: ['ZFS', 'FreeBSD', 'Microsoft Windows', 'Microsoft', 'Minecraft']\n"
     ]
    },
    {
     "name": "stderr",
     "output_type": "stream",
     "text": [
      "\r",
      "Progress:  37%|█████████████████████████▌                                           | 371/1000 [02:43<04:20,  2.41it/s]"
     ]
    },
    {
     "name": "stdout",
     "output_type": "stream",
     "text": [
      "Starting Node: My Name Is Rachel Corrie\n",
      "Ending Node: Minecraft\n",
      "Path Length: 6\n",
      "Path Exists: 1\n",
      "Path: ['My Name Is Rachel Corrie', 'Alan Rickman', 'Los Angeles', 'April 4', '2011', 'Minecraft']\n",
      "Starting Node: Baker's yeast\n",
      "Ending Node: Minecraft\n",
      "Path Exists: 0\n"
     ]
    },
    {
     "name": "stderr",
     "output_type": "stream",
     "text": [
      "\r",
      "Progress:  37%|█████████████████████████▋                                           | 373/1000 [02:44<03:39,  2.85it/s]"
     ]
    },
    {
     "name": "stdout",
     "output_type": "stream",
     "text": [
      "Starting Node: Enghien-les-Bains\n",
      "Ending Node: Minecraft\n",
      "Path Length: 5\n",
      "Path Exists: 1\n",
      "Path: ['Enghien-les-Bains', 'France', 'Greece', '2011', 'Minecraft']\n"
     ]
    },
    {
     "name": "stderr",
     "output_type": "stream",
     "text": [
      "\r",
      "Progress:  37%|█████████████████████████▊                                           | 374/1000 [02:44<04:16,  2.44it/s]"
     ]
    },
    {
     "name": "stdout",
     "output_type": "stream",
     "text": [
      "Starting Node: Johann Klima\n",
      "Ending Node: Minecraft\n",
      "Path Length: 6\n",
      "Path Exists: 1\n",
      "Path: ['Johann Klima', 'Hungary national football team', 'UEFA European Championship', 'UEFA Euro 2012', '2011', 'Minecraft']\n"
     ]
    },
    {
     "name": "stderr",
     "output_type": "stream",
     "text": [
      "\r",
      "Progress:  38%|█████████████████████████▉                                           | 375/1000 [02:45<04:06,  2.53it/s]"
     ]
    },
    {
     "name": "stdout",
     "output_type": "stream",
     "text": [
      "Starting Node: Lowland tropical bullfrog\n",
      "Ending Node: Minecraft\n",
      "Path Length: 5\n",
      "Path Exists: 1\n",
      "Path: ['Lowland tropical bullfrog', 'Brazil', 'Earth', 'Microsoft', 'Minecraft']\n",
      "Starting Node: Ala-ud-din Khalji\n",
      "Ending Node: Minecraft\n",
      "Path Length: 4\n",
      "Path Exists: 1\n",
      "Path: ['Ala-ud-din Khalji', 'Encyclopædia Britannica', 'Microsoft', 'Minecraft']\n"
     ]
    },
    {
     "name": "stderr",
     "output_type": "stream",
     "text": [
      "\r",
      "Progress:  38%|██████████████████████████                                           | 377/1000 [02:45<03:14,  3.20it/s]"
     ]
    },
    {
     "name": "stdout",
     "output_type": "stream",
     "text": [
      "Starting Node: Mohit Raina\n",
      "Ending Node: Minecraft\n",
      "Path Length: 5\n",
      "Path Exists: 1\n",
      "Path: ['Mohit Raina', 'India', 'Encyclopædia Britannica', 'Microsoft', 'Minecraft']\n"
     ]
    },
    {
     "name": "stderr",
     "output_type": "stream",
     "text": [
      "\r",
      "Progress:  38%|██████████████████████████                                           | 378/1000 [02:46<04:21,  2.38it/s]"
     ]
    },
    {
     "name": "stdout",
     "output_type": "stream",
     "text": [
      "Starting Node: Lawyers, Guns and Money\n",
      "Ending Node: Minecraft\n",
      "Path Length: 6\n",
      "Path Exists: 1\n",
      "Path: ['Lawyers, Guns and Money', 'Warren Zevon', 'Pacific Ocean', 'Earth', 'Microsoft', 'Minecraft']\n"
     ]
    },
    {
     "name": "stderr",
     "output_type": "stream",
     "text": [
      "\r",
      "Progress:  38%|██████████████████████████▏                                          | 379/1000 [02:46<04:19,  2.39it/s]"
     ]
    },
    {
     "name": "stdout",
     "output_type": "stream",
     "text": [
      "Starting Node: Krk (town)\n",
      "Ending Node: Minecraft\n",
      "Path Length: 6\n",
      "Path Exists: 1\n",
      "Path: ['Krk (town)', 'Central European Summer Time', 'Antarctica', 'Earth', 'Microsoft', 'Minecraft']\n"
     ]
    },
    {
     "name": "stderr",
     "output_type": "stream",
     "text": [
      "\r",
      "Progress:  38%|██████████████████████████▏                                          | 380/1000 [02:47<04:39,  2.22it/s]"
     ]
    },
    {
     "name": "stdout",
     "output_type": "stream",
     "text": [
      "Starting Node: Waterford F.C.\n",
      "Ending Node: Minecraft\n",
      "Path Length: 6\n",
      "Path Exists: 1\n",
      "Path: ['Waterford F.C.', 'Bobby Charlton', 'National Soccer League', 'Greece', '2011', 'Minecraft']\n"
     ]
    },
    {
     "name": "stderr",
     "output_type": "stream",
     "text": [
      "Progress:  38%|██████████████████████████▎                                          | 382/1000 [02:48<04:33,  2.26it/s]"
     ]
    },
    {
     "name": "stdout",
     "output_type": "stream",
     "text": [
      "Starting Node: Fanfare\n",
      "Ending Node: Minecraft\n",
      "Path Length: 5\n",
      "Path Exists: 1\n",
      "Path: ['Fanfare', 'France', 'Greece', '2011', 'Minecraft']\n",
      "Starting Node: An Innocent Man (movie)\n",
      "Ending Node: Minecraft\n",
      "Path Length: 6\n",
      "Path Exists: 1\n",
      "Path: ['An Innocent Man (movie)', 'Todd Graff', 'United States', 'Xbox Game Studios', 'Mojang Studios', 'Minecraft']\n"
     ]
    },
    {
     "name": "stderr",
     "output_type": "stream",
     "text": [
      "\r",
      "Progress:  38%|██████████████████████████▍                                          | 383/1000 [02:48<05:24,  1.90it/s]"
     ]
    },
    {
     "name": "stdout",
     "output_type": "stream",
     "text": [
      "Starting Node: International Formula 3000\n",
      "Ending Node: Minecraft\n",
      "Path Length: 6\n",
      "Path Exists: 1\n",
      "Path: ['International Formula 3000', 'GP2 Series', 'Brazil', 'Earth', 'Microsoft', 'Minecraft']\n"
     ]
    },
    {
     "name": "stderr",
     "output_type": "stream",
     "text": [
      "\r",
      "Progress:  38%|██████████████████████████▍                                          | 384/1000 [02:49<05:14,  1.96it/s]"
     ]
    },
    {
     "name": "stdout",
     "output_type": "stream",
     "text": [
      "Starting Node: University of Tokyo\n",
      "Ending Node: Minecraft\n",
      "Path Length: 5\n",
      "Path Exists: 1\n",
      "Path: ['University of Tokyo', 'World War II', 'Greece', '2011', 'Minecraft']\n"
     ]
    },
    {
     "name": "stderr",
     "output_type": "stream",
     "text": [
      "\r",
      "Progress:  38%|██████████████████████████▌                                          | 385/1000 [02:49<05:01,  2.04it/s]"
     ]
    },
    {
     "name": "stdout",
     "output_type": "stream",
     "text": [
      "Starting Node: Luleå HF\n",
      "Ending Node: Minecraft\n",
      "Path Length: 5\n",
      "Path Exists: 1\n",
      "Path: ['Luleå HF', 'Sweden', '1995', 'Microsoft', 'Minecraft']\n",
      "Starting Node: Dallinghoo\n",
      "Ending Node: Minecraft\n",
      "Path Length: 5\n",
      "Path Exists: 1\n",
      "Path: ['Dallinghoo', 'Suffolk', 'Bury St Edmunds', 'Microsoft', 'Minecraft']\n"
     ]
    },
    {
     "name": "stderr",
     "output_type": "stream",
     "text": [
      "\r",
      "Progress:  39%|██████████████████████████▋                                          | 387/1000 [02:50<03:55,  2.60it/s]"
     ]
    },
    {
     "name": "stdout",
     "output_type": "stream",
     "text": [
      "Starting Node: Bauen\n",
      "Ending Node: Minecraft\n",
      "Path Length: 5\n",
      "Path Exists: 1\n",
      "Path: ['Bauen', 'Cantons of Switzerland', '2001', 'Microsoft', 'Minecraft']\n",
      "Starting Node: The Happy Cricket\n",
      "Ending Node: Minecraft\n",
      "Path Exists: 0\n"
     ]
    },
    {
     "name": "stderr",
     "output_type": "stream",
     "text": [
      "\r",
      "Progress:  39%|██████████████████████████▊                                          | 389/1000 [02:50<03:00,  3.39it/s]"
     ]
    },
    {
     "name": "stdout",
     "output_type": "stream",
     "text": [
      "Starting Node: Paul Samuelson\n",
      "Ending Node: Minecraft\n",
      "Path Length: 4\n",
      "Path Exists: 1\n",
      "Path: ['Paul Samuelson', 'Harvard University', 'Microsoft', 'Minecraft']\n"
     ]
    },
    {
     "name": "stderr",
     "output_type": "stream",
     "text": [
      "\r",
      "Progress:  39%|██████████████████████████▉                                          | 390/1000 [02:51<03:13,  3.16it/s]"
     ]
    },
    {
     "name": "stdout",
     "output_type": "stream",
     "text": [
      "Starting Node: Governor of Hong Kong\n",
      "Ending Node: Minecraft\n",
      "Path Length: 5\n",
      "Path Exists: 1\n",
      "Path: ['Governor of Hong Kong', 'Monarchy of the United Kingdom', '2022', 'Microsoft', 'Minecraft']\n"
     ]
    },
    {
     "name": "stderr",
     "output_type": "stream",
     "text": [
      "\r",
      "Progress:  39%|██████████████████████████▉                                          | 391/1000 [02:51<03:37,  2.80it/s]"
     ]
    },
    {
     "name": "stdout",
     "output_type": "stream",
     "text": [
      "Starting Node: Judiciary of the Isle of Man\n",
      "Ending Node: Minecraft\n",
      "Path Length: 6\n",
      "Path Exists: 1\n",
      "Path: ['Judiciary of the Isle of Man', 'Channel Islands', 'France', 'Greece', '2011', 'Minecraft']\n"
     ]
    },
    {
     "name": "stderr",
     "output_type": "stream",
     "text": [
      "\r",
      "Progress:  39%|███████████████████████████                                          | 392/1000 [02:51<03:42,  2.73it/s]"
     ]
    },
    {
     "name": "stdout",
     "output_type": "stream",
     "text": [
      "Starting Node: Mauisaurus\n",
      "Ending Node: Minecraft\n",
      "Path Length: 6\n",
      "Path Exists: 1\n",
      "Path: ['Mauisaurus', 'Upper Cretaceous', 'Rock (geology)', 'Earth', 'Microsoft', 'Minecraft']\n"
     ]
    },
    {
     "name": "stderr",
     "output_type": "stream",
     "text": [
      "\r",
      "Progress:  39%|███████████████████████████                                          | 393/1000 [02:52<04:37,  2.19it/s]"
     ]
    },
    {
     "name": "stdout",
     "output_type": "stream",
     "text": [
      "Starting Node: Nemai Ghosh (photographer)\n",
      "Ending Node: Minecraft\n",
      "Path Length: 6\n",
      "Path Exists: 1\n",
      "Path: ['Nemai Ghosh (photographer)', 'Kolkata', 'France', 'Greece', '2011', 'Minecraft']\n"
     ]
    },
    {
     "name": "stderr",
     "output_type": "stream",
     "text": [
      "\r",
      "Progress:  39%|███████████████████████████▏                                         | 394/1000 [02:53<04:34,  2.21it/s]"
     ]
    },
    {
     "name": "stdout",
     "output_type": "stream",
     "text": [
      "Starting Node: Fujio Yamamoto\n",
      "Ending Node: Minecraft\n",
      "Path Length: 5\n",
      "Path Exists: 1\n",
      "Path: ['Fujio Yamamoto', 'Japan', 'Nintendo', 'Microsoft', 'Minecraft']\n"
     ]
    },
    {
     "name": "stderr",
     "output_type": "stream",
     "text": [
      "\r",
      "Progress:  40%|███████████████████████████▎                                         | 395/1000 [02:53<04:39,  2.16it/s]"
     ]
    },
    {
     "name": "stdout",
     "output_type": "stream",
     "text": [
      "Starting Node: Kristine Miller\n",
      "Ending Node: Minecraft\n",
      "Path Length: 5\n",
      "Path Exists: 1\n",
      "Path: ['Kristine Miller', 'Denmark', 'April', '2011', 'Minecraft']\n"
     ]
    },
    {
     "name": "stderr",
     "output_type": "stream",
     "text": [
      "\r",
      "Progress:  40%|███████████████████████████▎                                         | 396/1000 [02:53<04:29,  2.24it/s]"
     ]
    },
    {
     "name": "stdout",
     "output_type": "stream",
     "text": [
      "Starting Node: Arthur Moulin\n",
      "Ending Node: Minecraft\n",
      "Path Length: 6\n",
      "Path Exists: 1\n",
      "Path: ['Arthur Moulin', 'Saint-Aubin, Nord', 'Departments of France', 'Guéret', 'Wolf', 'Minecraft']\n"
     ]
    },
    {
     "name": "stderr",
     "output_type": "stream",
     "text": [
      "\r",
      "Progress:  40%|███████████████████████████▍                                         | 397/1000 [02:54<04:05,  2.46it/s]"
     ]
    },
    {
     "name": "stdout",
     "output_type": "stream",
     "text": [
      "Starting Node: Jayalal Rohana\n",
      "Ending Node: Minecraft\n",
      "Path Length: 5\n",
      "Path Exists: 1\n",
      "Path: ['Jayalal Rohana', 'Sri Lanka', 'Encyclopædia Britannica', 'Microsoft', 'Minecraft']\n"
     ]
    },
    {
     "name": "stderr",
     "output_type": "stream",
     "text": [
      "\r",
      "Progress:  40%|███████████████████████████▍                                         | 398/1000 [02:54<03:55,  2.55it/s]"
     ]
    },
    {
     "name": "stdout",
     "output_type": "stream",
     "text": [
      "Starting Node: Astrakhan Tatars\n",
      "Ending Node: Minecraft\n",
      "Path Length: 5\n",
      "Path Exists: 1\n",
      "Path: ['Astrakhan Tatars', 'India', 'Encyclopædia Britannica', 'Microsoft', 'Minecraft']\n"
     ]
    },
    {
     "name": "stderr",
     "output_type": "stream",
     "text": [
      "\r",
      "Progress:  40%|███████████████████████████▌                                         | 399/1000 [02:54<03:43,  2.69it/s]"
     ]
    },
    {
     "name": "stdout",
     "output_type": "stream",
     "text": [
      "Starting Node: Luzmila Abad\n",
      "Ending Node: Minecraft\n",
      "Path Length: 4\n",
      "Path Exists: 1\n",
      "Path: ['Luzmila Abad', 'September 4', '2011', 'Minecraft']\n"
     ]
    },
    {
     "name": "stderr",
     "output_type": "stream",
     "text": [
      "\r",
      "Progress:  40%|███████████████████████████▌                                         | 400/1000 [02:55<03:49,  2.61it/s]"
     ]
    },
    {
     "name": "stdout",
     "output_type": "stream",
     "text": [
      "Starting Node: Chahar Cheragh Square\n",
      "Ending Node: Minecraft\n",
      "Path Length: 5\n",
      "Path Exists: 1\n",
      "Path: ['Chahar Cheragh Square', 'Republic of Mahabad', '20th century', '2011', 'Minecraft']\n"
     ]
    },
    {
     "name": "stderr",
     "output_type": "stream",
     "text": [
      "\r",
      "Progress:  40%|███████████████████████████▋                                         | 401/1000 [02:55<04:03,  2.46it/s]"
     ]
    },
    {
     "name": "stdout",
     "output_type": "stream",
     "text": [
      "Starting Node: Herisau\n",
      "Ending Node: Minecraft\n",
      "Path Length: 5\n",
      "Path Exists: 1\n",
      "Path: ['Herisau', 'Appenzell Ausserrhoden', '2001', 'Microsoft', 'Minecraft']\n"
     ]
    },
    {
     "name": "stderr",
     "output_type": "stream",
     "text": [
      "\r",
      "Progress:  40%|███████████████████████████▋                                         | 402/1000 [02:56<04:13,  2.36it/s]"
     ]
    },
    {
     "name": "stdout",
     "output_type": "stream",
     "text": [
      "Starting Node: Time in Indonesia\n",
      "Ending Node: Minecraft\n",
      "Path Length: 6\n",
      "Path Exists: 1\n",
      "Path: ['Time in Indonesia', 'Jakarta', 'Japan', 'Nintendo', 'Microsoft', 'Minecraft']\n"
     ]
    },
    {
     "name": "stderr",
     "output_type": "stream",
     "text": [
      "\r",
      "Progress:  40%|███████████████████████████▊                                         | 403/1000 [02:56<04:21,  2.28it/s]"
     ]
    },
    {
     "name": "stdout",
     "output_type": "stream",
     "text": [
      "Starting Node: Harold Budd\n",
      "Ending Node: Minecraft\n",
      "Path Length: 6\n",
      "Path Exists: 1\n",
      "Path: ['Harold Budd', 'COVID-19', 'Thailand', 'September 19', '2011', 'Minecraft']\n"
     ]
    },
    {
     "name": "stderr",
     "output_type": "stream",
     "text": [
      "\r",
      "Progress:  40%|███████████████████████████▉                                         | 404/1000 [02:57<04:46,  2.08it/s]"
     ]
    },
    {
     "name": "stdout",
     "output_type": "stream",
     "text": [
      "Starting Node: Special administrative region\n",
      "Ending Node: Minecraft\n",
      "Path Length: 5\n",
      "Path Exists: 1\n",
      "Path: ['Special administrative region', 'Xi Jinping', 'Harvard University', 'Microsoft', 'Minecraft']\n"
     ]
    },
    {
     "name": "stderr",
     "output_type": "stream",
     "text": [
      "\r",
      "Progress:  40%|███████████████████████████▉                                         | 405/1000 [02:57<04:43,  2.10it/s]"
     ]
    },
    {
     "name": "stdout",
     "output_type": "stream",
     "text": [
      "Starting Node: Laconia, Indiana\n",
      "Ending Node: Minecraft\n",
      "Path Length: 5\n",
      "Path Exists: 1\n",
      "Path: ['Laconia, Indiana', 'United States', 'Xbox Game Studios', 'Mojang Studios', 'Minecraft']\n"
     ]
    },
    {
     "name": "stderr",
     "output_type": "stream",
     "text": [
      "\r",
      "Progress:  41%|████████████████████████████                                         | 406/1000 [02:58<04:43,  2.10it/s]"
     ]
    },
    {
     "name": "stdout",
     "output_type": "stream",
     "text": [
      "Starting Node: Gonzalo Alvarado\n",
      "Ending Node: Minecraft\n",
      "Path Length: 6\n",
      "Path Exists: 1\n",
      "Path: ['Gonzalo Alvarado', 'Olympic weightlifting', 'World Weightlifting Championships', 'Greece', '2011', 'Minecraft']\n"
     ]
    },
    {
     "name": "stderr",
     "output_type": "stream",
     "text": [
      "\r",
      "Progress:  41%|████████████████████████████                                         | 407/1000 [02:58<04:44,  2.08it/s]"
     ]
    },
    {
     "name": "stdout",
     "output_type": "stream",
     "text": [
      "Starting Node: Medialab Technology\n",
      "Ending Node: Minecraft\n",
      "Path Length: 5\n",
      "Path Exists: 1\n",
      "Path: ['Medialab Technology', 'France', 'Greece', '2011', 'Minecraft']\n"
     ]
    },
    {
     "name": "stderr",
     "output_type": "stream",
     "text": [
      "\r",
      "Progress:  41%|████████████████████████████▏                                        | 408/1000 [02:59<05:27,  1.81it/s]"
     ]
    },
    {
     "name": "stdout",
     "output_type": "stream",
     "text": [
      "Starting Node: Mauzé-Thouarsais\n",
      "Ending Node: Minecraft\n",
      "Path Length: 5\n",
      "Path Exists: 1\n",
      "Path: ['Mauzé-Thouarsais', 'France', 'Greece', '2011', 'Minecraft']\n"
     ]
    },
    {
     "name": "stderr",
     "output_type": "stream",
     "text": [
      "\r",
      "Progress:  41%|████████████████████████████▏                                        | 409/1000 [02:59<05:12,  1.89it/s]"
     ]
    },
    {
     "name": "stdout",
     "output_type": "stream",
     "text": [
      "Starting Node: Kahina\n",
      "Ending Node: Minecraft\n",
      "Path Length: 6\n",
      "Path Exists: 1\n",
      "Path: ['Kahina', 'Algeria', 'Islam', 'Encyclopædia Britannica', 'Microsoft', 'Minecraft']\n"
     ]
    },
    {
     "name": "stderr",
     "output_type": "stream",
     "text": [
      "\r",
      "Progress:  41%|████████████████████████████▎                                        | 410/1000 [03:00<04:47,  2.05it/s]"
     ]
    },
    {
     "name": "stdout",
     "output_type": "stream",
     "text": [
      "Starting Node: Katabatic wind\n",
      "Ending Node: Minecraft\n",
      "Path Length: 5\n",
      "Path Exists: 1\n",
      "Path: ['Katabatic wind', 'Europe', 'Greece', '2011', 'Minecraft']\n"
     ]
    },
    {
     "name": "stderr",
     "output_type": "stream",
     "text": [
      "\r",
      "Progress:  41%|████████████████████████████▎                                        | 411/1000 [03:00<04:56,  1.99it/s]"
     ]
    },
    {
     "name": "stdout",
     "output_type": "stream",
     "text": [
      "Starting Node: Minnie Miñoso\n",
      "Ending Node: Minecraft\n",
      "Path Length: 5\n",
      "Path Exists: 1\n",
      "Path: ['Minnie Miñoso', 'Major League Baseball', 'YouTube', 'MrBeast', 'Minecraft']\n"
     ]
    },
    {
     "name": "stderr",
     "output_type": "stream",
     "text": [
      "\r",
      "Progress:  41%|████████████████████████████▍                                        | 412/1000 [03:01<04:11,  2.34it/s]"
     ]
    },
    {
     "name": "stdout",
     "output_type": "stream",
     "text": [
      "Starting Node: Katalin Szőke\n",
      "Ending Node: Minecraft\n",
      "Path Length: 5\n",
      "Path Exists: 1\n",
      "Path: ['Katalin Szőke', 'Los Angeles', 'April 4', '2011', 'Minecraft']\n"
     ]
    },
    {
     "name": "stderr",
     "output_type": "stream",
     "text": [
      "\r",
      "Progress:  41%|████████████████████████████▍                                        | 413/1000 [03:01<03:46,  2.59it/s]"
     ]
    },
    {
     "name": "stdout",
     "output_type": "stream",
     "text": [
      "Starting Node: William S. McFeely\n",
      "Ending Node: Minecraft\n",
      "Path Length: 4\n",
      "Path Exists: 1\n",
      "Path: ['William S. McFeely', 'Harvard University', 'Microsoft', 'Minecraft']\n"
     ]
    },
    {
     "name": "stderr",
     "output_type": "stream",
     "text": [
      "\r",
      "Progress:  41%|████████████████████████████▌                                        | 414/1000 [03:01<03:58,  2.46it/s]"
     ]
    },
    {
     "name": "stdout",
     "output_type": "stream",
     "text": [
      "Starting Node: Bennie G. Adkins\n",
      "Ending Node: Minecraft\n",
      "Path Length: 6\n",
      "Path Exists: 1\n",
      "Path: ['Bennie G. Adkins', 'COVID-19', 'Thailand', 'September 19', '2011', 'Minecraft']\n"
     ]
    },
    {
     "name": "stderr",
     "output_type": "stream",
     "text": [
      "\r",
      "Progress:  42%|████████████████████████████▋                                        | 415/1000 [03:02<04:04,  2.39it/s]"
     ]
    },
    {
     "name": "stdout",
     "output_type": "stream",
     "text": [
      "Starting Node: Claudio Pafundi\n",
      "Ending Node: Minecraft\n",
      "Path Length: 6\n",
      "Path Exists: 1\n",
      "Path: ['Claudio Pafundi', 'Archery', 'Ancient Greece', 'Greece', '2011', 'Minecraft']\n"
     ]
    },
    {
     "name": "stderr",
     "output_type": "stream",
     "text": [
      "\r",
      "Progress:  42%|████████████████████████████▋                                        | 416/1000 [03:02<03:50,  2.54it/s]"
     ]
    },
    {
     "name": "stdout",
     "output_type": "stream",
     "text": [
      "Starting Node: Prince Benedetto, Duke of Chablais\n",
      "Ending Node: Minecraft\n",
      "Path Length: 5\n",
      "Path Exists: 1\n",
      "Path: ['Prince Benedetto, Duke of Chablais', 'Royal Highness', 'Greece', '2011', 'Minecraft']\n"
     ]
    },
    {
     "name": "stderr",
     "output_type": "stream",
     "text": [
      "\r",
      "Progress:  42%|████████████████████████████▊                                        | 417/1000 [03:03<04:28,  2.17it/s]"
     ]
    },
    {
     "name": "stdout",
     "output_type": "stream",
     "text": [
      "Starting Node: Apache Rifles\n",
      "Ending Node: Minecraft\n",
      "Path Length: 5\n",
      "Path Exists: 1\n",
      "Path: ['Apache Rifles', 'United States', 'Xbox Game Studios', 'Mojang Studios', 'Minecraft']\n",
      "Starting Node: 64 Studio\n",
      "Ending Node: Minecraft\n",
      "Path Length: 4\n",
      "Path Exists: 1\n",
      "Path: ['64 Studio', 'Open source', 'Microsoft', 'Minecraft']\n"
     ]
    },
    {
     "name": "stderr",
     "output_type": "stream",
     "text": [
      "\r",
      "Progress:  42%|████████████████████████████▉                                        | 419/1000 [03:03<03:23,  2.85it/s]"
     ]
    },
    {
     "name": "stdout",
     "output_type": "stream",
     "text": [
      "Starting Node: Clayton, Ohio\n",
      "Ending Node: Minecraft\n",
      "Path Length: 5\n",
      "Path Exists: 1\n",
      "Path: ['Clayton, Ohio', 'List of counties in Ohio', 'Encyclopædia Britannica', 'Microsoft', 'Minecraft']\n"
     ]
    },
    {
     "name": "stderr",
     "output_type": "stream",
     "text": [
      "\r",
      "Progress:  42%|████████████████████████████▉                                        | 420/1000 [03:04<03:20,  2.89it/s]"
     ]
    },
    {
     "name": "stdout",
     "output_type": "stream",
     "text": [
      "Starting Node: Sundar Nagar\n",
      "Ending Node: Minecraft\n",
      "Path Length: 6\n",
      "Path Exists: 1\n",
      "Path: ['Sundar Nagar', 'Himachal Pradesh', 'Rajasthani language', 'Microsoft Word', 'Microsoft', 'Minecraft']\n"
     ]
    },
    {
     "name": "stderr",
     "output_type": "stream",
     "text": [
      "\r",
      "Progress:  42%|█████████████████████████████                                        | 421/1000 [03:04<03:38,  2.64it/s]"
     ]
    },
    {
     "name": "stdout",
     "output_type": "stream",
     "text": [
      "Starting Node: Méounes-lès-Montrieux\n",
      "Ending Node: Minecraft\n",
      "Path Length: 5\n",
      "Path Exists: 1\n",
      "Path: ['Méounes-lès-Montrieux', 'France', 'Greece', '2011', 'Minecraft']\n"
     ]
    },
    {
     "name": "stderr",
     "output_type": "stream",
     "text": [
      "\r",
      "Progress:  42%|█████████████████████████████                                        | 422/1000 [03:04<03:48,  2.53it/s]"
     ]
    },
    {
     "name": "stdout",
     "output_type": "stream",
     "text": [
      "Starting Node: Gaullism\n",
      "Ending Node: Minecraft\n",
      "Path Length: 5\n",
      "Path Exists: 1\n",
      "Path: ['Gaullism', 'World War II', 'Greece', '2011', 'Minecraft']\n"
     ]
    },
    {
     "name": "stderr",
     "output_type": "stream",
     "text": [
      "\r",
      "Progress:  42%|█████████████████████████████▏                                       | 423/1000 [03:05<04:03,  2.37it/s]"
     ]
    },
    {
     "name": "stdout",
     "output_type": "stream",
     "text": [
      "Starting Node: Steenvoorde\n",
      "Ending Node: Minecraft\n",
      "Path Length: 5\n",
      "Path Exists: 1\n",
      "Path: ['Steenvoorde', 'France', 'Greece', '2011', 'Minecraft']\n"
     ]
    },
    {
     "name": "stderr",
     "output_type": "stream",
     "text": [
      "Progress:  42%|█████████████████████████████▎                                       | 425/1000 [03:06<03:59,  2.40it/s]"
     ]
    },
    {
     "name": "stdout",
     "output_type": "stream",
     "text": [
      "Starting Node: Chicot County, Arkansas\n",
      "Ending Node: Minecraft\n",
      "Path Length: 6\n",
      "Path Exists: 1\n",
      "Path: ['Chicot County, Arkansas', 'County (United States)', 'List of counties in Ohio', 'Encyclopædia Britannica', 'Microsoft', 'Minecraft']\n",
      "Starting Node: Rick Riordan\n",
      "Ending Node: Minecraft\n",
      "Path Length: 5\n",
      "Path Exists: 1\n",
      "Path: ['Rick Riordan', \"The Titan's Curse\", 'Protagonist', 'Mario', 'Minecraft']\n"
     ]
    },
    {
     "name": "stderr",
     "output_type": "stream",
     "text": [
      "\r",
      "Progress:  43%|█████████████████████████████▍                                       | 426/1000 [03:07<04:38,  2.06it/s]"
     ]
    },
    {
     "name": "stdout",
     "output_type": "stream",
     "text": [
      "Starting Node: Saint-Didier-en-Donjon\n",
      "Ending Node: Minecraft\n",
      "Path Length: 5\n",
      "Path Exists: 1\n",
      "Path: ['Saint-Didier-en-Donjon', 'Departments of France', 'Guéret', 'Wolf', 'Minecraft']\n"
     ]
    },
    {
     "name": "stderr",
     "output_type": "stream",
     "text": [
      "\r",
      "Progress:  43%|█████████████████████████████▍                                       | 427/1000 [03:07<04:45,  2.00it/s]"
     ]
    },
    {
     "name": "stdout",
     "output_type": "stream",
     "text": [
      "Starting Node: 2 Phút Hơn\n",
      "Ending Node: Minecraft\n",
      "Path Length: 6\n",
      "Path Exists: 1\n",
      "Path: ['2 Phút Hơn', 'Spotify', 'France', 'Greece', '2011', 'Minecraft']\n"
     ]
    },
    {
     "name": "stderr",
     "output_type": "stream",
     "text": [
      "\r",
      "Progress:  43%|█████████████████████████████▌                                       | 428/1000 [03:07<04:25,  2.15it/s]"
     ]
    },
    {
     "name": "stdout",
     "output_type": "stream",
     "text": [
      "Starting Node: Alaska Natives\n",
      "Ending Node: Minecraft\n",
      "Path Length: 5\n",
      "Path Exists: 1\n",
      "Path: ['Alaska Natives', 'Christianity', '20th century', '2011', 'Minecraft']\n"
     ]
    },
    {
     "name": "stderr",
     "output_type": "stream",
     "text": [
      "\r",
      "Progress:  43%|█████████████████████████████▌                                       | 429/1000 [03:08<04:27,  2.14it/s]"
     ]
    },
    {
     "name": "stdout",
     "output_type": "stream",
     "text": [
      "Starting Node: Erich Obermayer\n",
      "Ending Node: Minecraft\n",
      "Path Length: 6\n",
      "Path Exists: 1\n",
      "Path: ['Erich Obermayer', 'FK Austria Wien', 'Herbert Prohaska', '1955', '2011', 'Minecraft']\n"
     ]
    },
    {
     "name": "stderr",
     "output_type": "stream",
     "text": [
      "\r",
      "Progress:  43%|█████████████████████████████▋                                       | 430/1000 [03:08<04:25,  2.15it/s]"
     ]
    },
    {
     "name": "stdout",
     "output_type": "stream",
     "text": [
      "Starting Node: Thomas Anders\n",
      "Ending Node: Minecraft\n",
      "Path Length: 5\n",
      "Path Exists: 1\n",
      "Path: ['Thomas Anders', '1997', 'February 23', '2011', 'Minecraft']\n"
     ]
    },
    {
     "name": "stderr",
     "output_type": "stream",
     "text": [
      "\r",
      "Progress:  43%|█████████████████████████████▋                                       | 431/1000 [03:09<05:25,  1.75it/s]"
     ]
    },
    {
     "name": "stdout",
     "output_type": "stream",
     "text": [
      "Starting Node: Gnarls Barkley\n",
      "Ending Node: Minecraft\n",
      "Path Length: 5\n",
      "Path Exists: 1\n",
      "Path: ['Gnarls Barkley', 'United States', 'Xbox Game Studios', 'Mojang Studios', 'Minecraft']\n",
      "Starting Node: Arachne\n",
      "Ending Node: Minecraft\n",
      "Path Length: 4\n",
      "Path Exists: 1\n",
      "Path: ['Arachne', 'Greece', '2011', 'Minecraft']\n"
     ]
    },
    {
     "name": "stderr",
     "output_type": "stream",
     "text": [
      "\r",
      "Progress:  43%|█████████████████████████████▉                                       | 433/1000 [03:10<04:13,  2.24it/s]"
     ]
    },
    {
     "name": "stdout",
     "output_type": "stream",
     "text": [
      "Starting Node: Barbara Harris\n",
      "Ending Node: Minecraft\n",
      "Path Length: 6\n",
      "Path Exists: 1\n",
      "Path: ['Barbara Harris', 'Tony Award', 'United States', 'Xbox Game Studios', 'Mojang Studios', 'Minecraft']\n"
     ]
    },
    {
     "name": "stderr",
     "output_type": "stream",
     "text": [
      "\r",
      "Progress:  43%|█████████████████████████████▉                                       | 434/1000 [03:10<04:47,  1.97it/s]"
     ]
    },
    {
     "name": "stdout",
     "output_type": "stream",
     "text": [
      "Starting Node: Ouffet\n",
      "Ending Node: Minecraft\n",
      "Path Length: 6\n",
      "Path Exists: 1\n",
      "Path: ['Ouffet', 'Belgium', 'Islam', 'Encyclopædia Britannica', 'Microsoft', 'Minecraft']\n"
     ]
    },
    {
     "name": "stderr",
     "output_type": "stream",
     "text": [
      "Progress:  44%|██████████████████████████████                                       | 436/1000 [03:11<03:47,  2.48it/s]"
     ]
    },
    {
     "name": "stdout",
     "output_type": "stream",
     "text": [
      "Starting Node: John Galsworthy\n",
      "Ending Node: Minecraft\n",
      "Path Length: 6\n",
      "Path Exists: 1\n",
      "Path: ['John Galsworthy', 'H. G. Wells', 'A Modern Utopia', 'Earth', 'Microsoft', 'Minecraft']\n",
      "Starting Node: Old master print\n",
      "Ending Node: Minecraft\n",
      "Path Length: 5\n",
      "Path Exists: 1\n",
      "Path: ['Old master print', 'Europe', 'Greece', '2011', 'Minecraft']\n"
     ]
    },
    {
     "name": "stderr",
     "output_type": "stream",
     "text": [
      "\r",
      "Progress:  44%|██████████████████████████████▏                                      | 437/1000 [03:12<04:52,  1.93it/s]"
     ]
    },
    {
     "name": "stdout",
     "output_type": "stream",
     "text": [
      "Starting Node: Washington, Pennsylvania\n",
      "Ending Node: Minecraft\n",
      "Path Length: 6\n",
      "Path Exists: 1\n",
      "Path: ['Washington, Pennsylvania', '2010 United States Census', '2000 United States Census', 'Microsoft PowerPoint', 'Microsoft', 'Minecraft']\n"
     ]
    },
    {
     "name": "stderr",
     "output_type": "stream",
     "text": [
      "\r",
      "Progress:  44%|██████████████████████████████▏                                      | 438/1000 [03:12<04:45,  1.97it/s]"
     ]
    },
    {
     "name": "stdout",
     "output_type": "stream",
     "text": [
      "Starting Node: Froidchapelle\n",
      "Ending Node: Minecraft\n",
      "Path Length: 6\n",
      "Path Exists: 1\n",
      "Path: ['Froidchapelle', 'Belgium', 'Islam', 'Encyclopædia Britannica', 'Microsoft', 'Minecraft']\n"
     ]
    },
    {
     "name": "stderr",
     "output_type": "stream",
     "text": [
      "\r",
      "Progress:  44%|██████████████████████████████▎                                      | 439/1000 [03:13<04:24,  2.12it/s]"
     ]
    },
    {
     "name": "stdout",
     "output_type": "stream",
     "text": [
      "Starting Node: Hurricane Easy (1950)\n",
      "Ending Node: Minecraft\n",
      "Path Length: 5\n",
      "Path Exists: 1\n",
      "Path: ['Hurricane Easy (1950)', 'Atlantic hurricane', 'November 30', '2011', 'Minecraft']\n"
     ]
    },
    {
     "name": "stderr",
     "output_type": "stream",
     "text": [
      "\r",
      "Progress:  44%|██████████████████████████████▎                                      | 440/1000 [03:13<04:24,  2.12it/s]"
     ]
    },
    {
     "name": "stdout",
     "output_type": "stream",
     "text": [
      "Starting Node: Concevreux\n",
      "Ending Node: Minecraft\n",
      "Path Length: 5\n",
      "Path Exists: 1\n",
      "Path: ['Concevreux', 'France', 'Greece', '2011', 'Minecraft']\n"
     ]
    },
    {
     "name": "stderr",
     "output_type": "stream",
     "text": [
      "\r",
      "Progress:  44%|██████████████████████████████▍                                      | 441/1000 [03:14<04:17,  2.17it/s]"
     ]
    },
    {
     "name": "stdout",
     "output_type": "stream",
     "text": [
      "Starting Node: Dulmial\n",
      "Ending Node: Minecraft\n",
      "Path Length: 6\n",
      "Path Exists: 1\n",
      "Path: ['Dulmial', 'Tehsil', 'Sindh', 'Greece', '2011', 'Minecraft']\n"
     ]
    },
    {
     "name": "stderr",
     "output_type": "stream",
     "text": [
      "\r",
      "Progress:  44%|██████████████████████████████▍                                      | 442/1000 [03:14<04:25,  2.10it/s]"
     ]
    },
    {
     "name": "stdout",
     "output_type": "stream",
     "text": [
      "Starting Node: Charles Levin (actor)\n",
      "Ending Node: Minecraft\n",
      "Path Length: 6\n",
      "Path Exists: 1\n",
      "Path: ['Charles Levin (actor)', 'Illinois', 'Michelle Obama', 'Harvard University', 'Microsoft', 'Minecraft']\n"
     ]
    },
    {
     "name": "stderr",
     "output_type": "stream",
     "text": [
      "\r",
      "Progress:  44%|██████████████████████████████▌                                      | 443/1000 [03:15<04:19,  2.15it/s]"
     ]
    },
    {
     "name": "stdout",
     "output_type": "stream",
     "text": [
      "Starting Node: Shiro Teshima\n",
      "Ending Node: Minecraft\n",
      "Path Length: 5\n",
      "Path Exists: 1\n",
      "Path: ['Shiro Teshima', 'Japan', 'Nintendo', 'Microsoft', 'Minecraft']\n"
     ]
    },
    {
     "name": "stderr",
     "output_type": "stream",
     "text": [
      "\r",
      "Progress:  44%|██████████████████████████████▋                                      | 444/1000 [03:15<03:57,  2.34it/s]"
     ]
    },
    {
     "name": "stdout",
     "output_type": "stream",
     "text": [
      "Starting Node: Cristiano Zanetti\n",
      "Ending Node: Minecraft\n",
      "Path Length: 4\n",
      "Path Exists: 1\n",
      "Path: ['Cristiano Zanetti', '1977', '2011', 'Minecraft']\n"
     ]
    },
    {
     "name": "stderr",
     "output_type": "stream",
     "text": [
      "\r",
      "Progress:  44%|██████████████████████████████▋                                      | 445/1000 [03:16<04:50,  1.91it/s]"
     ]
    },
    {
     "name": "stdout",
     "output_type": "stream",
     "text": [
      "Starting Node: Bretonnières\n",
      "Ending Node: Minecraft\n",
      "Path Length: 5\n",
      "Path Exists: 1\n",
      "Path: ['Bretonnières', 'Vaud', '2008', 'Microsoft', 'Minecraft']\n"
     ]
    },
    {
     "name": "stderr",
     "output_type": "stream",
     "text": [
      "Progress:  45%|██████████████████████████████▊                                      | 447/1000 [03:16<03:39,  2.52it/s]"
     ]
    },
    {
     "name": "stdout",
     "output_type": "stream",
     "text": [
      "Starting Node: San Giuliano Milanese\n",
      "Ending Node: Minecraft\n",
      "Path Length: 5\n",
      "Path Exists: 1\n",
      "Path: ['San Giuliano Milanese', 'Italy', 'Mario Draghi', 'Mario', 'Minecraft']\n",
      "Starting Node: Hallstadt\n",
      "Ending Node: Minecraft\n",
      "Path Length: 5\n",
      "Path Exists: 1\n",
      "Path: ['Hallstadt', 'Bamberg', '1992', 'Microsoft', 'Minecraft']\n"
     ]
    },
    {
     "name": "stderr",
     "output_type": "stream",
     "text": [
      "\r",
      "Progress:  45%|██████████████████████████████▉                                      | 448/1000 [03:17<03:45,  2.45it/s]"
     ]
    },
    {
     "name": "stdout",
     "output_type": "stream",
     "text": [
      "Starting Node: Cecilia (songwriter)\n",
      "Ending Node: Minecraft\n",
      "Path Length: 5\n",
      "Path Exists: 1\n",
      "Path: ['Cecilia (songwriter)', 'Portugal', '1910', '2011', 'Minecraft']\n"
     ]
    },
    {
     "name": "stderr",
     "output_type": "stream",
     "text": [
      "\r",
      "Progress:  45%|██████████████████████████████▉                                      | 449/1000 [03:17<03:37,  2.54it/s]"
     ]
    },
    {
     "name": "stdout",
     "output_type": "stream",
     "text": [
      "Starting Node: Juan António Prieto Cardenas\n",
      "Ending Node: Minecraft\n",
      "Path Length: 5\n",
      "Path Exists: 1\n",
      "Path: ['Juan António Prieto Cardenas', 'Spain', '20th century', '2011', 'Minecraft']\n"
     ]
    },
    {
     "name": "stderr",
     "output_type": "stream",
     "text": [
      "\r",
      "Progress:  45%|███████████████████████████████                                      | 450/1000 [03:18<04:33,  2.01it/s]"
     ]
    },
    {
     "name": "stdout",
     "output_type": "stream",
     "text": [
      "Starting Node: Zen at War\n",
      "Ending Node: Minecraft\n",
      "Path Length: 5\n",
      "Path Exists: 1\n",
      "Path: ['Zen at War', 'Japan', 'Nintendo', 'Microsoft', 'Minecraft']\n"
     ]
    },
    {
     "name": "stderr",
     "output_type": "stream",
     "text": [
      "Progress:  45%|███████████████████████████████▎                                     | 453/1000 [03:19<02:54,  3.13it/s]"
     ]
    },
    {
     "name": "stdout",
     "output_type": "stream",
     "text": [
      "Starting Node: Maxim Mikhaylov\n",
      "Ending Node: Minecraft\n",
      "Path Length: 5\n",
      "Path Exists: 1\n",
      "Path: ['Maxim Mikhaylov', '2012 Summer Olympics', 'Greece', '2011', 'Minecraft']\n",
      "Starting Node: Barbel (anatomy)\n",
      "Ending Node: Minecraft\n",
      "Path Exists: 0\n",
      "Starting Node: Self-ownership\n",
      "Ending Node: Minecraft\n",
      "Path Length: 6\n",
      "Path Exists: 1\n",
      "Path: ['Self-ownership', 'Philosophy', 'Europe', 'Greece', '2011', 'Minecraft']\n"
     ]
    },
    {
     "name": "stderr",
     "output_type": "stream",
     "text": [
      "\r",
      "Progress:  45%|███████████████████████████████▎                                     | 454/1000 [03:19<03:42,  2.46it/s]"
     ]
    },
    {
     "name": "stdout",
     "output_type": "stream",
     "text": [
      "Starting Node: Unwritten (song)\n",
      "Ending Node: Minecraft\n",
      "Path Length: 6\n",
      "Path Exists: 1\n",
      "Path: ['Unwritten (song)', 'Natasha Bedingfield', 'Charitable organization', 'Philanthropy', 'MrBeast', 'Minecraft']\n",
      "Starting Node: Bayda, Libya\n",
      "Ending Node: Minecraft\n",
      "Path Length: 4\n",
      "Path Exists: 1\n",
      "Path: ['Bayda, Libya', 'Libyan Civil War (2011)', '2011', 'Minecraft']\n"
     ]
    },
    {
     "name": "stderr",
     "output_type": "stream",
     "text": [
      "\r",
      "Progress:  46%|███████████████████████████████▍                                     | 456/1000 [03:20<03:10,  2.85it/s]"
     ]
    },
    {
     "name": "stdout",
     "output_type": "stream",
     "text": [
      "Starting Node: Testimony\n",
      "Ending Node: Minecraft\n",
      "Path Length: 6\n",
      "Path Exists: 1\n",
      "Path: ['Testimony', 'Latin', 'Spanish language', '2021', 'Microsoft', 'Minecraft']\n"
     ]
    },
    {
     "name": "stderr",
     "output_type": "stream",
     "text": [
      "\r",
      "Progress:  46%|███████████████████████████████▌                                     | 457/1000 [03:20<03:25,  2.64it/s]"
     ]
    },
    {
     "name": "stdout",
     "output_type": "stream",
     "text": [
      "Starting Node: Empower Field at Mile High\n",
      "Ending Node: Minecraft\n",
      "Path Length: 5\n",
      "Path Exists: 1\n",
      "Path: ['Empower Field at Mile High', 'Major League Soccer', 'BC Place', '2011', 'Minecraft']\n"
     ]
    },
    {
     "name": "stderr",
     "output_type": "stream",
     "text": [
      "\r",
      "Progress:  46%|███████████████████████████████▌                                     | 458/1000 [03:21<03:32,  2.55it/s]"
     ]
    },
    {
     "name": "stdout",
     "output_type": "stream",
     "text": [
      "Starting Node: Simone Battle\n",
      "Ending Node: Minecraft\n",
      "Path Length: 5\n",
      "Path Exists: 1\n",
      "Path: ['Simone Battle', 'Pop music', 'Computer', 'Microsoft', 'Minecraft']\n"
     ]
    },
    {
     "name": "stderr",
     "output_type": "stream",
     "text": [
      "\r",
      "Progress:  46%|███████████████████████████████▋                                     | 459/1000 [03:21<03:26,  2.62it/s]"
     ]
    },
    {
     "name": "stdout",
     "output_type": "stream",
     "text": [
      "Starting Node: Ronald and Nancy Reagan Research Institute\n",
      "Ending Node: Minecraft\n",
      "Path Length: 5\n",
      "Path Exists: 1\n",
      "Path: ['Ronald and Nancy Reagan Research Institute', 'First Lady of the United States', 'Philanthropy', 'MrBeast', 'Minecraft']\n"
     ]
    },
    {
     "name": "stderr",
     "output_type": "stream",
     "text": [
      "\r",
      "Progress:  46%|███████████████████████████████▋                                     | 460/1000 [03:22<03:41,  2.44it/s]"
     ]
    },
    {
     "name": "stdout",
     "output_type": "stream",
     "text": [
      "Starting Node: Margaret Whiting\n",
      "Ending Node: Minecraft\n",
      "Path Length: 6\n",
      "Path Exists: 1\n",
      "Path: ['Margaret Whiting', 'Detroit', 'Ford Motor Company', 'S&P 500', 'Microsoft', 'Minecraft']\n"
     ]
    },
    {
     "name": "stderr",
     "output_type": "stream",
     "text": [
      "\r",
      "Progress:  46%|███████████████████████████████▊                                     | 461/1000 [03:22<04:08,  2.17it/s]"
     ]
    },
    {
     "name": "stdout",
     "output_type": "stream",
     "text": [
      "Starting Node: Franklins\n",
      "Ending Node: Minecraft\n",
      "Path Length: 5\n",
      "Path Exists: 1\n",
      "Path: ['Franklins', 'South Australia', 'November 23', '2011', 'Minecraft']\n"
     ]
    },
    {
     "name": "stderr",
     "output_type": "stream",
     "text": [
      "\r",
      "Progress:  46%|███████████████████████████████▉                                     | 462/1000 [03:23<04:28,  2.00it/s]"
     ]
    },
    {
     "name": "stdout",
     "output_type": "stream",
     "text": [
      "Starting Node: Püchersreuth\n",
      "Ending Node: Minecraft\n",
      "Path Length: 5\n",
      "Path Exists: 1\n",
      "Path: ['Püchersreuth', 'Bavaria', 'Santa Claus', 'Microsoft', 'Minecraft']\n"
     ]
    },
    {
     "name": "stderr",
     "output_type": "stream",
     "text": [
      "\r",
      "Progress:  46%|███████████████████████████████▉                                     | 463/1000 [03:23<04:21,  2.06it/s]"
     ]
    },
    {
     "name": "stdout",
     "output_type": "stream",
     "text": [
      "Starting Node: Ho Chi Minh trail\n",
      "Ending Node: Minecraft\n",
      "Path Length: 5\n",
      "Path Exists: 1\n",
      "Path: ['Ho Chi Minh trail', 'Ho Chi Minh', 'May 19', '2011', 'Minecraft']\n"
     ]
    },
    {
     "name": "stderr",
     "output_type": "stream",
     "text": [
      "\r",
      "Progress:  46%|████████████████████████████████                                     | 464/1000 [03:24<04:58,  1.80it/s]"
     ]
    },
    {
     "name": "stdout",
     "output_type": "stream",
     "text": [
      "Starting Node: Haimhausen\n",
      "Ending Node: Minecraft\n",
      "Path Length: 5\n",
      "Path Exists: 1\n",
      "Path: ['Haimhausen', 'Munich', 'Munich U-Bahn', '2011', 'Minecraft']\n"
     ]
    },
    {
     "name": "stderr",
     "output_type": "stream",
     "text": [
      "\r",
      "Progress:  46%|████████████████████████████████                                     | 465/1000 [03:25<05:07,  1.74it/s]"
     ]
    },
    {
     "name": "stdout",
     "output_type": "stream",
     "text": [
      "Starting Node: Jörg Schneider\n",
      "Ending Node: Minecraft\n",
      "Path Length: 6\n",
      "Path Exists: 1\n",
      "Path: ['Jörg Schneider', 'Zürich', 'San Francisco', 'San Francisco Bay Area', 'Microsoft', 'Minecraft']\n"
     ]
    },
    {
     "name": "stderr",
     "output_type": "stream",
     "text": [
      "\r",
      "Progress:  47%|████████████████████████████████▏                                    | 466/1000 [03:25<04:57,  1.80it/s]"
     ]
    },
    {
     "name": "stdout",
     "output_type": "stream",
     "text": [
      "Starting Node: Roullée\n",
      "Ending Node: Minecraft\n",
      "Path Length: 5\n",
      "Path Exists: 1\n",
      "Path: ['Roullée', 'France', 'Greece', '2011', 'Minecraft']\n"
     ]
    },
    {
     "name": "stderr",
     "output_type": "stream",
     "text": [
      "\r",
      "Progress:  47%|████████████████████████████████▏                                    | 467/1000 [03:26<04:42,  1.89it/s]"
     ]
    },
    {
     "name": "stdout",
     "output_type": "stream",
     "text": [
      "Starting Node: Francisco Massiani\n",
      "Ending Node: Minecraft\n",
      "Path Length: 5\n",
      "Path Exists: 1\n",
      "Path: ['Francisco Massiani', 'Age of majority', 'Greece', '2011', 'Minecraft']\n"
     ]
    },
    {
     "name": "stderr",
     "output_type": "stream",
     "text": [
      "\r",
      "Progress:  47%|████████████████████████████████▎                                    | 468/1000 [03:26<04:41,  1.89it/s]"
     ]
    },
    {
     "name": "stdout",
     "output_type": "stream",
     "text": [
      "Starting Node: Ariyalur district\n",
      "Ending Node: Minecraft\n",
      "Path Length: 5\n",
      "Path Exists: 1\n",
      "Path: ['Ariyalur district', 'Alaska', 'Moose', 'Wolf', 'Minecraft']\n"
     ]
    },
    {
     "name": "stderr",
     "output_type": "stream",
     "text": [
      "\r",
      "Progress:  47%|████████████████████████████████▎                                    | 469/1000 [03:26<03:51,  2.30it/s]"
     ]
    },
    {
     "name": "stdout",
     "output_type": "stream",
     "text": [
      "Starting Node: Rothenbrunnen\n",
      "Ending Node: Minecraft\n",
      "Path Length: 5\n",
      "Path Exists: 1\n",
      "Path: ['Rothenbrunnen', 'Cantons of Switzerland', '2001', 'Microsoft', 'Minecraft']\n"
     ]
    },
    {
     "name": "stderr",
     "output_type": "stream",
     "text": [
      "\r",
      "Progress:  47%|████████████████████████████████▍                                    | 470/1000 [03:27<03:27,  2.55it/s]"
     ]
    },
    {
     "name": "stdout",
     "output_type": "stream",
     "text": [
      "Starting Node: Rönesans Rezidans\n",
      "Ending Node: Minecraft\n",
      "Path Length: 4\n",
      "Path Exists: 1\n",
      "Path: ['Rönesans Rezidans', 'YouTube', 'MrBeast', 'Minecraft']\n"
     ]
    },
    {
     "name": "stderr",
     "output_type": "stream",
     "text": [
      "\r",
      "Progress:  47%|████████████████████████████████▍                                    | 471/1000 [03:27<03:29,  2.52it/s]"
     ]
    },
    {
     "name": "stdout",
     "output_type": "stream",
     "text": [
      "Starting Node: Harrisburg, North Carolina\n",
      "Ending Node: Minecraft\n",
      "Path Length: 5\n",
      "Path Exists: 1\n",
      "Path: ['Harrisburg, North Carolina', 'United States', 'Xbox Game Studios', 'Mojang Studios', 'Minecraft']\n"
     ]
    },
    {
     "name": "stderr",
     "output_type": "stream",
     "text": [
      "\r",
      "Progress:  47%|████████████████████████████████▌                                    | 472/1000 [03:27<03:19,  2.65it/s]"
     ]
    },
    {
     "name": "stdout",
     "output_type": "stream",
     "text": [
      "Starting Node: United Democratic Party (Belize)\n",
      "Ending Node: Minecraft\n",
      "Path Length: 5\n",
      "Path Exists: 1\n",
      "Path: ['United Democratic Party (Belize)', 'Government', 'Earth', 'Microsoft', 'Minecraft']\n",
      "Starting Node: Genesis creation narrative\n",
      "Ending Node: Minecraft\n",
      "Path Length: 5\n",
      "Path Exists: 1\n",
      "Path: ['Genesis creation narrative', 'Judaism', 'Earth', 'Microsoft', 'Minecraft']\n"
     ]
    },
    {
     "name": "stderr",
     "output_type": "stream",
     "text": [
      "\r",
      "Progress:  47%|████████████████████████████████▋                                    | 474/1000 [03:28<02:38,  3.32it/s]"
     ]
    },
    {
     "name": "stdout",
     "output_type": "stream",
     "text": [
      "Starting Node: Ravagers (movie)\n",
      "Ending Node: Minecraft\n",
      "Path Length: 5\n",
      "Path Exists: 1\n",
      "Path: ['Ravagers (movie)', 'Columbia Pictures', 'Walker, Texas Ranger', 'Martial arts', 'Minecraft']\n"
     ]
    },
    {
     "name": "stderr",
     "output_type": "stream",
     "text": [
      "\r",
      "Progress:  48%|████████████████████████████████▊                                    | 475/1000 [03:28<03:03,  2.86it/s]"
     ]
    },
    {
     "name": "stdout",
     "output_type": "stream",
     "text": [
      "Starting Node: Hooverphonic\n",
      "Ending Node: Minecraft\n",
      "Path Length: 4\n",
      "Path Exists: 1\n",
      "Path: ['Hooverphonic', '1995', 'Microsoft', 'Minecraft']\n",
      "Starting Node: Atmospheric chemistry\n",
      "Ending Node: Minecraft\n",
      "Path Length: 4\n",
      "Path Exists: 1\n",
      "Path: ['Atmospheric chemistry', 'Earth', 'Microsoft', 'Minecraft']\n"
     ]
    },
    {
     "name": "stderr",
     "output_type": "stream",
     "text": [
      "\r",
      "Progress:  48%|████████████████████████████████▉                                    | 477/1000 [03:29<03:19,  2.62it/s]"
     ]
    },
    {
     "name": "stdout",
     "output_type": "stream",
     "text": [
      "Starting Node: Neuwerk\n",
      "Ending Node: Minecraft\n",
      "Path Length: 5\n",
      "Path Exists: 1\n",
      "Path: ['Neuwerk', 'States of Germany', '1952', '2011', 'Minecraft']\n"
     ]
    },
    {
     "name": "stderr",
     "output_type": "stream",
     "text": [
      "\r",
      "Progress:  48%|████████████████████████████████▉                                    | 478/1000 [03:30<03:28,  2.50it/s]"
     ]
    },
    {
     "name": "stdout",
     "output_type": "stream",
     "text": [
      "Starting Node: Mitt Romney\n",
      "Ending Node: Minecraft\n",
      "Path Length: 4\n",
      "Path Exists: 1\n",
      "Path: ['Mitt Romney', 'YouTube', 'MrBeast', 'Minecraft']\n"
     ]
    },
    {
     "name": "stderr",
     "output_type": "stream",
     "text": [
      "\r",
      "Progress:  48%|█████████████████████████████████                                    | 479/1000 [03:30<03:32,  2.45it/s]"
     ]
    },
    {
     "name": "stdout",
     "output_type": "stream",
     "text": [
      "Starting Node: Lilo & Stitch: The Series\n",
      "Ending Node: Minecraft\n",
      "Path Length: 5\n",
      "Path Exists: 1\n",
      "Path: ['Lilo & Stitch: The Series', 'Dee Bradley Baker', 'Avatar: The Last Airbender', 'Martial arts', 'Minecraft']\n"
     ]
    },
    {
     "name": "stderr",
     "output_type": "stream",
     "text": [
      "\r",
      "Progress:  48%|█████████████████████████████████                                    | 480/1000 [03:30<03:39,  2.37it/s]"
     ]
    },
    {
     "name": "stdout",
     "output_type": "stream",
     "text": [
      "Starting Node: Aalten\n",
      "Ending Node: Minecraft\n",
      "Path Length: 5\n",
      "Path Exists: 1\n",
      "Path: ['Aalten', 'Provinces of the Netherlands', 'January 1', '2011', 'Minecraft']\n"
     ]
    },
    {
     "name": "stderr",
     "output_type": "stream",
     "text": [
      "\r",
      "Progress:  48%|█████████████████████████████████▏                                   | 481/1000 [03:31<03:46,  2.29it/s]"
     ]
    },
    {
     "name": "stdout",
     "output_type": "stream",
     "text": [
      "Starting Node: Minimum spanning tree\n",
      "Ending Node: Minecraft\n",
      "Path Length: 6\n",
      "Path Exists: 1\n",
      "Path: ['Minimum spanning tree', 'Czech Republic', 'Bulgarian language', 'Greece', '2011', 'Minecraft']\n"
     ]
    },
    {
     "name": "stderr",
     "output_type": "stream",
     "text": [
      "\r",
      "Progress:  48%|█████████████████████████████████▎                                   | 482/1000 [03:31<03:46,  2.29it/s]"
     ]
    },
    {
     "name": "stdout",
     "output_type": "stream",
     "text": [
      "Starting Node: The Iron Bridge\n",
      "Ending Node: Minecraft\n",
      "Path Length: 5\n",
      "Path Exists: 1\n",
      "Path: ['The Iron Bridge', 'England', 'UEFA Euro 2012', '2011', 'Minecraft']\n"
     ]
    },
    {
     "name": "stderr",
     "output_type": "stream",
     "text": [
      "\r",
      "Progress:  48%|█████████████████████████████████▎                                   | 483/1000 [03:32<04:05,  2.10it/s]"
     ]
    },
    {
     "name": "stdout",
     "output_type": "stream",
     "text": [
      "Starting Node: Bjørn Skaare\n",
      "Ending Node: Minecraft\n",
      "Path Length: 5\n",
      "Path Exists: 1\n",
      "Path: ['Bjørn Skaare', 'Sweden', '1995', 'Microsoft', 'Minecraft']\n",
      "Starting Node: Joker (2016 movie)\n",
      "Ending Node: Minecraft\n",
      "Path Length: 6\n",
      "Path Exists: 1\n",
      "Path: ['Joker (2016 movie)', 'National Film Award for Best Feature Film in Tamil', 'Mani Ratnam', '1956', 'Microsoft', 'Minecraft']\n"
     ]
    },
    {
     "name": "stderr",
     "output_type": "stream",
     "text": [
      "\r",
      "Progress:  48%|█████████████████████████████████▍                                   | 485/1000 [03:32<03:05,  2.77it/s]"
     ]
    },
    {
     "name": "stdout",
     "output_type": "stream",
     "text": [
      "Starting Node: Northfield, Maine\n",
      "Ending Node: Minecraft\n",
      "Path Length: 5\n",
      "Path Exists: 1\n",
      "Path: ['Northfield, Maine', 'Maine', 'Moose', 'Wolf', 'Minecraft']\n"
     ]
    },
    {
     "name": "stderr",
     "output_type": "stream",
     "text": [
      "Progress:  49%|█████████████████████████████████▌                                   | 487/1000 [03:33<03:09,  2.70it/s]"
     ]
    },
    {
     "name": "stdout",
     "output_type": "stream",
     "text": [
      "Starting Node: Franklin Square, New York\n",
      "Ending Node: Minecraft\n",
      "Path Length: 6\n",
      "Path Exists: 1\n",
      "Path: ['Franklin Square, New York', 'Nassau County, New York', 'United States', 'Xbox Game Studios', 'Mojang Studios', 'Minecraft']\n",
      "Starting Node: Boroaia\n",
      "Ending Node: Minecraft\n",
      "Path Length: 5\n",
      "Path Exists: 1\n",
      "Path: ['Boroaia', 'Romania', 'Vest (development region)', '2011', 'Minecraft']\n"
     ]
    },
    {
     "name": "stderr",
     "output_type": "stream",
     "text": [
      "\r",
      "Progress:  49%|█████████████████████████████████▋                                   | 488/1000 [03:34<03:06,  2.74it/s]"
     ]
    },
    {
     "name": "stdout",
     "output_type": "stream",
     "text": [
      "Starting Node: New Canada, Maine\n",
      "Ending Node: Minecraft\n",
      "Path Length: 5\n",
      "Path Exists: 1\n",
      "Path: ['New Canada, Maine', 'United States', 'Xbox Game Studios', 'Mojang Studios', 'Minecraft']\n"
     ]
    },
    {
     "name": "stderr",
     "output_type": "stream",
     "text": [
      "\r",
      "Progress:  49%|█████████████████████████████████▋                                   | 489/1000 [03:34<03:55,  2.17it/s]"
     ]
    },
    {
     "name": "stdout",
     "output_type": "stream",
     "text": [
      "Starting Node: Vorly\n",
      "Ending Node: Minecraft\n",
      "Path Length: 5\n",
      "Path Exists: 1\n",
      "Path: ['Vorly', 'France', 'Greece', '2011', 'Minecraft']\n"
     ]
    },
    {
     "name": "stderr",
     "output_type": "stream",
     "text": [
      "\r",
      "Progress:  49%|█████████████████████████████████▊                                   | 490/1000 [03:35<04:17,  1.98it/s]"
     ]
    },
    {
     "name": "stdout",
     "output_type": "stream",
     "text": [
      "Starting Node: Todd Orlando\n",
      "Ending Node: Minecraft\n",
      "Path Length: 6\n",
      "Path Exists: 1\n",
      "Path: ['Todd Orlando', 'Wheeling Nailers', 'West Virginia', 'American black bear', 'Wolf', 'Minecraft']\n"
     ]
    },
    {
     "name": "stderr",
     "output_type": "stream",
     "text": [
      "\r",
      "Progress:  49%|█████████████████████████████████▉                                   | 491/1000 [03:35<03:34,  2.38it/s]"
     ]
    },
    {
     "name": "stdout",
     "output_type": "stream",
     "text": [
      "Starting Node: Porto Torres\n",
      "Ending Node: Minecraft\n",
      "Path Length: 5\n",
      "Path Exists: 1\n",
      "Path: ['Porto Torres', 'Italy', 'Mario Draghi', 'Mario', 'Minecraft']\n"
     ]
    },
    {
     "name": "stderr",
     "output_type": "stream",
     "text": [
      "\r",
      "Progress:  49%|█████████████████████████████████▉                                   | 492/1000 [03:36<04:20,  1.95it/s]"
     ]
    },
    {
     "name": "stdout",
     "output_type": "stream",
     "text": [
      "Starting Node: Tetsuya Enomoto\n",
      "Ending Node: Minecraft\n",
      "Path Length: 5\n",
      "Path Exists: 1\n",
      "Path: ['Tetsuya Enomoto', 'Japan', 'Nintendo', 'Microsoft', 'Minecraft']\n"
     ]
    },
    {
     "name": "stderr",
     "output_type": "stream",
     "text": [
      "\r",
      "Progress:  49%|██████████████████████████████████                                   | 493/1000 [03:36<04:19,  1.95it/s]"
     ]
    },
    {
     "name": "stdout",
     "output_type": "stream",
     "text": [
      "Starting Node: The Fordham\n",
      "Ending Node: Minecraft\n",
      "Path Length: 6\n",
      "Path Exists: 1\n",
      "Path: ['The Fordham', 'List of tallest buildings in Chicago', 'Chicago Title & Trust Building', '1992', 'Microsoft', 'Minecraft']\n"
     ]
    },
    {
     "name": "stderr",
     "output_type": "stream",
     "text": [
      "\r",
      "Progress:  49%|██████████████████████████████████                                   | 494/1000 [03:37<04:01,  2.10it/s]"
     ]
    },
    {
     "name": "stdout",
     "output_type": "stream",
     "text": [
      "Starting Node: Knœringue\n",
      "Ending Node: Minecraft\n",
      "Path Length: 5\n",
      "Path Exists: 1\n",
      "Path: ['Knœringue', 'Departments of France', 'Guéret', 'Wolf', 'Minecraft']\n"
     ]
    },
    {
     "name": "stderr",
     "output_type": "stream",
     "text": [
      "\r",
      "Progress:  50%|██████████████████████████████████▏                                  | 495/1000 [03:37<03:49,  2.20it/s]"
     ]
    },
    {
     "name": "stdout",
     "output_type": "stream",
     "text": [
      "Starting Node: Benito Orgiana\n",
      "Ending Node: Minecraft\n",
      "Path Length: 6\n",
      "Path Exists: 1\n",
      "Path: ['Benito Orgiana', 'Orroli', 'Italy', 'Mario Draghi', 'Mario', 'Minecraft']\n"
     ]
    },
    {
     "name": "stderr",
     "output_type": "stream",
     "text": [
      "Progress:  50%|██████████████████████████████████▎                                  | 497/1000 [03:38<03:10,  2.64it/s]"
     ]
    },
    {
     "name": "stdout",
     "output_type": "stream",
     "text": [
      "Starting Node: Stephen Cleobury\n",
      "Ending Node: Minecraft\n",
      "Path Length: 5\n",
      "Path Exists: 1\n",
      "Path: ['Stephen Cleobury', \"King's College, Cambridge\", '1980', '2011', 'Minecraft']\n",
      "Starting Node: Motojirō Kajii\n",
      "Ending Node: Minecraft\n",
      "Path Length: 5\n",
      "Path Exists: 1\n",
      "Path: ['Motojirō Kajii', 'Japan', 'Nintendo', 'Microsoft', 'Minecraft']\n"
     ]
    },
    {
     "name": "stderr",
     "output_type": "stream",
     "text": [
      "\r",
      "Progress:  50%|██████████████████████████████████▎                                  | 498/1000 [03:39<04:19,  1.93it/s]"
     ]
    },
    {
     "name": "stdout",
     "output_type": "stream",
     "text": [
      "Starting Node: University of Tours\n",
      "Ending Node: Minecraft\n",
      "Path Length: 5\n",
      "Path Exists: 1\n",
      "Path: ['University of Tours', 'France', 'Greece', '2011', 'Minecraft']\n"
     ]
    },
    {
     "name": "stderr",
     "output_type": "stream",
     "text": [
      "\r",
      "Progress:  50%|██████████████████████████████████▍                                  | 499/1000 [03:39<04:16,  1.95it/s]"
     ]
    },
    {
     "name": "stdout",
     "output_type": "stream",
     "text": [
      "Starting Node: Scotiabank Arena\n",
      "Ending Node: Minecraft\n",
      "Path Length: 5\n",
      "Path Exists: 1\n",
      "Path: ['Scotiabank Arena', 'National Basketball Association', 'Utah Jazz', '2011', 'Minecraft']\n"
     ]
    },
    {
     "name": "stderr",
     "output_type": "stream",
     "text": [
      "\r",
      "Progress:  50%|██████████████████████████████████▌                                  | 500/1000 [03:40<04:18,  1.93it/s]"
     ]
    },
    {
     "name": "stdout",
     "output_type": "stream",
     "text": [
      "Starting Node: Otto Georg Thierack\n",
      "Ending Node: Minecraft\n",
      "Path Length: 6\n",
      "Path Exists: 1\n",
      "Path: ['Otto Georg Thierack', 'Wurzen', 'Leipzig', 'Greece', '2011', 'Minecraft']\n"
     ]
    },
    {
     "name": "stderr",
     "output_type": "stream",
     "text": [
      "\r",
      "Progress:  50%|██████████████████████████████████▌                                  | 501/1000 [03:40<04:43,  1.76it/s]"
     ]
    },
    {
     "name": "stdout",
     "output_type": "stream",
     "text": [
      "Starting Node: Jerome Cooper\n",
      "Ending Node: Minecraft\n",
      "Path Length: 6\n",
      "Path Exists: 1\n",
      "Path: ['Jerome Cooper', 'New York City', 'USA Network', 'Comcast', '2011', 'Minecraft']\n"
     ]
    },
    {
     "name": "stderr",
     "output_type": "stream",
     "text": [
      "\r",
      "Progress:  50%|██████████████████████████████████▋                                  | 502/1000 [03:41<04:23,  1.89it/s]"
     ]
    },
    {
     "name": "stdout",
     "output_type": "stream",
     "text": [
      "Starting Node: Breaking the Law\n",
      "Ending Node: Minecraft\n",
      "Path Length: 5\n",
      "Path Exists: 1\n",
      "Path: ['Breaking the Law', 'Heavy metal music', 'Linkin Park', '2011', 'Minecraft']\n"
     ]
    },
    {
     "name": "stderr",
     "output_type": "stream",
     "text": [
      "Progress:  50%|██████████████████████████████████▊                                  | 504/1000 [03:42<03:31,  2.34it/s]"
     ]
    },
    {
     "name": "stdout",
     "output_type": "stream",
     "text": [
      "Starting Node: Ali Treki\n",
      "Ending Node: Minecraft\n",
      "Path Length: 5\n",
      "Path Exists: 1\n",
      "Path: ['Ali Treki', 'Abdul Ati al-Obeidi', '1977', '2011', 'Minecraft']\n",
      "Starting Node: Firebreak\n",
      "Ending Node: Minecraft\n",
      "Path Length: 5\n",
      "Path Exists: 1\n",
      "Path: ['Firebreak', 'South Carolina', '20th century', '2011', 'Minecraft']\n"
     ]
    },
    {
     "name": "stderr",
     "output_type": "stream",
     "text": [
      "\r",
      "Progress:  50%|██████████████████████████████████▊                                  | 505/1000 [03:42<04:10,  1.97it/s]"
     ]
    },
    {
     "name": "stdout",
     "output_type": "stream",
     "text": [
      "Starting Node: Marlborough College\n",
      "Ending Node: Minecraft\n",
      "Path Length: 6\n",
      "Path Exists: 1\n",
      "Path: ['Marlborough College', 'Wiltshire', 'Somerset', '2001', 'Microsoft', 'Minecraft']\n"
     ]
    },
    {
     "name": "stderr",
     "output_type": "stream",
     "text": [
      "\r",
      "Progress:  51%|██████████████████████████████████▉                                  | 506/1000 [03:43<03:58,  2.08it/s]"
     ]
    },
    {
     "name": "stdout",
     "output_type": "stream",
     "text": [
      "Starting Node: Songwriter\n",
      "Ending Node: Minecraft\n",
      "Path Length: 5\n",
      "Path Exists: 1\n",
      "Path: ['Songwriter', 'Woody Guthrie', '20th century', '2011', 'Minecraft']\n"
     ]
    },
    {
     "name": "stderr",
     "output_type": "stream",
     "text": [
      "Progress:  51%|███████████████████████████████████                                  | 508/1000 [03:43<03:18,  2.48it/s]"
     ]
    },
    {
     "name": "stdout",
     "output_type": "stream",
     "text": [
      "Starting Node: 1992 AFC U-17 Championship\n",
      "Ending Node: Minecraft\n",
      "Path Length: 6\n",
      "Path Exists: 1\n",
      "Path: ['1992 AFC U-17 Championship', 'Saudi Arabia', 'Islam', 'Encyclopædia Britannica', 'Microsoft', 'Minecraft']\n",
      "Starting Node: Abraham Palatnik\n",
      "Ending Node: Minecraft\n",
      "Path Length: 5\n",
      "Path Exists: 1\n",
      "Path: ['Abraham Palatnik', 'São Paulo', '20th century', '2011', 'Minecraft']\n",
      "Starting Node: Minecraft Dungeons\n",
      "Ending Node: Minecraft\n",
      "Path Length: 2\n",
      "Path Exists: 1\n",
      "Path: ['Minecraft Dungeons', 'Minecraft']\n"
     ]
    },
    {
     "name": "stderr",
     "output_type": "stream",
     "text": [
      "\r",
      "Progress:  51%|███████████████████████████████████▏                                 | 510/1000 [03:44<03:09,  2.59it/s]"
     ]
    },
    {
     "name": "stdout",
     "output_type": "stream",
     "text": [
      "Starting Node: List of countries in the 1860s\n",
      "Ending Node: Minecraft\n",
      "Path Length: 5\n",
      "Path Exists: 1\n",
      "Path: ['List of countries in the 1860s', 'Norway', '20th century', '2011', 'Minecraft']\n"
     ]
    },
    {
     "name": "stderr",
     "output_type": "stream",
     "text": [
      "\r",
      "Progress:  51%|███████████████████████████████████▎                                 | 511/1000 [03:45<03:21,  2.43it/s]"
     ]
    },
    {
     "name": "stdout",
     "output_type": "stream",
     "text": [
      "Starting Node: The Garnet Bracelet (movie)\n",
      "Ending Node: Minecraft\n",
      "Path Length: 6\n",
      "Path Exists: 1\n",
      "Path: ['The Garnet Bracelet (movie)', 'Soviet Union', 'Lake Baikal', 'Earth', 'Microsoft', 'Minecraft']\n"
     ]
    },
    {
     "name": "stderr",
     "output_type": "stream",
     "text": [
      "\r",
      "Progress:  51%|███████████████████████████████████▎                                 | 512/1000 [03:45<03:47,  2.15it/s]"
     ]
    },
    {
     "name": "stdout",
     "output_type": "stream",
     "text": [
      "Starting Node: Edward C. Hayes\n",
      "Ending Node: Minecraft\n",
      "Path Length: 6\n",
      "Path Exists: 1\n",
      "Path: ['Edward C. Hayes', 'Americans', 'France', 'Greece', '2011', 'Minecraft']\n"
     ]
    },
    {
     "name": "stderr",
     "output_type": "stream",
     "text": [
      "\r",
      "Progress:  51%|███████████████████████████████████▍                                 | 513/1000 [03:46<03:46,  2.15it/s]"
     ]
    },
    {
     "name": "stdout",
     "output_type": "stream",
     "text": [
      "Starting Node: Davao Occidental\n",
      "Ending Node: Minecraft\n",
      "Path Length: 6\n",
      "Path Exists: 1\n",
      "Path: ['Davao Occidental', 'Philippines', 'Islam', 'Encyclopædia Britannica', 'Microsoft', 'Minecraft']\n"
     ]
    },
    {
     "name": "stderr",
     "output_type": "stream",
     "text": [
      "\r",
      "Progress:  51%|███████████████████████████████████▍                                 | 514/1000 [03:46<03:59,  2.03it/s]"
     ]
    },
    {
     "name": "stdout",
     "output_type": "stream",
     "text": [
      "Starting Node: Hexacontagon\n",
      "Ending Node: Minecraft\n",
      "Path Length: 7\n",
      "Path Exists: 1\n",
      "Path: ['Hexacontagon', 'Polygon', 'Euclidean geometry', '19th century', 'The Jungle Book', 'Wolf', 'Minecraft']\n"
     ]
    },
    {
     "name": "stderr",
     "output_type": "stream",
     "text": [
      "\r",
      "Progress:  52%|███████████████████████████████████▌                                 | 515/1000 [03:47<03:37,  2.23it/s]"
     ]
    },
    {
     "name": "stdout",
     "output_type": "stream",
     "text": [
      "Starting Node: Senhor Roubado (Lisbon Metro)\n",
      "Ending Node: Minecraft\n",
      "Path Length: 6\n",
      "Path Exists: 1\n",
      "Path: ['Senhor Roubado (Lisbon Metro)', 'Lisbon Metro', 'Rapid transit', 'São Paulo Metro', '2011', 'Minecraft']\n"
     ]
    },
    {
     "name": "stderr",
     "output_type": "stream",
     "text": [
      "\r",
      "Progress:  52%|███████████████████████████████████▌                                 | 516/1000 [03:47<03:28,  2.32it/s]"
     ]
    },
    {
     "name": "stdout",
     "output_type": "stream",
     "text": [
      "Starting Node: Kotka\n",
      "Ending Node: Minecraft\n",
      "Path Length: 5\n",
      "Path Exists: 1\n",
      "Path: ['Kotka', 'Russia', 'Encyclopædia Britannica', 'Microsoft', 'Minecraft']\n"
     ]
    },
    {
     "name": "stderr",
     "output_type": "stream",
     "text": [
      "\r",
      "Progress:  52%|███████████████████████████████████▋                                 | 517/1000 [03:47<03:18,  2.43it/s]"
     ]
    },
    {
     "name": "stdout",
     "output_type": "stream",
     "text": [
      "Starting Node: Beit HaNassi\n",
      "Ending Node: Minecraft\n",
      "Path Length: 5\n",
      "Path Exists: 1\n",
      "Path: ['Beit HaNassi', 'Hebrew language', '20th century', '2011', 'Minecraft']\n"
     ]
    },
    {
     "name": "stderr",
     "output_type": "stream",
     "text": [
      "\r",
      "Progress:  52%|███████████████████████████████████▋                                 | 518/1000 [03:48<04:00,  2.00it/s]"
     ]
    },
    {
     "name": "stdout",
     "output_type": "stream",
     "text": [
      "Starting Node: Alec G. Olson\n",
      "Ending Node: Minecraft\n",
      "Path Length: 7\n",
      "Path Exists: 1\n",
      "Path: ['Alec G. Olson', 'Kandiyohi County, Minnesota', 'Minnesota', 'Spanish language', '2021', 'Microsoft', 'Minecraft']\n"
     ]
    },
    {
     "name": "stderr",
     "output_type": "stream",
     "text": [
      "\r",
      "Progress:  52%|███████████████████████████████████▊                                 | 519/1000 [03:49<03:50,  2.08it/s]"
     ]
    },
    {
     "name": "stdout",
     "output_type": "stream",
     "text": [
      "Starting Node: Aix-les-Bains\n",
      "Ending Node: Minecraft\n",
      "Path Length: 5\n",
      "Path Exists: 1\n",
      "Path: ['Aix-les-Bains', 'Departments of France', 'Guéret', 'Wolf', 'Minecraft']\n"
     ]
    },
    {
     "name": "stderr",
     "output_type": "stream",
     "text": [
      "\r",
      "Progress:  52%|███████████████████████████████████▉                                 | 520/1000 [03:49<04:43,  1.69it/s]"
     ]
    },
    {
     "name": "stdout",
     "output_type": "stream",
     "text": [
      "Starting Node: Benjamin Pavard\n",
      "Ending Node: Minecraft\n",
      "Path Length: 5\n",
      "Path Exists: 1\n",
      "Path: ['Benjamin Pavard', 'VfB Stuttgart', '1952', '2011', 'Minecraft']\n"
     ]
    },
    {
     "name": "stderr",
     "output_type": "stream",
     "text": [
      "\r",
      "Progress:  52%|███████████████████████████████████▉                                 | 521/1000 [03:50<04:46,  1.67it/s]"
     ]
    },
    {
     "name": "stdout",
     "output_type": "stream",
     "text": [
      "Starting Node: Glarus Süd\n",
      "Ending Node: Minecraft\n",
      "Path Length: 5\n",
      "Path Exists: 1\n",
      "Path: ['Glarus Süd', 'Cantons of Switzerland', '2001', 'Microsoft', 'Minecraft']\n"
     ]
    },
    {
     "name": "stderr",
     "output_type": "stream",
     "text": [
      "\r",
      "Progress:  52%|████████████████████████████████████                                 | 522/1000 [03:50<04:33,  1.75it/s]"
     ]
    },
    {
     "name": "stdout",
     "output_type": "stream",
     "text": [
      "Starting Node: Sandwich, Illinois\n",
      "Ending Node: Minecraft\n",
      "Path Length: 5\n",
      "Path Exists: 1\n",
      "Path: ['Sandwich, Illinois', 'United States', 'Xbox Game Studios', 'Mojang Studios', 'Minecraft']\n"
     ]
    },
    {
     "name": "stderr",
     "output_type": "stream",
     "text": [
      "\r",
      "Progress:  52%|████████████████████████████████████                                 | 523/1000 [03:51<04:06,  1.93it/s]"
     ]
    },
    {
     "name": "stdout",
     "output_type": "stream",
     "text": [
      "Starting Node: Vinča script\n",
      "Ending Node: Minecraft\n",
      "Path Length: 5\n",
      "Path Exists: 1\n",
      "Path: ['Vinča script', 'Alba Iulia', 'Greece', '2011', 'Minecraft']\n"
     ]
    },
    {
     "name": "stderr",
     "output_type": "stream",
     "text": [
      "\r",
      "Progress:  52%|████████████████████████████████████▏                                | 524/1000 [03:51<03:46,  2.10it/s]"
     ]
    },
    {
     "name": "stdout",
     "output_type": "stream",
     "text": [
      "Starting Node: AFC Champions League\n",
      "Ending Node: Minecraft\n",
      "Path Length: 5\n",
      "Path Exists: 1\n",
      "Path: ['AFC Champions League', 'Seoul', 'Encyclopædia Britannica', 'Microsoft', 'Minecraft']\n"
     ]
    },
    {
     "name": "stderr",
     "output_type": "stream",
     "text": [
      "\r",
      "Progress:  52%|████████████████████████████████████▏                                | 525/1000 [03:52<04:03,  1.95it/s]"
     ]
    },
    {
     "name": "stdout",
     "output_type": "stream",
     "text": [
      "Starting Node: Aggregate fruit\n",
      "Ending Node: Minecraft\n",
      "Path Length: 6\n",
      "Path Exists: 1\n",
      "Path: ['Aggregate fruit', 'Blackberry', 'Australia', 'Greece', '2011', 'Minecraft']\n",
      "Starting Node: HGTV (Canadian TV channel)\n",
      "Ending Node: Minecraft\n",
      "Path Exists: 0\n"
     ]
    },
    {
     "name": "stderr",
     "output_type": "stream",
     "text": [
      "\r",
      "Progress:  53%|████████████████████████████████████▎                                | 527/1000 [03:52<03:03,  2.57it/s]"
     ]
    },
    {
     "name": "stdout",
     "output_type": "stream",
     "text": [
      "Starting Node: 2060s\n",
      "Ending Node: Minecraft\n",
      "Path Length: 5\n",
      "Path Exists: 1\n",
      "Path: ['2060s', '1986', 'April 3', '2011', 'Minecraft']\n"
     ]
    },
    {
     "name": "stderr",
     "output_type": "stream",
     "text": [
      "\r",
      "Progress:  53%|████████████████████████████████████▍                                | 528/1000 [03:53<03:18,  2.38it/s]"
     ]
    },
    {
     "name": "stdout",
     "output_type": "stream",
     "text": [
      "Starting Node: Fos-sur-Mer\n",
      "Ending Node: Minecraft\n",
      "Path Length: 5\n",
      "Path Exists: 1\n",
      "Path: ['Fos-sur-Mer', 'France', 'Greece', '2011', 'Minecraft']\n"
     ]
    },
    {
     "name": "stderr",
     "output_type": "stream",
     "text": [
      "\r",
      "Progress:  53%|████████████████████████████████████▌                                | 529/1000 [03:53<03:10,  2.47it/s]"
     ]
    },
    {
     "name": "stdout",
     "output_type": "stream",
     "text": [
      "Starting Node: Melbourne Airport\n",
      "Ending Node: Minecraft\n",
      "Path Length: 5\n",
      "Path Exists: 1\n",
      "Path: ['Melbourne Airport', 'Melbourne', '1956', 'Microsoft', 'Minecraft']\n"
     ]
    },
    {
     "name": "stderr",
     "output_type": "stream",
     "text": [
      "\r",
      "Progress:  53%|████████████████████████████████████▌                                | 530/1000 [03:54<03:16,  2.40it/s]"
     ]
    },
    {
     "name": "stdout",
     "output_type": "stream",
     "text": [
      "Starting Node: Jämtön\n",
      "Ending Node: Minecraft\n",
      "Path Length: 5\n",
      "Path Exists: 1\n",
      "Path: ['Jämtön', 'Sweden', '1995', 'Microsoft', 'Minecraft']\n"
     ]
    },
    {
     "name": "stderr",
     "output_type": "stream",
     "text": [
      "\r",
      "Progress:  53%|████████████████████████████████████▋                                | 531/1000 [03:54<03:23,  2.31it/s]"
     ]
    },
    {
     "name": "stdout",
     "output_type": "stream",
     "text": [
      "Starting Node: Gennaro Gattuso\n",
      "Ending Node: Minecraft\n",
      "Path Length: 5\n",
      "Path Exists: 1\n",
      "Path: ['Gennaro Gattuso', 'Italy', 'Mario Draghi', 'Mario', 'Minecraft']\n"
     ]
    },
    {
     "name": "stderr",
     "output_type": "stream",
     "text": [
      "\r",
      "Progress:  53%|████████████████████████████████████▋                                | 532/1000 [03:55<03:39,  2.13it/s]"
     ]
    },
    {
     "name": "stdout",
     "output_type": "stream",
     "text": [
      "Starting Node: Aivi Luik\n",
      "Ending Node: Minecraft\n",
      "Path Length: 5\n",
      "Path Exists: 1\n",
      "Path: ['Aivi Luik', 'Australia', 'Greece', '2011', 'Minecraft']\n",
      "Starting Node: Disappearance of 'The Eagle'\n",
      "Ending Node: Minecraft\n",
      "Path Exists: 0\n"
     ]
    },
    {
     "name": "stderr",
     "output_type": "stream",
     "text": [
      "Progress:  54%|████████████████████████████████████▉                                | 535/1000 [03:56<03:08,  2.47it/s]"
     ]
    },
    {
     "name": "stdout",
     "output_type": "stream",
     "text": [
      "Starting Node: Chaserey\n",
      "Ending Node: Minecraft\n",
      "Path Length: 5\n",
      "Path Exists: 1\n",
      "Path: ['Chaserey', 'France', 'Greece', '2011', 'Minecraft']\n",
      "Starting Node: Västerbotten\n",
      "Ending Node: Minecraft\n",
      "Path Length: 5\n",
      "Path Exists: 1\n",
      "Path: ['Västerbotten', 'Sweden', '1995', 'Microsoft', 'Minecraft']\n"
     ]
    },
    {
     "name": "stderr",
     "output_type": "stream",
     "text": [
      "\r",
      "Progress:  54%|████████████████████████████████████▉                                | 536/1000 [03:56<02:58,  2.60it/s]"
     ]
    },
    {
     "name": "stdout",
     "output_type": "stream",
     "text": [
      "Starting Node: Sam Cooke\n",
      "Ending Node: Minecraft\n",
      "Path Length: 4\n",
      "Path Exists: 1\n",
      "Path: ['Sam Cooke', 'Encyclopædia Britannica', 'Microsoft', 'Minecraft']\n"
     ]
    },
    {
     "name": "stderr",
     "output_type": "stream",
     "text": [
      "\r",
      "Progress:  54%|█████████████████████████████████████                                | 537/1000 [03:57<03:35,  2.15it/s]"
     ]
    },
    {
     "name": "stdout",
     "output_type": "stream",
     "text": [
      "Starting Node: Aminpur\n",
      "Ending Node: Minecraft\n",
      "Path Length: 6\n",
      "Path Exists: 1\n",
      "Path: ['Aminpur', 'Punjab (Pakistan)', 'Spain', '20th century', '2011', 'Minecraft']\n"
     ]
    },
    {
     "name": "stderr",
     "output_type": "stream",
     "text": [
      "\r",
      "Progress:  54%|█████████████████████████████████████                                | 538/1000 [03:57<03:35,  2.14it/s]"
     ]
    },
    {
     "name": "stdout",
     "output_type": "stream",
     "text": [
      "Starting Node: Orchard City, Colorado\n",
      "Ending Node: Minecraft\n",
      "Path Length: 5\n",
      "Path Exists: 1\n",
      "Path: ['Orchard City, Colorado', 'JavaScript', 'ECMAScript', 'Microsoft', 'Minecraft']\n"
     ]
    },
    {
     "name": "stderr",
     "output_type": "stream",
     "text": [
      "\r",
      "Progress:  54%|█████████████████████████████████████▏                               | 539/1000 [03:58<04:23,  1.75it/s]"
     ]
    },
    {
     "name": "stdout",
     "output_type": "stream",
     "text": [
      "Starting Node: Charente (disambiguation)\n",
      "Ending Node: Minecraft\n",
      "Path Length: 6\n",
      "Path Exists: 1\n",
      "Path: ['Charente (disambiguation)', 'Charente (river)', 'Atlantic Ocean', 'Earth', 'Microsoft', 'Minecraft']\n"
     ]
    },
    {
     "name": "stderr",
     "output_type": "stream",
     "text": [
      "\r",
      "Progress:  54%|█████████████████████████████████████▎                               | 540/1000 [03:59<04:12,  1.82it/s]"
     ]
    },
    {
     "name": "stdout",
     "output_type": "stream",
     "text": [
      "Starting Node: Russian Census (2010)\n",
      "Ending Node: Minecraft\n",
      "Path Length: 6\n",
      "Path Exists: 1\n",
      "Path: ['Russian Census (2010)', 'Soviet Union', 'Lake Baikal', 'Earth', 'Microsoft', 'Minecraft']\n"
     ]
    },
    {
     "name": "stderr",
     "output_type": "stream",
     "text": [
      "\r",
      "Progress:  54%|█████████████████████████████████████▎                               | 541/1000 [04:00<05:19,  1.44it/s]"
     ]
    },
    {
     "name": "stdout",
     "output_type": "stream",
     "text": [
      "Starting Node: Har Gobind Khorana\n",
      "Ending Node: Minecraft\n",
      "Path Length: 5\n",
      "Path Exists: 1\n",
      "Path: ['Har Gobind Khorana', 'Madison, Wisconsin', '2000', 'Microsoft', 'Minecraft']\n",
      "Starting Node: My Street\n",
      "Ending Node: Minecraft\n",
      "Path Length: 4\n",
      "Path Exists: 1\n",
      "Path: ['My Street', 'Mario Party (series)', 'Mario', 'Minecraft']\n"
     ]
    },
    {
     "name": "stderr",
     "output_type": "stream",
     "text": [
      "\r",
      "Progress:  54%|█████████████████████████████████████▍                               | 543/1000 [04:00<03:16,  2.33it/s]"
     ]
    },
    {
     "name": "stdout",
     "output_type": "stream",
     "text": [
      "Starting Node: 2021–22 Los Angeles Lakers season\n",
      "Ending Node: Minecraft\n",
      "Path Length: 5\n",
      "Path Exists: 1\n",
      "Path: ['2021–22 Los Angeles Lakers season', 'National Basketball Association', 'Utah Jazz', '2011', 'Minecraft']\n"
     ]
    },
    {
     "name": "stderr",
     "output_type": "stream",
     "text": [
      "\r",
      "Progress:  54%|█████████████████████████████████████▌                               | 544/1000 [04:01<03:48,  1.99it/s]"
     ]
    },
    {
     "name": "stdout",
     "output_type": "stream",
     "text": [
      "Starting Node: Tania Khalill\n",
      "Ending Node: Minecraft\n",
      "Path Length: 4\n",
      "Path Exists: 1\n",
      "Path: ['Tania Khalill', 'July 8', '2011', 'Minecraft']\n"
     ]
    },
    {
     "name": "stderr",
     "output_type": "stream",
     "text": [
      "Progress:  55%|█████████████████████████████████████▋                               | 546/1000 [04:01<03:16,  2.31it/s]"
     ]
    },
    {
     "name": "stdout",
     "output_type": "stream",
     "text": [
      "Starting Node: Giuseppe Furino\n",
      "Ending Node: Minecraft\n",
      "Path Length: 5\n",
      "Path Exists: 1\n",
      "Path: ['Giuseppe Furino', 'Juventus F.C.', '20th century', '2011', 'Minecraft']\n",
      "Starting Node: Normandy Park, Washington\n",
      "Ending Node: Minecraft\n",
      "Path Length: 5\n",
      "Path Exists: 1\n",
      "Path: ['Normandy Park, Washington', 'United States', 'Xbox Game Studios', 'Mojang Studios', 'Minecraft']\n"
     ]
    },
    {
     "name": "stderr",
     "output_type": "stream",
     "text": [
      "\r",
      "Progress:  55%|█████████████████████████████████████▋                               | 547/1000 [04:02<04:09,  1.81it/s]"
     ]
    },
    {
     "name": "stdout",
     "output_type": "stream",
     "text": [
      "Starting Node: James Laxer\n",
      "Ending Node: Minecraft\n",
      "Path Length: 5\n",
      "Path Exists: 1\n",
      "Path: ['James Laxer', 'France', 'Greece', '2011', 'Minecraft']\n"
     ]
    },
    {
     "name": "stderr",
     "output_type": "stream",
     "text": [
      "\r",
      "Progress:  55%|█████████████████████████████████████▊                               | 548/1000 [04:03<03:52,  1.95it/s]"
     ]
    },
    {
     "name": "stdout",
     "output_type": "stream",
     "text": [
      "Starting Node: Gustine, Texas\n",
      "Ending Node: Minecraft\n",
      "Path Length: 5\n",
      "Path Exists: 1\n",
      "Path: ['Gustine, Texas', 'Texas', 'Technology company', 'Microsoft', 'Minecraft']\n",
      "Starting Node: Sight\n",
      "Ending Node: Minecraft\n",
      "Path Length: 4\n",
      "Path Exists: 1\n",
      "Path: ['Sight', 'Alhazen', 'Microsoft', 'Minecraft']\n"
     ]
    },
    {
     "name": "stderr",
     "output_type": "stream",
     "text": [
      "\r",
      "Progress:  55%|█████████████████████████████████████▉                               | 550/1000 [04:03<02:59,  2.51it/s]"
     ]
    },
    {
     "name": "stdout",
     "output_type": "stream",
     "text": [
      "Starting Node: Sedan, Ardennes\n",
      "Ending Node: Minecraft\n",
      "Path Length: 5\n",
      "Path Exists: 1\n",
      "Path: ['Sedan, Ardennes', 'World War II', 'Greece', '2011', 'Minecraft']\n"
     ]
    },
    {
     "name": "stderr",
     "output_type": "stream",
     "text": [
      "\r",
      "Progress:  55%|██████████████████████████████████████                               | 551/1000 [04:04<03:07,  2.39it/s]"
     ]
    },
    {
     "name": "stdout",
     "output_type": "stream",
     "text": [
      "Starting Node: Maria Itkina\n",
      "Ending Node: Minecraft\n",
      "Path Length: 5\n",
      "Path Exists: 1\n",
      "Path: ['Maria Itkina', 'Belarus', 'Encyclopædia Britannica', 'Microsoft', 'Minecraft']\n"
     ]
    },
    {
     "name": "stderr",
     "output_type": "stream",
     "text": [
      "\r",
      "Progress:  55%|██████████████████████████████████████                               | 552/1000 [04:04<03:12,  2.33it/s]"
     ]
    },
    {
     "name": "stdout",
     "output_type": "stream",
     "text": [
      "Starting Node: Warsaw Chopin Airport\n",
      "Ending Node: Minecraft\n",
      "Path Length: 5\n",
      "Path Exists: 1\n",
      "Path: ['Warsaw Chopin Airport', 'Poland', 'Earth', 'Microsoft', 'Minecraft']\n"
     ]
    },
    {
     "name": "stderr",
     "output_type": "stream",
     "text": [
      "Progress:  55%|██████████████████████████████████████▏                              | 554/1000 [04:05<02:35,  2.87it/s]"
     ]
    },
    {
     "name": "stdout",
     "output_type": "stream",
     "text": [
      "Starting Node: Paragonah, Utah\n",
      "Ending Node: Minecraft\n",
      "Path Length: 5\n",
      "Path Exists: 1\n",
      "Path: ['Paragonah, Utah', 'United States', 'Xbox Game Studios', 'Mojang Studios', 'Minecraft']\n",
      "Starting Node: Pula, Sardinia\n",
      "Ending Node: Minecraft\n",
      "Path Length: 5\n",
      "Path Exists: 1\n",
      "Path: ['Pula, Sardinia', 'Italy', 'Mario Draghi', 'Mario', 'Minecraft']\n"
     ]
    },
    {
     "name": "stderr",
     "output_type": "stream",
     "text": [
      "\r",
      "Progress:  56%|██████████████████████████████████████▎                              | 555/1000 [04:06<03:39,  2.03it/s]"
     ]
    },
    {
     "name": "stdout",
     "output_type": "stream",
     "text": [
      "Starting Node: Ted Hughes\n",
      "Ending Node: Minecraft\n",
      "Path Length: 6\n",
      "Path Exists: 1\n",
      "Path: ['Ted Hughes', 'Sylvia Plath', 'University of Cambridge', 'October', '2011', 'Minecraft']\n"
     ]
    },
    {
     "name": "stderr",
     "output_type": "stream",
     "text": [
      "\r",
      "Progress:  56%|██████████████████████████████████████▎                              | 556/1000 [04:06<03:43,  1.98it/s]"
     ]
    },
    {
     "name": "stdout",
     "output_type": "stream",
     "text": [
      "Starting Node: Ejipura\n",
      "Ending Node: Minecraft\n",
      "Path Length: 5\n",
      "Path Exists: 1\n",
      "Path: ['Ejipura', 'India', 'Encyclopædia Britannica', 'Microsoft', 'Minecraft']\n"
     ]
    },
    {
     "name": "stderr",
     "output_type": "stream",
     "text": [
      "\r",
      "Progress:  56%|██████████████████████████████████████▍                              | 557/1000 [04:06<03:20,  2.21it/s]"
     ]
    },
    {
     "name": "stdout",
     "output_type": "stream",
     "text": [
      "Starting Node: Zug (constituency)\n",
      "Ending Node: Minecraft\n",
      "Path Length: 6\n",
      "Path Exists: 1\n",
      "Path: ['Zug (constituency)', 'Switzerland', 'Islam', 'Encyclopædia Britannica', 'Microsoft', 'Minecraft']\n"
     ]
    },
    {
     "name": "stderr",
     "output_type": "stream",
     "text": [
      "\r",
      "Progress:  56%|██████████████████████████████████████▌                              | 558/1000 [04:07<04:14,  1.74it/s]"
     ]
    },
    {
     "name": "stdout",
     "output_type": "stream",
     "text": [
      "Starting Node: Unitarianism\n",
      "Ending Node: Minecraft\n",
      "Path Length: 5\n",
      "Path Exists: 1\n",
      "Path: ['Unitarianism', 'France', 'Greece', '2011', 'Minecraft']\n"
     ]
    },
    {
     "name": "stderr",
     "output_type": "stream",
     "text": [
      "\r",
      "Progress:  56%|██████████████████████████████████████▌                              | 559/1000 [04:08<04:12,  1.75it/s]"
     ]
    },
    {
     "name": "stdout",
     "output_type": "stream",
     "text": [
      "Starting Node: Colour Me Free!\n",
      "Ending Node: Minecraft\n",
      "Path Length: 5\n",
      "Path Exists: 1\n",
      "Path: ['Colour Me Free!', 'Virgin Records', '2006', '2011', 'Minecraft']\n"
     ]
    },
    {
     "name": "stderr",
     "output_type": "stream",
     "text": [
      "\r",
      "Progress:  56%|██████████████████████████████████████▋                              | 560/1000 [04:09<04:24,  1.66it/s]"
     ]
    },
    {
     "name": "stdout",
     "output_type": "stream",
     "text": [
      "Starting Node: White Hispanic and Latino Americans\n",
      "Ending Node: Minecraft\n",
      "Path Length: 5\n",
      "Path Exists: 1\n",
      "Path: ['White Hispanic and Latino Americans', 'Italian Americans', '2000', 'Microsoft', 'Minecraft']\n"
     ]
    },
    {
     "name": "stderr",
     "output_type": "stream",
     "text": [
      "Progress:  56%|██████████████████████████████████████▊                              | 562/1000 [04:10<03:43,  1.96it/s]"
     ]
    },
    {
     "name": "stdout",
     "output_type": "stream",
     "text": [
      "Starting Node: 22 (number)\n",
      "Ending Node: Minecraft\n",
      "Path Length: 6\n",
      "Path Exists: 1\n",
      "Path: ['22 (number)', 'Roman numerals', 'France', 'Greece', '2011', 'Minecraft']\n",
      "Starting Node: Temple, Maine\n",
      "Ending Node: Minecraft\n",
      "Path Length: 5\n",
      "Path Exists: 1\n",
      "Path: ['Temple, Maine', 'United States', 'Xbox Game Studios', 'Mojang Studios', 'Minecraft']\n"
     ]
    },
    {
     "name": "stderr",
     "output_type": "stream",
     "text": [
      "Progress:  56%|██████████████████████████████████████▉                              | 564/1000 [04:10<03:04,  2.36it/s]"
     ]
    },
    {
     "name": "stdout",
     "output_type": "stream",
     "text": [
      "Starting Node: Hanna Diyab\n",
      "Ending Node: Minecraft\n",
      "Path Length: 5\n",
      "Path Exists: 1\n",
      "Path: ['Hanna Diyab', 'Turkish language', 'Greece', '2011', 'Minecraft']\n",
      "Starting Node: Touch (disambiguation)\n",
      "Ending Node: Minecraft\n",
      "Path Length: 5\n",
      "Path Exists: 1\n",
      "Path: ['Touch (disambiguation)', 'Touch', 'Touchscreen', 'Microsoft', 'Minecraft']\n"
     ]
    },
    {
     "name": "stderr",
     "output_type": "stream",
     "text": [
      "\r",
      "Progress:  56%|██████████████████████████████████████▉                              | 565/1000 [04:11<03:17,  2.20it/s]"
     ]
    },
    {
     "name": "stdout",
     "output_type": "stream",
     "text": [
      "Starting Node: Noircourt\n",
      "Ending Node: Minecraft\n",
      "Path Length: 5\n",
      "Path Exists: 1\n",
      "Path: ['Noircourt', 'France', 'Greece', '2011', 'Minecraft']\n"
     ]
    },
    {
     "name": "stderr",
     "output_type": "stream",
     "text": [
      "\r",
      "Progress:  57%|███████████████████████████████████████                              | 566/1000 [04:11<03:12,  2.26it/s]"
     ]
    },
    {
     "name": "stdout",
     "output_type": "stream",
     "text": [
      "Starting Node: Casas de los Pinos\n",
      "Ending Node: Minecraft\n",
      "Path Length: 5\n",
      "Path Exists: 1\n",
      "Path: ['Casas de los Pinos', 'Spain', '20th century', '2011', 'Minecraft']\n"
     ]
    },
    {
     "name": "stderr",
     "output_type": "stream",
     "text": [
      "\r",
      "Progress:  57%|███████████████████████████████████████                              | 567/1000 [04:12<03:08,  2.30it/s]"
     ]
    },
    {
     "name": "stdout",
     "output_type": "stream",
     "text": [
      "Starting Node: Heguri, Nara\n",
      "Ending Node: Minecraft\n",
      "Path Length: 5\n",
      "Path Exists: 1\n",
      "Path: ['Heguri, Nara', 'Japan', 'Nintendo', 'Microsoft', 'Minecraft']\n"
     ]
    },
    {
     "name": "stderr",
     "output_type": "stream",
     "text": [
      "\r",
      "Progress:  57%|███████████████████████████████████████▏                             | 568/1000 [04:12<03:43,  1.94it/s]"
     ]
    },
    {
     "name": "stdout",
     "output_type": "stream",
     "text": [
      "Starting Node: Ai Sugiyama\n",
      "Ending Node: Minecraft\n",
      "Path Length: 5\n",
      "Path Exists: 1\n",
      "Path: ['Ai Sugiyama', 'France', 'Greece', '2011', 'Minecraft']\n"
     ]
    },
    {
     "name": "stderr",
     "output_type": "stream",
     "text": [
      "\r",
      "Progress:  57%|███████████████████████████████████████▎                             | 569/1000 [04:13<03:41,  1.94it/s]"
     ]
    },
    {
     "name": "stdout",
     "output_type": "stream",
     "text": [
      "Starting Node: Sterling banknote\n",
      "Ending Node: Minecraft\n",
      "Path Length: 5\n",
      "Path Exists: 1\n",
      "Path: ['Sterling banknote', 'British Overseas Territories', '2006', '2011', 'Minecraft']\n"
     ]
    },
    {
     "name": "stderr",
     "output_type": "stream",
     "text": [
      "\r",
      "Progress:  57%|███████████████████████████████████████▎                             | 570/1000 [04:13<03:29,  2.05it/s]"
     ]
    },
    {
     "name": "stdout",
     "output_type": "stream",
     "text": [
      "Starting Node: Shraddha Kapoor\n",
      "Ending Node: Minecraft\n",
      "Path Length: 6\n",
      "Path Exists: 1\n",
      "Path: ['Shraddha Kapoor', 'Bollywood', 'Hollywood', 'Earth', 'Microsoft', 'Minecraft']\n"
     ]
    },
    {
     "name": "stderr",
     "output_type": "stream",
     "text": [
      "\r",
      "Progress:  57%|███████████████████████████████████████▍                             | 571/1000 [04:14<03:24,  2.10it/s]"
     ]
    },
    {
     "name": "stdout",
     "output_type": "stream",
     "text": [
      "Starting Node: Consumer Financial Protection Bureau\n",
      "Ending Node: Minecraft\n",
      "Path Length: 5\n",
      "Path Exists: 1\n",
      "Path: ['Consumer Financial Protection Bureau', 'Great Recession', 'Greece', '2011', 'Minecraft']\n"
     ]
    },
    {
     "name": "stderr",
     "output_type": "stream",
     "text": [
      "\r",
      "Progress:  57%|███████████████████████████████████████▍                             | 572/1000 [04:14<03:10,  2.25it/s]"
     ]
    },
    {
     "name": "stdout",
     "output_type": "stream",
     "text": [
      "Starting Node: Bryce Dallas Howard\n",
      "Ending Node: Minecraft\n",
      "Path Length: 5\n",
      "Path Exists: 1\n",
      "Path: ['Bryce Dallas Howard', 'Jurassic World', 'Chris Pratt', 'Mario', 'Minecraft']\n"
     ]
    },
    {
     "name": "stderr",
     "output_type": "stream",
     "text": [
      "\r",
      "Progress:  57%|███████████████████████████████████████▌                             | 573/1000 [04:15<03:41,  1.93it/s]"
     ]
    },
    {
     "name": "stdout",
     "output_type": "stream",
     "text": [
      "Starting Node: Manhattan Melodrama\n",
      "Ending Node: Minecraft\n",
      "Path Length: 5\n",
      "Path Exists: 1\n",
      "Path: ['Manhattan Melodrama', 'Metro-Goldwyn-Mayer', '1924', '2011', 'Minecraft']\n"
     ]
    },
    {
     "name": "stderr",
     "output_type": "stream",
     "text": [
      "\r",
      "Progress:  57%|███████████████████████████████████████▌                             | 574/1000 [04:15<03:24,  2.09it/s]"
     ]
    },
    {
     "name": "stdout",
     "output_type": "stream",
     "text": [
      "Starting Node: Rice Lake, Minnesota\n",
      "Ending Node: Minecraft\n",
      "Path Length: 5\n",
      "Path Exists: 1\n",
      "Path: ['Rice Lake, Minnesota', 'United States', 'Xbox Game Studios', 'Mojang Studios', 'Minecraft']\n"
     ]
    },
    {
     "name": "stderr",
     "output_type": "stream",
     "text": [
      "\r",
      "Progress:  57%|███████████████████████████████████████▋                             | 575/1000 [04:16<03:24,  2.08it/s]"
     ]
    },
    {
     "name": "stdout",
     "output_type": "stream",
     "text": [
      "Starting Node: Acrocephalus (plant)\n",
      "Ending Node: Minecraft\n",
      "Path Length: 6\n",
      "Path Exists: 1\n",
      "Path: ['Acrocephalus (plant)', 'Flowering plant', 'Grass', 'Earth', 'Microsoft', 'Minecraft']\n"
     ]
    },
    {
     "name": "stderr",
     "output_type": "stream",
     "text": [
      "\r",
      "Progress:  58%|███████████████████████████████████████▋                             | 576/1000 [04:16<03:29,  2.03it/s]"
     ]
    },
    {
     "name": "stdout",
     "output_type": "stream",
     "text": [
      "Starting Node: 72 Feronia\n",
      "Ending Node: Minecraft\n",
      "Path Length: 5\n",
      "Path Exists: 1\n",
      "Path: ['72 Feronia', 'Julian day', '2007', 'Microsoft', 'Minecraft']\n"
     ]
    },
    {
     "name": "stderr",
     "output_type": "stream",
     "text": [
      "\r",
      "Progress:  58%|███████████████████████████████████████▊                             | 577/1000 [04:17<03:57,  1.78it/s]"
     ]
    },
    {
     "name": "stdout",
     "output_type": "stream",
     "text": [
      "Starting Node: Florence Chadwick\n",
      "Ending Node: Minecraft\n",
      "Path Length: 5\n",
      "Path Exists: 1\n",
      "Path: ['Florence Chadwick', 'Santa Catalina Island', 'Earth', 'Microsoft', 'Minecraft']\n"
     ]
    },
    {
     "name": "stderr",
     "output_type": "stream",
     "text": [
      "\r",
      "Progress:  58%|███████████████████████████████████████▉                             | 578/1000 [04:17<03:50,  1.83it/s]"
     ]
    },
    {
     "name": "stdout",
     "output_type": "stream",
     "text": [
      "Starting Node: Leyton\n",
      "Ending Node: Minecraft\n",
      "Path Length: 6\n",
      "Path Exists: 1\n",
      "Path: ['Leyton', 'Walthamstow', 'England', 'UEFA Euro 2012', '2011', 'Minecraft']\n",
      "Starting Node: 1560s\n",
      "Ending Node: Minecraft\n",
      "Path Length: 4\n",
      "Path Exists: 1\n",
      "Path: ['1560s', 'August 28', '2011', 'Minecraft']\n"
     ]
    },
    {
     "name": "stderr",
     "output_type": "stream",
     "text": [
      "\r",
      "Progress:  58%|████████████████████████████████████████                             | 580/1000 [04:18<03:19,  2.11it/s]"
     ]
    },
    {
     "name": "stdout",
     "output_type": "stream",
     "text": [
      "Starting Node: Shigeru Sakurai\n",
      "Ending Node: Minecraft\n",
      "Path Length: 5\n",
      "Path Exists: 1\n",
      "Path: ['Shigeru Sakurai', 'Japan', 'Nintendo', 'Microsoft', 'Minecraft']\n"
     ]
    },
    {
     "name": "stderr",
     "output_type": "stream",
     "text": [
      "\r",
      "Progress:  58%|████████████████████████████████████████                             | 581/1000 [04:19<03:23,  2.06it/s]"
     ]
    },
    {
     "name": "stdout",
     "output_type": "stream",
     "text": [
      "Starting Node: Forest Park, Illinois\n",
      "Ending Node: Minecraft\n",
      "Path Length: 5\n",
      "Path Exists: 1\n",
      "Path: ['Forest Park, Illinois', 'United States', 'Xbox Game Studios', 'Mojang Studios', 'Minecraft']\n"
     ]
    },
    {
     "name": "stderr",
     "output_type": "stream",
     "text": [
      "\r",
      "Progress:  58%|████████████████████████████████████████▏                            | 582/1000 [04:19<03:25,  2.03it/s]"
     ]
    },
    {
     "name": "stdout",
     "output_type": "stream",
     "text": [
      "Starting Node: Exmoor pony\n",
      "Ending Node: Minecraft\n",
      "Path Length: 6\n",
      "Path Exists: 1\n",
      "Path: ['Exmoor pony', 'British Isles', 'France', 'Greece', '2011', 'Minecraft']\n"
     ]
    },
    {
     "name": "stderr",
     "output_type": "stream",
     "text": [
      "\r",
      "Progress:  58%|████████████████████████████████████████▏                            | 583/1000 [04:20<03:17,  2.11it/s]"
     ]
    },
    {
     "name": "stdout",
     "output_type": "stream",
     "text": [
      "Starting Node: Livet\n",
      "Ending Node: Minecraft\n",
      "Path Length: 4\n",
      "Path Exists: 1\n",
      "Path: ['Livet', '1999', 'Microsoft', 'Minecraft']\n"
     ]
    },
    {
     "name": "stderr",
     "output_type": "stream",
     "text": [
      "\r",
      "Progress:  58%|████████████████████████████████████████▎                            | 584/1000 [04:20<03:17,  2.11it/s]"
     ]
    },
    {
     "name": "stdout",
     "output_type": "stream",
     "text": [
      "Starting Node: Peppered corydoras\n",
      "Ending Node: Minecraft\n",
      "Path Length: 7\n",
      "Path Exists: 1\n",
      "Path: ['Peppered corydoras', 'Corydoras', 'South America', 'Spanish language', '2021', 'Microsoft', 'Minecraft']\n"
     ]
    },
    {
     "name": "stderr",
     "output_type": "stream",
     "text": [
      "\r",
      "Progress:  58%|████████████████████████████████████████▎                            | 585/1000 [04:21<03:52,  1.79it/s]"
     ]
    },
    {
     "name": "stdout",
     "output_type": "stream",
     "text": [
      "Starting Node: Thiệu Trị\n",
      "Ending Node: Minecraft\n",
      "Path Length: 5\n",
      "Path Exists: 1\n",
      "Path: ['Thiệu Trị', '1847', 'February 22', '2011', 'Minecraft']\n"
     ]
    },
    {
     "name": "stderr",
     "output_type": "stream",
     "text": [
      "\r",
      "Progress:  59%|████████████████████████████████████████▍                            | 586/1000 [04:21<03:14,  2.13it/s]"
     ]
    },
    {
     "name": "stdout",
     "output_type": "stream",
     "text": [
      "Starting Node: Ķegums\n",
      "Ending Node: Minecraft\n",
      "Path Length: 6\n",
      "Path Exists: 1\n",
      "Path: ['Ķegums', 'Latvia', 'European Union', '1952', '2011', 'Minecraft']\n"
     ]
    },
    {
     "name": "stderr",
     "output_type": "stream",
     "text": [
      "\r",
      "Progress:  59%|████████████████████████████████████████▌                            | 587/1000 [04:22<03:41,  1.87it/s]"
     ]
    },
    {
     "name": "stdout",
     "output_type": "stream",
     "text": [
      "Starting Node: Les Hauts-Geneveys\n",
      "Ending Node: Minecraft\n",
      "Path Length: 5\n",
      "Path Exists: 1\n",
      "Path: ['Les Hauts-Geneveys', 'Cantons of Switzerland', '2001', 'Microsoft', 'Minecraft']\n"
     ]
    },
    {
     "name": "stderr",
     "output_type": "stream",
     "text": [
      "\r",
      "Progress:  59%|████████████████████████████████████████▌                            | 588/1000 [04:22<03:40,  1.87it/s]"
     ]
    },
    {
     "name": "stdout",
     "output_type": "stream",
     "text": [
      "Starting Node: Keshav Maharaj\n",
      "Ending Node: Minecraft\n",
      "Path Length: 6\n",
      "Path Exists: 1\n",
      "Path: ['Keshav Maharaj', 'South Africa', 'Jody Scheckter', 'January 29', '2011', 'Minecraft']\n",
      "Starting Node: Warhead\n",
      "Ending Node: Minecraft\n",
      "Path Exists: 0\n"
     ]
    },
    {
     "name": "stderr",
     "output_type": "stream",
     "text": [
      "\r",
      "Progress:  59%|████████████████████████████████████████▋                            | 590/1000 [04:23<02:54,  2.35it/s]"
     ]
    },
    {
     "name": "stdout",
     "output_type": "stream",
     "text": [
      "Starting Node: Teryl Rothery\n",
      "Ending Node: Minecraft\n",
      "Path Length: 6\n",
      "Path Exists: 1\n",
      "Path: ['Teryl Rothery', 'Stargate SG-1', 'Stargate Atlantis', 'Earth', 'Microsoft', 'Minecraft']\n"
     ]
    },
    {
     "name": "stderr",
     "output_type": "stream",
     "text": [
      "\r",
      "Progress:  59%|████████████████████████████████████████▊                            | 591/1000 [04:23<03:05,  2.21it/s]"
     ]
    },
    {
     "name": "stdout",
     "output_type": "stream",
     "text": [
      "Starting Node: 16 Psyche\n",
      "Ending Node: Minecraft\n",
      "Path Length: 4\n",
      "Path Exists: 1\n",
      "Path: ['16 Psyche', 'October 22', '2011', 'Minecraft']\n"
     ]
    },
    {
     "name": "stderr",
     "output_type": "stream",
     "text": [
      "\r",
      "Progress:  59%|████████████████████████████████████████▊                            | 592/1000 [04:24<03:07,  2.18it/s]"
     ]
    },
    {
     "name": "stdout",
     "output_type": "stream",
     "text": [
      "Starting Node: Satoshi Hida\n",
      "Ending Node: Minecraft\n",
      "Path Length: 5\n",
      "Path Exists: 1\n",
      "Path: ['Satoshi Hida', '1984', 'February 9', '2011', 'Minecraft']\n"
     ]
    },
    {
     "name": "stderr",
     "output_type": "stream",
     "text": [
      "\r",
      "Progress:  59%|████████████████████████████████████████▉                            | 593/1000 [04:24<03:16,  2.07it/s]"
     ]
    },
    {
     "name": "stdout",
     "output_type": "stream",
     "text": [
      "Starting Node: Company of Heroes\n",
      "Ending Node: Minecraft\n",
      "Path Length: 5\n",
      "Path Exists: 1\n",
      "Path: ['Company of Heroes', 'World War II', 'Greece', '2011', 'Minecraft']\n"
     ]
    },
    {
     "name": "stderr",
     "output_type": "stream",
     "text": [
      "\r",
      "Progress:  59%|████████████████████████████████████████▉                            | 594/1000 [04:25<03:24,  1.98it/s]"
     ]
    },
    {
     "name": "stdout",
     "output_type": "stream",
     "text": [
      "Starting Node: Luxembourg City\n",
      "Ending Node: Minecraft\n",
      "Path Length: 5\n",
      "Path Exists: 1\n",
      "Path: ['Luxembourg City', 'UNESCO', '1945', '2011', 'Minecraft']\n"
     ]
    },
    {
     "name": "stderr",
     "output_type": "stream",
     "text": [
      "\r",
      "Progress:  60%|█████████████████████████████████████████                            | 595/1000 [04:26<03:26,  1.96it/s]"
     ]
    },
    {
     "name": "stdout",
     "output_type": "stream",
     "text": [
      "Starting Node: Camargo, Spain\n",
      "Ending Node: Minecraft\n",
      "Path Length: 5\n",
      "Path Exists: 1\n",
      "Path: ['Camargo, Spain', 'Spain', '20th century', '2011', 'Minecraft']\n"
     ]
    },
    {
     "name": "stderr",
     "output_type": "stream",
     "text": [
      "\r",
      "Progress:  60%|█████████████████████████████████████████                            | 596/1000 [04:26<03:08,  2.14it/s]"
     ]
    },
    {
     "name": "stdout",
     "output_type": "stream",
     "text": [
      "Starting Node: Ford Ka\n",
      "Ending Node: Minecraft\n",
      "Path Length: 4\n",
      "Path Exists: 1\n",
      "Path: ['Ford Ka', '2009', 'Microsoft', 'Minecraft']\n"
     ]
    },
    {
     "name": "stderr",
     "output_type": "stream",
     "text": [
      "\r",
      "Progress:  60%|█████████████████████████████████████████▏                           | 597/1000 [04:26<03:19,  2.02it/s]"
     ]
    },
    {
     "name": "stdout",
     "output_type": "stream",
     "text": [
      "Starting Node: National Education Union\n",
      "Ending Node: Minecraft\n",
      "Path Length: 7\n",
      "Path Exists: 1\n",
      "Path: ['National Education Union', 'National Union of Teachers', 'United Kingdom', 'Islam', 'Encyclopædia Britannica', 'Microsoft', 'Minecraft']\n"
     ]
    },
    {
     "name": "stderr",
     "output_type": "stream",
     "text": [
      "\r",
      "Progress:  60%|█████████████████████████████████████████▎                           | 598/1000 [04:27<03:16,  2.05it/s]"
     ]
    },
    {
     "name": "stdout",
     "output_type": "stream",
     "text": [
      "Starting Node: Great Seal of the United States\n",
      "Ending Node: Minecraft\n",
      "Path Length: 5\n",
      "Path Exists: 1\n",
      "Path: ['Great Seal of the United States', 'United States', 'Xbox Game Studios', 'Mojang Studios', 'Minecraft']\n"
     ]
    },
    {
     "name": "stderr",
     "output_type": "stream",
     "text": [
      "\r",
      "Progress:  60%|█████████████████████████████████████████▎                           | 599/1000 [04:28<04:21,  1.53it/s]"
     ]
    },
    {
     "name": "stdout",
     "output_type": "stream",
     "text": [
      "Starting Node: The Long, Hot Summer\n",
      "Ending Node: Minecraft\n",
      "Path Length: 6\n",
      "Path Exists: 1\n",
      "Path: ['The Long, Hot Summer', 'Lee Remick', 'Los Angeles', 'April 4', '2011', 'Minecraft']\n"
     ]
    },
    {
     "name": "stderr",
     "output_type": "stream",
     "text": [
      "\r",
      "Progress:  60%|█████████████████████████████████████████▍                           | 600/1000 [04:28<03:55,  1.70it/s]"
     ]
    },
    {
     "name": "stdout",
     "output_type": "stream",
     "text": [
      "Starting Node: Michael Hicks\n",
      "Ending Node: Minecraft\n",
      "Path Length: 5\n",
      "Path Exists: 1\n",
      "Path: ['Michael Hicks', 'Tennessee', 'Raccoon', 'Wolf', 'Minecraft']\n"
     ]
    },
    {
     "name": "stderr",
     "output_type": "stream",
     "text": [
      "Progress:  60%|█████████████████████████████████████████▌                           | 602/1000 [04:29<02:54,  2.28it/s]"
     ]
    },
    {
     "name": "stdout",
     "output_type": "stream",
     "text": [
      "Starting Node: Matt Mead\n",
      "Ending Node: Minecraft\n",
      "Path Length: 5\n",
      "Path Exists: 1\n",
      "Path: ['Matt Mead', 'George W. Bush', 'Harvard University', 'Microsoft', 'Minecraft']\n",
      "Starting Node: Alvarito\n",
      "Ending Node: Minecraft\n",
      "Path Length: 5\n",
      "Path Exists: 1\n",
      "Path: ['Alvarito', 'Royal Spanish Football Federation', 'UEFA Euro 2012', '2011', 'Minecraft']\n"
     ]
    },
    {
     "name": "stderr",
     "output_type": "stream",
     "text": [
      "\r",
      "Progress:  60%|█████████████████████████████████████████▌                           | 603/1000 [04:30<03:18,  2.00it/s]"
     ]
    },
    {
     "name": "stdout",
     "output_type": "stream",
     "text": [
      "Starting Node: Naco, Arizona\n",
      "Ending Node: Minecraft\n",
      "Path Length: 6\n",
      "Path Exists: 1\n",
      "Path: ['Naco, Arizona', 'United States Census Bureau', 'Charlotte, North Carolina', '2007', 'Microsoft', 'Minecraft']\n"
     ]
    },
    {
     "name": "stderr",
     "output_type": "stream",
     "text": [
      "\r",
      "Progress:  60%|█████████████████████████████████████████▋                           | 604/1000 [04:30<03:10,  2.08it/s]"
     ]
    },
    {
     "name": "stdout",
     "output_type": "stream",
     "text": [
      "Starting Node: Media manipulation\n",
      "Ending Node: Minecraft\n",
      "Path Length: 5\n",
      "Path Exists: 1\n",
      "Path: ['Media manipulation', 'Poland', 'Earth', 'Microsoft', 'Minecraft']\n"
     ]
    },
    {
     "name": "stderr",
     "output_type": "stream",
     "text": [
      "Progress:  61%|█████████████████████████████████████████▊                           | 606/1000 [04:31<02:42,  2.43it/s]"
     ]
    },
    {
     "name": "stdout",
     "output_type": "stream",
     "text": [
      "Starting Node: Alexis Jordan discography\n",
      "Ending Node: Minecraft\n",
      "Path Length: 5\n",
      "Path Exists: 1\n",
      "Path: ['Alexis Jordan discography', 'United States', 'Xbox Game Studios', 'Mojang Studios', 'Minecraft']\n",
      "Starting Node: Hins Cheung\n",
      "Ending Node: Minecraft\n",
      "Path Length: 5\n",
      "Path Exists: 1\n",
      "Path: ['Hins Cheung', 'Universal Music Group', 'YouTube', 'MrBeast', 'Minecraft']\n"
     ]
    },
    {
     "name": "stderr",
     "output_type": "stream",
     "text": [
      "\r",
      "Progress:  61%|█████████████████████████████████████████▉                           | 607/1000 [04:31<02:29,  2.63it/s]"
     ]
    },
    {
     "name": "stdout",
     "output_type": "stream",
     "text": [
      "Starting Node: Santa Fe de Nuevo México\n",
      "Ending Node: Minecraft\n",
      "Path Length: 5\n",
      "Path Exists: 1\n",
      "Path: ['Santa Fe de Nuevo México', 'New Mexico', 'American black bear', 'Wolf', 'Minecraft']\n"
     ]
    },
    {
     "name": "stderr",
     "output_type": "stream",
     "text": [
      "\r",
      "Progress:  61%|█████████████████████████████████████████▉                           | 608/1000 [04:32<02:31,  2.58it/s]"
     ]
    },
    {
     "name": "stdout",
     "output_type": "stream",
     "text": [
      "Starting Node: Transatlantic telegraph cable\n",
      "Ending Node: Minecraft\n",
      "Path Length: 5\n",
      "Path Exists: 1\n",
      "Path: ['Transatlantic telegraph cable', 'Europe', 'Greece', '2011', 'Minecraft']\n"
     ]
    },
    {
     "name": "stderr",
     "output_type": "stream",
     "text": [
      "\r",
      "Progress:  61%|██████████████████████████████████████████                           | 609/1000 [04:32<02:44,  2.37it/s]"
     ]
    },
    {
     "name": "stdout",
     "output_type": "stream",
     "text": [
      "Starting Node: Paleolibertarianism\n",
      "Ending Node: Minecraft\n",
      "Path Length: 5\n",
      "Path Exists: 1\n",
      "Path: ['Paleolibertarianism', 'Libertarian Party (United States)', 'May', '2011', 'Minecraft']\n"
     ]
    },
    {
     "name": "stderr",
     "output_type": "stream",
     "text": [
      "\r",
      "Progress:  61%|██████████████████████████████████████████                           | 610/1000 [04:33<03:42,  1.75it/s]"
     ]
    },
    {
     "name": "stdout",
     "output_type": "stream",
     "text": [
      "Starting Node: Celebrity sex tape\n",
      "Ending Node: Minecraft\n",
      "Path Length: 5\n",
      "Path Exists: 1\n",
      "Path: ['Celebrity sex tape', 'Kim Kardashian', '2021', 'Microsoft', 'Minecraft']\n",
      "Starting Node: Wind chill\n",
      "Ending Node: Minecraft\n",
      "Path Length: 6\n",
      "Path Exists: 1\n",
      "Path: ['Wind chill', 'Cold wave', 'CNN', 'MSNBC', 'Microsoft', 'Minecraft']\n"
     ]
    },
    {
     "name": "stderr",
     "output_type": "stream",
     "text": [
      "\r",
      "Progress:  61%|██████████████████████████████████████████▏                          | 612/1000 [04:34<02:53,  2.23it/s]"
     ]
    },
    {
     "name": "stdout",
     "output_type": "stream",
     "text": [
      "Starting Node: Secretary of State for Levelling Up, Housing and Communities\n",
      "Ending Node: Minecraft\n",
      "Path Length: 5\n",
      "Path Exists: 1\n",
      "Path: ['Secretary of State for Levelling Up, Housing and Communities', 'Monarchy of the United Kingdom', '2022', 'Microsoft', 'Minecraft']\n"
     ]
    },
    {
     "name": "stderr",
     "output_type": "stream",
     "text": [
      "\r",
      "Progress:  61%|██████████████████████████████████████████▎                          | 613/1000 [04:34<02:50,  2.27it/s]"
     ]
    },
    {
     "name": "stdout",
     "output_type": "stream",
     "text": [
      "Starting Node: 2018–2019 Gaza border protests\n",
      "Ending Node: Minecraft\n",
      "Path Length: 5\n",
      "Path Exists: 1\n",
      "Path: ['2018–2019 Gaza border protests', 'United States', 'Xbox Game Studios', 'Mojang Studios', 'Minecraft']\n"
     ]
    },
    {
     "name": "stderr",
     "output_type": "stream",
     "text": [
      "\r",
      "Progress:  61%|██████████████████████████████████████████▎                          | 614/1000 [04:35<02:52,  2.24it/s]"
     ]
    },
    {
     "name": "stdout",
     "output_type": "stream",
     "text": [
      "Starting Node: Carwyn Jones\n",
      "Ending Node: Minecraft\n",
      "Path Length: 5\n",
      "Path Exists: 1\n",
      "Path: ['Carwyn Jones', 'Elizabeth II', '2021', 'Microsoft', 'Minecraft']\n"
     ]
    },
    {
     "name": "stderr",
     "output_type": "stream",
     "text": [
      "\r",
      "Progress:  62%|██████████████████████████████████████████▍                          | 615/1000 [04:35<03:22,  1.90it/s]"
     ]
    },
    {
     "name": "stdout",
     "output_type": "stream",
     "text": [
      "Starting Node: Cromwell, Minnesota\n",
      "Ending Node: Minecraft\n",
      "Path Length: 5\n",
      "Path Exists: 1\n",
      "Path: ['Cromwell, Minnesota', 'United States', 'Xbox Game Studios', 'Mojang Studios', 'Minecraft']\n"
     ]
    },
    {
     "name": "stderr",
     "output_type": "stream",
     "text": [
      "\r",
      "Progress:  62%|██████████████████████████████████████████▌                          | 616/1000 [04:36<03:19,  1.92it/s]"
     ]
    },
    {
     "name": "stdout",
     "output_type": "stream",
     "text": [
      "Starting Node: Gebenhofen\n",
      "Ending Node: Minecraft\n",
      "Path Length: 6\n",
      "Path Exists: 1\n",
      "Path: ['Gebenhofen', 'Augsburg', 'Bavaria', 'Santa Claus', 'Microsoft', 'Minecraft']\n"
     ]
    },
    {
     "name": "stderr",
     "output_type": "stream",
     "text": [
      "Progress:  62%|██████████████████████████████████████████▋                          | 619/1000 [04:37<02:12,  2.88it/s]"
     ]
    },
    {
     "name": "stdout",
     "output_type": "stream",
     "text": [
      "Starting Node: Saint-Pée-sur-Nivelle\n",
      "Ending Node: Minecraft\n",
      "Path Length: 5\n",
      "Path Exists: 1\n",
      "Path: ['Saint-Pée-sur-Nivelle', 'France', 'Greece', '2011', 'Minecraft']\n",
      "Starting Node: The Adventures of Timmy The Tooth\n",
      "Ending Node: Minecraft\n",
      "Path Exists: 0\n",
      "Starting Node: Celina, Ohio\n",
      "Ending Node: Minecraft\n",
      "Path Length: 5\n",
      "Path Exists: 1\n",
      "Path: ['Celina, Ohio', 'List of counties in Ohio', 'Encyclopædia Britannica', 'Microsoft', 'Minecraft']\n"
     ]
    },
    {
     "name": "stderr",
     "output_type": "stream",
     "text": [
      "\r",
      "Progress:  62%|██████████████████████████████████████████▊                          | 620/1000 [04:37<02:56,  2.15it/s]"
     ]
    },
    {
     "name": "stdout",
     "output_type": "stream",
     "text": [
      "Starting Node: Barrack (disambiguation)\n",
      "Ending Node: Minecraft\n",
      "Path Length: 5\n",
      "Path Exists: 1\n",
      "Path: ['Barrack (disambiguation)', 'Barack Obama', 'Harvard University', 'Microsoft', 'Minecraft']\n",
      "Starting Node: Jeremy Clarkson\n",
      "Ending Node: Minecraft\n",
      "Path Length: 5\n",
      "Path Exists: 1\n",
      "Path: ['Jeremy Clarkson', 'BBC', 'Microsoft Windows', 'Microsoft', 'Minecraft']\n"
     ]
    },
    {
     "name": "stderr",
     "output_type": "stream",
     "text": [
      "\r",
      "Progress:  62%|██████████████████████████████████████████▉                          | 622/1000 [04:38<02:40,  2.36it/s]"
     ]
    },
    {
     "name": "stdout",
     "output_type": "stream",
     "text": [
      "Starting Node: Gaillardia pulchella\n",
      "Ending Node: Minecraft\n",
      "Path Length: 5\n",
      "Path Exists: 1\n",
      "Path: ['Gaillardia pulchella', 'Central United States', 'April 2', '2011', 'Minecraft']\n",
      "Starting Node: Piss Christ\n",
      "Ending Node: Minecraft\n",
      "Path Length: 5\n",
      "Path Exists: 1\n",
      "Path: ['Piss Christ', 'BBC', 'Microsoft Windows', 'Microsoft', 'Minecraft']\n"
     ]
    },
    {
     "name": "stderr",
     "output_type": "stream",
     "text": [
      "\r",
      "Progress:  62%|███████████████████████████████████████████                          | 624/1000 [04:39<02:21,  2.66it/s]"
     ]
    },
    {
     "name": "stdout",
     "output_type": "stream",
     "text": [
      "Starting Node: Frank M. Warren Sr.\n",
      "Ending Node: Minecraft\n",
      "Path Length: 5\n",
      "Path Exists: 1\n",
      "Path: ['Frank M. Warren Sr.', 'Maine', 'Moose', 'Wolf', 'Minecraft']\n"
     ]
    },
    {
     "name": "stderr",
     "output_type": "stream",
     "text": [
      "\r",
      "Progress:  62%|███████████████████████████████████████████▏                         | 625/1000 [04:39<02:38,  2.37it/s]"
     ]
    },
    {
     "name": "stdout",
     "output_type": "stream",
     "text": [
      "Starting Node: Mélanie Pauli\n",
      "Ending Node: Minecraft\n",
      "Path Length: 6\n",
      "Path Exists: 1\n",
      "Path: ['Mélanie Pauli', 'Switzerland', 'Islam', 'Encyclopædia Britannica', 'Microsoft', 'Minecraft']\n"
     ]
    },
    {
     "name": "stderr",
     "output_type": "stream",
     "text": [
      "\r",
      "Progress:  63%|███████████████████████████████████████████▏                         | 626/1000 [04:40<03:00,  2.08it/s]"
     ]
    },
    {
     "name": "stdout",
     "output_type": "stream",
     "text": [
      "Starting Node: Sand Hills, South Brunswick, New Jersey\n",
      "Ending Node: Minecraft\n",
      "Path Length: 5\n",
      "Path Exists: 1\n",
      "Path: ['Sand Hills, South Brunswick, New Jersey', 'United States', 'Xbox Game Studios', 'Mojang Studios', 'Minecraft']\n"
     ]
    },
    {
     "name": "stderr",
     "output_type": "stream",
     "text": [
      "\r",
      "Progress:  63%|███████████████████████████████████████████▎                         | 627/1000 [04:41<03:04,  2.02it/s]"
     ]
    },
    {
     "name": "stdout",
     "output_type": "stream",
     "text": [
      "Starting Node: Franklin County, New York\n",
      "Ending Node: Minecraft\n",
      "Path Length: 5\n",
      "Path Exists: 1\n",
      "Path: ['Franklin County, New York', \"New York's 21st congressional district\", '2008', 'Microsoft', 'Minecraft']\n",
      "Starting Node: Seres Group\n",
      "Ending Node: Minecraft\n",
      "Path Length: 5\n",
      "Path Exists: 1\n",
      "Path: ['Seres Group', 'Huawei', 'ZTE', 'Microsoft', 'Minecraft']\n",
      "Starting Node: IMSAI 8080\n",
      "Ending Node: Minecraft\n",
      "Path Length: 4\n",
      "Path Exists: 1\n",
      "Path: ['IMSAI 8080', 'Personal computer', 'Microsoft', 'Minecraft']\n"
     ]
    },
    {
     "name": "stderr",
     "output_type": "stream",
     "text": [
      "\r",
      "Progress:  63%|███████████████████████████████████████████▍                         | 630/1000 [04:41<02:00,  3.06it/s]"
     ]
    },
    {
     "name": "stdout",
     "output_type": "stream",
     "text": [
      "Starting Node: Memmelshoffen\n",
      "Ending Node: Minecraft\n",
      "Path Length: 5\n",
      "Path Exists: 1\n",
      "Path: ['Memmelshoffen', 'France', 'Greece', '2011', 'Minecraft']\n"
     ]
    },
    {
     "name": "stderr",
     "output_type": "stream",
     "text": [
      "\r",
      "Progress:  63%|███████████████████████████████████████████▌                         | 631/1000 [04:41<02:03,  2.98it/s]"
     ]
    },
    {
     "name": "stdout",
     "output_type": "stream",
     "text": [
      "Starting Node: Jon Schnepp\n",
      "Ending Node: Minecraft\n",
      "Path Length: 6\n",
      "Path Exists: 1\n",
      "Path: ['Jon Schnepp', 'Metalocalypse', 'Adult Swim', 'Comcast', '2011', 'Minecraft']\n"
     ]
    },
    {
     "name": "stderr",
     "output_type": "stream",
     "text": [
      "\r",
      "Progress:  63%|███████████████████████████████████████████▌                         | 632/1000 [04:42<02:08,  2.87it/s]"
     ]
    },
    {
     "name": "stdout",
     "output_type": "stream",
     "text": [
      "Starting Node: Mount Morris\n",
      "Ending Node: Minecraft\n",
      "Path Length: 5\n",
      "Path Exists: 1\n",
      "Path: ['Mount Morris', 'South Australia', 'November 23', '2011', 'Minecraft']\n"
     ]
    },
    {
     "name": "stderr",
     "output_type": "stream",
     "text": [
      "\r",
      "Progress:  63%|███████████████████████████████████████████▋                         | 633/1000 [04:43<02:46,  2.20it/s]"
     ]
    },
    {
     "name": "stdout",
     "output_type": "stream",
     "text": [
      "Starting Node: Bryan Avery\n",
      "Ending Node: Minecraft\n",
      "Path Length: 6\n",
      "Path Exists: 1\n",
      "Path: ['Bryan Avery', 'New Forest', 'Royal Navy', '1917', '2011', 'Minecraft']\n"
     ]
    },
    {
     "name": "stderr",
     "output_type": "stream",
     "text": [
      "\r",
      "Progress:  63%|███████████████████████████████████████████▋                         | 634/1000 [04:43<02:52,  2.12it/s]"
     ]
    },
    {
     "name": "stdout",
     "output_type": "stream",
     "text": [
      "Starting Node: Eleanor, Fair Maid of Brittany\n",
      "Ending Node: Minecraft\n",
      "Path Length: 6\n",
      "Path Exists: 1\n",
      "Path: ['Eleanor, Fair Maid of Brittany', 'Kingdom of England', 'England', 'UEFA Euro 2012', '2011', 'Minecraft']\n"
     ]
    },
    {
     "name": "stderr",
     "output_type": "stream",
     "text": [
      "\r",
      "Progress:  64%|███████████████████████████████████████████▊                         | 635/1000 [04:44<02:54,  2.09it/s]"
     ]
    },
    {
     "name": "stdout",
     "output_type": "stream",
     "text": [
      "Starting Node: The Bold and the Beautiful\n",
      "Ending Node: Minecraft\n",
      "Path Length: 5\n",
      "Path Exists: 1\n",
      "Path: ['The Bold and the Beautiful', 'Actor', 'Greece', '2011', 'Minecraft']\n"
     ]
    },
    {
     "name": "stderr",
     "output_type": "stream",
     "text": [
      "\r",
      "Progress:  64%|███████████████████████████████████████████▉                         | 636/1000 [04:44<03:03,  1.99it/s]"
     ]
    },
    {
     "name": "stdout",
     "output_type": "stream",
     "text": [
      "Starting Node: University of Southern California\n",
      "Ending Node: Minecraft\n",
      "Path Length: 5\n",
      "Path Exists: 1\n",
      "Path: ['University of Southern California', 'United States', 'Xbox Game Studios', 'Mojang Studios', 'Minecraft']\n"
     ]
    },
    {
     "name": "stderr",
     "output_type": "stream",
     "text": [
      "\r",
      "Progress:  64%|███████████████████████████████████████████▉                         | 637/1000 [04:45<03:04,  1.97it/s]"
     ]
    },
    {
     "name": "stdout",
     "output_type": "stream",
     "text": [
      "Starting Node: Yukio Hatoyama\n",
      "Ending Node: Minecraft\n",
      "Path Length: 5\n",
      "Path Exists: 1\n",
      "Path: ['Yukio Hatoyama', 'Japan', 'Nintendo', 'Microsoft', 'Minecraft']\n"
     ]
    },
    {
     "name": "stderr",
     "output_type": "stream",
     "text": [
      "Progress:  64%|████████████████████████████████████████████                         | 639/1000 [04:45<02:21,  2.55it/s]"
     ]
    },
    {
     "name": "stdout",
     "output_type": "stream",
     "text": [
      "Starting Node: A Girl Like Me: The Gwen Araujo Story\n",
      "Ending Node: Minecraft\n",
      "Path Length: 6\n",
      "Path Exists: 1\n",
      "Path: ['A Girl Like Me: The Gwen Araujo Story', 'Mercedes Ruehl', 'Academy Award for Best Supporting Actress', 'Anna Paquin', '2011', 'Minecraft']\n",
      "Starting Node: Gutierre de Cetina\n",
      "Ending Node: Minecraft\n",
      "Path Length: 5\n",
      "Path Exists: 1\n",
      "Path: ['Gutierre de Cetina', '1557', 'September 1', '2011', 'Minecraft']\n",
      "Starting Node: Tigon\n",
      "Ending Node: Minecraft\n",
      "Path Length: 5\n",
      "Path Exists: 1\n",
      "Path: ['Tigon', 'Animal', 'Earth', 'Microsoft', 'Minecraft']\n"
     ]
    },
    {
     "name": "stderr",
     "output_type": "stream",
     "text": [
      "Progress:  64%|████████████████████████████████████████████▏                        | 641/1000 [04:46<02:28,  2.42it/s]"
     ]
    },
    {
     "name": "stdout",
     "output_type": "stream",
     "text": [
      "Starting Node: Order of Lenin\n",
      "Ending Node: Minecraft\n",
      "Path Length: 6\n",
      "Path Exists: 1\n",
      "Path: ['Order of Lenin', 'Soviet Union', 'Lake Baikal', 'Earth', 'Microsoft', 'Minecraft']\n"
     ]
    },
    {
     "name": "stderr",
     "output_type": "stream",
     "text": [
      "\r",
      "Progress:  64%|████████████████████████████████████████████▎                        | 642/1000 [04:47<02:35,  2.30it/s]"
     ]
    },
    {
     "name": "stdout",
     "output_type": "stream",
     "text": [
      "Starting Node: List of cities in Moldova\n",
      "Ending Node: Minecraft\n",
      "Path Length: 6\n",
      "Path Exists: 1\n",
      "Path: ['List of cities in Moldova', 'Moldova', 'Bessarabia', '20th century', '2011', 'Minecraft']\n"
     ]
    },
    {
     "name": "stderr",
     "output_type": "stream",
     "text": [
      "\r",
      "Progress:  64%|████████████████████████████████████████████▎                        | 643/1000 [04:47<02:30,  2.38it/s]"
     ]
    },
    {
     "name": "stdout",
     "output_type": "stream",
     "text": [
      "Starting Node: Grumman EA-6B Prowler\n",
      "Ending Node: Minecraft\n",
      "Path Length: 4\n",
      "Path Exists: 1\n",
      "Path: ['Grumman EA-6B Prowler', '2021', 'Microsoft', 'Minecraft']\n"
     ]
    },
    {
     "name": "stderr",
     "output_type": "stream",
     "text": [
      "\r",
      "Progress:  64%|████████████████████████████████████████████▍                        | 644/1000 [04:48<02:36,  2.27it/s]"
     ]
    },
    {
     "name": "stdout",
     "output_type": "stream",
     "text": [
      "Starting Node: George Shapiro\n",
      "Ending Node: Minecraft\n",
      "Path Length: 5\n",
      "Path Exists: 1\n",
      "Path: ['George Shapiro', 'New York University', 'Business', 'Microsoft', 'Minecraft']\n"
     ]
    },
    {
     "name": "stderr",
     "output_type": "stream",
     "text": [
      "\r",
      "Progress:  64%|████████████████████████████████████████████▌                        | 645/1000 [04:48<02:40,  2.21it/s]"
     ]
    },
    {
     "name": "stdout",
     "output_type": "stream",
     "text": [
      "Starting Node: Pittsburg County, Oklahoma\n",
      "Ending Node: Minecraft\n",
      "Path Length: 5\n",
      "Path Exists: 1\n",
      "Path: ['Pittsburg County, Oklahoma', 'Oklahoma', '20th century', '2011', 'Minecraft']\n",
      "Starting Node: Enterobacteriaceae\n",
      "Ending Node: Minecraft\n",
      "Path Length: 5\n",
      "Path Exists: 1\n",
      "Path: ['Enterobacteriaceae', 'CNN', 'MSNBC', 'Microsoft', 'Minecraft']\n"
     ]
    },
    {
     "name": "stderr",
     "output_type": "stream",
     "text": [
      "\r",
      "Progress:  65%|████████████████████████████████████████████▋                        | 647/1000 [04:48<02:01,  2.91it/s]"
     ]
    },
    {
     "name": "stdout",
     "output_type": "stream",
     "text": [
      "Starting Node: I Think We're Alone Now\n",
      "Ending Node: Minecraft\n",
      "Path Length: 6\n",
      "Path Exists: 1\n",
      "Path: [\"I Think We're Alone Now\", 'Dance-pop', 'Kesha', 'Till the World Ends', '2011', 'Minecraft']\n",
      "Starting Node: NES Four Score\n",
      "Ending Node: Minecraft\n",
      "Path Exists: 0\n"
     ]
    },
    {
     "name": "stderr",
     "output_type": "stream",
     "text": [
      "\r",
      "Progress:  65%|████████████████████████████████████████████▊                        | 649/1000 [04:49<02:09,  2.71it/s]"
     ]
    },
    {
     "name": "stdout",
     "output_type": "stream",
     "text": [
      "Starting Node: Solène Jambaqué\n",
      "Ending Node: Minecraft\n",
      "Path Length: 5\n",
      "Path Exists: 1\n",
      "Path: ['Solène Jambaqué', 'France', 'Greece', '2011', 'Minecraft']\n"
     ]
    },
    {
     "name": "stderr",
     "output_type": "stream",
     "text": [
      "\r",
      "Progress:  65%|████████████████████████████████████████████▊                        | 650/1000 [04:50<01:58,  2.94it/s]"
     ]
    },
    {
     "name": "stdout",
     "output_type": "stream",
     "text": [
      "Starting Node: Charles Wyrsch\n",
      "Ending Node: Minecraft\n",
      "Path Length: 5\n",
      "Path Exists: 1\n",
      "Path: ['Charles Wyrsch', 'Nidwalden', '2001', 'Microsoft', 'Minecraft']\n"
     ]
    },
    {
     "name": "stderr",
     "output_type": "stream",
     "text": [
      "\r",
      "Progress:  65%|████████████████████████████████████████████▉                        | 651/1000 [04:50<02:05,  2.77it/s]"
     ]
    },
    {
     "name": "stdout",
     "output_type": "stream",
     "text": [
      "Starting Node: Assisi\n",
      "Ending Node: Minecraft\n",
      "Path Length: 5\n",
      "Path Exists: 1\n",
      "Path: ['Assisi', 'UNESCO', '1945', '2011', 'Minecraft']\n"
     ]
    },
    {
     "name": "stderr",
     "output_type": "stream",
     "text": [
      "\r",
      "Progress:  65%|████████████████████████████████████████████▉                        | 652/1000 [04:51<02:54,  1.99it/s]"
     ]
    },
    {
     "name": "stdout",
     "output_type": "stream",
     "text": [
      "Starting Node: Wife selling\n",
      "Ending Node: Minecraft\n",
      "Path Length: 6\n",
      "Path Exists: 1\n",
      "Path: ['Wife selling', 'Tax', 'England', 'UEFA Euro 2012', '2011', 'Minecraft']\n",
      "Starting Node: Order of magnitude\n",
      "Ending Node: Minecraft\n",
      "Path Length: 5\n",
      "Path Exists: 1\n",
      "Path: ['Order of magnitude', 'Milky Way', 'Earth', 'Microsoft', 'Minecraft']\n"
     ]
    },
    {
     "name": "stderr",
     "output_type": "stream",
     "text": [
      "\r",
      "Progress:  65%|█████████████████████████████████████████████▏                       | 654/1000 [04:51<02:24,  2.40it/s]"
     ]
    },
    {
     "name": "stdout",
     "output_type": "stream",
     "text": [
      "Starting Node: Sergey Martynov\n",
      "Ending Node: Minecraft\n",
      "Path Length: 6\n",
      "Path Exists: 1\n",
      "Path: ['Sergey Martynov', '1996 Summer Olympics', 'Summer Olympic Games', 'Greece', '2011', 'Minecraft']\n"
     ]
    },
    {
     "name": "stderr",
     "output_type": "stream",
     "text": [
      "\r",
      "Progress:  66%|█████████████████████████████████████████████▏                       | 655/1000 [04:52<02:24,  2.38it/s]"
     ]
    },
    {
     "name": "stdout",
     "output_type": "stream",
     "text": [
      "Starting Node: Axes\n",
      "Ending Node: Minecraft\n",
      "Path Length: 6\n",
      "Path Exists: 1\n",
      "Path: ['Axes', 'Cartesian coordinate system', 'Polar coordinate system', 'Harvard University', 'Microsoft', 'Minecraft']\n"
     ]
    },
    {
     "name": "stderr",
     "output_type": "stream",
     "text": [
      "\r",
      "Progress:  66%|█████████████████████████████████████████████▎                       | 656/1000 [04:53<02:40,  2.14it/s]"
     ]
    },
    {
     "name": "stdout",
     "output_type": "stream",
     "text": [
      "Starting Node: Leimen\n",
      "Ending Node: Minecraft\n",
      "Path Length: 7\n",
      "Path Exists: 1\n",
      "Path: ['Leimen', 'Leimen, Baden-Württemberg', 'Germany', 'Homelessness', 'YouTube', 'MrBeast', 'Minecraft']\n"
     ]
    },
    {
     "name": "stderr",
     "output_type": "stream",
     "text": [
      "\r",
      "Progress:  66%|█████████████████████████████████████████████▎                       | 657/1000 [04:53<02:33,  2.23it/s]"
     ]
    },
    {
     "name": "stdout",
     "output_type": "stream",
     "text": [
      "Starting Node: Nundle, New South Wales\n",
      "Ending Node: Minecraft\n",
      "Path Length: 5\n",
      "Path Exists: 1\n",
      "Path: ['Nundle, New South Wales', 'Europe', 'Greece', '2011', 'Minecraft']\n"
     ]
    },
    {
     "name": "stderr",
     "output_type": "stream",
     "text": [
      "\r",
      "Progress:  66%|█████████████████████████████████████████████▍                       | 658/1000 [04:53<02:30,  2.27it/s]"
     ]
    },
    {
     "name": "stdout",
     "output_type": "stream",
     "text": [
      "Starting Node: M66 motorway\n",
      "Ending Node: Minecraft\n",
      "Path Length: 5\n",
      "Path Exists: 1\n",
      "Path: ['M66 motorway', 'Manchester Airport', 'Brussels Airlines', '2011', 'Minecraft']\n",
      "Starting Node: Payment protection insurance\n",
      "Ending Node: Minecraft\n",
      "Path Exists: 0\n"
     ]
    },
    {
     "name": "stderr",
     "output_type": "stream",
     "text": [
      "\r",
      "Progress:  66%|█████████████████████████████████████████████▌                       | 660/1000 [04:54<02:20,  2.42it/s]"
     ]
    },
    {
     "name": "stdout",
     "output_type": "stream",
     "text": [
      "Starting Node: Cerny-en-Laonnois\n",
      "Ending Node: Minecraft\n",
      "Path Length: 5\n",
      "Path Exists: 1\n",
      "Path: ['Cerny-en-Laonnois', 'France', 'Greece', '2011', 'Minecraft']\n",
      "Starting Node: Universal Robina\n",
      "Ending Node: Minecraft\n",
      "Path Length: 6\n",
      "Path Exists: 1\n",
      "Path: ['Universal Robina', 'John Gokongwei', 'Conglomerate (company)', 'Business', 'Microsoft', 'Minecraft']\n"
     ]
    },
    {
     "name": "stderr",
     "output_type": "stream",
     "text": [
      "\r",
      "Progress:  66%|█████████████████████████████████████████████▋                       | 662/1000 [04:55<02:02,  2.76it/s]"
     ]
    },
    {
     "name": "stdout",
     "output_type": "stream",
     "text": [
      "Starting Node: Lucinda Franks\n",
      "Ending Node: Minecraft\n",
      "Path Length: 5\n",
      "Path Exists: 1\n",
      "Path: ['Lucinda Franks', 'The New Yorker', '1925', '2011', 'Minecraft']\n"
     ]
    },
    {
     "name": "stderr",
     "output_type": "stream",
     "text": [
      "\r",
      "Progress:  66%|█████████████████████████████████████████████▋                       | 663/1000 [04:55<02:16,  2.47it/s]"
     ]
    },
    {
     "name": "stdout",
     "output_type": "stream",
     "text": [
      "Starting Node: Chu River\n",
      "Ending Node: Minecraft\n",
      "Path Length: 5\n",
      "Path Exists: 1\n",
      "Path: ['Chu River', 'Great Soviet Encyclopedia', 'Greece', '2011', 'Minecraft']\n"
     ]
    },
    {
     "name": "stderr",
     "output_type": "stream",
     "text": [
      "\r",
      "Progress:  66%|█████████████████████████████████████████████▊                       | 664/1000 [04:56<02:19,  2.40it/s]"
     ]
    },
    {
     "name": "stdout",
     "output_type": "stream",
     "text": [
      "Starting Node: Ed Davey\n",
      "Ending Node: Minecraft\n",
      "Path Length: 5\n",
      "Path Exists: 1\n",
      "Path: ['Ed Davey', 'Chris Huhne', 'Greece', '2011', 'Minecraft']\n"
     ]
    },
    {
     "name": "stderr",
     "output_type": "stream",
     "text": [
      "\r",
      "Progress:  66%|█████████████████████████████████████████████▉                       | 665/1000 [04:56<02:20,  2.39it/s]"
     ]
    },
    {
     "name": "stdout",
     "output_type": "stream",
     "text": [
      "Starting Node: Allan Clarke (singer)\n",
      "Ending Node: Minecraft\n",
      "Path Length: 5\n",
      "Path Exists: 1\n",
      "Path: ['Allan Clarke (singer)', 'Rock and Roll Hall of Fame', 'January 23', '2011', 'Minecraft']\n"
     ]
    },
    {
     "name": "stderr",
     "output_type": "stream",
     "text": [
      "\r",
      "Progress:  67%|█████████████████████████████████████████████▉                       | 666/1000 [04:57<02:52,  1.94it/s]"
     ]
    },
    {
     "name": "stdout",
     "output_type": "stream",
     "text": [
      "Starting Node: Dorfchemnitz\n",
      "Ending Node: Minecraft\n",
      "Path Length: 6\n",
      "Path Exists: 1\n",
      "Path: ['Dorfchemnitz', 'Germany', 'Homelessness', 'YouTube', 'MrBeast', 'Minecraft']\n"
     ]
    },
    {
     "name": "stderr",
     "output_type": "stream",
     "text": [
      "\r",
      "Progress:  67%|██████████████████████████████████████████████                       | 667/1000 [04:57<02:24,  2.31it/s]"
     ]
    },
    {
     "name": "stdout",
     "output_type": "stream",
     "text": [
      "Starting Node: Pine barrens\n",
      "Ending Node: Minecraft\n",
      "Path Length: 5\n",
      "Path Exists: 1\n",
      "Path: ['Pine barrens', 'United States', 'Xbox Game Studios', 'Mojang Studios', 'Minecraft']\n"
     ]
    },
    {
     "name": "stderr",
     "output_type": "stream",
     "text": [
      "\r",
      "Progress:  67%|██████████████████████████████████████████████                       | 668/1000 [04:58<02:59,  1.85it/s]"
     ]
    },
    {
     "name": "stdout",
     "output_type": "stream",
     "text": [
      "Starting Node: Yuki Imamura\n",
      "Ending Node: Minecraft\n",
      "Path Length: 5\n",
      "Path Exists: 1\n",
      "Path: ['Yuki Imamura', 'Japan', 'Nintendo', 'Microsoft', 'Minecraft']\n"
     ]
    },
    {
     "name": "stderr",
     "output_type": "stream",
     "text": [
      "\r",
      "Progress:  67%|██████████████████████████████████████████████▏                      | 669/1000 [04:58<02:55,  1.89it/s]"
     ]
    },
    {
     "name": "stdout",
     "output_type": "stream",
     "text": [
      "Starting Node: Connie Madigan\n",
      "Ending Node: Minecraft\n",
      "Path Length: 6\n",
      "Path Exists: 1\n",
      "Path: ['Connie Madigan', 'St. Louis Blues', '1986–87 NHL season', 'May 26', '2011', 'Minecraft']\n"
     ]
    },
    {
     "name": "stderr",
     "output_type": "stream",
     "text": [
      "\r",
      "Progress:  67%|██████████████████████████████████████████████▏                      | 670/1000 [04:59<02:43,  2.01it/s]"
     ]
    },
    {
     "name": "stdout",
     "output_type": "stream",
     "text": [
      "Starting Node: Ludwigslust (district)\n",
      "Ending Node: Minecraft\n",
      "Path Length: 5\n",
      "Path Exists: 1\n",
      "Path: ['Ludwigslust (district)', '1994', '1956', 'Microsoft', 'Minecraft']\n"
     ]
    },
    {
     "name": "stderr",
     "output_type": "stream",
     "text": [
      "\r",
      "Progress:  67%|██████████████████████████████████████████████▎                      | 671/1000 [04:59<02:49,  1.94it/s]"
     ]
    },
    {
     "name": "stdout",
     "output_type": "stream",
     "text": [
      "Starting Node: Moncaup, Pyrénées-Atlantiques\n",
      "Ending Node: Minecraft\n",
      "Path Length: 5\n",
      "Path Exists: 1\n",
      "Path: ['Moncaup, Pyrénées-Atlantiques', 'France', 'Greece', '2011', 'Minecraft']\n"
     ]
    },
    {
     "name": "stderr",
     "output_type": "stream",
     "text": [
      "\r",
      "Progress:  67%|██████████████████████████████████████████████▎                      | 672/1000 [05:00<03:02,  1.79it/s]"
     ]
    },
    {
     "name": "stdout",
     "output_type": "stream",
     "text": [
      "Starting Node: Tanganyika laughter epidemic\n",
      "Ending Node: Minecraft\n",
      "Path Length: 6\n",
      "Path Exists: 1\n",
      "Path: ['Tanganyika laughter epidemic', 'Tanganyika', 'World War I', '1917', '2011', 'Minecraft']\n"
     ]
    },
    {
     "name": "stderr",
     "output_type": "stream",
     "text": [
      "\r",
      "Progress:  67%|██████████████████████████████████████████████▍                      | 673/1000 [05:01<03:29,  1.56it/s]"
     ]
    },
    {
     "name": "stdout",
     "output_type": "stream",
     "text": [
      "Starting Node: George M. Dallas\n",
      "Ending Node: Minecraft\n",
      "Path Length: 5\n",
      "Path Exists: 1\n",
      "Path: ['George M. Dallas', 'Bachelor of Arts', '2014', 'Microsoft', 'Minecraft']\n"
     ]
    },
    {
     "name": "stderr",
     "output_type": "stream",
     "text": [
      "\r",
      "Progress:  67%|██████████████████████████████████████████████▌                      | 674/1000 [05:01<03:12,  1.69it/s]"
     ]
    },
    {
     "name": "stdout",
     "output_type": "stream",
     "text": [
      "Starting Node: Kensaku Omori\n",
      "Ending Node: Minecraft\n",
      "Path Length: 5\n",
      "Path Exists: 1\n",
      "Path: ['Kensaku Omori', 'Japan', 'Nintendo', 'Microsoft', 'Minecraft']\n",
      "Starting Node: Heirloom plant\n",
      "Ending Node: Minecraft\n",
      "Path Exists: 0\n"
     ]
    },
    {
     "name": "stderr",
     "output_type": "stream",
     "text": [
      "\r",
      "Progress:  68%|██████████████████████████████████████████████▋                      | 676/1000 [05:02<02:15,  2.39it/s]"
     ]
    },
    {
     "name": "stdout",
     "output_type": "stream",
     "text": [
      "Starting Node: Metropolitan City of Messina\n",
      "Ending Node: Minecraft\n",
      "Path Length: 6\n",
      "Path Exists: 1\n",
      "Path: ['Metropolitan City of Messina', 'Aeolian Islands', 'Europe', 'Greece', '2011', 'Minecraft']\n"
     ]
    },
    {
     "name": "stderr",
     "output_type": "stream",
     "text": [
      "\r",
      "Progress:  68%|██████████████████████████████████████████████▋                      | 677/1000 [05:02<02:23,  2.24it/s]"
     ]
    },
    {
     "name": "stdout",
     "output_type": "stream",
     "text": [
      "Starting Node: Albert Vickers Bryan Jr.\n",
      "Ending Node: Minecraft\n",
      "Path Length: 6\n",
      "Path Exists: 1\n",
      "Path: ['Albert Vickers Bryan Jr.', 'United States federal judge', 'United States', 'Xbox Game Studios', 'Mojang Studios', 'Minecraft']\n",
      "Starting Node: The Santa Clause\n",
      "Ending Node: Minecraft\n",
      "Path Length: 5\n",
      "Path Exists: 1\n",
      "Path: ['The Santa Clause', 'Hollywood Pictures', 'Nintendo', 'Microsoft', 'Minecraft']\n"
     ]
    },
    {
     "name": "stderr",
     "output_type": "stream",
     "text": [
      "\r",
      "Progress:  68%|██████████████████████████████████████████████▊                      | 679/1000 [05:03<01:58,  2.71it/s]"
     ]
    },
    {
     "name": "stdout",
     "output_type": "stream",
     "text": [
      "Starting Node: Carrie Fisher\n",
      "Ending Node: Minecraft\n",
      "Path Length: 5\n",
      "Path Exists: 1\n",
      "Path: ['Carrie Fisher', 'Star Wars', 'December', '2011', 'Minecraft']\n"
     ]
    },
    {
     "name": "stderr",
     "output_type": "stream",
     "text": [
      "\r",
      "Progress:  68%|██████████████████████████████████████████████▉                      | 680/1000 [05:03<02:04,  2.57it/s]"
     ]
    },
    {
     "name": "stdout",
     "output_type": "stream",
     "text": [
      "Starting Node: Terry Meeuwsen\n",
      "Ending Node: Minecraft\n",
      "Path Length: 5\n",
      "Path Exists: 1\n",
      "Path: ['Terry Meeuwsen', 'United States', 'Xbox Game Studios', 'Mojang Studios', 'Minecraft']\n"
     ]
    },
    {
     "name": "stderr",
     "output_type": "stream",
     "text": [
      "\r",
      "Progress:  68%|██████████████████████████████████████████████▉                      | 681/1000 [05:04<02:10,  2.45it/s]"
     ]
    },
    {
     "name": "stdout",
     "output_type": "stream",
     "text": [
      "Starting Node: Pressure\n",
      "Ending Node: Minecraft\n",
      "Path Length: 6\n",
      "Path Exists: 1\n",
      "Path: ['Pressure', 'Atmospheric pressure', 'International System of Units', '20th century', '2011', 'Minecraft']\n"
     ]
    },
    {
     "name": "stderr",
     "output_type": "stream",
     "text": [
      "\r",
      "Progress:  68%|███████████████████████████████████████████████                      | 682/1000 [05:04<02:01,  2.61it/s]"
     ]
    },
    {
     "name": "stdout",
     "output_type": "stream",
     "text": [
      "Starting Node: PingOO\n",
      "Ending Node: Minecraft\n",
      "Path Length: 5\n",
      "Path Exists: 1\n",
      "Path: ['PingOO', 'Debian', 'Xbox (console)', 'Microsoft', 'Minecraft']\n"
     ]
    },
    {
     "name": "stderr",
     "output_type": "stream",
     "text": [
      "\r",
      "Progress:  68%|███████████████████████████████████████████████▏                     | 683/1000 [05:04<01:58,  2.68it/s]"
     ]
    },
    {
     "name": "stdout",
     "output_type": "stream",
     "text": [
      "Starting Node: Reception history of Jane Austen\n",
      "Ending Node: Minecraft\n",
      "Path Length: 4\n",
      "Path Exists: 1\n",
      "Path: ['Reception history of Jane Austen', 'Encyclopædia Britannica', 'Microsoft', 'Minecraft']\n"
     ]
    },
    {
     "name": "stderr",
     "output_type": "stream",
     "text": [
      "\r",
      "Progress:  68%|███████████████████████████████████████████████▏                     | 684/1000 [05:05<02:05,  2.51it/s]"
     ]
    },
    {
     "name": "stdout",
     "output_type": "stream",
     "text": [
      "Starting Node: Saint-Denis, Aosta Valley\n",
      "Ending Node: Minecraft\n",
      "Path Length: 5\n",
      "Path Exists: 1\n",
      "Path: ['Saint-Denis, Aosta Valley', 'Italy', 'Mario Draghi', 'Mario', 'Minecraft']\n"
     ]
    },
    {
     "name": "stderr",
     "output_type": "stream",
     "text": [
      "\r",
      "Progress:  68%|███████████████████████████████████████████████▎                     | 685/1000 [05:05<02:07,  2.46it/s]"
     ]
    },
    {
     "name": "stdout",
     "output_type": "stream",
     "text": [
      "Starting Node: Verrucomicrobiota\n",
      "Ending Node: Minecraft\n",
      "Path Length: 6\n",
      "Path Exists: 1\n",
      "Path: ['Verrucomicrobiota', 'Symbiosis', 'The Economist', 'Bill Gates', 'Microsoft', 'Minecraft']\n"
     ]
    },
    {
     "name": "stderr",
     "output_type": "stream",
     "text": [
      "Progress:  69%|███████████████████████████████████████████████▍                     | 687/1000 [05:06<01:45,  2.98it/s]"
     ]
    },
    {
     "name": "stdout",
     "output_type": "stream",
     "text": [
      "Starting Node: Watamu\n",
      "Ending Node: Minecraft\n",
      "Path Length: 6\n",
      "Path Exists: 1\n",
      "Path: ['Watamu', 'Indian Ocean', 'Atlantic Ocean', 'Earth', 'Microsoft', 'Minecraft']\n",
      "Starting Node: Plínio de Arruda Sampaio\n",
      "Ending Node: Minecraft\n",
      "Path Length: 5\n",
      "Path Exists: 1\n",
      "Path: ['Plínio de Arruda Sampaio', 'Brazil', 'Earth', 'Microsoft', 'Minecraft']\n"
     ]
    },
    {
     "name": "stderr",
     "output_type": "stream",
     "text": [
      "\r",
      "Progress:  69%|███████████████████████████████████████████████▍                     | 688/1000 [05:06<01:50,  2.82it/s]"
     ]
    },
    {
     "name": "stdout",
     "output_type": "stream",
     "text": [
      "Starting Node: Chhattisgarh\n",
      "Ending Node: Minecraft\n",
      "Path Length: 5\n",
      "Path Exists: 1\n",
      "Path: ['Chhattisgarh', 'India', 'Encyclopædia Britannica', 'Microsoft', 'Minecraft']\n"
     ]
    },
    {
     "name": "stderr",
     "output_type": "stream",
     "text": [
      "\r",
      "Progress:  69%|███████████████████████████████████████████████▌                     | 689/1000 [05:07<02:01,  2.57it/s]"
     ]
    },
    {
     "name": "stdout",
     "output_type": "stream",
     "text": [
      "Starting Node: Bambi II\n",
      "Ending Node: Minecraft\n",
      "Path Length: 4\n",
      "Path Exists: 1\n",
      "Path: ['Bambi II', 'Jane Krakowski', 'Microsoft', 'Minecraft']\n"
     ]
    },
    {
     "name": "stderr",
     "output_type": "stream",
     "text": [
      "\r",
      "Progress:  69%|███████████████████████████████████████████████▌                     | 690/1000 [05:07<02:16,  2.28it/s]"
     ]
    },
    {
     "name": "stdout",
     "output_type": "stream",
     "text": [
      "Starting Node: North Plainfield, New Jersey\n",
      "Ending Node: Minecraft\n",
      "Path Length: 6\n",
      "Path Exists: 1\n",
      "Path: ['North Plainfield, New Jersey', 'List of counties in New Jersey', 'Hackensack, New Jersey', '2020', 'Microsoft', 'Minecraft']\n"
     ]
    },
    {
     "name": "stderr",
     "output_type": "stream",
     "text": [
      "\r",
      "Progress:  69%|███████████████████████████████████████████████▋                     | 691/1000 [05:08<02:05,  2.47it/s]"
     ]
    },
    {
     "name": "stdout",
     "output_type": "stream",
     "text": [
      "Starting Node: DigitaOS\n",
      "Ending Node: Minecraft\n",
      "Path Length: 5\n",
      "Path Exists: 1\n",
      "Path: ['DigitaOS', 'Android (operating system)', 'Tablet computer', 'Microsoft', 'Minecraft']\n"
     ]
    },
    {
     "name": "stderr",
     "output_type": "stream",
     "text": [
      "\r",
      "Progress:  69%|███████████████████████████████████████████████▋                     | 692/1000 [05:08<01:52,  2.73it/s]"
     ]
    },
    {
     "name": "stdout",
     "output_type": "stream",
     "text": [
      "Starting Node: Hydrogel\n",
      "Ending Node: Minecraft\n",
      "Path Length: 5\n",
      "Path Exists: 1\n",
      "Path: ['Hydrogel', 'Light', 'Earth', 'Microsoft', 'Minecraft']\n"
     ]
    },
    {
     "name": "stderr",
     "output_type": "stream",
     "text": [
      "\r",
      "Progress:  69%|███████████████████████████████████████████████▊                     | 693/1000 [05:08<02:00,  2.55it/s]"
     ]
    },
    {
     "name": "stdout",
     "output_type": "stream",
     "text": [
      "Starting Node: Saint-Clément-sur-Durance\n",
      "Ending Node: Minecraft\n",
      "Path Length: 5\n",
      "Path Exists: 1\n",
      "Path: ['Saint-Clément-sur-Durance', 'Departments of France', 'Guéret', 'Wolf', 'Minecraft']\n"
     ]
    },
    {
     "name": "stderr",
     "output_type": "stream",
     "text": [
      "\r",
      "Progress:  69%|███████████████████████████████████████████████▉                     | 694/1000 [05:09<02:12,  2.32it/s]"
     ]
    },
    {
     "name": "stdout",
     "output_type": "stream",
     "text": [
      "Starting Node: 549\n",
      "Ending Node: Minecraft\n",
      "Path Length: 5\n",
      "Path Exists: 1\n",
      "Path: ['549', 'Julian calendar', '20th century', '2011', 'Minecraft']\n"
     ]
    },
    {
     "name": "stderr",
     "output_type": "stream",
     "text": [
      "\r",
      "Progress:  70%|███████████████████████████████████████████████▉                     | 695/1000 [05:09<02:21,  2.16it/s]"
     ]
    },
    {
     "name": "stdout",
     "output_type": "stream",
     "text": [
      "Starting Node: Cymru Premier\n",
      "Ending Node: Minecraft\n",
      "Path Length: 6\n",
      "Path Exists: 1\n",
      "Path: ['Cymru Premier', 'Wales', 'Snowdonia', 'MSN', 'Microsoft', 'Minecraft']\n"
     ]
    },
    {
     "name": "stderr",
     "output_type": "stream",
     "text": [
      "\r",
      "Progress:  70%|████████████████████████████████████████████████                     | 696/1000 [05:10<02:20,  2.16it/s]"
     ]
    },
    {
     "name": "stdout",
     "output_type": "stream",
     "text": [
      "Starting Node: Turner Classic Movies\n",
      "Ending Node: Minecraft\n",
      "Path Length: 6\n",
      "Path Exists: 1\n",
      "Path: ['Turner Classic Movies', 'Warner Bros.', 'The Flintstones', 'Screen Gems', '2011', 'Minecraft']\n"
     ]
    },
    {
     "name": "stderr",
     "output_type": "stream",
     "text": [
      "\r",
      "Progress:  70%|████████████████████████████████████████████████                     | 697/1000 [05:10<02:25,  2.09it/s]"
     ]
    },
    {
     "name": "stdout",
     "output_type": "stream",
     "text": [
      "Starting Node: South Hobart FC\n",
      "Ending Node: Minecraft\n",
      "Path Length: 5\n",
      "Path Exists: 1\n",
      "Path: ['South Hobart FC', 'Australia', 'Greece', '2011', 'Minecraft']\n"
     ]
    },
    {
     "name": "stderr",
     "output_type": "stream",
     "text": [
      "\r",
      "Progress:  70%|████████████████████████████████████████████████▏                    | 698/1000 [05:11<02:16,  2.21it/s]"
     ]
    },
    {
     "name": "stdout",
     "output_type": "stream",
     "text": [
      "Starting Node: 1547\n",
      "Ending Node: Minecraft\n",
      "Path Length: 4\n",
      "Path Exists: 1\n",
      "Path: ['1547', 'November 26', '2011', 'Minecraft']\n"
     ]
    },
    {
     "name": "stderr",
     "output_type": "stream",
     "text": [
      "\r",
      "Progress:  70%|████████████████████████████████████████████████▏                    | 699/1000 [05:11<02:16,  2.21it/s]"
     ]
    },
    {
     "name": "stdout",
     "output_type": "stream",
     "text": [
      "Starting Node: Mitsuharu Misawa\n",
      "Ending Node: Minecraft\n",
      "Path Length: 5\n",
      "Path Exists: 1\n",
      "Path: ['Mitsuharu Misawa', 'All Japan Pro Wrestling', 'October 21', '2011', 'Minecraft']\n"
     ]
    },
    {
     "name": "stderr",
     "output_type": "stream",
     "text": [
      "\r",
      "Progress:  70%|████████████████████████████████████████████████▎                    | 700/1000 [05:12<02:11,  2.28it/s]"
     ]
    },
    {
     "name": "stdout",
     "output_type": "stream",
     "text": [
      "Starting Node: Mancode\n",
      "Ending Node: Minecraft\n",
      "Path Length: 5\n",
      "Path Exists: 1\n",
      "Path: ['Mancode', 'India', 'Encyclopædia Britannica', 'Microsoft', 'Minecraft']\n"
     ]
    },
    {
     "name": "stderr",
     "output_type": "stream",
     "text": [
      "\r",
      "Progress:  70%|████████████████████████████████████████████████▎                    | 701/1000 [05:12<02:15,  2.21it/s]"
     ]
    },
    {
     "name": "stdout",
     "output_type": "stream",
     "text": [
      "Starting Node: Futurama: Bender's Big Score\n",
      "Ending Node: Minecraft\n",
      "Path Length: 5\n",
      "Path Exists: 1\n",
      "Path: [\"Futurama: Bender's Big Score\", 'Coolio', '1998', '2011', 'Minecraft']\n"
     ]
    },
    {
     "name": "stderr",
     "output_type": "stream",
     "text": [
      "\r",
      "Progress:  70%|████████████████████████████████████████████████▍                    | 702/1000 [05:13<02:20,  2.12it/s]"
     ]
    },
    {
     "name": "stdout",
     "output_type": "stream",
     "text": [
      "Starting Node: Ab Anarak\n",
      "Ending Node: Minecraft\n",
      "Path Length: 6\n",
      "Path Exists: 1\n",
      "Path: ['Ab Anarak', 'Iran', 'Turkey', 'Greece', '2011', 'Minecraft']\n",
      "Starting Node: Charles III of Spain\n",
      "Ending Node: Minecraft\n",
      "Path Length: 4\n",
      "Path Exists: 1\n",
      "Path: ['Charles III of Spain', 'Encyclopædia Britannica', 'Microsoft', 'Minecraft']\n"
     ]
    },
    {
     "name": "stderr",
     "output_type": "stream",
     "text": [
      "\r",
      "Progress:  70%|████████████████████████████████████████████████▌                    | 704/1000 [05:13<01:47,  2.76it/s]"
     ]
    },
    {
     "name": "stdout",
     "output_type": "stream",
     "text": [
      "Starting Node: Habo Church\n",
      "Ending Node: Minecraft\n",
      "Path Length: 4\n",
      "Path Exists: 1\n",
      "Path: ['Habo Church', 'Habo', '2011', 'Minecraft']\n"
     ]
    },
    {
     "name": "stderr",
     "output_type": "stream",
     "text": [
      "\r",
      "Progress:  70%|████████████████████████████████████████████████▋                    | 705/1000 [05:14<01:50,  2.68it/s]"
     ]
    },
    {
     "name": "stdout",
     "output_type": "stream",
     "text": [
      "Starting Node: Construction worker\n",
      "Ending Node: Minecraft\n",
      "Path Length: 6\n",
      "Path Exists: 1\n",
      "Path: ['Construction worker', 'Dam', 'Turkey', 'Greece', '2011', 'Minecraft']\n"
     ]
    },
    {
     "name": "stderr",
     "output_type": "stream",
     "text": [
      "\r",
      "Progress:  71%|████████████████████████████████████████████████▋                    | 706/1000 [05:14<02:18,  2.13it/s]"
     ]
    },
    {
     "name": "stdout",
     "output_type": "stream",
     "text": [
      "Starting Node: Saint-Orens-Pouy-Petit\n",
      "Ending Node: Minecraft\n",
      "Path Length: 5\n",
      "Path Exists: 1\n",
      "Path: ['Saint-Orens-Pouy-Petit', 'France', 'Greece', '2011', 'Minecraft']\n"
     ]
    },
    {
     "name": "stderr",
     "output_type": "stream",
     "text": [
      "\r",
      "Progress:  71%|████████████████████████████████████████████████▊                    | 707/1000 [05:15<02:20,  2.09it/s]"
     ]
    },
    {
     "name": "stdout",
     "output_type": "stream",
     "text": [
      "Starting Node: Sandpoint, Idaho\n",
      "Ending Node: Minecraft\n",
      "Path Length: 6\n",
      "Path Exists: 1\n",
      "Path: ['Sandpoint, Idaho', 'Idaho', '42nd parallel north', 'Earth', 'Microsoft', 'Minecraft']\n"
     ]
    },
    {
     "name": "stderr",
     "output_type": "stream",
     "text": [
      "\r",
      "Progress:  71%|████████████████████████████████████████████████▊                    | 708/1000 [05:15<02:21,  2.07it/s]"
     ]
    },
    {
     "name": "stdout",
     "output_type": "stream",
     "text": [
      "Starting Node: Somewhere Down the Crazy River\n",
      "Ending Node: Minecraft\n",
      "Path Length: 5\n",
      "Path Exists: 1\n",
      "Path: ['Somewhere Down the Crazy River', 'Martin Scorsese', 'Hugo (movie)', '2011', 'Minecraft']\n"
     ]
    },
    {
     "name": "stderr",
     "output_type": "stream",
     "text": [
      "\r",
      "Progress:  71%|████████████████████████████████████████████████▉                    | 709/1000 [05:16<02:28,  1.96it/s]"
     ]
    },
    {
     "name": "stdout",
     "output_type": "stream",
     "text": [
      "Starting Node: Anne B. Newman\n",
      "Ending Node: Minecraft\n",
      "Path Length: 6\n",
      "Path Exists: 1\n",
      "Path: ['Anne B. Newman', 'Pennsylvania', 'France', 'Greece', '2011', 'Minecraft']\n"
     ]
    },
    {
     "name": "stderr",
     "output_type": "stream",
     "text": [
      "\r",
      "Progress:  71%|████████████████████████████████████████████████▉                    | 710/1000 [05:16<02:18,  2.09it/s]"
     ]
    },
    {
     "name": "stdout",
     "output_type": "stream",
     "text": [
      "Starting Node: 2008–09 Nashville Predators season\n",
      "Ending Node: Minecraft\n",
      "Path Length: 5\n",
      "Path Exists: 1\n",
      "Path: ['2008–09 Nashville Predators season', 'Season (sports)', 'September', '2011', 'Minecraft']\n"
     ]
    },
    {
     "name": "stderr",
     "output_type": "stream",
     "text": [
      "\r",
      "Progress:  71%|█████████████████████████████████████████████████                    | 711/1000 [05:17<02:14,  2.14it/s]"
     ]
    },
    {
     "name": "stdout",
     "output_type": "stream",
     "text": [
      "Starting Node: Alexander Palace\n",
      "Ending Node: Minecraft\n",
      "Path Length: 5\n",
      "Path Exists: 1\n",
      "Path: ['Alexander Palace', 'Russia', 'Encyclopædia Britannica', 'Microsoft', 'Minecraft']\n",
      "Starting Node: Dual-tone multi-frequency\n",
      "Ending Node: Minecraft\n",
      "Path Exists: 0\n"
     ]
    },
    {
     "name": "stderr",
     "output_type": "stream",
     "text": [
      "\r",
      "Progress:  71%|█████████████████████████████████████████████████▏                   | 713/1000 [05:17<01:33,  3.07it/s]"
     ]
    },
    {
     "name": "stdout",
     "output_type": "stream",
     "text": [
      "Starting Node: Siberian Traps\n",
      "Ending Node: Minecraft\n",
      "Path Length: 5\n",
      "Path Exists: 1\n",
      "Path: ['Siberian Traps', 'Volcanic eruption', 'Earth', 'Microsoft', 'Minecraft']\n"
     ]
    },
    {
     "name": "stderr",
     "output_type": "stream",
     "text": [
      "\r",
      "Progress:  71%|█████████████████████████████████████████████████▎                   | 714/1000 [05:17<01:41,  2.81it/s]"
     ]
    },
    {
     "name": "stdout",
     "output_type": "stream",
     "text": [
      "Starting Node: Hurricane Florence (2006)\n",
      "Ending Node: Minecraft\n",
      "Path Length: 4\n",
      "Path Exists: 1\n",
      "Path: ['Hurricane Florence (2006)', 'September', '2011', 'Minecraft']\n"
     ]
    },
    {
     "name": "stderr",
     "output_type": "stream",
     "text": [
      "\r",
      "Progress:  72%|█████████████████████████████████████████████████▎                   | 715/1000 [05:18<01:51,  2.56it/s]"
     ]
    },
    {
     "name": "stdout",
     "output_type": "stream",
     "text": [
      "Starting Node: Flag of the United Nations\n",
      "Ending Node: Minecraft\n",
      "Path Length: 6\n",
      "Path Exists: 1\n",
      "Path: ['Flag of the United Nations', 'The New York Times', 'United States', 'Xbox Game Studios', 'Mojang Studios', 'Minecraft']\n"
     ]
    },
    {
     "name": "stderr",
     "output_type": "stream",
     "text": [
      "\r",
      "Progress:  72%|█████████████████████████████████████████████████▍                   | 716/1000 [05:18<02:01,  2.35it/s]"
     ]
    },
    {
     "name": "stdout",
     "output_type": "stream",
     "text": [
      "Starting Node: Simon Clarke (politician)\n",
      "Ending Node: Minecraft\n",
      "Path Length: 6\n",
      "Path Exists: 1\n",
      "Path: ['Simon Clarke (politician)', 'Michael Gove', 'Aberdeen', '1910', '2011', 'Minecraft']\n"
     ]
    },
    {
     "name": "stderr",
     "output_type": "stream",
     "text": [
      "\r",
      "Progress:  72%|█████████████████████████████████████████████████▍                   | 717/1000 [05:19<02:11,  2.15it/s]"
     ]
    },
    {
     "name": "stdout",
     "output_type": "stream",
     "text": [
      "Starting Node: Malta (European Parliament constituency)\n",
      "Ending Node: Minecraft\n",
      "Path Length: 5\n",
      "Path Exists: 1\n",
      "Path: ['Malta (European Parliament constituency)', 'Malta', '2008', 'Microsoft', 'Minecraft']\n"
     ]
    },
    {
     "name": "stderr",
     "output_type": "stream",
     "text": [
      "\r",
      "Progress:  72%|█████████████████████████████████████████████████▌                   | 718/1000 [05:20<02:10,  2.15it/s]"
     ]
    },
    {
     "name": "stdout",
     "output_type": "stream",
     "text": [
      "Starting Node: People's Republic of Angola\n",
      "Ending Node: Minecraft\n",
      "Path Length: 5\n",
      "Path Exists: 1\n",
      "Path: [\"People's Republic of Angola\", 'Portugal', '1910', '2011', 'Minecraft']\n"
     ]
    },
    {
     "name": "stderr",
     "output_type": "stream",
     "text": [
      "\r",
      "Progress:  72%|█████████████████████████████████████████████████▌                   | 719/1000 [05:20<02:05,  2.24it/s]"
     ]
    },
    {
     "name": "stdout",
     "output_type": "stream",
     "text": [
      "Starting Node: Klang\n",
      "Ending Node: Minecraft\n",
      "Path Length: 4\n",
      "Path Exists: 1\n",
      "Path: ['Klang', '1945', '2011', 'Minecraft']\n"
     ]
    },
    {
     "name": "stderr",
     "output_type": "stream",
     "text": [
      "\r",
      "Progress:  72%|█████████████████████████████████████████████████▋                   | 720/1000 [05:20<02:03,  2.27it/s]"
     ]
    },
    {
     "name": "stdout",
     "output_type": "stream",
     "text": [
      "Starting Node: Enver Pasha\n",
      "Ending Node: Minecraft\n",
      "Path Length: 5\n",
      "Path Exists: 1\n",
      "Path: ['Enver Pasha', 'Turkey', 'Greece', '2011', 'Minecraft']\n"
     ]
    },
    {
     "name": "stderr",
     "output_type": "stream",
     "text": [
      "\r",
      "Progress:  72%|█████████████████████████████████████████████████▋                   | 721/1000 [05:21<02:14,  2.08it/s]"
     ]
    },
    {
     "name": "stdout",
     "output_type": "stream",
     "text": [
      "Starting Node: Karyn Kupcinet\n",
      "Ending Node: Minecraft\n",
      "Path Length: 6\n",
      "Path Exists: 1\n",
      "Path: ['Karyn Kupcinet', 'The Andy Griffith Show', 'NBC', 'MSNBC', 'Microsoft', 'Minecraft']\n"
     ]
    },
    {
     "name": "stderr",
     "output_type": "stream",
     "text": [
      "\r",
      "Progress:  72%|█████████████████████████████████████████████████▊                   | 722/1000 [05:21<02:11,  2.12it/s]"
     ]
    },
    {
     "name": "stdout",
     "output_type": "stream",
     "text": [
      "Starting Node: Cannibalism\n",
      "Ending Node: Minecraft\n",
      "Path Length: 5\n",
      "Path Exists: 1\n",
      "Path: ['Cannibalism', 'Africa', '20th century', '2011', 'Minecraft']\n"
     ]
    },
    {
     "name": "stderr",
     "output_type": "stream",
     "text": [
      "\r",
      "Progress:  72%|█████████████████████████████████████████████████▉                   | 723/1000 [05:22<02:05,  2.21it/s]"
     ]
    },
    {
     "name": "stdout",
     "output_type": "stream",
     "text": [
      "Starting Node: Mario Götze\n",
      "Ending Node: Minecraft\n",
      "Path Length: 5\n",
      "Path Exists: 1\n",
      "Path: ['Mario Götze', '2014 FIFA World Cup Group G', 'UEFA Euro 2012', '2011', 'Minecraft']\n"
     ]
    },
    {
     "name": "stderr",
     "output_type": "stream",
     "text": [
      "\r",
      "Progress:  72%|█████████████████████████████████████████████████▉                   | 724/1000 [05:22<02:02,  2.25it/s]"
     ]
    },
    {
     "name": "stdout",
     "output_type": "stream",
     "text": [
      "Starting Node: Cajibio, Cauca\n",
      "Ending Node: Minecraft\n",
      "Path Length: 6\n",
      "Path Exists: 1\n",
      "Path: ['Cajibio, Cauca', 'Colombia', 'Álvaro Uribe', 'Harvard University', 'Microsoft', 'Minecraft']\n"
     ]
    },
    {
     "name": "stderr",
     "output_type": "stream",
     "text": [
      "\r",
      "Progress:  72%|██████████████████████████████████████████████████                   | 725/1000 [05:23<02:24,  1.90it/s]"
     ]
    },
    {
     "name": "stdout",
     "output_type": "stream",
     "text": [
      "Starting Node: Māori\n",
      "Ending Node: Minecraft\n",
      "Path Length: 6\n",
      "Path Exists: 1\n",
      "Path: ['Māori', 'Māori language', 'Australia', 'Greece', '2011', 'Minecraft']\n"
     ]
    },
    {
     "name": "stderr",
     "output_type": "stream",
     "text": [
      "\r",
      "Progress:  73%|██████████████████████████████████████████████████                   | 726/1000 [05:23<02:14,  2.04it/s]"
     ]
    },
    {
     "name": "stdout",
     "output_type": "stream",
     "text": [
      "Starting Node: Thomas Mitchell (actor)\n",
      "Ending Node: Minecraft\n",
      "Path Length: 5\n",
      "Path Exists: 1\n",
      "Path: ['Thomas Mitchell (actor)', 'Triple Crown of Acting', 'Encyclopædia Britannica', 'Microsoft', 'Minecraft']\n"
     ]
    },
    {
     "name": "stderr",
     "output_type": "stream",
     "text": [
      "\r",
      "Progress:  73%|██████████████████████████████████████████████████▏                  | 727/1000 [05:24<01:52,  2.43it/s]"
     ]
    },
    {
     "name": "stdout",
     "output_type": "stream",
     "text": [
      "Starting Node: Kenny Dalglish\n",
      "Ending Node: Minecraft\n",
      "Path Length: 5\n",
      "Path Exists: 1\n",
      "Path: ['Kenny Dalglish', 'Scottish Football League First Division', '2007', 'Microsoft', 'Minecraft']\n",
      "Starting Node: Tentacle\n",
      "Ending Node: Minecraft\n",
      "Path Length: 6\n",
      "Path Exists: 1\n",
      "Path: ['Tentacle', 'Hydra (animal)', 'Animal', 'Earth', 'Microsoft', 'Minecraft']\n"
     ]
    },
    {
     "name": "stderr",
     "output_type": "stream",
     "text": [
      "Progress:  73%|██████████████████████████████████████████████████▎                  | 729/1000 [05:24<01:38,  2.75it/s]"
     ]
    },
    {
     "name": "stdout",
     "output_type": "stream",
     "text": [
      "Starting Node: Canary Islands Mathematics House\n",
      "Ending Node: Minecraft\n",
      "Path Length: 5\n",
      "Path Exists: 1\n",
      "Path: ['Canary Islands Mathematics House', 'Tenerife', '1977', '2011', 'Minecraft']\n",
      "Starting Node: Princess Unikitty\n",
      "Ending Node: Minecraft\n",
      "Path Length: 5\n",
      "Path Exists: 1\n",
      "Path: ['Princess Unikitty', 'The Lego Movie', 'Chris Pratt', 'Mario', 'Minecraft']\n"
     ]
    },
    {
     "name": "stderr",
     "output_type": "stream",
     "text": [
      "\r",
      "Progress:  73%|██████████████████████████████████████████████████▍                  | 731/1000 [05:25<01:39,  2.70it/s]"
     ]
    },
    {
     "name": "stdout",
     "output_type": "stream",
     "text": [
      "Starting Node: Karim Olowu\n",
      "Ending Node: Minecraft\n",
      "Path Length: 6\n",
      "Path Exists: 1\n",
      "Path: ['Karim Olowu', 'Nigeria', 'Equator', 'Earth', 'Microsoft', 'Minecraft']\n"
     ]
    },
    {
     "name": "stderr",
     "output_type": "stream",
     "text": [
      "\r",
      "Progress:  73%|██████████████████████████████████████████████████▌                  | 732/1000 [05:25<01:44,  2.56it/s]"
     ]
    },
    {
     "name": "stdout",
     "output_type": "stream",
     "text": [
      "Starting Node: Miniature sheet\n",
      "Ending Node: Minecraft\n",
      "Path Length: 6\n",
      "Path Exists: 1\n",
      "Path: ['Miniature sheet', 'Postage stamp', 'Bavaria', 'Santa Claus', 'Microsoft', 'Minecraft']\n"
     ]
    },
    {
     "name": "stderr",
     "output_type": "stream",
     "text": [
      "\r",
      "Progress:  73%|██████████████████████████████████████████████████▌                  | 733/1000 [05:26<01:42,  2.62it/s]"
     ]
    },
    {
     "name": "stdout",
     "output_type": "stream",
     "text": [
      "Starting Node: The Sugarhill Gang\n",
      "Ending Node: Minecraft\n",
      "Path Length: 5\n",
      "Path Exists: 1\n",
      "Path: ['The Sugarhill Gang', 'United States', 'Xbox Game Studios', 'Mojang Studios', 'Minecraft']\n"
     ]
    },
    {
     "name": "stderr",
     "output_type": "stream",
     "text": [
      "\r",
      "Progress:  73%|██████████████████████████████████████████████████▋                  | 734/1000 [05:26<01:43,  2.57it/s]"
     ]
    },
    {
     "name": "stdout",
     "output_type": "stream",
     "text": [
      "Starting Node: Orange Caramel\n",
      "Ending Node: Minecraft\n",
      "Path Length: 5\n",
      "Path Exists: 1\n",
      "Path: ['Orange Caramel', 'Album', '21st century', '2011', 'Minecraft']\n"
     ]
    },
    {
     "name": "stderr",
     "output_type": "stream",
     "text": [
      "\r",
      "Progress:  74%|██████████████████████████████████████████████████▋                  | 735/1000 [05:27<01:50,  2.40it/s]"
     ]
    },
    {
     "name": "stdout",
     "output_type": "stream",
     "text": [
      "Starting Node: Abdus Salim Khan\n",
      "Ending Node: Minecraft\n",
      "Path Length: 5\n",
      "Path Exists: 1\n",
      "Path: ['Abdus Salim Khan', 'Japan', 'Nintendo', 'Microsoft', 'Minecraft']\n"
     ]
    },
    {
     "name": "stderr",
     "output_type": "stream",
     "text": [
      "\r",
      "Progress:  74%|██████████████████████████████████████████████████▊                  | 736/1000 [05:27<01:55,  2.28it/s]"
     ]
    },
    {
     "name": "stdout",
     "output_type": "stream",
     "text": [
      "Starting Node: Division of Flynn\n",
      "Ending Node: Minecraft\n",
      "Path Length: 6\n",
      "Path Exists: 1\n",
      "Path: ['Division of Flynn', 'Gladstone, Queensland', 'Australia', 'Greece', '2011', 'Minecraft']\n"
     ]
    },
    {
     "name": "stderr",
     "output_type": "stream",
     "text": [
      "\r",
      "Progress:  74%|██████████████████████████████████████████████████▊                  | 737/1000 [05:28<01:58,  2.21it/s]"
     ]
    },
    {
     "name": "stdout",
     "output_type": "stream",
     "text": [
      "Starting Node: Lucretia Mott\n",
      "Ending Node: Minecraft\n",
      "Path Length: 6\n",
      "Path Exists: 1\n",
      "Path: ['Lucretia Mott', 'Nantucket, Massachusetts', 'United States', 'Xbox Game Studios', 'Mojang Studios', 'Minecraft']\n"
     ]
    },
    {
     "name": "stderr",
     "output_type": "stream",
     "text": [
      "\r",
      "Progress:  74%|██████████████████████████████████████████████████▉                  | 738/1000 [05:28<02:04,  2.11it/s]"
     ]
    },
    {
     "name": "stdout",
     "output_type": "stream",
     "text": [
      "Starting Node: Dennery Quarter\n",
      "Ending Node: Minecraft\n",
      "Path Length: 6\n",
      "Path Exists: 1\n",
      "Path: ['Dennery Quarter', 'Saint Lucia', 'France', 'Greece', '2011', 'Minecraft']\n"
     ]
    },
    {
     "name": "stderr",
     "output_type": "stream",
     "text": [
      "\r",
      "Progress:  74%|██████████████████████████████████████████████████▉                  | 739/1000 [05:29<02:06,  2.06it/s]"
     ]
    },
    {
     "name": "stdout",
     "output_type": "stream",
     "text": [
      "Starting Node: Chickasaw\n",
      "Ending Node: Minecraft\n",
      "Path Length: 5\n",
      "Path Exists: 1\n",
      "Path: ['Chickasaw', 'France', 'Greece', '2011', 'Minecraft']\n"
     ]
    },
    {
     "name": "stderr",
     "output_type": "stream",
     "text": [
      "\r",
      "Progress:  74%|███████████████████████████████████████████████████                  | 740/1000 [05:29<02:00,  2.16it/s]"
     ]
    },
    {
     "name": "stdout",
     "output_type": "stream",
     "text": [
      "Starting Node: Horace Clarke\n",
      "Ending Node: Minecraft\n",
      "Path Length: 5\n",
      "Path Exists: 1\n",
      "Path: ['Horace Clarke', 'Major League Baseball', 'YouTube', 'MrBeast', 'Minecraft']\n"
     ]
    },
    {
     "name": "stderr",
     "output_type": "stream",
     "text": [
      "\r",
      "Progress:  74%|███████████████████████████████████████████████████▏                 | 741/1000 [05:29<01:51,  2.32it/s]"
     ]
    },
    {
     "name": "stdout",
     "output_type": "stream",
     "text": [
      "Starting Node: Valkeala\n",
      "Ending Node: Minecraft\n",
      "Path Length: 5\n",
      "Path Exists: 1\n",
      "Path: ['Valkeala', 'Finland', 'Nokia, Finland', 'Microsoft', 'Minecraft']\n",
      "Starting Node: Kingdom of Nepal\n",
      "Ending Node: Minecraft\n",
      "Path Exists: 0\n"
     ]
    },
    {
     "name": "stderr",
     "output_type": "stream",
     "text": [
      "\r",
      "Progress:  74%|███████████████████████████████████████████████████▎                 | 743/1000 [05:30<01:17,  3.34it/s]"
     ]
    },
    {
     "name": "stdout",
     "output_type": "stream",
     "text": [
      "Starting Node: Debian Free Software Guidelines\n",
      "Ending Node: Minecraft\n",
      "Path Length: 5\n",
      "Path Exists: 1\n",
      "Path: ['Debian Free Software Guidelines', 'GNU Free Documentation License', 'Copyright', 'Microsoft', 'Minecraft']\n"
     ]
    },
    {
     "name": "stderr",
     "output_type": "stream",
     "text": [
      "Progress:  74%|███████████████████████████████████████████████████▍                 | 745/1000 [05:30<01:10,  3.62it/s]"
     ]
    },
    {
     "name": "stdout",
     "output_type": "stream",
     "text": [
      "Starting Node: List of twin towns and sister cities in Switzerland\n",
      "Ending Node: Minecraft\n",
      "Path Length: 5\n",
      "Path Exists: 1\n",
      "Path: ['List of twin towns and sister cities in Switzerland', 'Carpentras', '2006', '2011', 'Minecraft']\n",
      "Starting Node: Frammersbach\n",
      "Ending Node: Minecraft\n",
      "Path Length: 5\n",
      "Path Exists: 1\n",
      "Path: ['Frammersbach', 'Bavaria', 'Santa Claus', 'Microsoft', 'Minecraft']\n"
     ]
    },
    {
     "name": "stderr",
     "output_type": "stream",
     "text": [
      "Progress:  75%|███████████████████████████████████████████████████▌                 | 747/1000 [05:31<01:23,  3.04it/s]"
     ]
    },
    {
     "name": "stdout",
     "output_type": "stream",
     "text": [
      "Starting Node: Liesberg\n",
      "Ending Node: Minecraft\n",
      "Path Length: 5\n",
      "Path Exists: 1\n",
      "Path: ['Liesberg', 'Cantons of Switzerland', '2001', 'Microsoft', 'Minecraft']\n",
      "Starting Node: Václav\n",
      "Ending Node: Minecraft\n",
      "Path Length: 5\n",
      "Path Exists: 1\n",
      "Path: ['Václav', 'Václav Klaus', '1989', 'PewDiePie', 'Minecraft']\n"
     ]
    },
    {
     "name": "stderr",
     "output_type": "stream",
     "text": [
      "\r",
      "Progress:  75%|███████████████████████████████████████████████████▌                 | 748/1000 [05:32<01:33,  2.71it/s]"
     ]
    },
    {
     "name": "stdout",
     "output_type": "stream",
     "text": [
      "Starting Node: Sydney Swans\n",
      "Ending Node: Minecraft\n",
      "Path Length: 5\n",
      "Path Exists: 1\n",
      "Path: ['Sydney Swans', 'Australian Football League', '2006', '2011', 'Minecraft']\n"
     ]
    },
    {
     "name": "stderr",
     "output_type": "stream",
     "text": [
      "\r",
      "Progress:  75%|███████████████████████████████████████████████████▋                 | 749/1000 [05:32<01:25,  2.95it/s]"
     ]
    },
    {
     "name": "stdout",
     "output_type": "stream",
     "text": [
      "Starting Node: Vishnu\n",
      "Ending Node: Minecraft\n",
      "Path Length: 4\n",
      "Path Exists: 1\n",
      "Path: ['Vishnu', 'Earth', 'Microsoft', 'Minecraft']\n"
     ]
    },
    {
     "name": "stderr",
     "output_type": "stream",
     "text": [
      "\r",
      "Progress:  75%|███████████████████████████████████████████████████▊                 | 750/1000 [05:32<01:34,  2.63it/s]"
     ]
    },
    {
     "name": "stdout",
     "output_type": "stream",
     "text": [
      "Starting Node: Kōhei Uchimura\n",
      "Ending Node: Minecraft\n",
      "Path Length: 5\n",
      "Path Exists: 1\n",
      "Path: ['Kōhei Uchimura', '2012 Summer Olympics', 'Greece', '2011', 'Minecraft']\n"
     ]
    },
    {
     "name": "stderr",
     "output_type": "stream",
     "text": [
      "\r",
      "Progress:  75%|███████████████████████████████████████████████████▊                 | 751/1000 [05:33<01:44,  2.38it/s]"
     ]
    },
    {
     "name": "stdout",
     "output_type": "stream",
     "text": [
      "Starting Node: Liden\n",
      "Ending Node: Minecraft\n",
      "Path Length: 5\n",
      "Path Exists: 1\n",
      "Path: ['Liden', 'Sweden', '1995', 'Microsoft', 'Minecraft']\n"
     ]
    },
    {
     "name": "stderr",
     "output_type": "stream",
     "text": [
      "\r",
      "Progress:  75%|███████████████████████████████████████████████████▉                 | 752/1000 [05:33<01:46,  2.33it/s]"
     ]
    },
    {
     "name": "stdout",
     "output_type": "stream",
     "text": [
      "Starting Node: German revolutions of 1848–1849\n",
      "Ending Node: Minecraft\n",
      "Path Length: 5\n",
      "Path Exists: 1\n",
      "Path: ['German revolutions of 1848–1849', 'Unification of Germany', 'January 18', '2011', 'Minecraft']\n"
     ]
    },
    {
     "name": "stderr",
     "output_type": "stream",
     "text": [
      "\r",
      "Progress:  75%|███████████████████████████████████████████████████▉                 | 753/1000 [05:34<01:50,  2.23it/s]"
     ]
    },
    {
     "name": "stdout",
     "output_type": "stream",
     "text": [
      "Starting Node: Ayumi Ishida (actress)\n",
      "Ending Node: Minecraft\n",
      "Path Length: 5\n",
      "Path Exists: 1\n",
      "Path: ['Ayumi Ishida (actress)', 'Japan', 'Nintendo', 'Microsoft', 'Minecraft']\n"
     ]
    },
    {
     "name": "stderr",
     "output_type": "stream",
     "text": [
      "\r",
      "Progress:  75%|████████████████████████████████████████████████████                 | 754/1000 [05:34<01:54,  2.15it/s]"
     ]
    },
    {
     "name": "stdout",
     "output_type": "stream",
     "text": [
      "Starting Node: Mary Footman\n",
      "Ending Node: Minecraft\n",
      "Path Length: 6\n",
      "Path Exists: 1\n",
      "Path: ['Mary Footman', 'Paris', 'Rapid transit', 'São Paulo Metro', '2011', 'Minecraft']\n"
     ]
    },
    {
     "name": "stderr",
     "output_type": "stream",
     "text": [
      "\r",
      "Progress:  76%|████████████████████████████████████████████████████                 | 755/1000 [05:35<02:18,  1.77it/s]"
     ]
    },
    {
     "name": "stdout",
     "output_type": "stream",
     "text": [
      "Starting Node: Martin Brill\n",
      "Ending Node: Minecraft\n",
      "Path Length: 6\n",
      "Path Exists: 1\n",
      "Path: ['Martin Brill', 'New Zealand', 'Country code top-level domain', 'Greece', '2011', 'Minecraft']\n"
     ]
    },
    {
     "name": "stderr",
     "output_type": "stream",
     "text": [
      "\r",
      "Progress:  76%|████████████████████████████████████████████████████▏                | 756/1000 [05:35<01:53,  2.16it/s]"
     ]
    },
    {
     "name": "stdout",
     "output_type": "stream",
     "text": [
      "Starting Node: Talal bin Abdulaziz\n",
      "Ending Node: Minecraft\n",
      "Path Length: 6\n",
      "Path Exists: 1\n",
      "Path: ['Talal bin Abdulaziz', 'Ibn Saud', 'World War II', 'Greece', '2011', 'Minecraft']\n"
     ]
    },
    {
     "name": "stderr",
     "output_type": "stream",
     "text": [
      "Progress:  76%|████████████████████████████████████████████████████▎                | 758/1000 [05:36<01:39,  2.43it/s]"
     ]
    },
    {
     "name": "stdout",
     "output_type": "stream",
     "text": [
      "Starting Node: Waimate\n",
      "Ending Node: Minecraft\n",
      "Path Length: 6\n",
      "Path Exists: 1\n",
      "Path: ['Waimate', 'Norman Kirk', 'Elizabeth II', '2021', 'Microsoft', 'Minecraft']\n",
      "Starting Node: Emiliano Zapata\n",
      "Ending Node: Minecraft\n",
      "Path Length: 6\n",
      "Path Exists: 1\n",
      "Path: ['Emiliano Zapata', 'Mexican Revolution', 'Mexico', '1940', '2011', 'Minecraft']\n"
     ]
    },
    {
     "name": "stderr",
     "output_type": "stream",
     "text": [
      "\r",
      "Progress:  76%|████████████████████████████████████████████████████▎                | 759/1000 [05:37<01:56,  2.06it/s]"
     ]
    },
    {
     "name": "stdout",
     "output_type": "stream",
     "text": [
      "Starting Node: Milwaukee Brewers\n",
      "Ending Node: Minecraft\n",
      "Path Length: 5\n",
      "Path Exists: 1\n",
      "Path: ['Milwaukee Brewers', 'Major League Baseball', 'YouTube', 'MrBeast', 'Minecraft']\n",
      "Starting Node: José S Carrión\n",
      "Ending Node: Minecraft\n",
      "Path Length: 4\n",
      "Path Exists: 1\n",
      "Path: ['José S Carrión', 'YouTube', 'MrBeast', 'Minecraft']\n"
     ]
    },
    {
     "name": "stderr",
     "output_type": "stream",
     "text": [
      "Progress:  76%|████████████████████████████████████████████████████▌                | 762/1000 [05:38<01:34,  2.51it/s]"
     ]
    },
    {
     "name": "stdout",
     "output_type": "stream",
     "text": [
      "Starting Node: Wojciech Fangor\n",
      "Ending Node: Minecraft\n",
      "Path Length: 5\n",
      "Path Exists: 1\n",
      "Path: ['Wojciech Fangor', 'England', 'UEFA Euro 2012', '2011', 'Minecraft']\n",
      "Starting Node: Sandra Day O'Connor\n",
      "Ending Node: Minecraft\n",
      "Path Length: 4\n",
      "Path Exists: 1\n",
      "Path: [\"Sandra Day O'Connor\", '2006', '2011', 'Minecraft']\n"
     ]
    },
    {
     "name": "stderr",
     "output_type": "stream",
     "text": [
      "\r",
      "Progress:  76%|████████████████████████████████████████████████████▋                | 763/1000 [05:39<01:55,  2.04it/s]"
     ]
    },
    {
     "name": "stdout",
     "output_type": "stream",
     "text": [
      "Starting Node: Fuze\n",
      "Ending Node: Minecraft\n",
      "Path Length: 8\n",
      "Path Exists: 1\n",
      "Path: ['Fuze', 'Pyrotechnics', 'Synonym', 'Latin', 'Spanish language', '2021', 'Microsoft', 'Minecraft']\n",
      "Starting Node: Dick Savitt\n",
      "Ending Node: Minecraft\n",
      "Path Length: 5\n",
      "Path Exists: 1\n",
      "Path: ['Dick Savitt', 'Pete Sampras', 'Greece', '2011', 'Minecraft']\n",
      "Starting Node: Propolis\n",
      "Ending Node: Minecraft\n",
      "Path Exists: 0\n"
     ]
    },
    {
     "name": "stderr",
     "output_type": "stream",
     "text": [
      "\r",
      "Progress:  77%|████████████████████████████████████████████████████▊                | 766/1000 [05:39<01:13,  3.19it/s]"
     ]
    },
    {
     "name": "stdout",
     "output_type": "stream",
     "text": [
      "Starting Node: Tolland, Connecticut\n",
      "Ending Node: Minecraft\n",
      "Path Length: 5\n",
      "Path Exists: 1\n",
      "Path: ['Tolland, Connecticut', 'Connecticut', 'Mohegan', 'Wolf', 'Minecraft']\n"
     ]
    },
    {
     "name": "stderr",
     "output_type": "stream",
     "text": [
      "\r",
      "Progress:  77%|████████████████████████████████████████████████████▉                | 767/1000 [05:39<01:16,  3.05it/s]"
     ]
    },
    {
     "name": "stdout",
     "output_type": "stream",
     "text": [
      "Starting Node: Erling Lorentzen\n",
      "Ending Node: Minecraft\n",
      "Path Length: 5\n",
      "Path Exists: 1\n",
      "Path: ['Erling Lorentzen', 'Norway', '20th century', '2011', 'Minecraft']\n"
     ]
    },
    {
     "name": "stderr",
     "output_type": "stream",
     "text": [
      "\r",
      "Progress:  77%|████████████████████████████████████████████████████▉                | 768/1000 [05:40<01:34,  2.44it/s]"
     ]
    },
    {
     "name": "stdout",
     "output_type": "stream",
     "text": [
      "Starting Node: Lourdes\n",
      "Ending Node: Minecraft\n",
      "Path Length: 5\n",
      "Path Exists: 1\n",
      "Path: ['Lourdes', 'Departments of France', 'Guéret', 'Wolf', 'Minecraft']\n"
     ]
    },
    {
     "name": "stderr",
     "output_type": "stream",
     "text": [
      "\r",
      "Progress:  77%|█████████████████████████████████████████████████████                | 769/1000 [05:41<01:32,  2.50it/s]"
     ]
    },
    {
     "name": "stdout",
     "output_type": "stream",
     "text": [
      "Starting Node: Margate City, New Jersey\n",
      "Ending Node: Minecraft\n",
      "Path Length: 5\n",
      "Path Exists: 1\n",
      "Path: ['Margate City, New Jersey', 'United States', 'Xbox Game Studios', 'Mojang Studios', 'Minecraft']\n"
     ]
    },
    {
     "name": "stderr",
     "output_type": "stream",
     "text": [
      "\r",
      "Progress:  77%|█████████████████████████████████████████████████████▏               | 770/1000 [05:41<01:54,  2.02it/s]"
     ]
    },
    {
     "name": "stdout",
     "output_type": "stream",
     "text": [
      "Starting Node: Climate of Luxembourg\n",
      "Ending Node: Minecraft\n",
      "Path Length: 5\n",
      "Path Exists: 1\n",
      "Path: ['Climate of Luxembourg', 'France', 'Greece', '2011', 'Minecraft']\n"
     ]
    },
    {
     "name": "stderr",
     "output_type": "stream",
     "text": [
      "\r",
      "Progress:  77%|█████████████████████████████████████████████████████▏               | 771/1000 [05:42<02:00,  1.91it/s]"
     ]
    },
    {
     "name": "stdout",
     "output_type": "stream",
     "text": [
      "Starting Node: 2020–21 Ligue 1\n",
      "Ending Node: Minecraft\n",
      "Path Length: 5\n",
      "Path Exists: 1\n",
      "Path: ['2020–21 Ligue 1', 'Angers', '1998', '2011', 'Minecraft']\n"
     ]
    },
    {
     "name": "stderr",
     "output_type": "stream",
     "text": [
      "\r",
      "Progress:  77%|█████████████████████████████████████████████████████▎               | 772/1000 [05:42<01:52,  2.02it/s]"
     ]
    },
    {
     "name": "stdout",
     "output_type": "stream",
     "text": [
      "Starting Node: Biblical canon\n",
      "Ending Node: Minecraft\n",
      "Path Length: 5\n",
      "Path Exists: 1\n",
      "Path: ['Biblical canon', 'Epistle of James', 'Greece', '2011', 'Minecraft']\n",
      "Starting Node: Foundation (nonprofit)\n",
      "Ending Node: Minecraft\n",
      "Path Length: 3\n",
      "Path Exists: 1\n",
      "Path: ['Foundation (nonprofit)', 'Microsoft', 'Minecraft']\n"
     ]
    },
    {
     "name": "stderr",
     "output_type": "stream",
     "text": [
      "\r",
      "Progress:  77%|█████████████████████████████████████████████████████▍               | 774/1000 [05:43<01:28,  2.56it/s]"
     ]
    },
    {
     "name": "stdout",
     "output_type": "stream",
     "text": [
      "Starting Node: N. V. Ramana\n",
      "Ending Node: Minecraft\n",
      "Path Length: 6\n",
      "Path Exists: 1\n",
      "Path: ['N. V. Ramana', 'Judge', 'England', 'UEFA Euro 2012', '2011', 'Minecraft']\n"
     ]
    },
    {
     "name": "stderr",
     "output_type": "stream",
     "text": [
      "\r",
      "Progress:  78%|█████████████████████████████████████████████████████▍               | 775/1000 [05:43<01:30,  2.49it/s]"
     ]
    },
    {
     "name": "stdout",
     "output_type": "stream",
     "text": [
      "Starting Node: Biologist\n",
      "Ending Node: Minecraft\n",
      "Path Length: 5\n",
      "Path Exists: 1\n",
      "Path: ['Biologist', 'England', 'UEFA Euro 2012', '2011', 'Minecraft']\n"
     ]
    },
    {
     "name": "stderr",
     "output_type": "stream",
     "text": [
      "\r",
      "Progress:  78%|█████████████████████████████████████████████████████▌               | 776/1000 [05:44<01:26,  2.58it/s]"
     ]
    },
    {
     "name": "stdout",
     "output_type": "stream",
     "text": [
      "Starting Node: EBCDIC\n",
      "Ending Node: Minecraft\n",
      "Path Length: 5\n",
      "Path Exists: 1\n",
      "Path: ['EBCDIC', 'IBM', 'Cloud computing', 'Microsoft', 'Minecraft']\n"
     ]
    },
    {
     "name": "stderr",
     "output_type": "stream",
     "text": [
      "\r",
      "Progress:  78%|█████████████████████████████████████████████████████▌               | 777/1000 [05:44<01:34,  2.37it/s]"
     ]
    },
    {
     "name": "stdout",
     "output_type": "stream",
     "text": [
      "Starting Node: Bunker, Missouri\n",
      "Ending Node: Minecraft\n",
      "Path Length: 6\n",
      "Path Exists: 1\n",
      "Path: ['Bunker, Missouri', 'Missouri', 'Kansas', 'Raccoon', 'Wolf', 'Minecraft']\n"
     ]
    },
    {
     "name": "stderr",
     "output_type": "stream",
     "text": [
      "\r",
      "Progress:  78%|█████████████████████████████████████████████████████▋               | 778/1000 [05:45<01:46,  2.08it/s]"
     ]
    },
    {
     "name": "stdout",
     "output_type": "stream",
     "text": [
      "Starting Node: No quarter\n",
      "Ending Node: Minecraft\n",
      "Path Length: 6\n",
      "Path Exists: 1\n",
      "Path: ['No quarter', 'War crime', 'Darfur conflict', 'YouTube', 'MrBeast', 'Minecraft']\n"
     ]
    },
    {
     "name": "stderr",
     "output_type": "stream",
     "text": [
      "\r",
      "Progress:  78%|█████████████████████████████████████████████████████▊               | 779/1000 [05:45<01:55,  1.91it/s]"
     ]
    },
    {
     "name": "stdout",
     "output_type": "stream",
     "text": [
      "Starting Node: Tongatapu 7\n",
      "Ending Node: Minecraft\n",
      "Path Length: 6\n",
      "Path Exists: 1\n",
      "Path: ['Tongatapu 7', 'Tonga', 'Unitary state', 'Greece', '2011', 'Minecraft']\n"
     ]
    },
    {
     "name": "stderr",
     "output_type": "stream",
     "text": [
      "\r",
      "Progress:  78%|█████████████████████████████████████████████████████▊               | 780/1000 [05:46<01:51,  1.97it/s]"
     ]
    },
    {
     "name": "stdout",
     "output_type": "stream",
     "text": [
      "Starting Node: Wilmore, Kentucky\n",
      "Ending Node: Minecraft\n",
      "Path Length: 5\n",
      "Path Exists: 1\n",
      "Path: ['Wilmore, Kentucky', 'United States', 'Xbox Game Studios', 'Mojang Studios', 'Minecraft']\n"
     ]
    },
    {
     "name": "stderr",
     "output_type": "stream",
     "text": [
      "\r",
      "Progress:  78%|█████████████████████████████████████████████████████▉               | 781/1000 [05:46<01:44,  2.09it/s]"
     ]
    },
    {
     "name": "stdout",
     "output_type": "stream",
     "text": [
      "Starting Node: Petr Eben\n",
      "Ending Node: Minecraft\n",
      "Path Length: 4\n",
      "Path Exists: 1\n",
      "Path: ['Petr Eben', '20th century', '2011', 'Minecraft']\n"
     ]
    },
    {
     "name": "stderr",
     "output_type": "stream",
     "text": [
      "Progress:  78%|██████████████████████████████████████████████████████               | 783/1000 [05:47<01:19,  2.74it/s]"
     ]
    },
    {
     "name": "stdout",
     "output_type": "stream",
     "text": [
      "Starting Node: 2020 Pacific typhoon season\n",
      "Ending Node: Minecraft\n",
      "Path Length: 5\n",
      "Path Exists: 1\n",
      "Path: ['2020 Pacific typhoon season', 'Hong Kong', 'National emblem', 'Wolf', 'Minecraft']\n",
      "Starting Node: Carefree, Arizona\n",
      "Ending Node: Minecraft\n",
      "Path Length: 5\n",
      "Path Exists: 1\n",
      "Path: ['Carefree, Arizona', 'United States', 'Xbox Game Studios', 'Mojang Studios', 'Minecraft']\n"
     ]
    },
    {
     "name": "stderr",
     "output_type": "stream",
     "text": [
      "\r",
      "Progress:  78%|██████████████████████████████████████████████████████               | 784/1000 [05:48<01:43,  2.09it/s]"
     ]
    },
    {
     "name": "stdout",
     "output_type": "stream",
     "text": [
      "Starting Node: George Minot\n",
      "Ending Node: Minecraft\n",
      "Path Length: 6\n",
      "Path Exists: 1\n",
      "Path: ['George Minot', 'William P. Murphy', 'United States', 'Xbox Game Studios', 'Mojang Studios', 'Minecraft']\n"
     ]
    },
    {
     "name": "stderr",
     "output_type": "stream",
     "text": [
      "\r",
      "Progress:  78%|██████████████████████████████████████████████████████▏              | 785/1000 [05:48<01:46,  2.02it/s]"
     ]
    },
    {
     "name": "stdout",
     "output_type": "stream",
     "text": [
      "Starting Node: Movie theater\n",
      "Ending Node: Minecraft\n",
      "Path Length: 5\n",
      "Path Exists: 1\n",
      "Path: ['Movie theater', 'Poland', 'Earth', 'Microsoft', 'Minecraft']\n"
     ]
    },
    {
     "name": "stderr",
     "output_type": "stream",
     "text": [
      "\r",
      "Progress:  79%|██████████████████████████████████████████████████████▏              | 786/1000 [05:49<01:50,  1.94it/s]"
     ]
    },
    {
     "name": "stdout",
     "output_type": "stream",
     "text": [
      "Starting Node: Eat the Rich (Motörhead song)\n",
      "Ending Node: Minecraft\n",
      "Path Length: 5\n",
      "Path Exists: 1\n",
      "Path: ['Eat the Rich (Motörhead song)', 'Motörhead', '1998', '2011', 'Minecraft']\n"
     ]
    },
    {
     "name": "stderr",
     "output_type": "stream",
     "text": [
      "\r",
      "Progress:  79%|██████████████████████████████████████████████████████▎              | 787/1000 [05:49<01:55,  1.85it/s]"
     ]
    },
    {
     "name": "stdout",
     "output_type": "stream",
     "text": [
      "Starting Node: Evolution (Journey album)\n",
      "Ending Node: Minecraft\n",
      "Path Length: 6\n",
      "Path Exists: 1\n",
      "Path: ['Evolution (Journey album)', \"Lovin', Touchin', Squeezin'\", 'Los Angeles', 'April 4', '2011', 'Minecraft']\n"
     ]
    },
    {
     "name": "stderr",
     "output_type": "stream",
     "text": [
      "Progress:  79%|██████████████████████████████████████████████████████▍              | 789/1000 [05:50<01:28,  2.40it/s]"
     ]
    },
    {
     "name": "stdout",
     "output_type": "stream",
     "text": [
      "Starting Node: John Gardner (American writer)\n",
      "Ending Node: Minecraft\n",
      "Path Length: 6\n",
      "Path Exists: 1\n",
      "Path: ['John Gardner (American writer)', 'University of Iowa', 'United States', 'Xbox Game Studios', 'Mojang Studios', 'Minecraft']\n",
      "Starting Node: Lentibulariaceae\n",
      "Ending Node: Minecraft\n",
      "Path Length: 6\n",
      "Path Exists: 1\n",
      "Path: ['Lentibulariaceae', 'Lamiales', 'Olive (fruit)', 'Greece', '2011', 'Minecraft']\n"
     ]
    },
    {
     "name": "stderr",
     "output_type": "stream",
     "text": [
      "\r",
      "Progress:  79%|██████████████████████████████████████████████████████▌              | 790/1000 [05:51<01:47,  1.95it/s]"
     ]
    },
    {
     "name": "stdout",
     "output_type": "stream",
     "text": [
      "Starting Node: Tamizhaga Vaazhvurimai Katchi\n",
      "Ending Node: Minecraft\n",
      "Path Length: 6\n",
      "Path Exists: 1\n",
      "Path: ['Tamizhaga Vaazhvurimai Katchi', 'Tamil Nadu', 'India', 'Encyclopædia Britannica', 'Microsoft', 'Minecraft']\n"
     ]
    },
    {
     "name": "stderr",
     "output_type": "stream",
     "text": [
      "\r",
      "Progress:  79%|██████████████████████████████████████████████████████▌              | 791/1000 [05:51<01:43,  2.02it/s]"
     ]
    },
    {
     "name": "stdout",
     "output_type": "stream",
     "text": [
      "Starting Node: Roland Rat\n",
      "Ending Node: Minecraft\n",
      "Path Length: 6\n",
      "Path Exists: 1\n",
      "Path: ['Roland Rat', 'Ford Anglia', '1939', 'February 14', '2011', 'Minecraft']\n"
     ]
    },
    {
     "name": "stderr",
     "output_type": "stream",
     "text": [
      "Progress:  79%|██████████████████████████████████████████████████████▋              | 793/1000 [05:52<01:20,  2.58it/s]"
     ]
    },
    {
     "name": "stdout",
     "output_type": "stream",
     "text": [
      "Starting Node: International Business Times\n",
      "Ending Node: Minecraft\n",
      "Path Length: 5\n",
      "Path Exists: 1\n",
      "Path: ['International Business Times', 'BBC', 'Microsoft Windows', 'Microsoft', 'Minecraft']\n",
      "Starting Node: Erinyes\n",
      "Ending Node: Minecraft\n",
      "Path Length: 5\n",
      "Path Exists: 1\n",
      "Path: ['Erinyes', 'Athena', 'Greece', '2011', 'Minecraft']\n"
     ]
    },
    {
     "name": "stderr",
     "output_type": "stream",
     "text": [
      "\r",
      "Progress:  79%|██████████████████████████████████████████████████████▊              | 794/1000 [05:53<01:46,  1.94it/s]"
     ]
    },
    {
     "name": "stdout",
     "output_type": "stream",
     "text": [
      "Starting Node: Vratislav Lokvenc\n",
      "Ending Node: Minecraft\n",
      "Path Length: 5\n",
      "Path Exists: 1\n",
      "Path: ['Vratislav Lokvenc', '1973', 'April 3', '2011', 'Minecraft']\n",
      "Starting Node: WWF Raw (2002 video game)\n",
      "Ending Node: Minecraft\n",
      "Path Length: 4\n",
      "Path Exists: 1\n",
      "Path: ['WWF Raw (2002 video game)', 'Microsoft Windows', 'Microsoft', 'Minecraft']\n"
     ]
    },
    {
     "name": "stderr",
     "output_type": "stream",
     "text": [
      "\r",
      "Progress:  80%|██████████████████████████████████████████████████████▉              | 796/1000 [05:53<01:24,  2.42it/s]"
     ]
    },
    {
     "name": "stdout",
     "output_type": "stream",
     "text": [
      "Starting Node: USS Langley (CV-1)\n",
      "Ending Node: Minecraft\n",
      "Path Length: 5\n",
      "Path Exists: 1\n",
      "Path: ['USS Langley (CV-1)', 'United States Navy', 'April 30', '2011', 'Minecraft']\n",
      "Starting Node: The Collector (1997 movie)\n",
      "Ending Node: Minecraft\n",
      "Path Exists: 0\n"
     ]
    },
    {
     "name": "stderr",
     "output_type": "stream",
     "text": [
      "Progress:  80%|███████████████████████████████████████████████████████▏             | 799/1000 [05:54<01:00,  3.30it/s]"
     ]
    },
    {
     "name": "stdout",
     "output_type": "stream",
     "text": [
      "Starting Node: Disulfiram\n",
      "Ending Node: Minecraft\n",
      "Path Length: 5\n",
      "Path Exists: 1\n",
      "Path: ['Disulfiram', 'United States', 'Xbox Game Studios', 'Mojang Studios', 'Minecraft']\n",
      "Starting Node: Se2grXII\n",
      "Ending Node: Minecraft\n",
      "Path Length: 6\n",
      "Path Exists: 1\n",
      "Path: ['Se2grXII', 'Hebrew University of Jerusalem', 'Israel', '20th century', '2011', 'Minecraft']\n"
     ]
    },
    {
     "name": "stderr",
     "output_type": "stream",
     "text": [
      "\r",
      "Progress:  80%|███████████████████████████████████████████████████████▏             | 800/1000 [05:54<01:04,  3.12it/s]"
     ]
    },
    {
     "name": "stdout",
     "output_type": "stream",
     "text": [
      "Starting Node: Sergiu Celibidache\n",
      "Ending Node: Minecraft\n",
      "Path Length: 4\n",
      "Path Exists: 1\n",
      "Path: ['Sergiu Celibidache', '1952', '2011', 'Minecraft']\n"
     ]
    },
    {
     "name": "stderr",
     "output_type": "stream",
     "text": [
      "\r",
      "Progress:  80%|███████████████████████████████████████████████████████▎             | 801/1000 [05:55<01:25,  2.34it/s]"
     ]
    },
    {
     "name": "stdout",
     "output_type": "stream",
     "text": [
      "Starting Node: Assen\n",
      "Ending Node: Minecraft\n",
      "Path Length: 5\n",
      "Path Exists: 1\n",
      "Path: ['Assen', 'Provinces of the Netherlands', 'January 1', '2011', 'Minecraft']\n"
     ]
    },
    {
     "name": "stderr",
     "output_type": "stream",
     "text": [
      "\r",
      "Progress:  80%|███████████████████████████████████████████████████████▎             | 802/1000 [05:55<01:27,  2.26it/s]"
     ]
    },
    {
     "name": "stdout",
     "output_type": "stream",
     "text": [
      "Starting Node: Dermot Morgan\n",
      "Ending Node: Minecraft\n",
      "Path Length: 5\n",
      "Path Exists: 1\n",
      "Path: ['Dermot Morgan', 'England', 'UEFA Euro 2012', '2011', 'Minecraft']\n"
     ]
    },
    {
     "name": "stderr",
     "output_type": "stream",
     "text": [
      "\r",
      "Progress:  80%|███████████████████████████████████████████████████████▍             | 803/1000 [05:56<01:33,  2.10it/s]"
     ]
    },
    {
     "name": "stdout",
     "output_type": "stream",
     "text": [
      "Starting Node: Lembeye\n",
      "Ending Node: Minecraft\n",
      "Path Length: 5\n",
      "Path Exists: 1\n",
      "Path: ['Lembeye', 'France', 'Greece', '2011', 'Minecraft']\n",
      "Starting Node: Andy Sturmer\n",
      "Ending Node: Minecraft\n",
      "Path Length: 5\n",
      "Path Exists: 1\n",
      "Path: ['Andy Sturmer', 'Cartoon Network', 'Comcast', '2011', 'Minecraft']\n"
     ]
    },
    {
     "name": "stderr",
     "output_type": "stream",
     "text": [
      "\r",
      "Progress:  80%|███████████████████████████████████████████████████████▌             | 805/1000 [05:57<01:27,  2.22it/s]"
     ]
    },
    {
     "name": "stdout",
     "output_type": "stream",
     "text": [
      "Starting Node: Inside Out 2\n",
      "Ending Node: Minecraft\n",
      "Path Length: 6\n",
      "Path Exists: 1\n",
      "Path: ['Inside Out 2', 'Inside Out (2015 movie)', 'Rashida Jones', 'YouTube', 'MrBeast', 'Minecraft']\n"
     ]
    },
    {
     "name": "stderr",
     "output_type": "stream",
     "text": [
      "\r",
      "Progress:  81%|███████████████████████████████████████████████████████▌             | 806/1000 [05:57<01:34,  2.06it/s]"
     ]
    },
    {
     "name": "stdout",
     "output_type": "stream",
     "text": [
      "Starting Node: Ogden, Arkansas\n",
      "Ending Node: Minecraft\n",
      "Path Length: 6\n",
      "Path Exists: 1\n",
      "Path: ['Ogden, Arkansas', 'List of counties in Arkansas', 'Whig Party (United States)', '1999', 'Microsoft', 'Minecraft']\n",
      "Starting Node: Confuciusornis\n",
      "Ending Node: Minecraft\n",
      "Path Length: 5\n",
      "Path Exists: 1\n",
      "Path: ['Confuciusornis', 'Animal', 'Earth', 'Microsoft', 'Minecraft']\n"
     ]
    },
    {
     "name": "stderr",
     "output_type": "stream",
     "text": [
      "\r",
      "Progress:  81%|███████████████████████████████████████████████████████▊             | 808/1000 [05:58<01:28,  2.16it/s]"
     ]
    },
    {
     "name": "stdout",
     "output_type": "stream",
     "text": [
      "Starting Node: Icelandair\n",
      "Ending Node: Minecraft\n",
      "Path Length: 5\n",
      "Path Exists: 1\n",
      "Path: ['Icelandair', 'Europe', 'Greece', '2011', 'Minecraft']\n"
     ]
    },
    {
     "name": "stderr",
     "output_type": "stream",
     "text": [
      "Progress:  81%|███████████████████████████████████████████████████████▉             | 810/1000 [05:59<01:11,  2.65it/s]"
     ]
    },
    {
     "name": "stdout",
     "output_type": "stream",
     "text": [
      "Starting Node: John Miles (musician)\n",
      "Ending Node: Minecraft\n",
      "Path Length: 5\n",
      "Path Exists: 1\n",
      "Path: ['John Miles (musician)', 'England', 'UEFA Euro 2012', '2011', 'Minecraft']\n",
      "Starting Node: Papilionoidea\n",
      "Ending Node: Minecraft\n",
      "Path Length: 5\n",
      "Path Exists: 1\n",
      "Path: ['Papilionoidea', 'Insect', 'Earth', 'Microsoft', 'Minecraft']\n"
     ]
    },
    {
     "name": "stderr",
     "output_type": "stream",
     "text": [
      "\r",
      "Progress:  81%|███████████████████████████████████████████████████████▉             | 811/1000 [05:59<01:17,  2.45it/s]"
     ]
    },
    {
     "name": "stdout",
     "output_type": "stream",
     "text": [
      "Starting Node: Michael Giacchino\n",
      "Ending Node: Minecraft\n",
      "Path Length: 5\n",
      "Path Exists: 1\n",
      "Path: ['Michael Giacchino', 'Richard Wagner', '20th century', '2011', 'Minecraft']\n"
     ]
    },
    {
     "name": "stderr",
     "output_type": "stream",
     "text": [
      "\r",
      "Progress:  81%|████████████████████████████████████████████████████████             | 812/1000 [06:00<01:19,  2.38it/s]"
     ]
    },
    {
     "name": "stdout",
     "output_type": "stream",
     "text": [
      "Starting Node: Sockburn, New Zealand\n",
      "Ending Node: Minecraft\n",
      "Path Length: 6\n",
      "Path Exists: 1\n",
      "Path: ['Sockburn, New Zealand', 'Christchurch', 'Europe', 'Greece', '2011', 'Minecraft']\n"
     ]
    },
    {
     "name": "stderr",
     "output_type": "stream",
     "text": [
      "Progress:  82%|████████████████████████████████████████████████████████▎            | 816/1000 [06:01<00:50,  3.67it/s]"
     ]
    },
    {
     "name": "stdout",
     "output_type": "stream",
     "text": [
      "Starting Node: Tissue culture\n",
      "Ending Node: Minecraft\n",
      "Path Length: 6\n",
      "Path Exists: 1\n",
      "Path: ['Tissue culture', 'Petri dish', 'Pathogen', '1918', '2011', 'Minecraft']\n",
      "Starting Node: Hodge conjecture\n",
      "Ending Node: Minecraft\n",
      "Path Length: 5\n",
      "Path Exists: 1\n",
      "Path: ['Hodge conjecture', 'Clay Mathematics Institute', '1998', '2011', 'Minecraft']\n",
      "Starting Node: Kud Wafter\n",
      "Ending Node: Minecraft\n",
      "Path Length: 4\n",
      "Path Exists: 1\n",
      "Path: ['Kud Wafter', 'Microsoft Windows', 'Microsoft', 'Minecraft']\n",
      "Starting Node: Shane Dawson\n",
      "Ending Node: Minecraft\n",
      "Path Length: 4\n",
      "Path Exists: 1\n",
      "Path: ['Shane Dawson', 'YouTube', 'MrBeast', 'Minecraft']\n"
     ]
    },
    {
     "name": "stderr",
     "output_type": "stream",
     "text": [
      "\r",
      "Progress:  82%|████████████████████████████████████████████████████████▎            | 817/1000 [06:01<00:55,  3.28it/s]"
     ]
    },
    {
     "name": "stdout",
     "output_type": "stream",
     "text": [
      "Starting Node: Osborne County, Kansas\n",
      "Ending Node: Minecraft\n",
      "Path Length: 5\n",
      "Path Exists: 1\n",
      "Path: ['Osborne County, Kansas', 'Kansas', 'Raccoon', 'Wolf', 'Minecraft']\n"
     ]
    },
    {
     "name": "stderr",
     "output_type": "stream",
     "text": [
      "\r",
      "Progress:  82%|████████████████████████████████████████████████████████▍            | 818/1000 [06:02<01:03,  2.88it/s]"
     ]
    },
    {
     "name": "stdout",
     "output_type": "stream",
     "text": [
      "Starting Node: Taban Deng Gai\n",
      "Ending Node: Minecraft\n",
      "Path Length: 6\n",
      "Path Exists: 1\n",
      "Path: ['Taban Deng Gai', 'South Sudan', 'Islam', 'Encyclopædia Britannica', 'Microsoft', 'Minecraft']\n"
     ]
    },
    {
     "name": "stderr",
     "output_type": "stream",
     "text": [
      "\r",
      "Progress:  82%|████████████████████████████████████████████████████████▌            | 819/1000 [06:02<01:07,  2.68it/s]"
     ]
    },
    {
     "name": "stdout",
     "output_type": "stream",
     "text": [
      "Starting Node: Abner Shikongo\n",
      "Ending Node: Minecraft\n",
      "Path Length: 4\n",
      "Path Exists: 1\n",
      "Path: ['Abner Shikongo', '2000', 'Microsoft', 'Minecraft']\n",
      "Starting Node: Mega Man: Dr. Wily's Revenge\n",
      "Ending Node: Minecraft\n",
      "Path Length: 4\n",
      "Path Exists: 1\n",
      "Path: [\"Mega Man: Dr. Wily's Revenge\", 'Nintendo', 'Microsoft', 'Minecraft']\n"
     ]
    },
    {
     "name": "stderr",
     "output_type": "stream",
     "text": [
      "\r",
      "Progress:  82%|████████████████████████████████████████████████████████▋            | 821/1000 [06:03<00:58,  3.06it/s]"
     ]
    },
    {
     "name": "stdout",
     "output_type": "stream",
     "text": [
      "Starting Node: The Convict (1910 movie)\n",
      "Ending Node: Minecraft\n",
      "Path Length: 6\n",
      "Path Exists: 1\n",
      "Path: ['The Convict (1910 movie)', 'English language', 'NATO', 'Greece', '2011', 'Minecraft']\n"
     ]
    },
    {
     "name": "stderr",
     "output_type": "stream",
     "text": [
      "Progress:  82%|████████████████████████████████████████████████████████▊            | 823/1000 [06:03<00:50,  3.49it/s]"
     ]
    },
    {
     "name": "stdout",
     "output_type": "stream",
     "text": [
      "Starting Node: 7-1-1\n",
      "Ending Node: Minecraft\n",
      "Path Length: 5\n",
      "Path Exists: 1\n",
      "Path: ['7-1-1', 'United States', 'Xbox Game Studios', 'Mojang Studios', 'Minecraft']\n",
      "Starting Node: Glendora, California\n",
      "Ending Node: Minecraft\n",
      "Path Length: 5\n",
      "Path Exists: 1\n",
      "Path: ['Glendora, California', 'Los Angeles', 'April 4', '2011', 'Minecraft']\n"
     ]
    },
    {
     "name": "stderr",
     "output_type": "stream",
     "text": [
      "\r",
      "Progress:  82%|████████████████████████████████████████████████████████▊            | 824/1000 [06:04<00:57,  3.05it/s]"
     ]
    },
    {
     "name": "stdout",
     "output_type": "stream",
     "text": [
      "Starting Node: Kreuzlingen\n",
      "Ending Node: Minecraft\n",
      "Path Length: 5\n",
      "Path Exists: 1\n",
      "Path: ['Kreuzlingen', 'Sweden', '1995', 'Microsoft', 'Minecraft']\n",
      "Starting Node: FGM-148 Javelin\n",
      "Ending Node: Minecraft\n",
      "Path Exists: 0\n"
     ]
    },
    {
     "name": "stderr",
     "output_type": "stream",
     "text": [
      "\r",
      "Progress:  83%|████████████████████████████████████████████████████████▉            | 826/1000 [06:04<00:47,  3.65it/s]"
     ]
    },
    {
     "name": "stdout",
     "output_type": "stream",
     "text": [
      "Starting Node: Ahrensburg\n",
      "Ending Node: Minecraft\n",
      "Path Length: 5\n",
      "Path Exists: 1\n",
      "Path: ['Ahrensburg', 'Prussia', '1945', '2011', 'Minecraft']\n"
     ]
    },
    {
     "name": "stderr",
     "output_type": "stream",
     "text": [
      "\r",
      "Progress:  83%|█████████████████████████████████████████████████████████            | 827/1000 [06:04<00:50,  3.45it/s]"
     ]
    },
    {
     "name": "stdout",
     "output_type": "stream",
     "text": [
      "Starting Node: Prairieburg, Iowa\n",
      "Ending Node: Minecraft\n",
      "Path Length: 5\n",
      "Path Exists: 1\n",
      "Path: ['Prairieburg, Iowa', 'United States', 'Xbox Game Studios', 'Mojang Studios', 'Minecraft']\n"
     ]
    },
    {
     "name": "stderr",
     "output_type": "stream",
     "text": [
      "\r",
      "Progress:  83%|█████████████████████████████████████████████████████████▏           | 828/1000 [06:05<01:05,  2.61it/s]"
     ]
    },
    {
     "name": "stdout",
     "output_type": "stream",
     "text": [
      "Starting Node: Valentina Tereshkova\n",
      "Ending Node: Minecraft\n",
      "Path Length: 5\n",
      "Path Exists: 1\n",
      "Path: ['Valentina Tereshkova', 'Russia', 'Encyclopædia Britannica', 'Microsoft', 'Minecraft']\n"
     ]
    },
    {
     "name": "stderr",
     "output_type": "stream",
     "text": [
      "\r",
      "Progress:  83%|█████████████████████████████████████████████████████████▏           | 829/1000 [06:06<01:08,  2.51it/s]"
     ]
    },
    {
     "name": "stdout",
     "output_type": "stream",
     "text": [
      "Starting Node: Simon Shelton\n",
      "Ending Node: Minecraft\n",
      "Path Length: 5\n",
      "Path Exists: 1\n",
      "Path: ['Simon Shelton', 'Teletubbies', 'Rabbit', 'Wolf', 'Minecraft']\n"
     ]
    },
    {
     "name": "stderr",
     "output_type": "stream",
     "text": [
      "\r",
      "Progress:  83%|█████████████████████████████████████████████████████████▎           | 830/1000 [06:06<01:11,  2.39it/s]"
     ]
    },
    {
     "name": "stdout",
     "output_type": "stream",
     "text": [
      "Starting Node: Podolia\n",
      "Ending Node: Minecraft\n",
      "Path Length: 5\n",
      "Path Exists: 1\n",
      "Path: ['Podolia', 'World War II', 'Greece', '2011', 'Minecraft']\n"
     ]
    },
    {
     "name": "stderr",
     "output_type": "stream",
     "text": [
      "\r",
      "Progress:  83%|█████████████████████████████████████████████████████████▎           | 831/1000 [06:06<01:13,  2.31it/s]"
     ]
    },
    {
     "name": "stdout",
     "output_type": "stream",
     "text": [
      "Starting Node: 1870s\n",
      "Ending Node: Minecraft\n",
      "Path Length: 5\n",
      "Path Exists: 1\n",
      "Path: ['1870s', 'Spain', '20th century', '2011', 'Minecraft']\n"
     ]
    },
    {
     "name": "stderr",
     "output_type": "stream",
     "text": [
      "\r",
      "Progress:  83%|█████████████████████████████████████████████████████████▍           | 832/1000 [06:07<01:15,  2.23it/s]"
     ]
    },
    {
     "name": "stdout",
     "output_type": "stream",
     "text": [
      "Starting Node: The World According to Novikoff\n",
      "Ending Node: Minecraft\n",
      "Path Length: 5\n",
      "Path Exists: 1\n",
      "Path: ['The World According to Novikoff', 'Wonders of the World', '21st century', '2011', 'Minecraft']\n",
      "Starting Node: Dungeons and Dragons Satanic Panic\n",
      "Ending Node: Minecraft\n",
      "Path Exists: 0\n"
     ]
    },
    {
     "name": "stderr",
     "output_type": "stream",
     "text": [
      "Progress:  84%|█████████████████████████████████████████████████████████▌           | 835/1000 [06:08<00:50,  3.29it/s]"
     ]
    },
    {
     "name": "stdout",
     "output_type": "stream",
     "text": [
      "Starting Node: 2020 United States Senate election in Delaware\n",
      "Ending Node: Minecraft\n",
      "Path Length: 5\n",
      "Path Exists: 1\n",
      "Path: ['2020 United States Senate election in Delaware', 'Libertarian Party (United States)', 'May', '2011', 'Minecraft']\n",
      "Starting Node: Julian Gil\n",
      "Ending Node: Minecraft\n",
      "Path Length: 5\n",
      "Path Exists: 1\n",
      "Path: ['Julian Gil', 'Buenos Aires', '20th century', '2011', 'Minecraft']\n"
     ]
    },
    {
     "name": "stderr",
     "output_type": "stream",
     "text": [
      "Progress:  84%|█████████████████████████████████████████████████████████▊           | 837/1000 [06:09<00:55,  2.91it/s]"
     ]
    },
    {
     "name": "stdout",
     "output_type": "stream",
     "text": [
      "Starting Node: Sally Jewell\n",
      "Ending Node: Minecraft\n",
      "Path Length: 5\n",
      "Path Exists: 1\n",
      "Path: ['Sally Jewell', 'Barack Obama', 'Harvard University', 'Microsoft', 'Minecraft']\n",
      "Starting Node: Tropical Storm Allison (1989)\n",
      "Ending Node: Minecraft\n",
      "Path Length: 5\n",
      "Path Exists: 1\n",
      "Path: ['Tropical Storm Allison (1989)', 'Louisiana', 'American black bear', 'Wolf', 'Minecraft']\n"
     ]
    },
    {
     "name": "stderr",
     "output_type": "stream",
     "text": [
      "\r",
      "Progress:  84%|█████████████████████████████████████████████████████████▊           | 838/1000 [06:09<01:00,  2.67it/s]"
     ]
    },
    {
     "name": "stdout",
     "output_type": "stream",
     "text": [
      "Starting Node: Harry Britt\n",
      "Ending Node: Minecraft\n",
      "Path Length: 5\n",
      "Path Exists: 1\n",
      "Path: ['Harry Britt', 'Democratic Socialists of America', '21st century', '2011', 'Minecraft']\n"
     ]
    },
    {
     "name": "stderr",
     "output_type": "stream",
     "text": [
      "\r",
      "Progress:  84%|█████████████████████████████████████████████████████████▉           | 839/1000 [06:09<01:01,  2.62it/s]"
     ]
    },
    {
     "name": "stdout",
     "output_type": "stream",
     "text": [
      "Starting Node: Jens Reich\n",
      "Ending Node: Minecraft\n",
      "Path Length: 6\n",
      "Path Exists: 1\n",
      "Path: ['Jens Reich', 'Göttingen', 'Town square', '20th century', '2011', 'Minecraft']\n"
     ]
    },
    {
     "name": "stderr",
     "output_type": "stream",
     "text": [
      "\r",
      "Progress:  84%|█████████████████████████████████████████████████████████▉           | 840/1000 [06:10<01:19,  2.02it/s]"
     ]
    },
    {
     "name": "stdout",
     "output_type": "stream",
     "text": [
      "Starting Node: Passiflora\n",
      "Ending Node: Minecraft\n",
      "Path Length: 5\n",
      "Path Exists: 1\n",
      "Path: ['Passiflora', 'Asia', 'Earth', 'Microsoft', 'Minecraft']\n"
     ]
    },
    {
     "name": "stderr",
     "output_type": "stream",
     "text": [
      "\r",
      "Progress:  84%|██████████████████████████████████████████████████████████           | 841/1000 [06:11<01:21,  1.94it/s]"
     ]
    },
    {
     "name": "stdout",
     "output_type": "stream",
     "text": [
      "Starting Node: Aura an der Saale\n",
      "Ending Node: Minecraft\n",
      "Path Length: 5\n",
      "Path Exists: 1\n",
      "Path: ['Aura an der Saale', 'Bavaria', 'Santa Claus', 'Microsoft', 'Minecraft']\n"
     ]
    },
    {
     "name": "stderr",
     "output_type": "stream",
     "text": [
      "\r",
      "Progress:  84%|██████████████████████████████████████████████████████████           | 842/1000 [06:11<01:21,  1.94it/s]"
     ]
    },
    {
     "name": "stdout",
     "output_type": "stream",
     "text": [
      "Starting Node: Congress Plaza Hotel\n",
      "Ending Node: Minecraft\n",
      "Path Length: 6\n",
      "Path Exists: 1\n",
      "Path: ['Congress Plaza Hotel', \"World's Columbian Exposition\", 'Sitting Bull', 'December 15', '2011', 'Minecraft']\n"
     ]
    },
    {
     "name": "stderr",
     "output_type": "stream",
     "text": [
      "\r",
      "Progress:  84%|██████████████████████████████████████████████████████████▏          | 843/1000 [06:12<01:14,  2.10it/s]"
     ]
    },
    {
     "name": "stdout",
     "output_type": "stream",
     "text": [
      "Starting Node: United Liberation Front of Assam\n",
      "Ending Node: Minecraft\n",
      "Path Length: 6\n",
      "Path Exists: 1\n",
      "Path: ['United Liberation Front of Assam', 'Assam', 'Sikhism', 'Encyclopædia Britannica', 'Microsoft', 'Minecraft']\n"
     ]
    },
    {
     "name": "stderr",
     "output_type": "stream",
     "text": [
      "\r",
      "Progress:  84%|██████████████████████████████████████████████████████████▏          | 844/1000 [06:12<01:14,  2.09it/s]"
     ]
    },
    {
     "name": "stdout",
     "output_type": "stream",
     "text": [
      "Starting Node: List of chief rabbis of Israel\n",
      "Ending Node: Minecraft\n",
      "Path Length: 5\n",
      "Path Exists: 1\n",
      "Path: ['List of chief rabbis of Israel', 'Yitzhak Yosef', '1952', '2011', 'Minecraft']\n"
     ]
    },
    {
     "name": "stderr",
     "output_type": "stream",
     "text": [
      "Progress:  85%|██████████████████████████████████████████████████████████▎          | 846/1000 [06:13<00:53,  2.85it/s]"
     ]
    },
    {
     "name": "stdout",
     "output_type": "stream",
     "text": [
      "Starting Node: Jeopardy! Teachers Tournament\n",
      "Ending Node: Minecraft\n",
      "Path Length: 5\n",
      "Path Exists: 1\n",
      "Path: ['Jeopardy! Teachers Tournament', 'Jeopardy! College Championship', 'Harvard University', 'Microsoft', 'Minecraft']\n",
      "Starting Node: Wilsonville, Alabama\n",
      "Ending Node: Minecraft\n",
      "Path Length: 5\n",
      "Path Exists: 1\n",
      "Path: ['Wilsonville, Alabama', 'United States', 'Xbox Game Studios', 'Mojang Studios', 'Minecraft']\n"
     ]
    },
    {
     "name": "stderr",
     "output_type": "stream",
     "text": [
      "\r",
      "Progress:  85%|██████████████████████████████████████████████████████████▍          | 847/1000 [06:13<01:09,  2.19it/s]"
     ]
    },
    {
     "name": "stdout",
     "output_type": "stream",
     "text": [
      "Starting Node: Aviré\n",
      "Ending Node: Minecraft\n",
      "Path Length: 5\n",
      "Path Exists: 1\n",
      "Path: ['Aviré', 'France', 'Greece', '2011', 'Minecraft']\n",
      "Starting Node: CBRE\n",
      "Ending Node: Minecraft\n",
      "Path Exists: 0\n",
      "Starting Node: Newtok, Alaska\n",
      "Ending Node: Minecraft\n",
      "Path Length: 5\n",
      "Path Exists: 1\n",
      "Path: ['Newtok, Alaska', 'Alaska', 'Moose', 'Wolf', 'Minecraft']\n"
     ]
    },
    {
     "name": "stderr",
     "output_type": "stream",
     "text": [
      "\r",
      "Progress:  85%|██████████████████████████████████████████████████████████▋          | 850/1000 [06:14<00:43,  3.49it/s]"
     ]
    },
    {
     "name": "stdout",
     "output_type": "stream",
     "text": [
      "Starting Node: Sigfried Held\n",
      "Ending Node: Minecraft\n",
      "Path Length: 4\n",
      "Path Exists: 1\n",
      "Path: ['Sigfried Held', '1942', '2011', 'Minecraft']\n"
     ]
    },
    {
     "name": "stderr",
     "output_type": "stream",
     "text": [
      "\r",
      "Progress:  85%|██████████████████████████████████████████████████████████▋          | 851/1000 [06:15<00:58,  2.56it/s]"
     ]
    },
    {
     "name": "stdout",
     "output_type": "stream",
     "text": [
      "Starting Node: Watermael-Boitsfort\n",
      "Ending Node: Minecraft\n",
      "Path Length: 6\n",
      "Path Exists: 1\n",
      "Path: ['Watermael-Boitsfort', 'French language', 'Senegal', 'October', '2011', 'Minecraft']\n"
     ]
    },
    {
     "name": "stderr",
     "output_type": "stream",
     "text": [
      "\r",
      "Progress:  85%|██████████████████████████████████████████████████████████▊          | 852/1000 [06:15<01:00,  2.43it/s]"
     ]
    },
    {
     "name": "stdout",
     "output_type": "stream",
     "text": [
      "Starting Node: Otaku\n",
      "Ending Node: Minecraft\n",
      "Path Length: 6\n",
      "Path Exists: 1\n",
      "Path: ['Otaku', 'Tokyo', '19th century', 'The Jungle Book', 'Wolf', 'Minecraft']\n"
     ]
    },
    {
     "name": "stderr",
     "output_type": "stream",
     "text": [
      "\r",
      "Progress:  85%|██████████████████████████████████████████████████████████▊          | 853/1000 [06:16<01:03,  2.31it/s]"
     ]
    },
    {
     "name": "stdout",
     "output_type": "stream",
     "text": [
      "Starting Node: Sulfur\n",
      "Ending Node: Minecraft\n",
      "Path Length: 6\n",
      "Path Exists: 1\n",
      "Path: ['Sulfur', 'Thallium(I) sulfide', 'World War II', 'Greece', '2011', 'Minecraft']\n"
     ]
    },
    {
     "name": "stderr",
     "output_type": "stream",
     "text": [
      "\r",
      "Progress:  85%|██████████████████████████████████████████████████████████▉          | 854/1000 [06:16<01:11,  2.03it/s]"
     ]
    },
    {
     "name": "stdout",
     "output_type": "stream",
     "text": [
      "Starting Node: Centre Party (Finland)\n",
      "Ending Node: Minecraft\n",
      "Path Length: 5\n",
      "Path Exists: 1\n",
      "Path: ['Centre Party (Finland)', 'Routledge', '1998', '2011', 'Minecraft']\n"
     ]
    },
    {
     "name": "stderr",
     "output_type": "stream",
     "text": [
      "\r",
      "Progress:  86%|██████████████████████████████████████████████████████████▉          | 855/1000 [06:17<01:10,  2.04it/s]"
     ]
    },
    {
     "name": "stdout",
     "output_type": "stream",
     "text": [
      "Starting Node: Plagne, Ain\n",
      "Ending Node: Minecraft\n",
      "Path Length: 5\n",
      "Path Exists: 1\n",
      "Path: ['Plagne, Ain', 'France', 'Greece', '2011', 'Minecraft']\n"
     ]
    },
    {
     "name": "stderr",
     "output_type": "stream",
     "text": [
      "\r",
      "Progress:  86%|███████████████████████████████████████████████████████████          | 856/1000 [06:17<01:08,  2.11it/s]"
     ]
    },
    {
     "name": "stdout",
     "output_type": "stream",
     "text": [
      "Starting Node: Bumpy rocket frog\n",
      "Ending Node: Minecraft\n",
      "Path Length: 5\n",
      "Path Exists: 1\n",
      "Path: ['Bumpy rocket frog', 'Australia', 'Greece', '2011', 'Minecraft']\n"
     ]
    },
    {
     "name": "stderr",
     "output_type": "stream",
     "text": [
      "\r",
      "Progress:  86%|███████████████████████████████████████████████████████████▏         | 857/1000 [06:18<01:05,  2.20it/s]"
     ]
    },
    {
     "name": "stdout",
     "output_type": "stream",
     "text": [
      "Starting Node: Inger Stevens\n",
      "Ending Node: Minecraft\n",
      "Path Length: 5\n",
      "Path Exists: 1\n",
      "Path: ['Inger Stevens', 'Kansas', 'Raccoon', 'Wolf', 'Minecraft']\n"
     ]
    },
    {
     "name": "stderr",
     "output_type": "stream",
     "text": [
      "\r",
      "Progress:  86%|███████████████████████████████████████████████████████████▏         | 858/1000 [06:18<01:06,  2.14it/s]"
     ]
    },
    {
     "name": "stdout",
     "output_type": "stream",
     "text": [
      "Starting Node: Chilly-Mazarin\n",
      "Ending Node: Minecraft\n",
      "Path Length: 5\n",
      "Path Exists: 1\n",
      "Path: ['Chilly-Mazarin', 'France', 'Greece', '2011', 'Minecraft']\n",
      "Starting Node: Nexstar Media Group\n",
      "Ending Node: Minecraft\n",
      "Path Exists: 0\n"
     ]
    },
    {
     "name": "stderr",
     "output_type": "stream",
     "text": [
      "Progress:  86%|███████████████████████████████████████████████████████████▍         | 861/1000 [06:19<00:48,  2.88it/s]"
     ]
    },
    {
     "name": "stdout",
     "output_type": "stream",
     "text": [
      "Starting Node: Arrondissement of Roanne\n",
      "Ending Node: Minecraft\n",
      "Path Length: 5\n",
      "Path Exists: 1\n",
      "Path: ['Arrondissement of Roanne', 'Departments of France', 'Guéret', 'Wolf', 'Minecraft']\n",
      "Starting Node: 1957\n",
      "Ending Node: Minecraft\n",
      "Path Length: 4\n",
      "Path Exists: 1\n",
      "Path: ['1957', 'February 9', '2011', 'Minecraft']\n"
     ]
    },
    {
     "name": "stderr",
     "output_type": "stream",
     "text": [
      "\r",
      "Progress:  86%|███████████████████████████████████████████████████████████▍         | 862/1000 [06:19<00:48,  2.87it/s]"
     ]
    },
    {
     "name": "stdout",
     "output_type": "stream",
     "text": [
      "Starting Node: Pac-Mania\n",
      "Ending Node: Minecraft\n",
      "Path Length: 6\n",
      "Path Exists: 1\n",
      "Path: ['Pac-Mania', 'Namco', 'Xevious', 'MSX', 'Microsoft', 'Minecraft']\n"
     ]
    },
    {
     "name": "stderr",
     "output_type": "stream",
     "text": [
      "\r",
      "Progress:  86%|███████████████████████████████████████████████████████████▌         | 863/1000 [06:20<00:45,  2.98it/s]"
     ]
    },
    {
     "name": "stdout",
     "output_type": "stream",
     "text": [
      "Starting Node: Weaning\n",
      "Ending Node: Minecraft\n",
      "Path Length: 5\n",
      "Path Exists: 1\n",
      "Path: ['Weaning', 'Evolution', 'Earth', 'Microsoft', 'Minecraft']\n"
     ]
    },
    {
     "name": "stderr",
     "output_type": "stream",
     "text": [
      "\r",
      "Progress:  86%|███████████████████████████████████████████████████████████▌         | 864/1000 [06:20<00:49,  2.73it/s]"
     ]
    },
    {
     "name": "stdout",
     "output_type": "stream",
     "text": [
      "Starting Node: Electoral district of Dawesville\n",
      "Ending Node: Minecraft\n",
      "Path Length: 6\n",
      "Path Exists: 1\n",
      "Path: ['Electoral district of Dawesville', 'Western Australia', 'Japan', 'Nintendo', 'Microsoft', 'Minecraft']\n"
     ]
    },
    {
     "name": "stderr",
     "output_type": "stream",
     "text": [
      "\r",
      "Progress:  86%|███████████████████████████████████████████████████████████▋         | 865/1000 [06:20<00:52,  2.59it/s]"
     ]
    },
    {
     "name": "stdout",
     "output_type": "stream",
     "text": [
      "Starting Node: Anthony Stokes\n",
      "Ending Node: Minecraft\n",
      "Path Length: 5\n",
      "Path Exists: 1\n",
      "Path: ['Anthony Stokes', 'Arsenal F.C.', '2006', '2011', 'Minecraft']\n"
     ]
    },
    {
     "name": "stderr",
     "output_type": "stream",
     "text": [
      "\r",
      "Progress:  87%|███████████████████████████████████████████████████████████▊         | 866/1000 [06:21<01:03,  2.12it/s]"
     ]
    },
    {
     "name": "stdout",
     "output_type": "stream",
     "text": [
      "Starting Node: 2010 Russian Premier League\n",
      "Ending Node: Minecraft\n",
      "Path Length: 6\n",
      "Path Exists: 1\n",
      "Path: ['2010 Russian Premier League', 'PFC CSKA Moscow', 'Moscow', 'Earth', 'Microsoft', 'Minecraft']\n"
     ]
    },
    {
     "name": "stderr",
     "output_type": "stream",
     "text": [
      "\r",
      "Progress:  87%|███████████████████████████████████████████████████████████▊         | 867/1000 [06:21<01:00,  2.21it/s]"
     ]
    },
    {
     "name": "stdout",
     "output_type": "stream",
     "text": [
      "Starting Node: Modular Audio Recognition Framework\n",
      "Ending Node: Minecraft\n",
      "Path Length: 4\n",
      "Path Exists: 1\n",
      "Path: ['Modular Audio Recognition Framework', 'Lego', '2011', 'Minecraft']\n"
     ]
    },
    {
     "name": "stderr",
     "output_type": "stream",
     "text": [
      "\r",
      "Progress:  87%|███████████████████████████████████████████████████████████▉         | 868/1000 [06:22<01:02,  2.12it/s]"
     ]
    },
    {
     "name": "stdout",
     "output_type": "stream",
     "text": [
      "Starting Node: Robin Lord Taylor\n",
      "Ending Node: Minecraft\n",
      "Path Length: 6\n",
      "Path Exists: 1\n",
      "Path: ['Robin Lord Taylor', 'Gotham (TV series)', 'United States', 'Xbox Game Studios', 'Mojang Studios', 'Minecraft']\n"
     ]
    },
    {
     "name": "stderr",
     "output_type": "stream",
     "text": [
      "\r",
      "Progress:  87%|███████████████████████████████████████████████████████████▉         | 869/1000 [06:22<01:00,  2.17it/s]"
     ]
    },
    {
     "name": "stdout",
     "output_type": "stream",
     "text": [
      "Starting Node: Billie Bird\n",
      "Ending Node: Minecraft\n",
      "Path Length: 5\n",
      "Path Exists: 1\n",
      "Path: ['Billie Bird', 'Los Angeles', 'April 4', '2011', 'Minecraft']\n"
     ]
    },
    {
     "name": "stderr",
     "output_type": "stream",
     "text": [
      "\r",
      "Progress:  87%|████████████████████████████████████████████████████████████         | 870/1000 [06:23<01:00,  2.14it/s]"
     ]
    },
    {
     "name": "stdout",
     "output_type": "stream",
     "text": [
      "Starting Node: John McCormack (ice hockey)\n",
      "Ending Node: Minecraft\n",
      "Path Length: 5\n",
      "Path Exists: 1\n",
      "Path: ['John McCormack (ice hockey)', 'Toronto Maple Leafs', '1917', '2011', 'Minecraft']\n"
     ]
    },
    {
     "name": "stderr",
     "output_type": "stream",
     "text": [
      "\r",
      "Progress:  87%|████████████████████████████████████████████████████████████         | 871/1000 [06:23<01:02,  2.07it/s]"
     ]
    },
    {
     "name": "stdout",
     "output_type": "stream",
     "text": [
      "Starting Node: Nicholas Britell\n",
      "Ending Node: Minecraft\n",
      "Path Length: 6\n",
      "Path Exists: 1\n",
      "Path: ['Nicholas Britell', 'New York City', 'USA Network', 'Comcast', '2011', 'Minecraft']\n"
     ]
    },
    {
     "name": "stderr",
     "output_type": "stream",
     "text": [
      "\r",
      "Progress:  87%|████████████████████████████████████████████████████████████▏        | 872/1000 [06:24<01:00,  2.12it/s]"
     ]
    },
    {
     "name": "stdout",
     "output_type": "stream",
     "text": [
      "Starting Node: Songtsen Gampo\n",
      "Ending Node: Minecraft\n",
      "Path Length: 5\n",
      "Path Exists: 1\n",
      "Path: ['Songtsen Gampo', 'India', 'Encyclopædia Britannica', 'Microsoft', 'Minecraft']\n",
      "Starting Node: Afar Triangle\n",
      "Ending Node: Minecraft\n",
      "Path Length: 4\n",
      "Path Exists: 1\n",
      "Path: ['Afar Triangle', 'Earth', 'Microsoft', 'Minecraft']\n"
     ]
    },
    {
     "name": "stderr",
     "output_type": "stream",
     "text": [
      "\r",
      "Progress:  87%|████████████████████████████████████████████████████████████▎        | 874/1000 [06:25<00:53,  2.36it/s]"
     ]
    },
    {
     "name": "stdout",
     "output_type": "stream",
     "text": [
      "Starting Node: U.S. Route 2\n",
      "Ending Node: Minecraft\n",
      "Path Length: 5\n",
      "Path Exists: 1\n",
      "Path: ['U.S. Route 2', 'Grand Forks, North Dakota', 'June 15', '2011', 'Minecraft']\n",
      "Starting Node: Jamestown Settlement\n",
      "Ending Node: Minecraft\n",
      "Path Length: 5\n",
      "Path Exists: 1\n",
      "Path: ['Jamestown Settlement', 'Elizabeth II', '2021', 'Microsoft', 'Minecraft']\n"
     ]
    },
    {
     "name": "stderr",
     "output_type": "stream",
     "text": [
      "Progress:  88%|████████████████████████████████████████████████████████████▍        | 876/1000 [06:26<00:55,  2.23it/s]"
     ]
    },
    {
     "name": "stdout",
     "output_type": "stream",
     "text": [
      "Starting Node: Port Gibson, Mississippi\n",
      "Ending Node: Minecraft\n",
      "Path Length: 5\n",
      "Path Exists: 1\n",
      "Path: ['Port Gibson, Mississippi', 'United States', 'Xbox Game Studios', 'Mojang Studios', 'Minecraft']\n"
     ]
    },
    {
     "name": "stderr",
     "output_type": "stream",
     "text": [
      "\r",
      "Progress:  88%|████████████████████████████████████████████████████████████▌        | 877/1000 [06:26<00:54,  2.26it/s]"
     ]
    },
    {
     "name": "stdout",
     "output_type": "stream",
     "text": [
      "Starting Node: Oliver Smithies\n",
      "Ending Node: Minecraft\n",
      "Path Length: 5\n",
      "Path Exists: 1\n",
      "Path: ['Oliver Smithies', 'Mario Capecchi', 'Harvard University', 'Microsoft', 'Minecraft']\n",
      "Starting Node: Nancy Friday\n",
      "Ending Node: Minecraft\n",
      "Path Length: 4\n",
      "Path Exists: 1\n",
      "Path: ['Nancy Friday', 'The Oprah Winfrey Show', '2011', 'Minecraft']\n"
     ]
    },
    {
     "name": "stderr",
     "output_type": "stream",
     "text": [
      "\r",
      "Progress:  88%|████████████████████████████████████████████████████████████▋        | 879/1000 [06:26<00:44,  2.72it/s]"
     ]
    },
    {
     "name": "stdout",
     "output_type": "stream",
     "text": [
      "Starting Node: Jim Parks (cricketer, born 1931)\n",
      "Ending Node: Minecraft\n",
      "Path Length: 5\n",
      "Path Exists: 1\n",
      "Path: ['Jim Parks (cricketer, born 1931)', 'England', 'UEFA Euro 2012', '2011', 'Minecraft']\n"
     ]
    },
    {
     "name": "stderr",
     "output_type": "stream",
     "text": [
      "\r",
      "Progress:  88%|████████████████████████████████████████████████████████████▋        | 880/1000 [06:27<00:48,  2.45it/s]"
     ]
    },
    {
     "name": "stdout",
     "output_type": "stream",
     "text": [
      "Starting Node: Spring (water)\n",
      "Ending Node: Minecraft\n",
      "Path Length: 6\n",
      "Path Exists: 1\n",
      "Path: ['Spring (water)', 'Michigan', 'Ford Motor Company', 'S&P 500', 'Microsoft', 'Minecraft']\n"
     ]
    },
    {
     "name": "stderr",
     "output_type": "stream",
     "text": [
      "\r",
      "Progress:  88%|████████████████████████████████████████████████████████████▊        | 881/1000 [06:28<00:53,  2.23it/s]"
     ]
    },
    {
     "name": "stdout",
     "output_type": "stream",
     "text": [
      "Starting Node: Jimmy Kimmel\n",
      "Ending Node: Minecraft\n",
      "Path Length: 6\n",
      "Path Exists: 1\n",
      "Path: ['Jimmy Kimmel', 'New York City', 'USA Network', 'Comcast', '2011', 'Minecraft']\n"
     ]
    },
    {
     "name": "stderr",
     "output_type": "stream",
     "text": [
      "\r",
      "Progress:  88%|████████████████████████████████████████████████████████████▊        | 882/1000 [06:28<00:54,  2.16it/s]"
     ]
    },
    {
     "name": "stdout",
     "output_type": "stream",
     "text": [
      "Starting Node: Nick Celis\n",
      "Ending Node: Minecraft\n",
      "Path Length: 6\n",
      "Path Exists: 1\n",
      "Path: ['Nick Celis', '2020 Summer Olympics', 'Japan', 'Nintendo', 'Microsoft', 'Minecraft']\n"
     ]
    },
    {
     "name": "stderr",
     "output_type": "stream",
     "text": [
      "\r",
      "Progress:  88%|████████████████████████████████████████████████████████████▉        | 883/1000 [06:29<01:01,  1.89it/s]"
     ]
    },
    {
     "name": "stdout",
     "output_type": "stream",
     "text": [
      "Starting Node: Cinderford\n",
      "Ending Node: Minecraft\n",
      "Path Length: 5\n",
      "Path Exists: 1\n",
      "Path: ['Cinderford', 'England', 'UEFA Euro 2012', '2011', 'Minecraft']\n"
     ]
    },
    {
     "name": "stderr",
     "output_type": "stream",
     "text": [
      "\r",
      "Progress:  88%|████████████████████████████████████████████████████████████▉        | 884/1000 [06:29<00:59,  1.95it/s]"
     ]
    },
    {
     "name": "stdout",
     "output_type": "stream",
     "text": [
      "Starting Node: Gangsta Boo\n",
      "Ending Node: Minecraft\n",
      "Path Length: 5\n",
      "Path Exists: 1\n",
      "Path: ['Gangsta Boo', 'Tennessee', 'Raccoon', 'Wolf', 'Minecraft']\n"
     ]
    },
    {
     "name": "stderr",
     "output_type": "stream",
     "text": [
      "\r",
      "Progress:  88%|█████████████████████████████████████████████████████████████        | 885/1000 [06:30<00:59,  1.94it/s]"
     ]
    },
    {
     "name": "stdout",
     "output_type": "stream",
     "text": [
      "Starting Node: Summersville, Missouri\n",
      "Ending Node: Minecraft\n",
      "Path Length: 6\n",
      "Path Exists: 1\n",
      "Path: ['Summersville, Missouri', 'Texas County, Missouri', 'United States', 'Xbox Game Studios', 'Mojang Studios', 'Minecraft']\n"
     ]
    },
    {
     "name": "stderr",
     "output_type": "stream",
     "text": [
      "\r",
      "Progress:  89%|█████████████████████████████████████████████████████████████▏       | 886/1000 [06:30<00:56,  2.01it/s]"
     ]
    },
    {
     "name": "stdout",
     "output_type": "stream",
     "text": [
      "Starting Node: Emi Nakajima\n",
      "Ending Node: Minecraft\n",
      "Path Length: 5\n",
      "Path Exists: 1\n",
      "Path: ['Emi Nakajima', 'Nadeshiko League', 'YouTube', 'MrBeast', 'Minecraft']\n"
     ]
    },
    {
     "name": "stderr",
     "output_type": "stream",
     "text": [
      "\r",
      "Progress:  89%|█████████████████████████████████████████████████████████████▏       | 887/1000 [06:31<00:52,  2.16it/s]"
     ]
    },
    {
     "name": "stdout",
     "output_type": "stream",
     "text": [
      "Starting Node: Talleres de Córdoba\n",
      "Ending Node: Minecraft\n",
      "Path Length: 5\n",
      "Path Exists: 1\n",
      "Path: ['Talleres de Córdoba', 'Club Atlético Belgrano', 'March 19', '2011', 'Minecraft']\n"
     ]
    },
    {
     "name": "stderr",
     "output_type": "stream",
     "text": [
      "\r",
      "Progress:  89%|█████████████████████████████████████████████████████████████▎       | 888/1000 [06:31<00:48,  2.29it/s]"
     ]
    },
    {
     "name": "stdout",
     "output_type": "stream",
     "text": [
      "Starting Node: Roses Mill, Virginia\n",
      "Ending Node: Minecraft\n",
      "Path Length: 5\n",
      "Path Exists: 1\n",
      "Path: ['Roses Mill, Virginia', 'United States', 'Xbox Game Studios', 'Mojang Studios', 'Minecraft']\n",
      "Starting Node: Talisman\n",
      "Ending Node: Minecraft\n",
      "Path Exists: 0\n"
     ]
    },
    {
     "name": "stderr",
     "output_type": "stream",
     "text": [
      "\r",
      "Progress:  89%|█████████████████████████████████████████████████████████████▍       | 890/1000 [06:31<00:37,  2.96it/s]"
     ]
    },
    {
     "name": "stdout",
     "output_type": "stream",
     "text": [
      "Starting Node: Norrahammar\n",
      "Ending Node: Minecraft\n",
      "Path Length: 5\n",
      "Path Exists: 1\n",
      "Path: ['Norrahammar', 'Sweden', '1995', 'Microsoft', 'Minecraft']\n"
     ]
    },
    {
     "name": "stderr",
     "output_type": "stream",
     "text": [
      "\r",
      "Progress:  89%|█████████████████████████████████████████████████████████████▍       | 891/1000 [06:32<00:42,  2.59it/s]"
     ]
    },
    {
     "name": "stdout",
     "output_type": "stream",
     "text": [
      "Starting Node: Fontette\n",
      "Ending Node: Minecraft\n",
      "Path Length: 5\n",
      "Path Exists: 1\n",
      "Path: ['Fontette', 'France', 'Greece', '2011', 'Minecraft']\n",
      "Starting Node: The Weeknd\n",
      "Ending Node: Minecraft\n",
      "Path Length: 4\n",
      "Path Exists: 1\n",
      "Path: ['The Weeknd', 'Wiz Khalifa', '2011', 'Minecraft']\n"
     ]
    },
    {
     "name": "stderr",
     "output_type": "stream",
     "text": [
      "\r",
      "Progress:  89%|█████████████████████████████████████████████████████████████▌       | 893/1000 [06:32<00:32,  3.29it/s]"
     ]
    },
    {
     "name": "stdout",
     "output_type": "stream",
     "text": [
      "Starting Node: Pseudophilautus sordidus\n",
      "Ending Node: Minecraft\n",
      "Path Length: 5\n",
      "Path Exists: 1\n",
      "Path: ['Pseudophilautus sordidus', 'Sri Lanka', 'Encyclopædia Britannica', 'Microsoft', 'Minecraft']\n"
     ]
    },
    {
     "name": "stderr",
     "output_type": "stream",
     "text": [
      "\r",
      "Progress:  89%|█████████████████████████████████████████████████████████████▋       | 894/1000 [06:33<00:38,  2.75it/s]"
     ]
    },
    {
     "name": "stdout",
     "output_type": "stream",
     "text": [
      "Starting Node: Death from Above 1979\n",
      "Ending Node: Minecraft\n",
      "Path Length: 6\n",
      "Path Exists: 1\n",
      "Path: ['Death from Above 1979', 'Toronto', 'Toronto Raptors', '1995', 'Microsoft', 'Minecraft']\n"
     ]
    },
    {
     "name": "stderr",
     "output_type": "stream",
     "text": [
      "\r",
      "Progress:  90%|█████████████████████████████████████████████████████████████▊       | 895/1000 [06:33<00:40,  2.60it/s]"
     ]
    },
    {
     "name": "stdout",
     "output_type": "stream",
     "text": [
      "Starting Node: Carlos Vela\n",
      "Ending Node: Minecraft\n",
      "Path Length: 5\n",
      "Path Exists: 1\n",
      "Path: ['Carlos Vela', 'Arsenal F.C.', '2006', '2011', 'Minecraft']\n"
     ]
    },
    {
     "name": "stderr",
     "output_type": "stream",
     "text": [
      "\r",
      "Progress:  90%|█████████████████████████████████████████████████████████████▊       | 896/1000 [06:34<00:41,  2.52it/s]"
     ]
    },
    {
     "name": "stdout",
     "output_type": "stream",
     "text": [
      "Starting Node: Falęcin, Kuyavian-Pomeranian Voivodeship\n",
      "Ending Node: Minecraft\n",
      "Path Length: 5\n",
      "Path Exists: 1\n",
      "Path: ['Falęcin, Kuyavian-Pomeranian Voivodeship', 'Voivodeships of Poland', 'June 30', '2011', 'Minecraft']\n"
     ]
    },
    {
     "name": "stderr",
     "output_type": "stream",
     "text": [
      "\r",
      "Progress:  90%|█████████████████████████████████████████████████████████████▉       | 897/1000 [06:34<00:39,  2.64it/s]"
     ]
    },
    {
     "name": "stdout",
     "output_type": "stream",
     "text": [
      "Starting Node: Elizabeth Roemer\n",
      "Ending Node: Minecraft\n",
      "Path Length: 5\n",
      "Path Exists: 1\n",
      "Path: ['Elizabeth Roemer', 'Oakland, California', 'San Francisco Bay Area', 'Microsoft', 'Minecraft']\n"
     ]
    },
    {
     "name": "stderr",
     "output_type": "stream",
     "text": [
      "\r",
      "Progress:  90%|█████████████████████████████████████████████████████████████▉       | 898/1000 [06:35<00:43,  2.32it/s]"
     ]
    },
    {
     "name": "stdout",
     "output_type": "stream",
     "text": [
      "Starting Node: Channel U (UK)\n",
      "Ending Node: Minecraft\n",
      "Path Length: 6\n",
      "Path Exists: 1\n",
      "Path: ['Channel U (UK)', 'Dizzee Rascal', 'Mercury Prize', 'Gorillaz', '2011', 'Minecraft']\n"
     ]
    },
    {
     "name": "stderr",
     "output_type": "stream",
     "text": [
      "\r",
      "Progress:  90%|██████████████████████████████████████████████████████████████       | 899/1000 [06:35<00:52,  1.91it/s]"
     ]
    },
    {
     "name": "stdout",
     "output_type": "stream",
     "text": [
      "Starting Node: Nieuport 11\n",
      "Ending Node: Minecraft\n",
      "Path Length: 5\n",
      "Path Exists: 1\n",
      "Path: ['Nieuport 11', 'World War I', '1917', '2011', 'Minecraft']\n",
      "Starting Node: Ioannis Kapodistrias\n",
      "Ending Node: Minecraft\n",
      "Path Length: 4\n",
      "Path Exists: 1\n",
      "Path: ['Ioannis Kapodistrias', 'Greece', '2011', 'Minecraft']\n"
     ]
    },
    {
     "name": "stderr",
     "output_type": "stream",
     "text": [
      "\r",
      "Progress:  90%|██████████████████████████████████████████████████████████████▏      | 901/1000 [06:36<00:41,  2.37it/s]"
     ]
    },
    {
     "name": "stdout",
     "output_type": "stream",
     "text": [
      "Starting Node: Grant County, Oregon\n",
      "Ending Node: Minecraft\n",
      "Path Length: 6\n",
      "Path Exists: 1\n",
      "Path: ['Grant County, Oregon', 'County (United States)', 'List of counties in Ohio', 'Encyclopædia Britannica', 'Microsoft', 'Minecraft']\n",
      "Starting Node: Kansallis-Osake-Pankki\n",
      "Ending Node: Minecraft\n",
      "Path Exists: 0\n"
     ]
    },
    {
     "name": "stderr",
     "output_type": "stream",
     "text": [
      "\r",
      "Progress:  90%|██████████████████████████████████████████████████████████████▎      | 903/1000 [06:36<00:32,  3.00it/s]"
     ]
    },
    {
     "name": "stdout",
     "output_type": "stream",
     "text": [
      "Starting Node: Amalthea (moon)\n",
      "Ending Node: Minecraft\n",
      "Path Length: 4\n",
      "Path Exists: 1\n",
      "Path: ['Amalthea (moon)', '1980', '2011', 'Minecraft']\n"
     ]
    },
    {
     "name": "stderr",
     "output_type": "stream",
     "text": [
      "\r",
      "Progress:  90%|██████████████████████████████████████████████████████████████▍      | 904/1000 [06:37<00:34,  2.76it/s]"
     ]
    },
    {
     "name": "stdout",
     "output_type": "stream",
     "text": [
      "Starting Node: Ildegarda Taffra\n",
      "Ending Node: Minecraft\n",
      "Path Length: 5\n",
      "Path Exists: 1\n",
      "Path: ['Ildegarda Taffra', 'Italy', 'Mario Draghi', 'Mario', 'Minecraft']\n"
     ]
    },
    {
     "name": "stderr",
     "output_type": "stream",
     "text": [
      "\r",
      "Progress:  90%|██████████████████████████████████████████████████████████████▍      | 905/1000 [06:37<00:37,  2.57it/s]"
     ]
    },
    {
     "name": "stdout",
     "output_type": "stream",
     "text": [
      "Starting Node: Sandö Bridge\n",
      "Ending Node: Minecraft\n",
      "Path Length: 5\n",
      "Path Exists: 1\n",
      "Path: ['Sandö Bridge', 'Sweden', '1995', 'Microsoft', 'Minecraft']\n"
     ]
    },
    {
     "name": "stderr",
     "output_type": "stream",
     "text": [
      "\r",
      "Progress:  91%|██████████████████████████████████████████████████████████████▌      | 906/1000 [06:38<00:45,  2.07it/s]"
     ]
    },
    {
     "name": "stdout",
     "output_type": "stream",
     "text": [
      "Starting Node: Crash (1996 movie)\n",
      "Ending Node: Minecraft\n",
      "Path Length: 6\n",
      "Path Exists: 1\n",
      "Path: ['Crash (1996 movie)', 'James Spader', 'Stargate (movie)', 'Earth', 'Microsoft', 'Minecraft']\n"
     ]
    },
    {
     "name": "stderr",
     "output_type": "stream",
     "text": [
      "\r",
      "Progress:  91%|██████████████████████████████████████████████████████████████▌      | 907/1000 [06:39<00:45,  2.05it/s]"
     ]
    },
    {
     "name": "stdout",
     "output_type": "stream",
     "text": [
      "Starting Node: Yashoda\n",
      "Ending Node: Minecraft\n",
      "Path Length: 6\n",
      "Path Exists: 1\n",
      "Path: ['Yashoda', 'Hinduism', 'Darius the Great', 'Greece', '2011', 'Minecraft']\n"
     ]
    },
    {
     "name": "stderr",
     "output_type": "stream",
     "text": [
      "\r",
      "Progress:  91%|██████████████████████████████████████████████████████████████▋      | 908/1000 [06:39<00:44,  2.05it/s]"
     ]
    },
    {
     "name": "stdout",
     "output_type": "stream",
     "text": [
      "Starting Node: Lambesc\n",
      "Ending Node: Minecraft\n",
      "Path Length: 5\n",
      "Path Exists: 1\n",
      "Path: ['Lambesc', '2004', '1956', 'Microsoft', 'Minecraft']\n"
     ]
    },
    {
     "name": "stderr",
     "output_type": "stream",
     "text": [
      "\r",
      "Progress:  91%|██████████████████████████████████████████████████████████████▋      | 909/1000 [06:39<00:41,  2.19it/s]"
     ]
    },
    {
     "name": "stdout",
     "output_type": "stream",
     "text": [
      "Starting Node: Konrad Lorenz\n",
      "Ending Node: Minecraft\n",
      "Path Length: 5\n",
      "Path Exists: 1\n",
      "Path: ['Konrad Lorenz', 'Columbia University', 'Harvard University', 'Microsoft', 'Minecraft']\n"
     ]
    },
    {
     "name": "stderr",
     "output_type": "stream",
     "text": [
      "\r",
      "Progress:  91%|██████████████████████████████████████████████████████████████▊      | 910/1000 [06:40<00:42,  2.11it/s]"
     ]
    },
    {
     "name": "stdout",
     "output_type": "stream",
     "text": [
      "Starting Node: Drowned World/Substitute for Love\n",
      "Ending Node: Minecraft\n",
      "Path Length: 6\n",
      "Path Exists: 1\n",
      "Path: ['Drowned World/Substitute for Love', 'Ray of Light', 'Japan', 'Nintendo', 'Microsoft', 'Minecraft']\n"
     ]
    },
    {
     "name": "stderr",
     "output_type": "stream",
     "text": [
      "\r",
      "Progress:  91%|██████████████████████████████████████████████████████████████▊      | 911/1000 [06:40<00:41,  2.16it/s]"
     ]
    },
    {
     "name": "stdout",
     "output_type": "stream",
     "text": [
      "Starting Node: Monbetsu, Hokkaido\n",
      "Ending Node: Minecraft\n",
      "Path Length: 5\n",
      "Path Exists: 1\n",
      "Path: ['Monbetsu, Hokkaido', 'Japan', 'Nintendo', 'Microsoft', 'Minecraft']\n"
     ]
    },
    {
     "name": "stderr",
     "output_type": "stream",
     "text": [
      "\r",
      "Progress:  91%|██████████████████████████████████████████████████████████████▉      | 912/1000 [06:41<00:35,  2.46it/s]"
     ]
    },
    {
     "name": "stdout",
     "output_type": "stream",
     "text": [
      "Starting Node: Steffi Lemke\n",
      "Ending Node: Minecraft\n",
      "Path Length: 6\n",
      "Path Exists: 1\n",
      "Path: ['Steffi Lemke', 'Saxony-Anhalt', 'States of Germany', '1952', '2011', 'Minecraft']\n"
     ]
    },
    {
     "name": "stderr",
     "output_type": "stream",
     "text": [
      "\r",
      "Progress:  91%|██████████████████████████████████████████████████████████████▉      | 913/1000 [06:41<00:34,  2.49it/s]"
     ]
    },
    {
     "name": "stdout",
     "output_type": "stream",
     "text": [
      "Starting Node: Jaipur\n",
      "Ending Node: Minecraft\n",
      "Path Length: 5\n",
      "Path Exists: 1\n",
      "Path: ['Jaipur', 'Agra', 'October', '2011', 'Minecraft']\n"
     ]
    },
    {
     "name": "stderr",
     "output_type": "stream",
     "text": [
      "\r",
      "Progress:  91%|███████████████████████████████████████████████████████████████      | 914/1000 [06:42<00:43,  1.99it/s]"
     ]
    },
    {
     "name": "stdout",
     "output_type": "stream",
     "text": [
      "Starting Node: Spa, Belgium\n",
      "Ending Node: Minecraft\n",
      "Path Length: 5\n",
      "Path Exists: 1\n",
      "Path: ['Spa, Belgium', 'Belgian Grand Prix', '1921', '2011', 'Minecraft']\n"
     ]
    },
    {
     "name": "stderr",
     "output_type": "stream",
     "text": [
      "\r",
      "Progress:  92%|███████████████████████████████████████████████████████████████▏     | 915/1000 [06:42<00:42,  2.01it/s]"
     ]
    },
    {
     "name": "stdout",
     "output_type": "stream",
     "text": [
      "Starting Node: Division\n",
      "Ending Node: Minecraft\n",
      "Path Length: 5\n",
      "Path Exists: 1\n",
      "Path: ['Division', 'Administrative division', 'Greece', '2011', 'Minecraft']\n"
     ]
    },
    {
     "name": "stderr",
     "output_type": "stream",
     "text": [
      "\r",
      "Progress:  92%|███████████████████████████████████████████████████████████████▏     | 916/1000 [06:43<00:42,  1.97it/s]"
     ]
    },
    {
     "name": "stdout",
     "output_type": "stream",
     "text": [
      "Starting Node: Trébabu\n",
      "Ending Node: Minecraft\n",
      "Path Length: 5\n",
      "Path Exists: 1\n",
      "Path: ['Trébabu', 'France', 'Greece', '2011', 'Minecraft']\n",
      "Starting Node: Sial\n",
      "Ending Node: Minecraft\n",
      "Path Length: 4\n",
      "Path Exists: 1\n",
      "Path: ['Sial', 'Earth', 'Microsoft', 'Minecraft']\n",
      "Starting Node: The Fairfax Millions\n",
      "Ending Node: Minecraft\n",
      "Path Exists: 0\n"
     ]
    },
    {
     "name": "stderr",
     "output_type": "stream",
     "text": [
      "\r",
      "Progress:  92%|███████████████████████████████████████████████████████████████▍     | 919/1000 [06:43<00:22,  3.59it/s]"
     ]
    },
    {
     "name": "stdout",
     "output_type": "stream",
     "text": [
      "Starting Node: A. R. Rahman\n",
      "Ending Node: Minecraft\n",
      "Path Length: 4\n",
      "Path Exists: 1\n",
      "Path: ['A. R. Rahman', 'Philanthropy', 'MrBeast', 'Minecraft']\n"
     ]
    },
    {
     "name": "stderr",
     "output_type": "stream",
     "text": [
      "\r",
      "Progress:  92%|███████████████████████████████████████████████████████████████▍     | 920/1000 [06:44<00:25,  3.12it/s]"
     ]
    },
    {
     "name": "stdout",
     "output_type": "stream",
     "text": [
      "Starting Node: Sillans-la-Cascade\n",
      "Ending Node: Minecraft\n",
      "Path Length: 5\n",
      "Path Exists: 1\n",
      "Path: ['Sillans-la-Cascade', 'France', 'Greece', '2011', 'Minecraft']\n"
     ]
    },
    {
     "name": "stderr",
     "output_type": "stream",
     "text": [
      "\r",
      "Progress:  92%|███████████████████████████████████████████████████████████████▌     | 921/1000 [06:44<00:26,  2.97it/s]"
     ]
    },
    {
     "name": "stdout",
     "output_type": "stream",
     "text": [
      "Starting Node: Ivan Hudec\n",
      "Ending Node: Minecraft\n",
      "Path Length: 5\n",
      "Path Exists: 1\n",
      "Path: ['Ivan Hudec', 'Bratislava', 'Greece', '2011', 'Minecraft']\n"
     ]
    },
    {
     "name": "stderr",
     "output_type": "stream",
     "text": [
      "\r",
      "Progress:  92%|███████████████████████████████████████████████████████████████▌     | 922/1000 [06:44<00:27,  2.85it/s]"
     ]
    },
    {
     "name": "stdout",
     "output_type": "stream",
     "text": [
      "Starting Node: Sherpur District\n",
      "Ending Node: Minecraft\n",
      "Path Length: 6\n",
      "Path Exists: 1\n",
      "Path: ['Sherpur District', 'Dhaka Division', 'India', 'Encyclopædia Britannica', 'Microsoft', 'Minecraft']\n"
     ]
    },
    {
     "name": "stderr",
     "output_type": "stream",
     "text": [
      "\r",
      "Progress:  92%|███████████████████████████████████████████████████████████████▋     | 923/1000 [06:45<00:28,  2.68it/s]"
     ]
    },
    {
     "name": "stdout",
     "output_type": "stream",
     "text": [
      "Starting Node: Central Kalimantan\n",
      "Ending Node: Minecraft\n",
      "Path Length: 6\n",
      "Path Exists: 1\n",
      "Path: ['Central Kalimantan', 'Indonesia', 'Islam', 'Encyclopædia Britannica', 'Microsoft', 'Minecraft']\n"
     ]
    },
    {
     "name": "stderr",
     "output_type": "stream",
     "text": [
      "\r",
      "Progress:  92%|███████████████████████████████████████████████████████████████▊     | 924/1000 [06:45<00:33,  2.25it/s]"
     ]
    },
    {
     "name": "stdout",
     "output_type": "stream",
     "text": [
      "Starting Node: Province of Palermo\n",
      "Ending Node: Minecraft\n",
      "Path Length: 5\n",
      "Path Exists: 1\n",
      "Path: ['Province of Palermo', 'Italy', 'Mario Draghi', 'Mario', 'Minecraft']\n",
      "Starting Node: Field extension\n",
      "Ending Node: Minecraft\n",
      "Path Length: 6\n",
      "Path Exists: 1\n",
      "Path: ['Field extension', 'Field (mathematics)', 'Group (mathematics)', 'YouTube', 'MrBeast', 'Minecraft']\n"
     ]
    },
    {
     "name": "stderr",
     "output_type": "stream",
     "text": [
      "\r",
      "Progress:  93%|███████████████████████████████████████████████████████████████▉     | 926/1000 [06:46<00:27,  2.73it/s]"
     ]
    },
    {
     "name": "stdout",
     "output_type": "stream",
     "text": [
      "Starting Node: Elizabeth Morgan case\n",
      "Ending Node: Minecraft\n",
      "Path Length: 5\n",
      "Path Exists: 1\n",
      "Path: ['Elizabeth Morgan case', 'CNN', 'MSNBC', 'Microsoft', 'Minecraft']\n",
      "Starting Node: Charter Act of 1813\n",
      "Ending Node: Minecraft\n",
      "Path Exists: 0\n"
     ]
    },
    {
     "name": "stderr",
     "output_type": "stream",
     "text": [
      "\r",
      "Progress:  93%|████████████████████████████████████████████████████████████████     | 928/1000 [06:46<00:22,  3.16it/s]"
     ]
    },
    {
     "name": "stdout",
     "output_type": "stream",
     "text": [
      "Starting Node: Red Skies of Montana\n",
      "Ending Node: Minecraft\n",
      "Path Length: 6\n",
      "Path Exists: 1\n",
      "Path: ['Red Skies of Montana', 'Warren Stevens', 'World War II', 'Greece', '2011', 'Minecraft']\n"
     ]
    },
    {
     "name": "stderr",
     "output_type": "stream",
     "text": [
      "\r",
      "Progress:  93%|████████████████████████████████████████████████████████████████     | 929/1000 [06:47<00:24,  2.87it/s]"
     ]
    },
    {
     "name": "stdout",
     "output_type": "stream",
     "text": [
      "Starting Node: Cape Cod\n",
      "Ending Node: Minecraft\n",
      "Path Length: 5\n",
      "Path Exists: 1\n",
      "Path: ['Cape Cod', 'Massachusetts', 'Harvard University', 'Microsoft', 'Minecraft']\n"
     ]
    },
    {
     "name": "stderr",
     "output_type": "stream",
     "text": [
      "\r",
      "Progress:  93%|████████████████████████████████████████████████████████████████▏    | 930/1000 [06:47<00:24,  2.81it/s]"
     ]
    },
    {
     "name": "stdout",
     "output_type": "stream",
     "text": [
      "Starting Node: Mistaken Point Ecological Reserve\n",
      "Ending Node: Minecraft\n",
      "Path Length: 5\n",
      "Path Exists: 1\n",
      "Path: ['Mistaken Point Ecological Reserve', 'UNESCO', '1945', '2011', 'Minecraft']\n"
     ]
    },
    {
     "name": "stderr",
     "output_type": "stream",
     "text": [
      "\r",
      "Progress:  93%|████████████████████████████████████████████████████████████████▏    | 931/1000 [06:48<00:27,  2.49it/s]"
     ]
    },
    {
     "name": "stdout",
     "output_type": "stream",
     "text": [
      "Starting Node: Shōten\n",
      "Ending Node: Minecraft\n",
      "Path Length: 6\n",
      "Path Exists: 1\n",
      "Path: ['Shōten', 'Japanese language', 'World War II', 'Greece', '2011', 'Minecraft']\n"
     ]
    },
    {
     "name": "stderr",
     "output_type": "stream",
     "text": [
      "\r",
      "Progress:  93%|████████████████████████████████████████████████████████████████▎    | 932/1000 [06:48<00:25,  2.65it/s]"
     ]
    },
    {
     "name": "stdout",
     "output_type": "stream",
     "text": [
      "Starting Node: Poltergeist\n",
      "Ending Node: Minecraft\n",
      "Path Length: 5\n",
      "Path Exists: 1\n",
      "Path: ['Poltergeist', 'Harry Potter', 'Microsoft Windows', 'Microsoft', 'Minecraft']\n"
     ]
    },
    {
     "name": "stderr",
     "output_type": "stream",
     "text": [
      "\r",
      "Progress:  93%|████████████████████████████████████████████████████████████████▍    | 933/1000 [06:49<00:26,  2.50it/s]"
     ]
    },
    {
     "name": "stdout",
     "output_type": "stream",
     "text": [
      "Starting Node: MacDonnell Ranges\n",
      "Ending Node: Minecraft\n",
      "Path Length: 5\n",
      "Path Exists: 1\n",
      "Path: ['MacDonnell Ranges', 'Australia', 'Greece', '2011', 'Minecraft']\n"
     ]
    },
    {
     "name": "stderr",
     "output_type": "stream",
     "text": [
      "\r",
      "Progress:  93%|████████████████████████████████████████████████████████████████▍    | 934/1000 [06:49<00:27,  2.43it/s]"
     ]
    },
    {
     "name": "stdout",
     "output_type": "stream",
     "text": [
      "Starting Node: Penshurst, New South Wales\n",
      "Ending Node: Minecraft\n",
      "Path Length: 5\n",
      "Path Exists: 1\n",
      "Path: ['Penshurst, New South Wales', 'Australia', 'Greece', '2011', 'Minecraft']\n"
     ]
    },
    {
     "name": "stderr",
     "output_type": "stream",
     "text": [
      "\r",
      "Progress:  94%|████████████████████████████████████████████████████████████████▌    | 935/1000 [06:49<00:26,  2.47it/s]"
     ]
    },
    {
     "name": "stdout",
     "output_type": "stream",
     "text": [
      "Starting Node: Puttad\n",
      "Ending Node: Minecraft\n",
      "Path Length: 5\n",
      "Path Exists: 1\n",
      "Path: ['Puttad', 'India', 'Encyclopædia Britannica', 'Microsoft', 'Minecraft']\n"
     ]
    },
    {
     "name": "stderr",
     "output_type": "stream",
     "text": [
      "\r",
      "Progress:  94%|████████████████████████████████████████████████████████████████▌    | 936/1000 [06:50<00:25,  2.48it/s]"
     ]
    },
    {
     "name": "stdout",
     "output_type": "stream",
     "text": [
      "Starting Node: Victor Kostetskiy\n",
      "Ending Node: Minecraft\n",
      "Path Length: 5\n",
      "Path Exists: 1\n",
      "Path: ['Victor Kostetskiy', 'Treasure Island', 'Jackie Cooper', 'Microsoft', 'Minecraft']\n"
     ]
    },
    {
     "name": "stderr",
     "output_type": "stream",
     "text": [
      "\r",
      "Progress:  94%|████████████████████████████████████████████████████████████████▋    | 937/1000 [06:50<00:25,  2.47it/s]"
     ]
    },
    {
     "name": "stdout",
     "output_type": "stream",
     "text": [
      "Starting Node: Nancy Isime\n",
      "Ending Node: Minecraft\n",
      "Path Length: 6\n",
      "Path Exists: 1\n",
      "Path: ['Nancy Isime', 'Lagos', 'Atlantic Ocean', 'Earth', 'Microsoft', 'Minecraft']\n"
     ]
    },
    {
     "name": "stderr",
     "output_type": "stream",
     "text": [
      "\r",
      "Progress:  94%|████████████████████████████████████████████████████████████████▋    | 938/1000 [06:51<00:26,  2.35it/s]"
     ]
    },
    {
     "name": "stdout",
     "output_type": "stream",
     "text": [
      "Starting Node: Livilliers\n",
      "Ending Node: Minecraft\n",
      "Path Length: 5\n",
      "Path Exists: 1\n",
      "Path: ['Livilliers', 'France', 'Greece', '2011', 'Minecraft']\n"
     ]
    },
    {
     "name": "stderr",
     "output_type": "stream",
     "text": [
      "\r",
      "Progress:  94%|████████████████████████████████████████████████████████████████▊    | 939/1000 [06:51<00:25,  2.38it/s]"
     ]
    },
    {
     "name": "stdout",
     "output_type": "stream",
     "text": [
      "Starting Node: Clement Township, Dickey County, North Dakota\n",
      "Ending Node: Minecraft\n",
      "Path Length: 5\n",
      "Path Exists: 1\n",
      "Path: ['Clement Township, Dickey County, North Dakota', 'Dickey County, North Dakota', 'July 17', '2011', 'Minecraft']\n"
     ]
    },
    {
     "name": "stderr",
     "output_type": "stream",
     "text": [
      "\r",
      "Progress:  94%|████████████████████████████████████████████████████████████████▊    | 940/1000 [06:52<00:30,  1.96it/s]"
     ]
    },
    {
     "name": "stdout",
     "output_type": "stream",
     "text": [
      "Starting Node: Huntly, Scotland\n",
      "Ending Node: Minecraft\n",
      "Path Length: 6\n",
      "Path Exists: 1\n",
      "Path: ['Huntly, Scotland', 'Aberdeenshire', 'Aberdeen', '1910', '2011', 'Minecraft']\n"
     ]
    },
    {
     "name": "stderr",
     "output_type": "stream",
     "text": [
      "\r",
      "Progress:  94%|████████████████████████████████████████████████████████████████▉    | 941/1000 [06:52<00:29,  1.97it/s]"
     ]
    },
    {
     "name": "stdout",
     "output_type": "stream",
     "text": [
      "Starting Node: Rif Dimashq Governorate\n",
      "Ending Node: Minecraft\n",
      "Path Length: 5\n",
      "Path Exists: 1\n",
      "Path: ['Rif Dimashq Governorate', 'Eastern European Summer Time', 'Greece', '2011', 'Minecraft']\n"
     ]
    },
    {
     "name": "stderr",
     "output_type": "stream",
     "text": [
      "\r",
      "Progress:  94%|████████████████████████████████████████████████████████████████▉    | 942/1000 [06:53<00:29,  1.99it/s]"
     ]
    },
    {
     "name": "stdout",
     "output_type": "stream",
     "text": [
      "Starting Node: Lawa, Chakwal\n",
      "Ending Node: Minecraft\n",
      "Path Length: 6\n",
      "Path Exists: 1\n",
      "Path: ['Lawa, Chakwal', 'Pakistan', 'Kashmir', 'Kashmir conflict', 'Microsoft', 'Minecraft']\n"
     ]
    },
    {
     "name": "stderr",
     "output_type": "stream",
     "text": [
      "\r",
      "Progress:  94%|█████████████████████████████████████████████████████████████████    | 943/1000 [06:53<00:28,  2.02it/s]"
     ]
    },
    {
     "name": "stdout",
     "output_type": "stream",
     "text": [
      "Starting Node: James Earl Jones\n",
      "Ending Node: Minecraft\n",
      "Path Length: 5\n",
      "Path Exists: 1\n",
      "Path: ['James Earl Jones', 'Aaron Copland', 'Harvard University', 'Microsoft', 'Minecraft']\n"
     ]
    },
    {
     "name": "stderr",
     "output_type": "stream",
     "text": [
      "\r",
      "Progress:  94%|█████████████████████████████████████████████████████████████████▏   | 944/1000 [06:54<00:27,  2.06it/s]"
     ]
    },
    {
     "name": "stdout",
     "output_type": "stream",
     "text": [
      "Starting Node: Gornji Karin\n",
      "Ending Node: Minecraft\n",
      "Path Length: 6\n",
      "Path Exists: 1\n",
      "Path: ['Gornji Karin', 'Croatia', '42nd parallel north', 'Earth', 'Microsoft', 'Minecraft']\n"
     ]
    },
    {
     "name": "stderr",
     "output_type": "stream",
     "text": [
      "\r",
      "Progress:  94%|█████████████████████████████████████████████████████████████████▏   | 945/1000 [06:54<00:27,  1.98it/s]"
     ]
    },
    {
     "name": "stdout",
     "output_type": "stream",
     "text": [
      "Starting Node: Nibley, Utah\n",
      "Ending Node: Minecraft\n",
      "Path Length: 5\n",
      "Path Exists: 1\n",
      "Path: ['Nibley, Utah', 'City', 'Greece', '2011', 'Minecraft']\n"
     ]
    },
    {
     "name": "stderr",
     "output_type": "stream",
     "text": [
      "\r",
      "Progress:  95%|█████████████████████████████████████████████████████████████████▎   | 946/1000 [06:55<00:27,  1.95it/s]"
     ]
    },
    {
     "name": "stdout",
     "output_type": "stream",
     "text": [
      "Starting Node: Oleaceae\n",
      "Ending Node: Minecraft\n",
      "Path Length: 5\n",
      "Path Exists: 1\n",
      "Path: ['Oleaceae', 'Olive (fruit)', 'Greece', '2011', 'Minecraft']\n"
     ]
    },
    {
     "name": "stderr",
     "output_type": "stream",
     "text": [
      "\r",
      "Progress:  95%|█████████████████████████████████████████████████████████████████▎   | 947/1000 [06:56<00:30,  1.74it/s]"
     ]
    },
    {
     "name": "stdout",
     "output_type": "stream",
     "text": [
      "Starting Node: Everglades, Florida\n",
      "Ending Node: Minecraft\n",
      "Path Length: 5\n",
      "Path Exists: 1\n",
      "Path: ['Everglades, Florida', 'Florida', 'Raccoon', 'Wolf', 'Minecraft']\n"
     ]
    },
    {
     "name": "stderr",
     "output_type": "stream",
     "text": [
      "\r",
      "Progress:  95%|█████████████████████████████████████████████████████████████████▍   | 948/1000 [06:56<00:25,  2.06it/s]"
     ]
    },
    {
     "name": "stdout",
     "output_type": "stream",
     "text": [
      "Starting Node: Tägerwilen\n",
      "Ending Node: Minecraft\n",
      "Path Length: 5\n",
      "Path Exists: 1\n",
      "Path: ['Tägerwilen', 'Cantons of Switzerland', '2001', 'Microsoft', 'Minecraft']\n"
     ]
    },
    {
     "name": "stderr",
     "output_type": "stream",
     "text": [
      "\r",
      "Progress:  95%|█████████████████████████████████████████████████████████████████▍   | 949/1000 [06:57<00:29,  1.72it/s]"
     ]
    },
    {
     "name": "stdout",
     "output_type": "stream",
     "text": [
      "Starting Node: Roscosmos\n",
      "Ending Node: Minecraft\n",
      "Path Length: 5\n",
      "Path Exists: 1\n",
      "Path: ['Roscosmos', 'Moscow', 'Earth', 'Microsoft', 'Minecraft']\n"
     ]
    },
    {
     "name": "stderr",
     "output_type": "stream",
     "text": [
      "\r",
      "Progress:  95%|█████████████████████████████████████████████████████████████████▌   | 950/1000 [06:57<00:28,  1.77it/s]"
     ]
    },
    {
     "name": "stdout",
     "output_type": "stream",
     "text": [
      "Starting Node: Oleg Tverdovsky\n",
      "Ending Node: Minecraft\n",
      "Path Length: 5\n",
      "Path Exists: 1\n",
      "Path: ['Oleg Tverdovsky', '1996–97 NHL season', 'May 31', '2011', 'Minecraft']\n"
     ]
    },
    {
     "name": "stderr",
     "output_type": "stream",
     "text": [
      "\r",
      "Progress:  95%|█████████████████████████████████████████████████████████████████▌   | 951/1000 [06:58<00:25,  1.90it/s]"
     ]
    },
    {
     "name": "stdout",
     "output_type": "stream",
     "text": [
      "Starting Node: Quaid-e-Azam House\n",
      "Ending Node: Minecraft\n",
      "Path Length: 5\n",
      "Path Exists: 1\n",
      "Path: ['Quaid-e-Azam House', 'Sindh', 'Greece', '2011', 'Minecraft']\n"
     ]
    },
    {
     "name": "stderr",
     "output_type": "stream",
     "text": [
      "\r",
      "Progress:  95%|█████████████████████████████████████████████████████████████████▋   | 952/1000 [06:58<00:24,  1.96it/s]"
     ]
    },
    {
     "name": "stdout",
     "output_type": "stream",
     "text": [
      "Starting Node: Hector Busby\n",
      "Ending Node: Minecraft\n",
      "Path Length: 5\n",
      "Path Exists: 1\n",
      "Path: ['Hector Busby', 'Pacific Ocean', 'Earth', 'Microsoft', 'Minecraft']\n"
     ]
    },
    {
     "name": "stderr",
     "output_type": "stream",
     "text": [
      "\r",
      "Progress:  95%|█████████████████████████████████████████████████████████████████▊   | 953/1000 [06:59<00:24,  1.95it/s]"
     ]
    },
    {
     "name": "stdout",
     "output_type": "stream",
     "text": [
      "Starting Node: The Scotsman\n",
      "Ending Node: Minecraft\n",
      "Path Length: 6\n",
      "Path Exists: 1\n",
      "Path: ['The Scotsman', 'United Kingdom', 'Islam', 'Encyclopædia Britannica', 'Microsoft', 'Minecraft']\n"
     ]
    },
    {
     "name": "stderr",
     "output_type": "stream",
     "text": [
      "\r",
      "Progress:  95%|█████████████████████████████████████████████████████████████████▊   | 954/1000 [06:59<00:22,  2.02it/s]"
     ]
    },
    {
     "name": "stdout",
     "output_type": "stream",
     "text": [
      "Starting Node: Grammar\n",
      "Ending Node: Minecraft\n",
      "Path Length: 5\n",
      "Path Exists: 1\n",
      "Path: ['Grammar', 'Spanish language', '2021', 'Microsoft', 'Minecraft']\n"
     ]
    },
    {
     "name": "stderr",
     "output_type": "stream",
     "text": [
      "\r",
      "Progress:  96%|█████████████████████████████████████████████████████████████████▉   | 955/1000 [07:00<00:21,  2.06it/s]"
     ]
    },
    {
     "name": "stdout",
     "output_type": "stream",
     "text": [
      "Starting Node: Terry Jacks\n",
      "Ending Node: Minecraft\n",
      "Path Length: 5\n",
      "Path Exists: 1\n",
      "Path: ['Terry Jacks', 'Pop music', 'Computer', 'Microsoft', 'Minecraft']\n"
     ]
    },
    {
     "name": "stderr",
     "output_type": "stream",
     "text": [
      "\r",
      "Progress:  96%|█████████████████████████████████████████████████████████████████▉   | 956/1000 [07:00<00:20,  2.14it/s]"
     ]
    },
    {
     "name": "stdout",
     "output_type": "stream",
     "text": [
      "Starting Node: Lina Morgan\n",
      "Ending Node: Minecraft\n",
      "Path Length: 5\n",
      "Path Exists: 1\n",
      "Path: ['Lina Morgan', 'Spain', '20th century', '2011', 'Minecraft']\n"
     ]
    },
    {
     "name": "stderr",
     "output_type": "stream",
     "text": [
      "\r",
      "Progress:  96%|██████████████████████████████████████████████████████████████████   | 957/1000 [07:00<00:19,  2.25it/s]"
     ]
    },
    {
     "name": "stdout",
     "output_type": "stream",
     "text": [
      "Starting Node: ESPN\n",
      "Ending Node: Minecraft\n",
      "Path Length: 5\n",
      "Path Exists: 1\n",
      "Path: ['ESPN', 'The Walt Disney Company', 'S&P 500', 'Microsoft', 'Minecraft']\n"
     ]
    },
    {
     "name": "stderr",
     "output_type": "stream",
     "text": [
      "\r",
      "Progress:  96%|██████████████████████████████████████████████████████████████████   | 958/1000 [07:01<00:20,  2.07it/s]"
     ]
    },
    {
     "name": "stdout",
     "output_type": "stream",
     "text": [
      "Starting Node: Designer bag\n",
      "Ending Node: Minecraft\n",
      "Path Length: 6\n",
      "Path Exists: 1\n",
      "Path: ['Designer bag', 'Hermès', 'France', 'Greece', '2011', 'Minecraft']\n"
     ]
    },
    {
     "name": "stderr",
     "output_type": "stream",
     "text": [
      "\r",
      "Progress:  96%|██████████████████████████████████████████████████████████████████▏  | 959/1000 [07:02<00:23,  1.78it/s]"
     ]
    },
    {
     "name": "stdout",
     "output_type": "stream",
     "text": [
      "Starting Node: Chaumont, Cher\n",
      "Ending Node: Minecraft\n",
      "Path Length: 5\n",
      "Path Exists: 1\n",
      "Path: ['Chaumont, Cher', 'France', 'Greece', '2011', 'Minecraft']\n"
     ]
    },
    {
     "name": "stderr",
     "output_type": "stream",
     "text": [
      "\r",
      "Progress:  96%|██████████████████████████████████████████████████████████████████▏  | 960/1000 [07:02<00:21,  1.87it/s]"
     ]
    },
    {
     "name": "stdout",
     "output_type": "stream",
     "text": [
      "Starting Node: Kim, Colorado\n",
      "Ending Node: Minecraft\n",
      "Path Length: 5\n",
      "Path Exists: 1\n",
      "Path: ['Kim, Colorado', 'United States', 'Xbox Game Studios', 'Mojang Studios', 'Minecraft']\n"
     ]
    },
    {
     "name": "stderr",
     "output_type": "stream",
     "text": [
      "\r",
      "Progress:  96%|██████████████████████████████████████████████████████████████████▎  | 961/1000 [07:03<00:19,  1.96it/s]"
     ]
    },
    {
     "name": "stdout",
     "output_type": "stream",
     "text": [
      "Starting Node: Saint-Germain-de-Prinçay\n",
      "Ending Node: Minecraft\n",
      "Path Length: 5\n",
      "Path Exists: 1\n",
      "Path: ['Saint-Germain-de-Prinçay', 'Vendée', '2006', '2011', 'Minecraft']\n",
      "Starting Node: Hornbill\n",
      "Ending Node: Minecraft\n",
      "Path Length: 5\n",
      "Path Exists: 1\n",
      "Path: ['Hornbill', 'Asia', 'Earth', 'Microsoft', 'Minecraft']\n"
     ]
    },
    {
     "name": "stderr",
     "output_type": "stream",
     "text": [
      "\r",
      "Progress:  96%|██████████████████████████████████████████████████████████████████▍  | 963/1000 [07:03<00:13,  2.77it/s]"
     ]
    },
    {
     "name": "stdout",
     "output_type": "stream",
     "text": [
      "Starting Node: 1/f noise\n",
      "Ending Node: Minecraft\n",
      "Path Length: 5\n",
      "Path Exists: 1\n",
      "Path: ['1/f noise', 'Mathematics', 'Programming language', 'Microsoft', 'Minecraft']\n"
     ]
    },
    {
     "name": "stderr",
     "output_type": "stream",
     "text": [
      "\r",
      "Progress:  96%|██████████████████████████████████████████████████████████████████▌  | 964/1000 [07:04<00:14,  2.49it/s]"
     ]
    },
    {
     "name": "stdout",
     "output_type": "stream",
     "text": [
      "Starting Node: Joe Thornton\n",
      "Ending Node: Minecraft\n",
      "Path Length: 6\n",
      "Path Exists: 1\n",
      "Path: ['Joe Thornton', 'London, Ontario', '980', 'February 13', '2011', 'Minecraft']\n"
     ]
    },
    {
     "name": "stderr",
     "output_type": "stream",
     "text": [
      "\r",
      "Progress:  96%|██████████████████████████████████████████████████████████████████▌  | 965/1000 [07:04<00:13,  2.55it/s]"
     ]
    },
    {
     "name": "stdout",
     "output_type": "stream",
     "text": [
      "Starting Node: Barium chlorate\n",
      "Ending Node: Minecraft\n",
      "Path Length: 7\n",
      "Path Exists: 1\n",
      "Path: ['Barium chlorate', 'Barium nitrate', 'Potassium nitrate', 'Oxygen', 'Greece', '2011', 'Minecraft']\n"
     ]
    },
    {
     "name": "stderr",
     "output_type": "stream",
     "text": [
      "\r",
      "Progress:  97%|██████████████████████████████████████████████████████████████████▋  | 966/1000 [07:04<00:14,  2.40it/s]"
     ]
    },
    {
     "name": "stdout",
     "output_type": "stream",
     "text": [
      "Starting Node: Fraga\n",
      "Ending Node: Minecraft\n",
      "Path Length: 6\n",
      "Path Exists: 1\n",
      "Path: ['Fraga', 'Central European Summer Time', 'Antarctica', 'Earth', 'Microsoft', 'Minecraft']\n"
     ]
    },
    {
     "name": "stderr",
     "output_type": "stream",
     "text": [
      "\r",
      "Progress:  97%|██████████████████████████████████████████████████████████████████▋  | 967/1000 [07:05<00:13,  2.46it/s]"
     ]
    },
    {
     "name": "stdout",
     "output_type": "stream",
     "text": [
      "Starting Node: Ludovico Ariosto\n",
      "Ending Node: Minecraft\n",
      "Path Length: 5\n",
      "Path Exists: 1\n",
      "Path: ['Ludovico Ariosto', '1516', 'August 9', '2011', 'Minecraft']\n"
     ]
    },
    {
     "name": "stderr",
     "output_type": "stream",
     "text": [
      "\r",
      "Progress:  97%|██████████████████████████████████████████████████████████████████▊  | 968/1000 [07:05<00:15,  2.07it/s]"
     ]
    },
    {
     "name": "stdout",
     "output_type": "stream",
     "text": [
      "Starting Node: Magnetic field\n",
      "Ending Node: Minecraft\n",
      "Path Length: 6\n",
      "Path Exists: 1\n",
      "Path: ['Magnetic field', 'Physicist', 'Galileo Galilei', 'Earth', 'Microsoft', 'Minecraft']\n",
      "Starting Node: Anders Wejryd\n",
      "Ending Node: Minecraft\n",
      "Path Length: 5\n",
      "Path Exists: 1\n",
      "Path: ['Anders Wejryd', 'Sweden', '1995', 'Microsoft', 'Minecraft']\n"
     ]
    },
    {
     "name": "stderr",
     "output_type": "stream",
     "text": [
      "Progress:  97%|██████████████████████████████████████████████████████████████████▉  | 970/1000 [07:06<00:15,  1.95it/s]"
     ]
    },
    {
     "name": "stdout",
     "output_type": "stream",
     "text": [
      "Starting Node: Jonquières, Tarn\n",
      "Ending Node: Minecraft\n",
      "Path Length: 5\n",
      "Path Exists: 1\n",
      "Path: ['Jonquières, Tarn', 'France', 'Greece', '2011', 'Minecraft']\n"
     ]
    },
    {
     "name": "stderr",
     "output_type": "stream",
     "text": [
      "\r",
      "Progress:  97%|██████████████████████████████████████████████████████████████████▉  | 971/1000 [07:07<00:14,  1.96it/s]"
     ]
    },
    {
     "name": "stdout",
     "output_type": "stream",
     "text": [
      "Starting Node: Toms (cartoonist)\n",
      "Ending Node: Minecraft\n",
      "Path Length: 5\n",
      "Path Exists: 1\n",
      "Path: ['Toms (cartoonist)', 'India', 'Encyclopædia Britannica', 'Microsoft', 'Minecraft']\n"
     ]
    },
    {
     "name": "stderr",
     "output_type": "stream",
     "text": [
      "\r",
      "Progress:  97%|███████████████████████████████████████████████████████████████████  | 972/1000 [07:07<00:14,  1.90it/s]"
     ]
    },
    {
     "name": "stdout",
     "output_type": "stream",
     "text": [
      "Starting Node: Lismore, New South Wales\n",
      "Ending Node: Minecraft\n",
      "Path Length: 5\n",
      "Path Exists: 1\n",
      "Path: ['Lismore, New South Wales', 'Australia', 'Greece', '2011', 'Minecraft']\n"
     ]
    },
    {
     "name": "stderr",
     "output_type": "stream",
     "text": [
      "\r",
      "Progress:  97%|███████████████████████████████████████████████████████████████████▏ | 973/1000 [07:08<00:14,  1.82it/s]"
     ]
    },
    {
     "name": "stdout",
     "output_type": "stream",
     "text": [
      "Starting Node: FC Baden\n",
      "Ending Node: Minecraft\n",
      "Path Length: 6\n",
      "Path Exists: 1\n",
      "Path: ['FC Baden', 'Fislisbach', 'Cantons of Switzerland', '2001', 'Microsoft', 'Minecraft']\n"
     ]
    },
    {
     "name": "stderr",
     "output_type": "stream",
     "text": [
      "\r",
      "Progress:  97%|███████████████████████████████████████████████████████████████████▏ | 974/1000 [07:09<00:13,  1.93it/s]"
     ]
    },
    {
     "name": "stdout",
     "output_type": "stream",
     "text": [
      "Starting Node: Bad Godesberg\n",
      "Ending Node: Minecraft\n",
      "Path Length: 4\n",
      "Path Exists: 1\n",
      "Path: ['Bad Godesberg', '1999', 'Microsoft', 'Minecraft']\n"
     ]
    },
    {
     "name": "stderr",
     "output_type": "stream",
     "text": [
      "\r",
      "Progress:  98%|███████████████████████████████████████████████████████████████████▎ | 975/1000 [07:09<00:12,  1.96it/s]"
     ]
    },
    {
     "name": "stdout",
     "output_type": "stream",
     "text": [
      "Starting Node: Half the Man (Jamiroquai song)\n",
      "Ending Node: Minecraft\n",
      "Path Length: 6\n",
      "Path Exists: 1\n",
      "Path: ['Half the Man (Jamiroquai song)', 'Discogs', 'United States', 'Xbox Game Studios', 'Mojang Studios', 'Minecraft']\n"
     ]
    },
    {
     "name": "stderr",
     "output_type": "stream",
     "text": [
      "\r",
      "Progress:  98%|███████████████████████████████████████████████████████████████████▎ | 976/1000 [07:09<00:11,  2.04it/s]"
     ]
    },
    {
     "name": "stdout",
     "output_type": "stream",
     "text": [
      "Starting Node: Battle of Saratoga\n",
      "Ending Node: Minecraft\n",
      "Path Length: 5\n",
      "Path Exists: 1\n",
      "Path: ['Battle of Saratoga', 'Trench warfare', '2006', '2011', 'Minecraft']\n"
     ]
    },
    {
     "name": "stderr",
     "output_type": "stream",
     "text": [
      "\r",
      "Progress:  98%|███████████████████████████████████████████████████████████████████▍ | 977/1000 [07:10<00:11,  1.99it/s]"
     ]
    },
    {
     "name": "stdout",
     "output_type": "stream",
     "text": [
      "Starting Node: Divonne-les-Bains\n",
      "Ending Node: Minecraft\n",
      "Path Length: 5\n",
      "Path Exists: 1\n",
      "Path: ['Divonne-les-Bains', 'France', 'Greece', '2011', 'Minecraft']\n"
     ]
    },
    {
     "name": "stderr",
     "output_type": "stream",
     "text": [
      "\r",
      "Progress:  98%|███████████████████████████████████████████████████████████████████▍ | 978/1000 [07:11<00:11,  1.97it/s]"
     ]
    },
    {
     "name": "stdout",
     "output_type": "stream",
     "text": [
      "Starting Node: Eau Galle, St. Croix County, Wisconsin\n",
      "Ending Node: Minecraft\n",
      "Path Length: 6\n",
      "Path Exists: 1\n",
      "Path: ['Eau Galle, St. Croix County, Wisconsin', 'Wisconsin', 'France', 'Greece', '2011', 'Minecraft']\n"
     ]
    },
    {
     "name": "stderr",
     "output_type": "stream",
     "text": [
      "\r",
      "Progress:  98%|███████████████████████████████████████████████████████████████████▌ | 979/1000 [07:11<00:10,  1.97it/s]"
     ]
    },
    {
     "name": "stdout",
     "output_type": "stream",
     "text": [
      "Starting Node: Dan Simmons\n",
      "Ending Node: Minecraft\n",
      "Path Length: 5\n",
      "Path Exists: 1\n",
      "Path: ['Dan Simmons', 'United States', 'Xbox Game Studios', 'Mojang Studios', 'Minecraft']\n"
     ]
    },
    {
     "name": "stderr",
     "output_type": "stream",
     "text": [
      "\r",
      "Progress:  98%|███████████████████████████████████████████████████████████████████▌ | 980/1000 [07:11<00:09,  2.05it/s]"
     ]
    },
    {
     "name": "stdout",
     "output_type": "stream",
     "text": [
      "Starting Node: Virgin Orbit\n",
      "Ending Node: Minecraft\n",
      "Path Length: 6\n",
      "Path Exists: 1\n",
      "Path: ['Virgin Orbit', 'Virgin Group', 'England', 'UEFA Euro 2012', '2011', 'Minecraft']\n"
     ]
    },
    {
     "name": "stderr",
     "output_type": "stream",
     "text": [
      "\r",
      "Progress:  98%|███████████████████████████████████████████████████████████████████▋ | 981/1000 [07:12<00:09,  2.05it/s]"
     ]
    },
    {
     "name": "stdout",
     "output_type": "stream",
     "text": [
      "Starting Node: Naglis Puteikis\n",
      "Ending Node: Minecraft\n",
      "Path Length: 5\n",
      "Path Exists: 1\n",
      "Path: ['Naglis Puteikis', 'Vilnius', '2006', '2011', 'Minecraft']\n"
     ]
    },
    {
     "name": "stderr",
     "output_type": "stream",
     "text": [
      "\r",
      "Progress:  98%|███████████████████████████████████████████████████████████████████▊ | 982/1000 [07:12<00:08,  2.13it/s]"
     ]
    },
    {
     "name": "stdout",
     "output_type": "stream",
     "text": [
      "Starting Node: Cheek to Cheek (album)\n",
      "Ending Node: Minecraft\n",
      "Path Length: 5\n",
      "Path Exists: 1\n",
      "Path: ['Cheek to Cheek (album)', 'Pop music', 'Computer', 'Microsoft', 'Minecraft']\n"
     ]
    },
    {
     "name": "stderr",
     "output_type": "stream",
     "text": [
      "\r",
      "Progress:  98%|███████████████████████████████████████████████████████████████████▊ | 983/1000 [07:13<00:07,  2.31it/s]"
     ]
    },
    {
     "name": "stdout",
     "output_type": "stream",
     "text": [
      "Starting Node: Magherafelt\n",
      "Ending Node: Minecraft\n",
      "Path Length: 4\n",
      "Path Exists: 1\n",
      "Path: ['Magherafelt', '2001', 'Microsoft', 'Minecraft']\n"
     ]
    },
    {
     "name": "stderr",
     "output_type": "stream",
     "text": [
      "\r",
      "Progress:  98%|███████████████████████████████████████████████████████████████████▉ | 984/1000 [07:13<00:07,  2.25it/s]"
     ]
    },
    {
     "name": "stdout",
     "output_type": "stream",
     "text": [
      "Starting Node: Armando Villanueva\n",
      "Ending Node: Minecraft\n",
      "Path Length: 5\n",
      "Path Exists: 1\n",
      "Path: ['Armando Villanueva', 'Alberto Fujimori', 'July 28', '2011', 'Minecraft']\n",
      "Starting Node: Westlink M7\n",
      "Ending Node: Minecraft\n",
      "Path Exists: 0\n"
     ]
    },
    {
     "name": "stderr",
     "output_type": "stream",
     "text": [
      "\r",
      "Progress:  99%|████████████████████████████████████████████████████████████████████ | 986/1000 [07:14<00:04,  2.96it/s]"
     ]
    },
    {
     "name": "stdout",
     "output_type": "stream",
     "text": [
      "Starting Node: Filamentation\n",
      "Ending Node: Minecraft\n",
      "Path Length: 6\n",
      "Path Exists: 1\n",
      "Path: ['Filamentation', 'Escherichia coli', '1919', 'October 13', 'Microsoft', 'Minecraft']\n"
     ]
    },
    {
     "name": "stderr",
     "output_type": "stream",
     "text": [
      "\r",
      "Progress:  99%|████████████████████████████████████████████████████████████████████ | 987/1000 [07:14<00:04,  2.84it/s]"
     ]
    },
    {
     "name": "stdout",
     "output_type": "stream",
     "text": [
      "Starting Node: Miguel Alfredo González\n",
      "Ending Node: Minecraft\n",
      "Path Length: 5\n",
      "Path Exists: 1\n",
      "Path: ['Miguel Alfredo González', 'Major League Baseball', 'YouTube', 'MrBeast', 'Minecraft']\n",
      "Starting Node: List of living Medal of Honor recipients\n",
      "Ending Node: Minecraft\n",
      "Path Exists: 0\n"
     ]
    },
    {
     "name": "stderr",
     "output_type": "stream",
     "text": [
      "\r",
      "Progress:  99%|████████████████████████████████████████████████████████████████████▏| 989/1000 [07:14<00:03,  3.34it/s]"
     ]
    },
    {
     "name": "stdout",
     "output_type": "stream",
     "text": [
      "Starting Node: List of number-one singles of 2021 (Finland)\n",
      "Ending Node: Minecraft\n",
      "Path Length: 5\n",
      "Path Exists: 1\n",
      "Path: ['List of number-one singles of 2021 (Finland)', 'Montero (Call Me by Your Name)', '2021', 'Microsoft', 'Minecraft']\n"
     ]
    },
    {
     "name": "stderr",
     "output_type": "stream",
     "text": [
      "\r",
      "Progress:  99%|████████████████████████████████████████████████████████████████████▎| 990/1000 [07:15<00:03,  3.09it/s]"
     ]
    },
    {
     "name": "stdout",
     "output_type": "stream",
     "text": [
      "Starting Node: Digambar\n",
      "Ending Node: Minecraft\n",
      "Path Length: 6\n",
      "Path Exists: 1\n",
      "Path: ['Digambar', 'Jainism', 'India', 'Encyclopædia Britannica', 'Microsoft', 'Minecraft']\n",
      "Starting Node: Mental gland\n",
      "Ending Node: Minecraft\n",
      "Path Exists: 0\n"
     ]
    },
    {
     "name": "stderr",
     "output_type": "stream",
     "text": [
      "\r",
      "Progress:  99%|████████████████████████████████████████████████████████████████████▍| 992/1000 [07:15<00:02,  3.71it/s]"
     ]
    },
    {
     "name": "stdout",
     "output_type": "stream",
     "text": [
      "Starting Node: Federal Center for Technological Education of Rio de Janeiro\n",
      "Ending Node: Minecraft\n",
      "Path Length: 5\n",
      "Path Exists: 1\n",
      "Path: ['Federal Center for Technological Education of Rio de Janeiro', 'Brazil', 'Earth', 'Microsoft', 'Minecraft']\n"
     ]
    },
    {
     "name": "stderr",
     "output_type": "stream",
     "text": [
      "\r",
      "Progress:  99%|████████████████████████████████████████████████████████████████████▌| 993/1000 [07:16<00:02,  2.66it/s]"
     ]
    },
    {
     "name": "stdout",
     "output_type": "stream",
     "text": [
      "Starting Node: George Orwell\n",
      "Ending Node: Minecraft\n",
      "Path Length: 5\n",
      "Path Exists: 1\n",
      "Path: ['George Orwell', 'England', 'UEFA Euro 2012', '2011', 'Minecraft']\n"
     ]
    },
    {
     "name": "stderr",
     "output_type": "stream",
     "text": [
      "\r",
      "Progress:  99%|████████████████████████████████████████████████████████████████████▌| 994/1000 [07:17<00:02,  2.44it/s]"
     ]
    },
    {
     "name": "stdout",
     "output_type": "stream",
     "text": [
      "Starting Node: Kenneth Cope\n",
      "Ending Node: Minecraft\n",
      "Path Length: 6\n",
      "Path Exists: 1\n",
      "Path: ['Kenneth Cope', 'Liverpool', 'Jodie Comer', 'Free Guy', 'DanTDM', 'Minecraft']\n"
     ]
    },
    {
     "name": "stderr",
     "output_type": "stream",
     "text": [
      "\r",
      "Progress: 100%|████████████████████████████████████████████████████████████████████▋| 995/1000 [07:17<00:02,  2.28it/s]"
     ]
    },
    {
     "name": "stdout",
     "output_type": "stream",
     "text": [
      "Starting Node: Wheeling, Illinois\n",
      "Ending Node: Minecraft\n",
      "Path Length: 6\n",
      "Path Exists: 1\n",
      "Path: ['Wheeling, Illinois', 'Illinois', 'Michelle Obama', 'Harvard University', 'Microsoft', 'Minecraft']\n"
     ]
    },
    {
     "name": "stderr",
     "output_type": "stream",
     "text": [
      "\r",
      "Progress: 100%|████████████████████████████████████████████████████████████████████▋| 996/1000 [07:17<00:01,  2.36it/s]"
     ]
    },
    {
     "name": "stdout",
     "output_type": "stream",
     "text": [
      "Starting Node: Rama Jois\n",
      "Ending Node: Minecraft\n",
      "Path Length: 6\n",
      "Path Exists: 1\n",
      "Path: ['Rama Jois', 'Bangalore', 'Silicon Valley', 'San Francisco Bay Area', 'Microsoft', 'Minecraft']\n"
     ]
    },
    {
     "name": "stderr",
     "output_type": "stream",
     "text": [
      "\r",
      "Progress: 100%|████████████████████████████████████████████████████████████████████▊| 997/1000 [07:18<00:01,  2.37it/s]"
     ]
    },
    {
     "name": "stdout",
     "output_type": "stream",
     "text": [
      "Starting Node: Přerov\n",
      "Ending Node: Minecraft\n",
      "Path Length: 6\n",
      "Path Exists: 1\n",
      "Path: ['Přerov', 'Central European Summer Time', 'Antarctica', 'Earth', 'Microsoft', 'Minecraft']\n"
     ]
    },
    {
     "name": "stderr",
     "output_type": "stream",
     "text": [
      "\r",
      "Progress: 100%|████████████████████████████████████████████████████████████████████▊| 998/1000 [07:18<00:00,  2.29it/s]"
     ]
    },
    {
     "name": "stdout",
     "output_type": "stream",
     "text": [
      "Starting Node: Arrondissements of the Loire department\n",
      "Ending Node: Minecraft\n",
      "Path Length: 5\n",
      "Path Exists: 1\n",
      "Path: ['Arrondissements of the Loire department', 'France', 'Greece', '2011', 'Minecraft']\n"
     ]
    },
    {
     "name": "stderr",
     "output_type": "stream",
     "text": [
      "\r",
      "Progress: 100%|████████████████████████████████████████████████████████████████████▉| 999/1000 [07:19<00:00,  2.19it/s]"
     ]
    },
    {
     "name": "stdout",
     "output_type": "stream",
     "text": [
      "Starting Node: Bodio\n",
      "Ending Node: Minecraft\n",
      "Path Length: 5\n",
      "Path Exists: 1\n",
      "Path: ['Bodio', 'Cantons of Switzerland', '2001', 'Microsoft', 'Minecraft']\n"
     ]
    },
    {
     "name": "stderr",
     "output_type": "stream",
     "text": [
      "Progress: 100%|████████████████████████████████████████████████████████████████████| 1000/1000 [07:19<00:00,  2.27it/s]"
     ]
    },
    {
     "name": "stdout",
     "output_type": "stream",
     "text": [
      "Starting Node: Tasmanian devil\n",
      "Ending Node: Minecraft\n",
      "Path Length: 5\n",
      "Path Exists: 1\n",
      "Path: ['Tasmanian devil', 'Europe', 'Greece', '2011', 'Minecraft']\n"
     ]
    },
    {
     "name": "stderr",
     "output_type": "stream",
     "text": [
      "\n"
     ]
    }
   ],
   "source": [
    "with tqdm(total=number_of_runs, desc=\"Progress\") as pbar:\n",
    "    for i in range(number_of_runs):\n",
    "        try:\n",
    "            starting_node = article_names[i]\n",
    "\n",
    "            # Thực hiện BFS\n",
    "            path_length, path, _, _ = bfs_search(graph, starting_node, fixed_ending_article)\n",
    "            #In kết quả\n",
    "            if path_length is not None:\n",
    "                print(\"Starting Node:\", starting_node)\n",
    "                print(\"Ending Node:\", fixed_ending_article)\n",
    "                print(\"Path Length:\", path_length)\n",
    "                print(\"Path Exists:\", 1)\n",
    "                print(\"Path:\", path)\n",
    "            else:\n",
    "                print(\"Starting Node:\", starting_node)\n",
    "                print(\"Ending Node:\", fixed_ending_article)\n",
    "                print(\"Path Exists:\", 0)\n",
    "                path_length = math.inf\n",
    "            #Nếu không có đường đi đặt path_length là inf\n",
    "\n",
    "            if graph.has_node(starting_node) and graph.has_node(fixed_ending_article):\n",
    "                # Lấy attributes của source node\n",
    "                source_attributes = graph.nodes[starting_node]\n",
    "\n",
    "                # Sắp xếp attributes thành định dạng mong muốn\n",
    "                formatted_attributes = [\n",
    "                    starting_node,\n",
    "                    fixed_ending_article,\n",
    "                    path_length,\n",
    "                    1 if path_length is not None else 0,\n",
    "                    source_attributes.get(\"Word Count\"),\n",
    "                    source_attributes.get(\"Link Count\"),\n",
    "                    source_attributes.get(\"Bag of Words\"),\n",
    "                ]\n",
    "\n",
    "                # Cho formatted_attributes vào  data\n",
    "                data.append(formatted_attributes)\n",
    "\n",
    "            successful_runs += 1\n",
    "\n",
    "        except KeyboardInterrupt:\n",
    "            break\n",
    "\n",
    "        pbar.update(1)\n",
    "\n",
    "        if successful_runs % 500 == 0: #Tạo các file nhỏ để lưu dữ liệu nếu dừng đột ngột\n",
    "            #Tạo DataFrame\n",
    "            df = pd.DataFrame(data, columns=[\"Starting Node\", \"Ending Node\", \"Path Length\", \"Path Exists\",\n",
    "                                             \"Word Count\", \"Link Count\", \"Bag of Words\"])\n",
    "\n",
    "            # Lưu Dataframe\n",
    "            output_file = f\"{output_base_path}_{output_file_counter}.csv\"\n",
    "            df.to_csv(output_file, index=False)\n",
    "\n",
    "            # Reset data cho file con tiếp theo\n",
    "            data = []\n",
    "            output_file_counter += 1\n",
    "\n",
    "        if successful_runs == number_of_runs:\n",
    "            break\n",
    "\n",
    "# Tạo DataFrame từ dữ liệu thừa\n",
    "df = pd.DataFrame(data, columns=[\"Starting Node\", \"Ending Node\", \"Path Length\", \"Path Exists\",\n",
    "                                 \"Word Count\", \"Link Count\", \"Bag of Words\"])\n",
    "\n",
    "# Đút nốt vào CSV file\n",
    "output_file = f\"{output_base_path}_{output_file_counter}.csv\"\n",
    "df.to_csv(output_file, index=False)"
   ]
  },
  {
   "cell_type": "code",
   "execution_count": null,
   "id": "b1c30d4d",
   "metadata": {},
   "outputs": [],
   "source": []
  }
 ],
 "metadata": {
  "kernelspec": {
   "display_name": "Python 3 (ipykernel)",
   "language": "python",
   "name": "python3"
  },
  "language_info": {
   "codemirror_mode": {
    "name": "ipython",
    "version": 3
   },
   "file_extension": ".py",
   "mimetype": "text/x-python",
   "name": "python",
   "nbconvert_exporter": "python",
   "pygments_lexer": "ipython3",
   "version": "3.11.7"
  }
 },
 "nbformat": 4,
 "nbformat_minor": 5
}
